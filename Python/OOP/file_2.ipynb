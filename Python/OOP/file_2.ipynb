{
 "cells": [
  {
   "cell_type": "code",
   "execution_count": 2,
   "metadata": {},
   "outputs": [],
   "source": [
    "class Vehicle:\n",
    "    def __init__(self, brand, model):\n",
    "        self.brand = brand \n",
    "        self.model = model \n",
    "    \n",
    "    def start(self):\n",
    "        return f\"The {self.brand} {self.model} is starting.\"\n",
    "    \n",
    "    def stop(self):\n",
    "        return f\"The {self.brand} {self.model} is stopping\"\n"
   ]
  },
  {
   "cell_type": "code",
   "execution_count": 3,
   "metadata": {},
   "outputs": [],
   "source": [
    "\n",
    "class Car(Vehicle):\n",
    "    def __init__(self, brand, model, color):\n",
    "        super().__init__(brand, model)\n",
    "        self.color = color \n",
    "    \n",
    "    def describe(self):\n",
    "        return f\"This car is a {self.color} {self.brand} {self.model}.\"\n",
    "    \n",
    "    #overriding start method\n",
    "\n",
    "    def start(self):\n",
    "        return f\"The {self.color} {self.brand} {self.model} car is starting\"\n",
    "    \n",
    "\n"
   ]
  },
  {
   "cell_type": "code",
   "execution_count": null,
   "metadata": {},
   "outputs": [],
   "source": [
    "class Motorcycle(Vehicle):\n",
    "    def __init__ (self, brand, model, engine_capacity):\n",
    "        super().__init__(brand, model)\n",
    "        self.engine_capacity = engine_capacity\n",
    "\n",
    "    def describe(self):\n",
    "        return f\"This motorcycle is a {self.brand} {self.model} with a {self.engine_capacity} cc engine\"\n",
    "    \n",
    "    def start(self):\n",
    "        return f\"The {self.brand} {self.model} motorcycle with a {self.engine_capacity}cc engine is starting\"\n",
    "    \n"
   ]
  },
  {
   "cell_type": "code",
   "execution_count": 5,
   "metadata": {},
   "outputs": [],
   "source": [
    "car=Car(\n",
    "    brand = \"Toyota\", \n",
    "    model = \"corolla\", \n",
    "    color=\"Red\"\n",
    ")\n",
    "\n",
    "motorcycle= Motorcycle(\n",
    "    brand=\"Yamaha\",\n",
    "    model=\"MT-09\", \n",
    "    engine_capacity=847\n",
    ")\n",
    "\n"
   ]
  },
  {
   "cell_type": "code",
   "execution_count": 8,
   "metadata": {},
   "outputs": [
    {
     "name": "stdout",
     "output_type": "stream",
     "text": [
      "This car is a Red Toyota corolla.\n",
      "The Red Toyota corolla car is starting\n",
      "The Toyota corolla is stopping\n"
     ]
    }
   ],
   "source": [
    "print(car.describe())\n",
    "print(car.start())\n",
    "print(car.stop())"
   ]
  },
  {
   "cell_type": "code",
   "execution_count": 11,
   "metadata": {},
   "outputs": [
    {
     "name": "stdout",
     "output_type": "stream",
     "text": [
      "This motorcycle is a Yamaha MT-09 with a 847 cc engine\n",
      "The Yamaha MT-09 motorcycle with a 847cc engine is starting\n",
      "The Yamaha MT-09 is stopping\n"
     ]
    }
   ],
   "source": [
    "print(motorcycle.describe())\n",
    "print(motorcycle.start())\n",
    "print(motorcycle.stop())"
   ]
  },
  {
   "cell_type": "code",
   "execution_count": 36,
   "metadata": {},
   "outputs": [],
   "source": [
    "#Library Mangement system\n",
    "\n",
    "class Book:\n",
    "    def __init__(self, title, author, isbn):\n",
    "        self.title=title \n",
    "        self.author = author\n",
    "        self.isbn = isbn\n",
    "    \n",
    "    def get_details(self):\n",
    "        return f\" the book {self.title} has {self.isbn} isbn and is written by {self.author}\"\n",
    "\n",
    "\n"
   ]
  },
  {
   "cell_type": "code",
   "execution_count": 37,
   "metadata": {},
   "outputs": [],
   "source": [
    "class Ebook(Book):\n",
    "    def __init__(self, title, author, isbn, file_size):\n",
    "        super().__init__(title, author, isbn)\n",
    "        self.file_size=file_size\n",
    "    \n",
    "    def download(self):\n",
    "        return f\"the Ebook {self.title} {self.isbn} by {self.author} having file size {self.file_size} MB is being downloaded\"\n",
    "    \n",
    "    def get_details(self):\n",
    "        return f\"the Ebook {self.title} {self.isbn} written by {self.author} has {self.file_size} MB file size\"\n",
    "    "
   ]
  },
  {
   "cell_type": "code",
   "execution_count": 38,
   "metadata": {},
   "outputs": [],
   "source": [
    "class PrintedBook(Book):\n",
    "    def __init__(self, title, author, isbn, number_of_pages):\n",
    "        super().__init__(title, author, isbn)\n",
    "        self.number_of_pages = number_of_pages\n",
    "    \n",
    "    def read(self):\n",
    "        return f\"The printed book {self.title} written by the author {self.author} is being read\" \n",
    "    \n",
    "    def get_details(self):\n",
    "        return f\"the printed book {self.title} written by {self.author} has {self.number_of_pages} number of pages\" \n"
   ]
  },
  {
   "cell_type": "code",
   "execution_count": 39,
   "metadata": {},
   "outputs": [],
   "source": [
    "ebook = Ebook(\n",
    "    title= \"The Lord of the rings\", \n",
    "    author= \"J.R.R Tolkien\",\n",
    "    isbn= 134675484754364, \n",
    "    file_size= 1.4\n",
    ")\n",
    "\n",
    "printed_book = PrintedBook(\n",
    "    title= \"HARRY POTTER\", \n",
    "    author= \"J.K.ROLLINGS\",\n",
    "    isbn= 543265476736562435, \n",
    "    number_of_pages= 243\n",
    ")"
   ]
  },
  {
   "cell_type": "code",
   "execution_count": 41,
   "metadata": {},
   "outputs": [
    {
     "name": "stdout",
     "output_type": "stream",
     "text": [
      "the Ebook The Lord of the rings 134675484754364 by J.R.R Tolkien having file size 1.4 MB is being downloaded\n",
      "the Ebook The Lord of the rings 134675484754364 written by J.R.R Tolkien has 1.4 MB file size\n",
      "The printed book HARRY POTTER written by the author J.K.ROLLINGS is being read\n",
      "the printed book HARRY POTTER written by J.K.ROLLINGS has 243 number of pages\n"
     ]
    }
   ],
   "source": [
    "print(ebook.download())\n",
    "print(ebook.get_details())\n",
    "\n",
    "print(printed_book.read())\n",
    "print(printed_book.get_details())"
   ]
  },
  {
   "cell_type": "code",
   "execution_count": 51,
   "metadata": {},
   "outputs": [],
   "source": [
    "class Person:\n",
    "    def __init__(self, name, age):\n",
    "        self.name=name\n",
    "        self._age=age\n",
    "        self.__ssn=\"123-3434-34\" \n",
    "\n",
    "    def public_method(self):\n",
    "        return f\"Name:{self.name}, Age:{self._age}, SSN:{self.__ssn}\"\n",
    "    \n",
    "    def _protected_method(self):\n",
    "        return f\"protected method:Name:{self.name}, age: {self._age}\"\n",
    "    \n",
    "    def __private_method(self):\n",
    "        return f\"Private Method: SSN: {self.__ssn}\"\n",
    "    \n",
    "    def access_private_method(self):\n",
    "        return self.__private_method()\n",
    "    \n",
    "\n",
    "person=Person(\n",
    "    name=\"John Doe\", \n",
    "    age=30\n",
    ")"
   ]
  },
  {
   "cell_type": "code",
   "execution_count": 57,
   "metadata": {},
   "outputs": [
    {
     "name": "stdout",
     "output_type": "stream",
     "text": [
      "John Doe\n",
      "30\n",
      "'Person' object has no attribute '__ssn'\n",
      "Name:John Doe, Age:30, SSN:123-3434-34\n",
      "protected method:Name:John Doe, age: 30\n",
      "'Person' object has no attribute '__private_method'\n",
      "Private Method: SSN: 123-3434-34\n"
     ]
    }
   ],
   "source": [
    "#accessing public attribute\n",
    "print(person.name) #succeeds \n",
    "\n",
    "#accessing protected attribute \n",
    "print(person._age) #succeeds but generally discouraged \n",
    "\n",
    "#accessing the private attribute (will fail)\n",
    "try:\n",
    "    print(person.__ssn)\n",
    "except AttributeError as e:\n",
    "    print(e)\n",
    "\n",
    "#accessing public method\n",
    "print(person.public_method()) #succeeds\n",
    "\n",
    "#accessing protected method\n",
    "print(person._protected_method()) #succeeds but generally discouraged \n",
    "\n",
    "#accessing priivate method directly (will fail)\n",
    "try:\n",
    "    print(person.__private_method())\n",
    "except AttributeError as e:\n",
    "    print(e)\n",
    "\n",
    "print(person.access_private_method())"
   ]
  },
  {
   "cell_type": "code",
   "execution_count": 114,
   "metadata": {},
   "outputs": [],
   "source": [
    "#employee mangement system \n",
    "class Employee:\n",
    "    def __init__ (self, name, position, salary):\n",
    "        self.name = name \n",
    "        self._position = position \n",
    "        self.__salary = salary \n",
    "\n",
    "    def get_details(self):\n",
    "        return f\"employee details, name:{self.name}, position {self._position}, salary:{self.__salary}\" \n",
    "    \n",
    "    def _promote(self):\n",
    "        return f\"the employee {self.name} is getting promoted to position {self._position}\"  \n",
    "    \n",
    "\n",
    "    def __increase_salary(self):\n",
    "        return f\"the increased salary of the employee {self.name} is {self.__salary}\" \n",
    "    \n",
    "    def access_salary(self):\n",
    "        return self.__salary\n",
    "    \n",
    "    def access_protected_method(self):\n",
    "        return self._promote()\n",
    "    \n",
    "    def access_private_mehtod(self):\n",
    "        return self.__increase_salary()\n",
    "    \n",
    "    def _protected_private(self):\n",
    "        return self.__increase_salary()\n"
   ]
  },
  {
   "cell_type": "code",
   "execution_count": 115,
   "metadata": {},
   "outputs": [],
   "source": [
    "class Manager(Employee):\n",
    "    def __init__(self, name, position, salary, department):\n",
    "        super().__init__(name, position, salary)\n",
    "        self.department=department\n",
    "\n",
    "    def get_details(self):\n",
    "        return f\"the employee details name:{self.name}, position: {self._position}, salary:{self.__salary}, department :{self.department}\" \n",
    "    \n"
   ]
  },
  {
   "cell_type": "code",
   "execution_count": 116,
   "metadata": {},
   "outputs": [],
   "source": [
    "employee=Employee(\n",
    "    name=\"Rajesh Raj\", \n",
    "    position=\"Business Analyst\", \n",
    "    salary=18000\n",
    ")\n",
    "\n",
    "manager=Manager(\n",
    "    name=\"Karan kartik\", \n",
    "    position= \"Sr. Manager\", \n",
    "    salary=21000, \n",
    "    department= \"Human Resource\"\n",
    ")"
   ]
  },
  {
   "cell_type": "code",
   "execution_count": 118,
   "metadata": {},
   "outputs": [
    {
     "name": "stdout",
     "output_type": "stream",
     "text": [
      "Rajesh Raj\n",
      "Business Analyst\n",
      "'Employee' object has no attribute '__salary'\n",
      "employee details, name:Rajesh Raj, position Business Analyst, salary:18000\n",
      "the employee Rajesh Raj is getting promoted to position Business Analyst\n",
      "the employee Rajesh Raj is getting promoted to position Business Analyst\n",
      "'Employee' object has no attribute '__increase_salary'\n",
      "the increased salary of the employee Rajesh Raj is 18000\n",
      "the increased salary of the employee Rajesh Raj is 18000\n"
     ]
    }
   ],
   "source": [
    "print(employee.name)\n",
    "print(employee._position) #not recommended\n",
    "\n",
    "#will not work\n",
    "try:\n",
    "    employee.__salary   \n",
    "except AttributeError as e:\n",
    "    print (e)\n",
    "\n",
    "print(employee.get_details())\n",
    "print(employee._promote()) # not recommended to acceess the protected method directly\n",
    "print(employee.access_protected_method()) # recommended to access the protected method\n",
    "\n",
    "try:\n",
    "    print(employee.__increase_salary())\n",
    "except AttributeError as e:\n",
    "    print(e)\n",
    "\n",
    "\n",
    "print(employee.access_private_mehtod()) # recommended to access the private method with public method\n",
    "\n",
    "print(employee._protected_private())"
   ]
  },
  {
   "cell_type": "code",
   "execution_count": 119,
   "metadata": {},
   "outputs": [
    {
     "name": "stdout",
     "output_type": "stream",
     "text": [
      "Karan kartik\n",
      "Sr. Manager\n",
      "'Manager' object has no attribute '__salary'\n",
      "'Manager' object has no attribute '_Manager__salary'\n",
      "the employee Karan kartik is getting promoted to position Sr. Manager\n",
      "'Manager' object has no attribute '__increase_salary'\n",
      "the employee Karan kartik is getting promoted to position Sr. Manager\n",
      "the increased salary of the employee Karan kartik is 21000\n",
      "the increased salary of the employee Karan kartik is 21000\n",
      "21000\n"
     ]
    }
   ],
   "source": [
    "print(manager.name)\n",
    "print(manager._position) # not recommended \n",
    "try:\n",
    "    print(manager.__salary)\n",
    "except AttributeError as e:\n",
    "    print(e)\n",
    "\n",
    "try:\n",
    "    print(manager.get_details())\n",
    "except AttributeError as e:\n",
    "    print(e)\n",
    "\n",
    "print(manager._promote()) # not recommended\n",
    "\n",
    "try:\n",
    "    print(manager.__increase_salary())\n",
    "except AttributeError as e:\n",
    "    print(e)\n",
    "\n",
    "print(manager.access_protected_method()) #recmmended way to access protected method\n",
    "print(manager.access_private_mehtod()) #only way to access the private method from subclass\n",
    "print(manager._protected_private())\n",
    "print(manager.access_salary()) #only way to access the private attribute from subclass "
   ]
  },
  {
   "cell_type": "markdown",
   "metadata": {},
   "source": [
    "### List of OOP Concepts Covered\n",
    "\n",
    "1. **Class Definition and Object Creation**\n",
    "2. **Methods**\n",
    "3. **Inheritance**\n",
    "4. **Method Overriding**\n",
    "5. **Encapsulation**"
   ]
  },
  {
   "cell_type": "markdown",
   "metadata": {},
   "source": [
    "\n",
    "\n",
    "### Summary of Encapsulation Principles\n",
    "\n",
    "1. **Public Attributes**:\n",
    "   - Public attributes are not protected and can be accessed from anywhere.\n",
    "\n",
    "2. **Protected Attributes**:\n",
    "   - Protected attributes are supposed to be used within the class and its subclasses.\n",
    "\n",
    "3. **Private Attributes**:\n",
    "   - Private attributes can be accessed from public or private methods within the class.\n",
    "\n",
    "4. **Public Methods**:\n",
    "   - Public methods are directly accessible.\n",
    "\n",
    "5. **Protected Methods**:\n",
    "   - Protected methods should not be directly accessed but should be accessed through public methods.\n",
    "\n",
    "6. **Private Methods**:\n",
    "   - Private methods cannot be accessed from subclass objects. They can only be accessed through public or private methods of the class they are defined in.\n",
    "\n",
    "### General Principles:\n",
    "\n",
    "1. **Private Usage**:\n",
    "   - If you want to use an attribute or method only within a specific class, make it private.\n",
    "\n",
    "2. **Protected Usage**:\n",
    "   - If you want to use it within specific classes (class and subclasses), use protected members.\n",
    "\n",
    "3. **Public Access**:\n",
    "   - If you later decide to provide access to a previously protected or private member, you can expose it through a public method.\n",
    "\n",
    "### Modifying Access Levels:\n",
    "\n",
    "- **Reducing Access**:\n",
    "  - To reduce the access level of a member, you can modify or remove the public or protected method that exposes it.\n",
    "\n",
    "These principles will help you maintain proper encapsulation in your Python classes."
   ]
  },
  {
   "cell_type": "markdown",
   "metadata": {},
   "source": [
    "# POLYMORPHISM"
   ]
  },
  {
   "cell_type": "markdown",
   "metadata": {},
   "source": [
    " Polymorphism is a fundamental concept in object-oriented programming that allows for flexibility and integration of various objects through a common interface. Here's a breakdown of when and why you should use polymorphism:\n",
    "\n",
    "### Purpose of Polymorphism\n",
    "\n",
    "1. **Unified Interface**:\n",
    "   - Polymorphism allows you to define a unified interface for different classes. This means you can call the same method on different objects and get behavior that's appropriate for each object.\n",
    "   \n",
    "2. **Code Reusability and Extensibility**:\n",
    "   - By using polymorphism, you can write code that works with objects of different classes without knowing their exact types. This promotes code reusability and makes your codebase more extensible.\n",
    "\n",
    "3. **Simplifies Code Maintenance**:\n",
    "   - Polymorphism helps in simplifying code maintenance. Instead of having multiple conditional statements to handle different types of objects, polymorphism allows you to treat them uniformly.\n",
    "\n",
    "### Practical Use Cases for Polymorphism\n",
    "\n",
    "1. **Multiple Implementations of an Interface**:\n",
    "   - When you have multiple classes implementing the same set of methods (interface) in different ways. For example, different types of payments (credit card, PayPal, bank transfer) can all have a `process_payment` method.\n",
    "\n",
    "2. **Frameworks and Libraries**:\n",
    "   - When designing frameworks and libraries that need to work with a variety of user-defined types. For example, a graphics library might use polymorphism to handle different shapes (circles, squares, triangles) through a common interface.\n",
    "\n",
    "3. **Collections of Mixed Objects**:\n",
    "   - When you have a collection of objects of different types that share a common interface. For example, a list of employees where some are full-time and others are part-time, but all can perform a `calculate_salary` method.\n",
    "\n",
    "4. **Dynamic Behavior**:\n",
    "   - When you want to allow different objects to provide specific implementations of a method at runtime, depending on their class. For example, different types of documents (Word, PDF, Text) might have their own `print` method.\n",
    "   \n",
    "### When to Use Polymorphism\n",
    "\n",
    "- **When you need a common interface for different implementations**: This allows you to write code that is more general and works with any new types you might add in the future.\n",
    "- **When you want to simplify code maintenance**: Reduces the need for complex conditional statements and makes your code easier to read and maintain.\n",
    "- **When working with collections of mixed objects**: Enables you to handle different types of objects in a uniform way.\n",
    "\n",
    "Polymorphism is a powerful tool in OOP that enhances the flexibility and scalability of your code. By designing systems that leverage polymorphism, you can create robust and adaptable software architectures."
   ]
  },
  {
   "cell_type": "code",
   "execution_count": 121,
   "metadata": {},
   "outputs": [],
   "source": [
    "class Animal:\n",
    "    def __init__(self, name):\n",
    "        self.name = name\n",
    "    \n",
    "    def make_sound(self):\n",
    "        raise NotImplementedError(\"subclass must implement abstract method\")\n",
    "    \n",
    "\n",
    "#define the subclass Dog\n",
    "class Dog(Animal):\n",
    "    def __init__(self, name, breed):\n",
    "        super().__init__(name)\n",
    "        self.breed=breed \n",
    "        \n",
    "    def make_sound(self):\n",
    "        return f\"{self.name}, the {self.breed}, says: Woof!\""
   ]
  },
  {
   "cell_type": "code",
   "execution_count": 123,
   "metadata": {},
   "outputs": [
    {
     "name": "stdout",
     "output_type": "stream",
     "text": [
      "Buddy, the Golden Retriever, says: Woof!\n",
      "Whiskers, the black cat, says: Meow!\n",
      "Rex, the black, says: Woof!\n",
      "Luna, the white cat, says: Meow!\n"
     ]
    }
   ],
   "source": [
    "\n",
    "class Cat(Animal):\n",
    "    def __init__(self, name, color):\n",
    "        super().__init__(name)\n",
    "        self.color=color\n",
    "    \n",
    "    def make_sound(self):\n",
    "        return f\"{self.name}, the {self.color} cat, says: Meow!\" \n",
    "\n",
    "#create a list of animal objects \n",
    "animals=[\n",
    "    Dog(name=\"Buddy\", breed=\"Golden Retriever\"), \n",
    "    Cat(name=\"Whiskers\", color=\"black\"), \n",
    "    Dog(name=\"Rex\", breed=\"black\"), \n",
    "    Cat(name= \"Luna\", color=\"white\")\n",
    "]\n",
    "\n",
    "for animal in animals:\n",
    "    print(animal.make_sound())"
   ]
  },
  {
   "cell_type": "code",
   "execution_count": 128,
   "metadata": {},
   "outputs": [
    {
     "name": "stdout",
     "output_type": "stream",
     "text": [
      "Processing card payemnt of 100 dollers with card number 1243-343-354324-454\n",
      "Processing Paypal Payment of 150 dollars for account user@example.com\n",
      "Processing bank transfer payment of 200 dollars for account number 436542534234.\n"
     ]
    }
   ],
   "source": [
    "from abc import ABC, abstractmethod\n",
    "\n",
    "class PaymentMethod(ABC):\n",
    "    def __init__(self, amount):\n",
    "        self.amount=amount\n",
    "\n",
    "    @abstractmethod\n",
    "    def process_payment(self):\n",
    "        pass\n",
    "\n",
    "\n",
    "#define the subclass creditcardpayment \n",
    "class CreditCardPayment(PaymentMethod):\n",
    "    def __init__(self, amount, card_number):\n",
    "        super().__init__(amount)\n",
    "        self.card_number=card_number\n",
    "    \n",
    "    def process_payment(self):\n",
    "        return f\"Processing card payemnt of {self.amount} dollers with card number {self.card_number}\"\n",
    "    \n",
    "\n",
    "class PayPalPayment(PaymentMethod):\n",
    "    def __init__ (self, amount, email):\n",
    "        super().__init__(amount)\n",
    "        self.email = email  \n",
    "    \n",
    "    def process_payment(self):\n",
    "        return f\"Processing Paypal Payment of {self.amount} dollars for account {self.email}\" \n",
    "\n",
    "class BankTransferPayment(PaymentMethod):\n",
    "    def __init__(self, amount, account_number):\n",
    "        super().__init__(amount)\n",
    "        self.account_number=account_number \n",
    "    \n",
    "    def process_payment(self):\n",
    "        return f\"Processing bank transfer payment of {self.amount} dollars for account number {self.account_number}.\" \n",
    "\n",
    "payment_methods = [\n",
    "    CreditCardPayment(amount=100, card_number= \"1243-343-354324-454\"),\n",
    "    PayPalPayment(amount=150, email=\"user@example.com\"),\n",
    "    BankTransferPayment(amount=200, account_number=\"436542534234\")\n",
    "]\n",
    "\n",
    "for payment_method in payment_methods:\n",
    "    print(payment_method.process_payment())"
   ]
  },
  {
   "cell_type": "code",
   "execution_count": 132,
   "metadata": {},
   "outputs": [],
   "source": [
    "from abc import ABC, abstractmethod\n",
    "\n",
    "class MediaFile(ABC):\n",
    "    def __init__ (self, filename):\n",
    "        self.filename=filename\n",
    "    \n",
    "    @abstractmethod\n",
    "    def play(self):\n",
    "        pass\n",
    "\n",
    "#Define the subclass Audiofile\n",
    "class AudioFile(MediaFile):\n",
    "    def __init__(self, filename, duration):\n",
    "        super().__init__(filename)\n",
    "        self.duration=duration\n",
    "    \n",
    "    def play(self):\n",
    "        return f\"Play audio file {self.filename} with duration {self.duration} seconds.\" \n",
    "    \n",
    "class VideoFile(MediaFile):\n",
    "    def __init__(self, filename, resolution):\n",
    "        super().__init__(filename)\n",
    "        self.resolution=resolution\n",
    "    \n",
    "    def play(self):\n",
    "        return f\"the video is playing having the file name as {self.filename} and having {self.resolution} resolution.\" \n",
    "    \n",
    "\n"
   ]
  },
  {
   "cell_type": "code",
   "execution_count": 135,
   "metadata": {},
   "outputs": [],
   "source": [
    "media_files=[\n",
    "    AudioFile(\n",
    "        filename=\"song.mp3\", \n",
    "        duration=300\n",
    "    ), \n",
    "\n",
    "    VideoFile(\n",
    "        filename=\"movie.mp4\", \n",
    "        resolution=\"1080p\"\n",
    "    )\n",
    "    \n",
    "]"
   ]
  },
  {
   "cell_type": "code",
   "execution_count": 136,
   "metadata": {},
   "outputs": [
    {
     "name": "stdout",
     "output_type": "stream",
     "text": [
      "Play audio file song.mp3 with duration 300 seconds.\n",
      "the video is playing having the file name as movie.mp4 and having 1080p resolution.\n"
     ]
    }
   ],
   "source": [
    "for media_file in media_files:\n",
    "    print(media_file.play())"
   ]
  },
  {
   "cell_type": "code",
   "execution_count": 143,
   "metadata": {},
   "outputs": [],
   "source": [
    "from abc import ABC, abstractmethod\n",
    "\n",
    "class Employee(ABC):\n",
    "    def __init__(self, name):\n",
    "        self.name=name\n",
    "    \n",
    "    @abstractmethod\n",
    "    def calculate_salary(self):\n",
    "        pass\n",
    "\n",
    "\n",
    "#define the subclass FullTimeEmployee\n",
    "class FullTimeEmployee(Employee):\n",
    "    def __init__(self, name, monthly_Salary):\n",
    "        super().__init__(name)\n",
    "        self.monthly_salary=monthly_Salary\n",
    "    \n",
    "    def calculate_salary(self):\n",
    "        return f\"the monthly salary of {self.name} is {self.monthly_salary} dollars\" \n",
    "\n",
    "#Define the  subclass PartTimeEmployee\n",
    "class PartTimeEmployee(Employee):\n",
    "    def __init__(self, name, hourly_rate, hours_worked):\n",
    "        super().__init__(name)\n",
    "        self.hourly_rate=hourly_rate\n",
    "        self.hours_worked=hours_worked\n",
    "\n",
    "\n",
    "    def calculate_salary(self):\n",
    "        return f\"Part-time employee {self.name}'s monthly salary is {self.hourly_rate*self.hours_worked} dollars\" \n",
    "\n",
    "#Define the subclass ContractEmployee \n",
    "class ContractEmployee(Employee):\n",
    "    def __init__(self, name, contract_amount, months):\n",
    "        super().__init__(name)\n",
    "        self.contract_amount=contract_amount\n",
    "        self.months=months\n",
    "    \n",
    "    def calculate_salary(self):\n",
    "        return f\"contract employee {self.name}'s monthly salary is {self.contract_amount/self.months} dollars\" \n",
    "    \n",
    "    "
   ]
  },
  {
   "cell_type": "code",
   "execution_count": 146,
   "metadata": {},
   "outputs": [],
   "source": [
    "employees=[\n",
    "    FullTimeEmployee(\n",
    "        name=\"Jonny\", \n",
    "        monthly_Salary=5000, \n",
    "        \n",
    "    ), \n",
    "\n",
    "    PartTimeEmployee(\n",
    "        name=\"Jordan\", \n",
    "        hourly_rate= 95,\n",
    "        hours_worked=20\n",
    "    ), \n",
    "\n",
    "    ContractEmployee(\n",
    "        name=\"Jack\",\n",
    "        contract_amount=24000, \n",
    "        months=6 \n",
    "    )\n",
    "]\n"
   ]
  },
  {
   "cell_type": "code",
   "execution_count": 147,
   "metadata": {},
   "outputs": [
    {
     "name": "stdout",
     "output_type": "stream",
     "text": [
      "the monthly salary of Jonny is 5000 dollars\n",
      "Part-time employee Jordan's monthly salary is 1900 dollars\n",
      "contract employee Jack's monthly salary is 4000.0 dollars\n"
     ]
    }
   ],
   "source": [
    "for employee in employees:\n",
    "    print(employee.calculate_salary())"
   ]
  },
  {
   "cell_type": "code",
   "execution_count": 152,
   "metadata": {},
   "outputs": [],
   "source": [
    "#vehicle fleet management \n",
    "\n",
    "from abc import ABC, abstractmethod\n",
    "\n",
    "class Vehicle(ABC):\n",
    "    def __init__(self, make, model, fuel_efficiency):\n",
    "        self.make=make\n",
    "        self.model=model \n",
    "        self.fuel_efficiency=fuel_efficiency\n",
    "    \n",
    "    @abstractmethod\n",
    "    def describe_fuel_efficiency(self):\n",
    "        pass\n",
    "\n",
    "class Car(Vehicle):\n",
    "    def __init__(self, make, model, fuel_efficiency):\n",
    "        super().__init__(make, model, fuel_efficiency)\n",
    "    \n",
    "    def describe_fuel_efficiency(self):\n",
    "        return f\"the {self.make} {self.model} car has {self.fuel_efficiency} miles per gallon fuel efficiency\"\n",
    "        \n",
    "\n",
    "class Truck(Vehicle):\n",
    "    def __init__(self, make, model, fuel_efficiency, load_capacity):\n",
    "        super().__init__(make, model, fuel_efficiency)\n",
    "        self.load_capacity=load_capacity\n",
    "    \n",
    "    def describe_fuel_efficiency(self):\n",
    "        return f\"the {self.make} {self.model} Truck has {self.fuel_efficiency}miles per gallon fuel efficiency and {self.load_capacity} tones load capacity\" \n",
    "\n",
    "\n",
    "class Motorcycle(Vehicle):\n",
    "    def __init__(self, make, model, fuel_efficiency, engine_size):\n",
    "        super().__init__(make, model, fuel_efficiency)\n",
    "        self.engine_size=engine_size\n",
    "    \n",
    "    def describe_fuel_efficiency(self):\n",
    "        return f\"the {self.make} {self.model} motorcycle has {self.fuel_efficiency} miles per gallon fuel efficiency and {self.engine_size} cc engine size\"\n"
   ]
  },
  {
   "cell_type": "code",
   "execution_count": 153,
   "metadata": {},
   "outputs": [],
   "source": [
    "vehicles=[\n",
    "    Car(\n",
    "        make=\"Toyota\", \n",
    "        model=\"corolla\", \n",
    "        fuel_efficiency=14\n",
    "    ),\n",
    "\n",
    "    Truck(\n",
    "        make=\"Tata\", \n",
    "        model=\"model1\", \n",
    "        fuel_efficiency=5, \n",
    "        load_capacity= 100\n",
    "    ), \n",
    "\n",
    "    Motorcycle(\n",
    "        make=\"Yamaha\", \n",
    "        model=\"R15\", \n",
    "        fuel_efficiency=28, \n",
    "        engine_size=150\n",
    "    )\n",
    "]"
   ]
  },
  {
   "cell_type": "code",
   "execution_count": 154,
   "metadata": {},
   "outputs": [
    {
     "name": "stdout",
     "output_type": "stream",
     "text": [
      "the Toyota corolla car has 14 miles per gallon fuel efficiency\n",
      "the Tata model1 Truck has 5miles per gallon fuel efficiency and 100 tones load capacity\n",
      "the Yamaha R15 motorcycle has 28 miles per gallon fuel efficiency and 150 cc engine size\n"
     ]
    }
   ],
   "source": [
    "for vehicle in vehicles:\n",
    "    print(vehicle.describe_fuel_efficiency())"
   ]
  },
  {
   "cell_type": "markdown",
   "metadata": {},
   "source": [
    "### Composition "
   ]
  },
  {
   "cell_type": "markdown",
   "metadata": {},
   "source": [
    "[python]: Sure! Here are some notes on composition in object-oriented programming:\n",
    "\n",
    "### Composition\n",
    "\n",
    "#### What is Composition?\n",
    "\n",
    "- **Definition**: Composition is a design principle in object-oriented programming where a class is composed of one or more objects from other classes, forming a \"has-a\" relationship.\n",
    "- **Example**: A `Car` class might have an `Engine` object and `Tire` objects as part of its state.\n",
    "\n",
    "#### Why Use Composition?\n",
    "\n",
    "1. **Code Reusability**:\n",
    "   - Composition allows you to reuse existing classes as building blocks for new classes, reducing code duplication.\n",
    "\n",
    "2. **Flexibility**:\n",
    "   - It provides greater flexibility compared to inheritance because you can change the behavior of a class at runtime by changing its components.\n",
    "   - You can create new classes by combining different objects in various ways without modifying the original classes.\n",
    "\n",
    "3. **Encapsulation**:\n",
    "   - Composition helps in encapsulating behavior. Each component class can manage its own state and behavior, making the overall system easier to understand and maintain.\n",
    "\n",
    "4. **Avoiding Inheritance Pitfalls**:\n",
    "   - Using composition can help avoid some of the issues associated with inheritance, such as the fragile base class problem and tight coupling between base and derived classes.\n",
    "\n",
    "#### When to Use Composition?\n",
    "\n",
    "1. **Has-a Relationship**:\n",
    "   - Use composition when there is a \"has-a\" relationship between classes. For example, a `Car` has an `Engine` and `Tires`.\n",
    "\n",
    "2. **Behavioral Changes**:\n",
    "   - Use composition when you want to change the behavior of a class at runtime by changing its components.\n",
    "\n",
    "3. **Reusability**:\n",
    "   - Use composition to create new functionality by combining existing classes without altering their code.\n",
    "\n",
    "4. **Simplifying Complex Systems**:\n",
    "   - Use composition to break down complex systems into simpler, more manageable parts.\n",
    "\n",
    "#### Importance of Composition\n",
    "\n",
    "1. **Modularity**:\n",
    "   - Composition promotes modular design by encouraging the creation of small, focused classes that can be combined to form more complex behavior.\n",
    "\n",
    "2. **Maintainability**:\n",
    "   - By encapsulating behavior in separate classes, composition makes it easier to maintain and update code. Changes to one component class do not necessarily affect others.\n",
    "\n",
    "3. **Testing**:\n",
    "   - Composition allows for more straightforward unit testing. Individual components can be tested in isolation before being integrated into larger systems.\n",
    "\n",
    "4. **Extensibility**:\n",
    "   - Composition makes it easy to extend systems. You can add new functionality by adding new components or combining existing components in new ways.\n",
    "\n",
    "\n",
    "### Summary\n",
    "\n",
    "- **Composition**: A design principle where a class is composed of objects from other classes.\n",
    "- **Why Use It?**: For code reusability, flexibility, encapsulation, and avoiding inheritance pitfalls.\n",
    "- **When to Use It?**: For \"has-a\" relationships, behavioral changes, reusability, and simplifying complex systems.\n",
    "- **Importance**: Promotes modularity, maintainability, testability, and extensibility.\n",
    "\n",
    "Composition is a powerful tool in object-oriented programming that helps create flexible, reusable, and maintainable code. By combining objects from different classes, you can build complex systems that are easier to manage and extend."
   ]
  },
  {
   "cell_type": "code",
   "execution_count": 159,
   "metadata": {},
   "outputs": [
    {
     "name": "stdout",
     "output_type": "stream",
     "text": [
      "Computer specs: \n",
      "CPU speed is 3.5 GHz.\n",
      "Memory size is 16 GB.\n"
     ]
    }
   ],
   "source": [
    "class CPU:\n",
    "    def __init__(self, speed):\n",
    "        self.speed=speed \n",
    "    \n",
    "    def get_speed(self):\n",
    "        return f\"CPU speed is {self.speed} GHz.\" \n",
    "    \n",
    "class Memory:\n",
    "    def __init__(self, size):\n",
    "        self.size=size \n",
    "    \n",
    "    def get_size(self):\n",
    "        return f\"Memory size is {self.size} GB.\" \n",
    "\n",
    "class Computer:\n",
    "    def __init__(self, cpu_speed, memory_size):\n",
    "        self.cpu=CPU(cpu_speed)\n",
    "        self.memory=Memory(memory_size)\n",
    "\n",
    "    def get_specs(self):\n",
    "        cpu_speed=self.cpu.get_speed()\n",
    "        memory_size=self.memory.get_size() \n",
    "        return f\"Computer specs: \\n{cpu_speed}\\n{memory_size}\" \n",
    "    \n",
    "my_computer= Computer(\n",
    "    cpu_speed=3.5, \n",
    "    memory_size=16\n",
    ")\n",
    "\n",
    "print(my_computer.get_specs())\n"
   ]
  },
  {
   "cell_type": "code",
   "execution_count": 168,
   "metadata": {},
   "outputs": [],
   "source": [
    "#shopping System Example\n",
    "\n",
    "class Product:\n",
    "    def __init__(self, name, price, quantity):\n",
    "        self.name= name \n",
    "        self.price= price \n",
    "        self.quantity= quantity \n",
    "    \n",
    "    def get_details(self):\n",
    "        return f\"{self.name}: ${self.price:.2f} x {self.quantity}\" \n",
    "    \n",
    "    def get_total_price(self):\n",
    "        return self.price * self.quantity \n",
    "    \n",
    "\n",
    "class ShoppingCart:\n",
    "    def __init__(self):\n",
    "        self.products=[]\n",
    "    \n",
    "    def add_product(self, product):\n",
    "        self.products.append(product)\n",
    "        return f\"Added {product.name} to the cart\" \n",
    "    \n",
    "    def remove_product(self, product_name):\n",
    "        self.products=[product for product in self.products if product.name != product_name]\n",
    "\n",
    "\n",
    "    def get_total_cost(self):\n",
    "        return sum(product.get_total_price() for product in self.products)\n",
    "    \n",
    "    def get_products(self):\n",
    "        return [product.get_details() for product in self.products]\n"
   ]
  },
  {
   "cell_type": "code",
   "execution_count": 169,
   "metadata": {},
   "outputs": [],
   "source": [
    "class Order:\n",
    "    def __init__(self, customer_name, products):\n",
    "        self.customer_name=customer_name\n",
    "        self.products=products\n",
    "        self.total_cost=self.calculate_total_cost() \n",
    "\n",
    "    def calculate_total_cost(self):\n",
    "        return sum(product.get_total_price() for product in self.products)\n",
    "    \n",
    "    def get_order_details(self):\n",
    "        product_details= \"\\n\".join(product.get_details() for product in self.products)\n",
    "        return f\"Order for {self.customer_name}:\\n{product_details}\\nTotol cost: ${self.total_cost:.2f}\""
   ]
  },
  {
   "cell_type": "code",
   "execution_count": 170,
   "metadata": {},
   "outputs": [],
   "source": [
    "class Customer:\n",
    "    def __init__(self, name):\n",
    "        self.name=name \n",
    "        self.cart= ShoppingCart() \n",
    "        self.order = [] \n",
    "        \n",
    "    def add_to_cart(self, product):\n",
    "        return self.cart.add_product(product)\n",
    "    \n",
    "    def remove_from_cart(self, product_name):\n",
    "        return self.cart.remove_product(product_name) \n",
    "    \n",
    "    def checkout(self):\n",
    "        order= Order(self.name, self.cart.products) \n",
    "        self.order.append(order) \n",
    "        self.cart = ShoppingCart() \n",
    "        return f\"Order placed:; \\n{order.get_order_details()}\" \n",
    "    \n",
    "    def get_order_history(self):\n",
    "        return [order.get_order_details() for order in self.order]"
   ]
  },
  {
   "cell_type": "code",
   "execution_count": 171,
   "metadata": {},
   "outputs": [
    {
     "name": "stdout",
     "output_type": "stream",
     "text": [
      "Added Laptop to the cart\n",
      "Added Headphones to the cart\n",
      "Added Mouse to the cart\n",
      "Products in cart:\n",
      "Laptop: $999.99 x 1\n",
      "Headphones: $199.99 x 2\n",
      "Mouse: $49.99 x 1\n",
      "Order placed:; \n",
      "Order for John Doe:\n",
      "Laptop: $999.99 x 1\n",
      "Headphones: $199.99 x 2\n",
      "Mouse: $49.99 x 1\n",
      "Totol cost: $1449.96\n",
      "Order history:\n",
      "Order for John Doe:\n",
      "Laptop: $999.99 x 1\n",
      "Headphones: $199.99 x 2\n",
      "Mouse: $49.99 x 1\n",
      "Totol cost: $1449.96\n"
     ]
    }
   ],
   "source": [
    "product1=Product(name=\"Laptop\", price=999.99, quantity=1)\n",
    "product2=Product(name=\"Headphones\", price=199.99, quantity=2) \n",
    "product3=Product(name=\"Mouse\", price=49.99, quantity=1) \n",
    "\n",
    "customer = Customer(name=\"John Doe\") \n",
    "\n",
    "print(customer.add_to_cart(product1))\n",
    "print(customer.add_to_cart(product2))\n",
    "print(customer.add_to_cart(product3)) \n",
    "\n",
    "print(\"Products in cart:\") \n",
    "print(\"\\n\".join(customer.cart.get_products()))\n",
    "\n",
    "print(customer.checkout()) \n",
    "\n",
    "print(\"Order history:\") \n",
    "print(\"\\n\".join(customer.get_order_history()))"
   ]
  },
  {
   "cell_type": "code",
   "execution_count": 354,
   "metadata": {},
   "outputs": [],
   "source": [
    "#University management system\n",
    "class Student:\n",
    "    def __init__(self, name, student_id):\n",
    "        self.name= name \n",
    "        self.student_id=student_id \n",
    "    \n",
    "    def get_details(self):\n",
    "        return f\"student ID: {self.student_id}, Name:{self.name}\" \n",
    "    \n",
    "class Course:\n",
    "    def __init__(self, name, course_id, credits):\n",
    "        self.name=name \n",
    "        self.course_id = course_id \n",
    "        self.credits =credits \n",
    "    \n",
    "    def get_details(self):\n",
    "        return f\"course ID: {self.course_id}, Name:{self.name}, Credit:{self.credits}\" \n",
    "    \n"
   ]
  },
  {
   "cell_type": "code",
   "execution_count": 355,
   "metadata": {},
   "outputs": [],
   "source": [
    "class Enrollment:\n",
    "    def __init__(self, student, course):\n",
    "        self.student=student \n",
    "        self.course= course \n",
    "    \n",
    "    def get_details(self):\n",
    "        return f\"Enrollment:{self.student.name} in {self.course.name}\" \n",
    "    "
   ]
  },
  {
   "cell_type": "code",
   "execution_count": 356,
   "metadata": {},
   "outputs": [],
   "source": [
    "class University:\n",
    "    def __init__(self, name):\n",
    "        self.name = name \n",
    "        self.students =[]\n",
    "        self.courses =[] \n",
    "        self.enrollments=[] \n",
    "    \n",
    "    def add_student(self, student):\n",
    "        self.students.append(student) \n",
    "        return f\"Added student {student.name}\" \n",
    "    \n",
    "    def add_course(self, course):\n",
    "        self.courses.append(course)\n",
    "        return f\"Added course {course.name}\" \n",
    "    \n",
    "    def enroll_student(self, student, course):\n",
    "        enrollment =Enrollment(student, course)\n",
    "        self.enrollments.append(enrollment)\n",
    "        return f\"Enrolled {student.name} in {course.name}\" \n",
    "    \n",
    "    def get_students(self):\n",
    "        return [student.get_details() for student in self.students] \n",
    "    \n",
    "    def get_courses(self):\n",
    "        return [course.get_details() for course in self.courses] \n",
    "    \n",
    "    def get_enrollments(self):\n",
    "        return [enrollment.get_details() for enrollment in self.enrollments]\n",
    "    \n",
    "    "
   ]
  },
  {
   "cell_type": "code",
   "execution_count": 357,
   "metadata": {},
   "outputs": [],
   "source": [
    "student1=Student(name=\"Alice\", student_id=\"S001\") \n",
    "student2=Student(name=\"Bob\", student_id=\"S002\") \n",
    "\n",
    "course1=Course(name=\"Math 101\", course_id=\"C001\", credits=3) \n",
    "course2=Course(name=\"History 101\", course_id=\"C002\", credits=4)"
   ]
  },
  {
   "cell_type": "code",
   "execution_count": 358,
   "metadata": {},
   "outputs": [],
   "source": [
    "university=University(name=\"Tech University\") \n"
   ]
  },
  {
   "cell_type": "code",
   "execution_count": 359,
   "metadata": {},
   "outputs": [
    {
     "name": "stdout",
     "output_type": "stream",
     "text": [
      "Added student Alice\n",
      "Added student Bob\n",
      "Added course Math 101\n",
      "Added course History 101\n",
      "Enrolled Alice in Math 101\n",
      "Enrolled Bob in History 101\n",
      "Students in university:\n",
      "student ID: S001, Name:Alice\n",
      "student ID: S002, Name:Bob\n",
      "Courses in university:\n",
      "student ID: S001, Name:Alice\n",
      "student ID: S002, Name:Bob\n",
      "Enrollments in university:\n",
      "Enrollment:Alice in Math 101\n",
      "Enrollment:Bob in History 101\n"
     ]
    }
   ],
   "source": [
    "print(university.add_student(student1))\n",
    "print(university.add_student(student2))\n",
    "print(university.add_course(course1)) \n",
    "print(university.add_course(course2)) \n",
    "\n",
    "#enroll student in courses \n",
    "print(university.enroll_student(student1, course1)) \n",
    "print(university.enroll_student(student2, course2)) \n",
    "\n",
    "print(\"Students in university:\") \n",
    "print(\"\\n\".join(university.get_students()))\n",
    "\n",
    "print(\"Courses in university:\")\n",
    "print(\"\\n\".join(university.get_students())) \n",
    "\n",
    "print(\"Enrollments in university:\") \n",
    "print(\"\\n\".join(university.get_enrollments()))\n",
    "\n",
    "\n"
   ]
  },
  {
   "cell_type": "code",
   "execution_count": 360,
   "metadata": {},
   "outputs": [],
   "source": [
    "#create students (student_name, age, student id)\n",
    "#create courses (course_name, course_credits, course_id)\n",
    "#create enrollments (student, course)\n",
    "#create university (university_name, students, courses, enrollments)\n",
    "# add students, courses and enrollment to the university \n",
    "#get the details of the students , cources and enrollments of the university \n"
   ]
  },
  {
   "cell_type": "code",
   "execution_count": 361,
   "metadata": {},
   "outputs": [],
   "source": [
    "class Student:\n",
    "    def __init__(self, student_name, age, student_id):\n",
    "        self.student_name=student_name\n",
    "        self.age=age \n",
    "        self.student_id=student_id \n",
    "    \n",
    "    def get_student_details(self):\n",
    "        return f\"student details:: student name:{self.student_name}, student age:{self.age}, student id number:{self.student_id}\""
   ]
  },
  {
   "cell_type": "code",
   "execution_count": 362,
   "metadata": {},
   "outputs": [],
   "source": [
    "student_1=Student(\n",
    "    student_name=\"Ajay Varma\",\n",
    "    age=29, \n",
    "    student_id=1453554\n",
    ")"
   ]
  },
  {
   "cell_type": "code",
   "execution_count": 363,
   "metadata": {},
   "outputs": [
    {
     "name": "stdout",
     "output_type": "stream",
     "text": [
      "student details:: student name:Ajay Varma, student age:29, student id number:1453554\n"
     ]
    }
   ],
   "source": [
    "print(student_1.get_student_details())"
   ]
  },
  {
   "cell_type": "code",
   "execution_count": 364,
   "metadata": {},
   "outputs": [],
   "source": [
    "class Course:\n",
    "    def __init__(self, course_id, course_name, course_credits):\n",
    "        self.course_id=course_id \n",
    "        self.course_name=course_name \n",
    "        self.course_credits=course_credits \n",
    "\n",
    "    def get_course_details(self):\n",
    "        return f\"course details:: course id: {self.course_id} course name:{self.course_name} course credits:{self.course_credits}\"\n",
    "    \n",
    "        "
   ]
  },
  {
   "cell_type": "code",
   "execution_count": 365,
   "metadata": {},
   "outputs": [],
   "source": [
    "course_1=Course(\n",
    "    course_id=\"001\", \n",
    "    course_name=\"Deep_Learning\", \n",
    "    course_credits=8\n",
    ")"
   ]
  },
  {
   "cell_type": "code",
   "execution_count": 366,
   "metadata": {},
   "outputs": [
    {
     "data": {
      "text/plain": [
       "'course details:: course id: 001 course name:Deep_Learning course credits:8'"
      ]
     },
     "execution_count": 366,
     "metadata": {},
     "output_type": "execute_result"
    }
   ],
   "source": [
    "course_1.get_course_details()"
   ]
  },
  {
   "cell_type": "code",
   "execution_count": 367,
   "metadata": {},
   "outputs": [],
   "source": [
    "class Enrollment:\n",
    "    def __init__(self, student_enrolled, course_enrolled): \n",
    "        self.student_enrolled=student_enrolled \n",
    "        self.course_enrolled=course_enrolled \n",
    "    \n",
    "    def get_enrollment_details(self):\n",
    "        return f\"enrollment details:: student name: {self.student_enrolled.student_name}, course name:{self.course_enrolled.course_name}\"\n"
   ]
  },
  {
   "cell_type": "code",
   "execution_count": 368,
   "metadata": {},
   "outputs": [],
   "source": [
    "enrol=Enrollment(\n",
    "    student_enrolled=student_1, \n",
    "    course_enrolled=course_1\n",
    ")"
   ]
  },
  {
   "cell_type": "code",
   "execution_count": 369,
   "metadata": {},
   "outputs": [
    {
     "data": {
      "text/plain": [
       "'enrollment details:: student name: Ajay Varma, course name:Deep_Learning'"
      ]
     },
     "execution_count": 369,
     "metadata": {},
     "output_type": "execute_result"
    }
   ],
   "source": [
    "enrol.get_enrollment_details()"
   ]
  },
  {
   "cell_type": "code",
   "execution_count": 370,
   "metadata": {},
   "outputs": [],
   "source": [
    "class Univeristy_1:\n",
    "    def __init__(self, univeristy_name):\n",
    "        self.university_name= univeristy_name\n",
    "        self.student_list=[] \n",
    "        self.course_list=[] \n",
    "        self.university_enrollments_list=[]\n",
    "\n",
    "    def add_student(self, student):\n",
    "        self.student_list.append(student)\n",
    "        return f\"the student {student.student_name} has been added to the university\" \n",
    "    \n",
    "    def add_course(self, course):\n",
    "        self.course_list.append(course)\n",
    "        return f\"the course {course.course_name} ha been added to the university\" \n",
    "    \n",
    "    def enrollment(self, student, course):\n",
    "        self.university_enrollments_list.append(Enrollment(student_enrolled=student, course_enrolled=course))\n",
    "        return f\"the student {student.student_name} has been enrolled in {course.course_name} course at the university\"\n",
    "    \n",
    "    def get_university_students_details(self):\n",
    "        return [existing_students.get_student_details() for existing_students in self.student_list]\n",
    "    \n",
    "    def get_university_courses_details(self):\n",
    "        return [existing_courses.get_course_details() for existing_courses in self.course_list]\n",
    "    \n",
    "    def get_university_enrollment_details(self):\n",
    "        return [existing_enrollments.get_enrollment_details() for existing_enrollments in self.university_enrollments_list]\n"
   ]
  },
  {
   "cell_type": "code",
   "execution_count": 371,
   "metadata": {},
   "outputs": [],
   "source": [
    "university_2=Univeristy_1(\n",
    "    univeristy_name=\"University of Technology\"\n",
    ")"
   ]
  },
  {
   "cell_type": "code",
   "execution_count": 372,
   "metadata": {},
   "outputs": [
    {
     "name": "stdout",
     "output_type": "stream",
     "text": [
      "the student Ajay Varma has been added to the university\n",
      "the course Deep_Learning ha been added to the university\n",
      "the student Ajay Varma has been enrolled in Deep_Learning course at the university\n",
      "['student details:: student name:Ajay Varma, student age:29, student id number:1453554']\n",
      "['course details:: course id: 001 course name:Deep_Learning course credits:8']\n",
      "['enrollment details:: student name: Ajay Varma, course name:Deep_Learning']\n"
     ]
    }
   ],
   "source": [
    "print(university_2.add_student(student_1))\n",
    "print(university_2.add_course(course_1))\n",
    "print(university_2.enrollment(student_1, course_1))\n",
    "\n",
    "print(university_2.get_university_students_details())\n",
    "print(university_2.get_university_courses_details())\n",
    "print(university_2.get_university_enrollment_details())"
   ]
  },
  {
   "cell_type": "code",
   "execution_count": 373,
   "metadata": {},
   "outputs": [],
   "source": [
    "student_2=Student(\n",
    "    student_name=\"Karan Sharma\", \n",
    "    age=22, \n",
    "    student_id=3425243\n",
    ")"
   ]
  },
  {
   "cell_type": "code",
   "execution_count": 374,
   "metadata": {},
   "outputs": [],
   "source": [
    "course_2=Course(\n",
    "    course_id=\"002\", \n",
    "    course_name=\"Information Technology\", \n",
    "    course_credits=6\n",
    ")"
   ]
  },
  {
   "cell_type": "code",
   "execution_count": 375,
   "metadata": {},
   "outputs": [
    {
     "name": "stdout",
     "output_type": "stream",
     "text": [
      "the student Karan Sharma has been added to the university\n",
      "the course Information Technology ha been added to the university\n",
      "the student Karan Sharma has been enrolled in Information Technology course at the university\n"
     ]
    }
   ],
   "source": [
    "print(university_2.add_student(student_2))\n",
    "print(university_2.add_course(course_2))\n",
    "print(university_2.enrollment(student_2, course_2))"
   ]
  },
  {
   "cell_type": "code",
   "execution_count": 376,
   "metadata": {},
   "outputs": [
    {
     "name": "stdout",
     "output_type": "stream",
     "text": [
      "student details:: student name:Ajay Varma, student age:29, student id number:1453554\n",
      "student details:: student name:Karan Sharma, student age:22, student id number:3425243\n",
      "course details:: course id: 001 course name:Deep_Learning course credits:8\n",
      "course details:: course id: 002 course name:Information Technology course credits:6\n",
      "enrollment details:: student name: Ajay Varma, course name:Deep_Learning\n",
      "enrollment details:: student name: Karan Sharma, course name:Information Technology\n"
     ]
    }
   ],
   "source": [
    "print(\"\\n\".join(university_2.get_university_students_details()))\n",
    "print(\"\\n\".join(university_2.get_university_courses_details()))\n",
    "print(\"\\n\".join(university_2.get_university_enrollment_details()))"
   ]
  },
  {
   "cell_type": "code",
   "execution_count": 417,
   "metadata": {},
   "outputs": [],
   "source": [
    "# Library Management system\n",
    "\n",
    "class Book:\n",
    "    def __init__(self, title, author, isbn):\n",
    "        self.title=title \n",
    "        self.author=author\n",
    "        self.isbn=isbn \n",
    "    \n",
    "    def get_book_details(self):\n",
    "        return f\"book title: {self.title}, book author:{self.author}, book isbn{self.isbn}\"\n",
    "    \n"
   ]
  },
  {
   "cell_type": "code",
   "execution_count": 418,
   "metadata": {},
   "outputs": [],
   "source": [
    "class Member:\n",
    "    def __init__(self, name, member_id):\n",
    "        self.name=name \n",
    "        self.member_id=member_id\n",
    "    \n",
    "    def get_member_details(self):\n",
    "        return f\"member name:{self.name}, member_id:{self.member_id}\"\n",
    "    \n",
    "\n"
   ]
  },
  {
   "cell_type": "code",
   "execution_count": 419,
   "metadata": {},
   "outputs": [],
   "source": [
    "class Loan:\n",
    "    def __init__(self, book, member, loan_date):\n",
    "        self.book=book \n",
    "        self.member=member\n",
    "        self.loan_date= loan_date   \n",
    "    \n",
    "    def get_loan_details(self):\n",
    "        return f\"book :{self.book.title}, member {self.member.name}, loan date:{self.loan_date}\" \n",
    "    \n",
    "\n"
   ]
  },
  {
   "cell_type": "code",
   "execution_count": 420,
   "metadata": {},
   "outputs": [],
   "source": [
    "class Library:\n",
    "    def __init__(self, library_name):\n",
    "        self.library_name=library_name \n",
    "        self.books=[]\n",
    "        self.members=[]\n",
    "        self.loan_books=[]\n",
    "\n",
    "    def add_book(self, book):\n",
    "        self.books.append(book)\n",
    "        return f\"the book {book.title} has been added to the library\" \n",
    "    \n",
    "    def add_member(self, member):\n",
    "        self.members.append(member)\n",
    "        return f\"{member.name} has been added as a member to the library\" \n",
    "    \n",
    "    def loan_book(self, book, member, loan_date):\n",
    "        self.loan_books.append(Loan(book,member))\n",
    "        return f\"loaned book:{book.title}, member name:{member.name}, loan date:{loan_date}\"\n",
    "    \n",
    "    def get_all_books(self):\n",
    "        return [book.get_book_details() for book in self.books]\n",
    "    \n",
    "    def get_all_members(self):\n",
    "        return [member.get_member_details() for member in self.members]\n",
    "    \n",
    "    def get_all_loans(self):\n",
    "        return [loan.get_loan_details() for loan in self.loan_books]"
   ]
  },
  {
   "cell_type": "code",
   "execution_count": 421,
   "metadata": {},
   "outputs": [],
   "source": [
    "book1=Book(\n",
    "    title=\"The Story Book\", \n",
    "    author=\"Author 1\",\n",
    "    isbn=124534343\n",
    ")\n",
    "\n",
    "member1=Member(\n",
    "    name=\"Karan Varma\", \n",
    "    member_id=2345\n",
    ")"
   ]
  },
  {
   "cell_type": "code",
   "execution_count": 422,
   "metadata": {},
   "outputs": [],
   "source": [
    "library1=Library(\n",
    "    library_name=\"City_library\"\n",
    ")"
   ]
  },
  {
   "cell_type": "code",
   "execution_count": 423,
   "metadata": {},
   "outputs": [
    {
     "name": "stdout",
     "output_type": "stream",
     "text": [
      "the book The Story Book has been added to the library\n",
      "Karan Varma has been added as a member to the library\n"
     ]
    }
   ],
   "source": [
    "print(library1.add_book(book1))\n",
    "print(library1.add_member(member1))\n"
   ]
  },
  {
   "cell_type": "code",
   "execution_count": 424,
   "metadata": {},
   "outputs": [
    {
     "ename": "TypeError",
     "evalue": "Loan.__init__() missing 1 required positional argument: 'loan_date'",
     "output_type": "error",
     "traceback": [
      "\u001b[1;31m---------------------------------------------------------------------------\u001b[0m",
      "\u001b[1;31mTypeError\u001b[0m                                 Traceback (most recent call last)",
      "Cell \u001b[1;32mIn[424], line 1\u001b[0m\n\u001b[1;32m----> 1\u001b[0m \u001b[38;5;28mprint\u001b[39m(\u001b[43mlibrary1\u001b[49m\u001b[38;5;241;43m.\u001b[39;49m\u001b[43mloan_book\u001b[49m\u001b[43m(\u001b[49m\n\u001b[0;32m      2\u001b[0m \u001b[43m    \u001b[49m\u001b[43mbook\u001b[49m\u001b[38;5;241;43m=\u001b[39;49m\u001b[43mbook1\u001b[49m\u001b[43m,\u001b[49m\n\u001b[0;32m      3\u001b[0m \u001b[43m    \u001b[49m\u001b[43mmember\u001b[49m\u001b[38;5;241;43m=\u001b[39;49m\u001b[43mmember1\u001b[49m\u001b[43m,\u001b[49m\u001b[43m \u001b[49m\n\u001b[0;32m      4\u001b[0m \u001b[43m    \u001b[49m\u001b[43mloan_date\u001b[49m\u001b[38;5;241;43m=\u001b[39;49m\u001b[38;5;124;43m\"\u001b[39;49m\u001b[38;5;124;43m22-11-1996\u001b[39;49m\u001b[38;5;124;43m\"\u001b[39;49m\n\u001b[0;32m      5\u001b[0m \u001b[43m)\u001b[49m)\n",
      "Cell \u001b[1;32mIn[420], line 17\u001b[0m, in \u001b[0;36mLibrary.loan_book\u001b[1;34m(self, book, member, loan_date)\u001b[0m\n\u001b[0;32m     16\u001b[0m \u001b[38;5;28;01mdef\u001b[39;00m \u001b[38;5;21mloan_book\u001b[39m(\u001b[38;5;28mself\u001b[39m, book, member, loan_date):\n\u001b[1;32m---> 17\u001b[0m     \u001b[38;5;28mself\u001b[39m\u001b[38;5;241m.\u001b[39mloan_books\u001b[38;5;241m.\u001b[39mappend(\u001b[43mLoan\u001b[49m\u001b[43m(\u001b[49m\u001b[43mbook\u001b[49m\u001b[43m,\u001b[49m\u001b[43mmember\u001b[49m\u001b[43m)\u001b[49m)\n\u001b[0;32m     18\u001b[0m     \u001b[38;5;28;01mreturn\u001b[39;00m \u001b[38;5;124mf\u001b[39m\u001b[38;5;124m\"\u001b[39m\u001b[38;5;124mloaned book:\u001b[39m\u001b[38;5;132;01m{\u001b[39;00mbook\u001b[38;5;241m.\u001b[39mtitle\u001b[38;5;132;01m}\u001b[39;00m\u001b[38;5;124m, member name:\u001b[39m\u001b[38;5;132;01m{\u001b[39;00mmember\u001b[38;5;241m.\u001b[39mname\u001b[38;5;132;01m}\u001b[39;00m\u001b[38;5;124m, loan date:\u001b[39m\u001b[38;5;132;01m{\u001b[39;00mloan_date\u001b[38;5;132;01m}\u001b[39;00m\u001b[38;5;124m\"\u001b[39m\n",
      "\u001b[1;31mTypeError\u001b[0m: Loan.__init__() missing 1 required positional argument: 'loan_date'"
     ]
    }
   ],
   "source": [
    "print(library1.loan_book(\n",
    "    book=book1,\n",
    "    member=member1, \n",
    "    loan_date=\"22-11-1996\"\n",
    "))"
   ]
  },
  {
   "cell_type": "code",
   "execution_count": 425,
   "metadata": {},
   "outputs": [
    {
     "name": "stdout",
     "output_type": "stream",
     "text": [
      "The book 'The Story Book' has been added to the library\n",
      "Karan Varma has been added as a member to the library\n",
      "Loaned book: The Story Book, Member name: Karan Varma, Loan date: 22-11-1996\n",
      "All books in the library:\n",
      "Book title: The Story Book, Book author: Author 1, Book ISBN: 124534343\n",
      "All members in the library:\n",
      "Member name: Karan Varma, Member ID: 2345\n",
      "All loans in the library:\n",
      "Book: The Story Book, Member: Karan Varma, Loan date: 22-11-1996\n"
     ]
    }
   ],
   "source": [
    "# Library Management System\n",
    "\n",
    "class Book:\n",
    "    def __init__(self, title, author, isbn):\n",
    "        self.title = title \n",
    "        self.author = author\n",
    "        self.isbn = isbn \n",
    "    \n",
    "    def get_book_details(self):\n",
    "        return f\"Book title: {self.title}, Book author: {self.author}, Book ISBN: {self.isbn}\"\n",
    "\n",
    "class Member:\n",
    "    def __init__(self, name, member_id):\n",
    "        self.name = name \n",
    "        self.member_id = member_id\n",
    "    \n",
    "    def get_member_details(self):\n",
    "        return f\"Member name: {self.name}, Member ID: {self.member_id}\"\n",
    "\n",
    "class Loan:\n",
    "    def __init__(self, book, member, loan_date):\n",
    "        self.book = book \n",
    "        self.member = member\n",
    "        self.loan_date = loan_date   \n",
    "    \n",
    "    def get_loan_details(self):\n",
    "        return f\"Book: {self.book.title}, Member: {self.member.name}, Loan date: {self.loan_date}\" \n",
    "\n",
    "class Library:\n",
    "    def __init__(self, library_name):\n",
    "        self.library_name = library_name \n",
    "        self.books = []\n",
    "        self.members = []\n",
    "        self.loan_books = []\n",
    "\n",
    "    def add_book(self, book):\n",
    "        self.books.append(book)\n",
    "        return f\"The book '{book.title}' has been added to the library\" \n",
    "    \n",
    "    def add_member(self, member):\n",
    "        self.members.append(member)\n",
    "        return f\"{member.name} has been added as a member to the library\" \n",
    "    \n",
    "    def loan_book(self, book, member, loan_date):\n",
    "        self.loan_books.append(Loan(book, member, loan_date))\n",
    "        return f\"Loaned book: {book.title}, Member name: {member.name}, Loan date: {loan_date}\"\n",
    "    \n",
    "    def get_all_books(self):\n",
    "        return [book.get_book_details() for book in self.books]\n",
    "    \n",
    "    def get_all_members(self):\n",
    "        return [member.get_member_details() for member in self.members]\n",
    "    \n",
    "    def get_all_loans(self):\n",
    "        return [loan.get_loan_details() for loan in self.loan_books]\n",
    "\n",
    "# Create instances of Book and Member\n",
    "book1 = Book(\n",
    "    title=\"The Story Book\", \n",
    "    author=\"Author 1\",\n",
    "    isbn=\"124534343\"\n",
    ")\n",
    "\n",
    "member1 = Member(\n",
    "    name=\"Karan Varma\", \n",
    "    member_id=\"2345\"\n",
    ")\n",
    "\n",
    "# Create a Library instance\n",
    "library1 = Library(\n",
    "    library_name=\"City Library\"\n",
    ")\n",
    "\n",
    "# Add book and member to the library\n",
    "print(library1.add_book(book1))\n",
    "print(library1.add_member(member1))\n",
    "\n",
    "# Loan the book to the member\n",
    "print(library1.loan_book(\n",
    "    book=book1,\n",
    "    member=member1, \n",
    "    loan_date=\"22-11-1996\"\n",
    "))\n",
    "\n",
    "# Get all books, members, and loans\n",
    "print(\"All books in the library:\")\n",
    "print(\"\\n\".join(library1.get_all_books()))\n",
    "\n",
    "print(\"All members in the library:\")\n",
    "print(\"\\n\".join(library1.get_all_members()))\n",
    "\n",
    "print(\"All loans in the library:\")\n",
    "print(\"\\n\".join(library1.get_all_loans()))\n"
   ]
  },
  {
   "cell_type": "code",
   "execution_count": 173,
   "metadata": {},
   "outputs": [],
   "source": [
    "#Library Management System \n",
    "class Book:\n",
    "    def __init__(self, book_title, book_author, book_isbn):\n",
    "        self.book_title= book_title \n",
    "        self.book_author= book_author \n",
    "        self.book_isbn= book_isbn \n",
    "    \n",
    "    def get_book_details(self):\n",
    "        return f\"book_name:{self.book_title}, book_author:{self.book_author}, book_isbn:{self.book_isbn}\" "
   ]
  },
  {
   "cell_type": "code",
   "execution_count": 174,
   "metadata": {},
   "outputs": [],
   "source": [
    "class Member:\n",
    "    def __init__(self, member_name, member_id):\n",
    "        self.member_name= member_name \n",
    "        self.member_id= member_id \n",
    "    \n",
    "    def get_member_details(self):\n",
    "        return f\"Member name:{self.member_name}, member id:{self.member_id}\" "
   ]
  },
  {
   "cell_type": "code",
   "execution_count": 175,
   "metadata": {},
   "outputs": [],
   "source": [
    "class Loan:\n",
    "    def __init__(self, book, member, loan_date):\n",
    "        self.book=book \n",
    "        self.member=member\n",
    "        self.loan_date=loan_date  \n",
    "    \n",
    "    def get_loan_details(self):\n",
    "        return f\"book_name:{self.book.book_title}, member_name:{self.member.member_name}, loan_date:{self.loan_date}\""
   ]
  },
  {
   "cell_type": "code",
   "execution_count": 185,
   "metadata": {},
   "outputs": [],
   "source": [
    "class Library:\n",
    "    def __init__(self, library_name):\n",
    "        self.library_name= library_name \n",
    "        self.books=[]\n",
    "        self.members=[]\n",
    "        self.loans=[]\n",
    "\n",
    "    def add_books(self, book):\n",
    "        self.books.append(book)\n",
    "        return f\"book: {book.book_title}, has been added to the Library\" \n",
    "    \n",
    "    def add_member(self, member):\n",
    "        self.members.append(member)\n",
    "        return f\"the member:{member.member_name},has been added to the Library\" \n",
    "    \n",
    "    def loan_book(self, book, member, loan_date):\n",
    "        self.loans.append(Loan(book, member, loan_date))\n",
    "        return f\"loan_details::book_name: {book.book_title}, member_name:{member.member_name}, loan date:{loan_date}\"\n",
    "    \n",
    "    def get_all_books(self):\n",
    "        return [current_book.get_book_details() for current_book in self.books]\n",
    "    \n",
    "    def get_all_members(self):\n",
    "        return [current_member.get_member_details() for current_member in self.members]\n",
    "    \n",
    "    def get_all_loans(self):\n",
    "        return [current_loan.get_loan_details() for current_loan in self.loans]"
   ]
  },
  {
   "cell_type": "code",
   "execution_count": 186,
   "metadata": {},
   "outputs": [],
   "source": [
    "book1=Book(\n",
    "    book_title=\"the Kite Runner\", \n",
    "    book_author= \"Khalid Husain\", \n",
    "    book_isbn=\"13khg34j5g5\"\n",
    ")\n",
    "book2=Book(\n",
    "    book_title=\"the thousand splandid suns\", \n",
    "    book_author=\"khalid Husain\", \n",
    "    book_isbn=\"12434f1234rh12h44\"\n",
    ")"
   ]
  },
  {
   "cell_type": "code",
   "execution_count": 187,
   "metadata": {},
   "outputs": [
    {
     "data": {
      "text/plain": [
       "'book_name:the Kite Runner, book_author:Khalid Husain, book_isbn:13khg34j5g5'"
      ]
     },
     "execution_count": 187,
     "metadata": {},
     "output_type": "execute_result"
    }
   ],
   "source": [
    "book1.get_book_details()\n"
   ]
  },
  {
   "cell_type": "code",
   "execution_count": 188,
   "metadata": {},
   "outputs": [],
   "source": [
    "member1=Member(\n",
    "    member_name= \"Jay Joshi\", \n",
    "    member_id=233252231, \n",
    ")\n",
    "\n",
    "member2=Member(\n",
    "    member_name=\"Rakesh sharma\",\n",
    "    member_id=12435322\n",
    ")"
   ]
  },
  {
   "cell_type": "code",
   "execution_count": 189,
   "metadata": {},
   "outputs": [
    {
     "data": {
      "text/plain": [
       "'Member name:Jay Joshi, member id:233252231'"
      ]
     },
     "execution_count": 189,
     "metadata": {},
     "output_type": "execute_result"
    }
   ],
   "source": [
    "member1.get_member_details()"
   ]
  },
  {
   "cell_type": "code",
   "execution_count": null,
   "metadata": {},
   "outputs": [],
   "source": []
  },
  {
   "cell_type": "code",
   "execution_count": 190,
   "metadata": {},
   "outputs": [],
   "source": [
    "\n",
    "library1=Library(\n",
    "    library_name=\"City_Library\",\n",
    ")"
   ]
  },
  {
   "cell_type": "code",
   "execution_count": 191,
   "metadata": {},
   "outputs": [
    {
     "name": "stdout",
     "output_type": "stream",
     "text": [
      "book: the Kite Runner, has been added to the Library\n",
      "book: the thousand splandid suns, has been added to the Library\n"
     ]
    }
   ],
   "source": [
    "print(library1.add_books(book1))\n",
    "print(library1.add_books(book2))"
   ]
  },
  {
   "cell_type": "code",
   "execution_count": 192,
   "metadata": {},
   "outputs": [
    {
     "name": "stdout",
     "output_type": "stream",
     "text": [
      "the member:Jay Joshi,has been added to the Library\n",
      "the member:Rakesh sharma,has been added to the Library\n"
     ]
    }
   ],
   "source": [
    "print(library1.add_member(member1))\n",
    "print(library1.add_member(member2))"
   ]
  },
  {
   "cell_type": "code",
   "execution_count": 193,
   "metadata": {},
   "outputs": [
    {
     "name": "stdout",
     "output_type": "stream",
     "text": [
      "loan_details::book_name: the Kite Runner, member_name:Jay Joshi, loan date:12/11/2024\n",
      "loan_details::book_name: the thousand splandid suns, member_name:Rakesh sharma, loan date:23/11/2022\n"
     ]
    }
   ],
   "source": [
    "print(library1.loan_book(book1, member1, \"12/11/2024\"))\n",
    "print(library1.loan_book(book2, member2, \"23/11/2022\"))"
   ]
  },
  {
   "cell_type": "code",
   "execution_count": 194,
   "metadata": {},
   "outputs": [
    {
     "data": {
      "text/plain": [
       "['book_name:the Kite Runner, book_author:Khalid Husain, book_isbn:13khg34j5g5',\n",
       " 'book_name:the thousand splandid suns, book_author:khalid Husain, book_isbn:12434f1234rh12h44']"
      ]
     },
     "execution_count": 194,
     "metadata": {},
     "output_type": "execute_result"
    }
   ],
   "source": [
    "library1.get_all_books()"
   ]
  },
  {
   "cell_type": "code",
   "execution_count": 195,
   "metadata": {},
   "outputs": [
    {
     "data": {
      "text/plain": [
       "['Member name:Jay Joshi, member id:233252231',\n",
       " 'Member name:Rakesh sharma, member id:12435322']"
      ]
     },
     "execution_count": 195,
     "metadata": {},
     "output_type": "execute_result"
    }
   ],
   "source": [
    "library1.get_all_members()"
   ]
  },
  {
   "cell_type": "code",
   "execution_count": 196,
   "metadata": {},
   "outputs": [
    {
     "data": {
      "text/plain": [
       "['book_name:the Kite Runner, member_name:Jay Joshi, loan_date:12/11/2024',\n",
       " 'book_name:the thousand splandid suns, member_name:Rakesh sharma, loan_date:23/11/2022']"
      ]
     },
     "execution_count": 196,
     "metadata": {},
     "output_type": "execute_result"
    }
   ],
   "source": [
    "library1.get_all_loans()"
   ]
  },
  {
   "cell_type": "code",
   "execution_count": null,
   "metadata": {},
   "outputs": [],
   "source": []
  },
  {
   "cell_type": "code",
   "execution_count": null,
   "metadata": {},
   "outputs": [],
   "source": []
  }
 ],
 "metadata": {
  "kernelspec": {
   "display_name": "base",
   "language": "python",
   "name": "python3"
  },
  "language_info": {
   "codemirror_mode": {
    "name": "ipython",
    "version": 3
   },
   "file_extension": ".py",
   "mimetype": "text/x-python",
   "name": "python",
   "nbconvert_exporter": "python",
   "pygments_lexer": "ipython3",
   "version": "3.11.7"
  }
 },
 "nbformat": 4,
 "nbformat_minor": 2
}
