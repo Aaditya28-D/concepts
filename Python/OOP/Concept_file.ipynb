{
 "cells": [
  {
   "cell_type": "code",
   "execution_count": null,
   "id": "ea73a550",
   "metadata": {},
   "outputs": [
    {
     "name": "stdout",
     "output_type": "stream",
     "text": [
      "this car is a Red Toyota Corolla.\n"
     ]
    }
   ],
   "source": [
    "class Car: #class\n",
    "    #constructor method\n",
    "    def __init__(self, brand, model, color ): #parameters brand, model, color\n",
    "        self.brand=brand #instance variable/ object attributes \n",
    "        self.model=model #instance variable / object attributes\n",
    "        self.color=color #instance varaible/ object attributes\n",
    "    \n",
    "    #instance method\n",
    "    def describe(self): \n",
    "        return f\"this car is a {self.color} {self.brand} {self.model}.\"\n",
    "\n",
    "#objects/ instances of class car     \n",
    "my_car= Car(\"Toyota\", \"Corolla\", \"Red\" #arguments)\n",
    "\n",
    "print(my_car.describe())"
   ]
  },
  {
   "cell_type": "code",
   "execution_count": 3,
   "id": "f88ecec9",
   "metadata": {},
   "outputs": [
    {
     "name": "stdout",
     "output_type": "stream",
     "text": [
      "this is Rahul, his age is 28, his gender is Male.\n"
     ]
    }
   ],
   "source": [
    "class Person:\n",
    "    def __init__(self, name, age, gender):\n",
    "        self.name=name\n",
    "        self.age=age\n",
    "        self.gender=gender\n",
    "    \n",
    "    def introduce(self):\n",
    "        return f\"this is {self.name}, his age is {self.age}, his gender is {self.gender}.\"\n",
    "    \n",
    "person1=Person(\"Rahul\", 28, \"Male\")\n",
    "\n",
    "print(person1.introduce())"
   ]
  },
  {
   "cell_type": "markdown",
   "id": "1d399307",
   "metadata": {},
   "source": [
    "# Inheritance "
   ]
  },
  {
   "cell_type": "code",
   "execution_count": 4,
   "id": "0da20950",
   "metadata": {},
   "outputs": [
    {
     "name": "stdout",
     "output_type": "stream",
     "text": [
      "the Tesla model 3 is starting\n",
      "the Tesla model 3 is stopping\n"
     ]
    }
   ],
   "source": [
    "class Vehicle:\n",
    "    def __init__(self, brand, model):\n",
    "        self.brand=brand\n",
    "        self.model=model\n",
    "    \n",
    "    def start(self):\n",
    "        return f\"the {self.brand} {self.model} is starting\"\n",
    "    \n",
    "    def stop(self):\n",
    "        return f\"the {self.brand} {self.model} is stopping\"\n",
    "    \n",
    "veh1=Vehicle(\"Tesla\", \"model 3\")\n",
    "\n",
    "print(veh1.start())\n",
    "print(veh1.stop())\n",
    "\n"
   ]
  },
  {
   "cell_type": "code",
   "execution_count": 5,
   "id": "a587bf78",
   "metadata": {},
   "outputs": [],
   "source": [
    "class Car(Vehicle):\n",
    "    def __init__(self, brand, model, color):\n",
    "        super().__init__(brand, model)\n",
    "        self.color=color\n",
    "    \n",
    "    def describe(self):\n",
    "        return f\"this car is {self.color} {self.brand} {self.model}.\""
   ]
  },
  {
   "cell_type": "code",
   "execution_count": 6,
   "id": "b663af22",
   "metadata": {},
   "outputs": [],
   "source": [
    "class Motorcycle(Vehicle):\n",
    "    def __init__ (self, brand, model, engine_capacity):\n",
    "        super().__init__(brand, model)\n",
    "        self.engine_capacity=engine_capacity\n",
    "    \n",
    "    def describe(self):\n",
    "        return f\"This motor cycle is a {self.brand} {self.model} with a {self.engine_capacity}cc engine\""
   ]
  },
  {
   "cell_type": "code",
   "execution_count": 7,
   "id": "028e1c14",
   "metadata": {},
   "outputs": [
    {
     "name": "stdout",
     "output_type": "stream",
     "text": [
      "the Toyota Corolla is starting\n",
      "this car is Red Toyota Corolla.\n",
      "the Toyota Corolla is stopping\n",
      "the Yamaha MT-09 is starting\n",
      "This motor cycle is a Yamaha MT-09 with a 847cc engine\n",
      "the Yamaha MT-09 is stopping\n"
     ]
    }
   ],
   "source": [
    "my_car=Car(\"Toyota\", \"Corolla\", \"Red\")\n",
    "print(my_car.start())\n",
    "print(my_car.describe())\n",
    "print(my_car.stop())\n",
    "\n",
    "my_motorcycle=Motorcycle(\"Yamaha\", \"MT-09\", 847)\n",
    "print(my_motorcycle.start())\n",
    "print(my_motorcycle.describe())\n",
    "print(my_motorcycle.stop())"
   ]
  },
  {
   "cell_type": "code",
   "execution_count": 8,
   "id": "1fbec80e",
   "metadata": {},
   "outputs": [
    {
     "name": "stdout",
     "output_type": "stream",
     "text": [
      "the Ford F-150 is starting\n",
      "It is Ford F-150 truck having 2 tone cargo capacity\n",
      "the Ford F-150 is stopping\n"
     ]
    }
   ],
   "source": [
    "class Truck(Vehicle):\n",
    "    def __init__(self, brand, model, cargo_capacity):\n",
    "        super().__init__ (brand, model)\n",
    "        self.cargo_capacity=cargo_capacity\n",
    "    \n",
    "    def describe(self):\n",
    "        return f\"It is {self.brand} {self.model} truck having {self.cargo_capacity} tone cargo capacity\"\n",
    "\n",
    "my_truck=Truck(\n",
    "    brand=\"Ford\", \n",
    "    model=\"F-150\", \n",
    "    cargo_capacity=2\n",
    ")\n",
    "\n",
    "print(my_truck.start())\n",
    "print(my_truck.describe())\n",
    "print(my_truck.stop())"
   ]
  },
  {
   "cell_type": "code",
   "execution_count": 9,
   "id": "31d6446c",
   "metadata": {},
   "outputs": [],
   "source": [
    "class Animal:\n",
    "    def __init__(self, name):\n",
    "        self.name=name\n",
    "    \n",
    "    def make_sound(self):\n",
    "        return f\"{self.name} makes a sound\"\n",
    "\n",
    "\n",
    "class Dog(Animal):\n",
    "    def __init__(self, name, breed):\n",
    "        super().__init__(name)\n",
    "        self.breed=breed\n",
    "    \n",
    "    def make_sound(self):\n",
    "        return f\"{self.name}, the {self.breed}, says:Woof!\"\n",
    "    \n",
    "\n",
    "class Cat(Animal):\n",
    "    def __init__(self, name, color):\n",
    "        super().__init__(name)\n",
    "        self.color=color\n",
    "    \n",
    "    def make_sound(self):\n",
    "        return f\"{self.name}, the {self.color} cat, says: Meow!\"\n",
    "    \n",
    "\n",
    "class Bird(Animal):\n",
    "    def __init__(self, name, species):\n",
    "        super().__init__(name)\n",
    "        self.species=species\n",
    "    \n",
    "    def make_sound(self):\n",
    "        return f\"{self.name}, the {self.species} bird, says:chrip\"\n",
    "\n",
    "\n"
   ]
  },
  {
   "cell_type": "code",
   "execution_count": 10,
   "id": "32dc8cb8",
   "metadata": {},
   "outputs": [
    {
     "name": "stdout",
     "output_type": "stream",
     "text": [
      "buddy, the Golden Retriever, says:Woof!\n"
     ]
    }
   ],
   "source": [
    "dog1=Dog(\n",
    "    name=\"buddy\",\n",
    "    breed=\"Golden Retriever\"\n",
    ")\n",
    "\n",
    "print(dog1.make_sound())"
   ]
  },
  {
   "cell_type": "code",
   "execution_count": 11,
   "id": "743db43b",
   "metadata": {},
   "outputs": [
    {
     "name": "stdout",
     "output_type": "stream",
     "text": [
      "Whiskers, the black cat, says: Meow!\n"
     ]
    }
   ],
   "source": [
    "cat1=Cat(\n",
    "    name=\"Whiskers\", \n",
    "    color=\"black\"\n",
    ")\n",
    "print(cat1.make_sound())"
   ]
  },
  {
   "cell_type": "code",
   "execution_count": 12,
   "id": "93ee727f",
   "metadata": {},
   "outputs": [
    {
     "name": "stdout",
     "output_type": "stream",
     "text": [
      "Tweety, the Canary bird, says:chrip\n"
     ]
    }
   ],
   "source": [
    "bird1=Bird(\n",
    "    name=\"Tweety\", \n",
    "    species=\"Canary\"\n",
    ")\n",
    "\n",
    "print(bird1.make_sound())"
   ]
  },
  {
   "cell_type": "code",
   "execution_count": 13,
   "id": "289abdf5",
   "metadata": {},
   "outputs": [
    {
     "name": "stdout",
     "output_type": "stream",
     "text": [
      "buddy, the Golden Retriever, says:Woof!\n",
      "Whiskers, the black cat, says: Meow!\n",
      "Tweety, the Canary bird, says:chrip\n"
     ]
    }
   ],
   "source": [
    "animals=[dog1, cat1, bird1]\n",
    "\n",
    "for animal in animals:\n",
    "    print(animal.make_sound())"
   ]
  },
  {
   "cell_type": "code",
   "execution_count": 14,
   "id": "d68d06c2",
   "metadata": {},
   "outputs": [],
   "source": [
    "class Employee:\n",
    "    def __init__(self, name, salary):\n",
    "        self.name=name\n",
    "        self.salary=salary\n",
    "    \n",
    "    def display_details(self):\n",
    "        return f\"the employee {self.name} has {self.salary} weekly salary\"\n",
    "    \n",
    "\n",
    "class Manager(Employee):\n",
    "    def __init__(self, name, salary, department):\n",
    "        super(). __init__(name, salary)\n",
    "        self.department=department\n",
    "    \n",
    "    def display_details(self):\n",
    "        return f\"{self.name} is the manager of {self.department} department, having the {self.salary} weekly salary\"\n",
    "\n",
    "\n",
    "\n",
    "class Developer(Employee):\n",
    "    def __init__(self, name, salary, programming_language):\n",
    "        super(). __init__(name, salary)\n",
    "        self.programming_language=programming_language\n",
    "    \n",
    "    def display_details(self):\n",
    "        return f\"{self.name} is the {self.programming_language} developer having the {self.salary} weekly salary\"\n"
   ]
  },
  {
   "cell_type": "code",
   "execution_count": 15,
   "id": "d9a5f4d8",
   "metadata": {},
   "outputs": [
    {
     "name": "stdout",
     "output_type": "stream",
     "text": [
      "the employee nick has 1000 weekly salary\n"
     ]
    }
   ],
   "source": [
    "emp1=Employee(\n",
    "    name=\"nick\",\n",
    "    salary=1000\n",
    ")\n",
    "\n",
    "print(emp1.display_details())"
   ]
  },
  {
   "cell_type": "code",
   "execution_count": 16,
   "id": "36eb6080",
   "metadata": {},
   "outputs": [
    {
     "name": "stdout",
     "output_type": "stream",
     "text": [
      "Rina is the manager of Research and development department, having the 1500 weekly salary\n"
     ]
    }
   ],
   "source": [
    "emp2=Manager(\n",
    "    name=\"Rina\", \n",
    "    salary=1500,\n",
    "    department=\"Research and development\"\n",
    ")\n",
    "\n",
    "print(emp2.display_details())"
   ]
  },
  {
   "cell_type": "code",
   "execution_count": 17,
   "id": "3800f823",
   "metadata": {},
   "outputs": [
    {
     "name": "stdout",
     "output_type": "stream",
     "text": [
      "Joe is the Python developer having the 1200 weekly salary\n"
     ]
    }
   ],
   "source": [
    "emp3=Developer(\n",
    "    name=\"Joe\", \n",
    "    salary=1200, \n",
    "    programming_language=\"Python\"\n",
    ")\n",
    "\n",
    "print(emp3.display_details())"
   ]
  },
  {
   "cell_type": "markdown",
   "id": "b396e39c",
   "metadata": {},
   "source": [
    "# Encapsulation and Access Modifiers"
   ]
  },
  {
   "cell_type": "markdown",
   "id": "0a26334e",
   "metadata": {},
   "source": [
    "ncapsulation is one of the fundamental concepts in object-oriented programming. It refers to the bundling of data (attributes) and methods (functions) that operate on the data into a single unit or class. Encapsulation also helps to restrict access to certain components and can prevent accidental modification of data.\n",
    "\n",
    "Access Modifiers\n",
    "In Python, there are three types of access modifiers:\n",
    "\n",
    "1. Public: Attributes and methods are accessible from anywhere.\n",
    "2. Protected: Attributes and methods are accessible within the class and its subclasses.\n",
    "3. Private: Attributes and methods are accessible only within the class."
   ]
  },
  {
   "cell_type": "markdown",
   "id": "7ed53568",
   "metadata": {},
   "source": [
    "| **Aspect**        | **Public Attributes**                   | **Protected Attributes**                        | **Private Attributes**                        |\n",
    "|-------------------|-----------------------------------------|------------------------------------------------|---------------------------------------------|\n",
    "| **Access Control**| Accessible from anywhere                | Intended for access within class & subclasses  | Accessible only within the class            |\n",
    "| **Encapsulation** | Part of the class's public API          | Internal implementation, not for public use    | Strongly encapsulated, strictly internal    |\n",
    "| **Syntax**        | `self.attribute`                        | `self._attribute`                              | `self.__attribute`                          |\n",
    "| **Direct Access** | Allowed and unrestricted                | Allowed but discouraged                        | Not allowed, will raise an `AttributeError` |\n",
    "| **Impact on API** | Changes can impact external code        | Changes mostly impact internal/subclass code   | Changes do not affect external code         |\n",
    "| **Modification**  | Freely accessed and modified            | Modified within class/subclass, not directly   | Modified only within the class              |\n",
    "| **Best Practice** | Use for stable, widely-used attributes  | Use for internal attributes to discourage misuse| Use for sensitive/private data              |\n"
   ]
  },
  {
   "cell_type": "code",
   "execution_count": 18,
   "id": "c332d546",
   "metadata": {},
   "outputs": [],
   "source": [
    "class BankAccount:\n",
    "    def __init__(self, account_number, balance):\n",
    "        self.account_number=account_number #publiv attribute\n",
    "        self._balance=balance #protected attribute\n",
    "    \n",
    "    # public method\n",
    "    def deposit(self, amount):\n",
    "        if amount>0:\n",
    "            self._balance+=amount\n",
    "        return self._balance\n",
    "    \n",
    "    # public method\n",
    "    def withdraw(self, amount):\n",
    "        if amount>0 and amount<=self._balance:\n",
    "            self._balance-=amount\n",
    "        return self._balance\n",
    "    \n",
    "    #public method\n",
    "    def get_balance(self):\n",
    "        return self._balance\n",
    "            "
   ]
  },
  {
   "cell_type": "code",
   "execution_count": 19,
   "id": "114f44bc",
   "metadata": {},
   "outputs": [
    {
     "name": "stdout",
     "output_type": "stream",
     "text": [
      "Account number:123456789\n",
      "initial Balance:1000\n",
      "balance after depost:1500\n",
      "Balance after withdrawal:1200\n"
     ]
    }
   ],
   "source": [
    "account=BankAccount(\n",
    "    account_number=\"123456789\", \n",
    "    balance=1000\n",
    ")\n",
    "\n",
    "\n",
    "#access public attribute \n",
    "print(f\"Account number:{account.account_number}\")\n",
    "\n",
    "\n",
    "#access protected attribute via public method \n",
    "print(f\"initial Balance:{account.get_balance()}\")\n",
    "\n",
    "#deposit money \n",
    "account.deposit(\n",
    "    amount=500\n",
    ")\n",
    "print(f\"balance after depost:{account.get_balance()}\")\n",
    "\n",
    "#withdraw money \n",
    "account.withdraw(300)\n",
    "print(f\"Balance after withdrawal:{account.get_balance()}\")"
   ]
  },
  {
   "cell_type": "code",
   "execution_count": 20,
   "id": "d7cad76a",
   "metadata": {},
   "outputs": [],
   "source": [
    "class BankAccount:\n",
    "    def __init__(self, account_number, balance, password):\n",
    "        self.account_number=account_number #public attribute\n",
    "        self._balance=balance #protected attribute \n",
    "        self.__password=password #private attribute \n",
    "    \n",
    "    def deposit(self, amount):\n",
    "        if amount>0:\n",
    "            self._balance+=amount\n",
    "        return self._balance\n",
    "    \n",
    "    def withdraw(self, amount, password):\n",
    "        if password==self.__password:\n",
    "            if amount>0 and amount<=self._balance:\n",
    "                self._balance-=amount\n",
    "                return self._balance\n",
    "            else:\n",
    "                return \"insufficient funds\"\n",
    "        else:\n",
    "            return \"invalid Password\"\n",
    "    \n",
    "    def get_balance(self, password):\n",
    "        if password==self.__password:\n",
    "            return self._balance\n",
    "        else:\n",
    "            return \"invalid password\"\n",
    "    \n",
    "    def change_password(self, old_password, new_password):\n",
    "        if old_password==self.__password:\n",
    "            self.__password=new_password\n",
    "            return \"Password changed successfully\"\n",
    "        else:\n",
    "            return \"invalid old password\""
   ]
  },
  {
   "cell_type": "code",
   "execution_count": 21,
   "id": "817dad05",
   "metadata": {},
   "outputs": [],
   "source": [
    "class SavingAccount(BankAccount):\n",
    "    def __init__(self, account_number, balance, password, interest_rate):\n",
    "        super().__init__(account_number, balance, password)\n",
    "        self.interest_rate=interest_rate #public attribute\n",
    "    \n",
    "\n",
    "    def apply_interest(self):\n",
    "        interest=self._balance*(self.interest_rate/100)\n",
    "        self._balance+=interest\n",
    "        return self._balance\n",
    "\n"
   ]
  },
  {
   "cell_type": "code",
   "execution_count": 22,
   "id": "3759c262",
   "metadata": {},
   "outputs": [
    {
     "name": "stdout",
     "output_type": "stream",
     "text": [
      "123456789\n"
     ]
    }
   ],
   "source": [
    "account=BankAccount(\n",
    "    account_number=\"123456789\",\n",
    "    balance=1000,\n",
    "    password=\"securepassword\"\n",
    ")\n",
    "\n",
    "#public attribute and method\n",
    "print(account.account_number) #accessible"
   ]
  },
  {
   "cell_type": "code",
   "execution_count": 23,
   "id": "3b0ee6ed",
   "metadata": {},
   "outputs": [
    {
     "name": "stdout",
     "output_type": "stream",
     "text": [
      "1000\n"
     ]
    }
   ],
   "source": [
    "print(\n",
    "    account.get_balance(\n",
    "        password=\"securepassword\"\n",
    "    )\n",
    ")"
   ]
  },
  {
   "cell_type": "code",
   "execution_count": 24,
   "id": "7a245db0",
   "metadata": {},
   "outputs": [
    {
     "name": "stdout",
     "output_type": "stream",
     "text": [
      "1500\n"
     ]
    }
   ],
   "source": [
    "account.deposit(500)\n",
    "print(\n",
    "    account.get_balance(\n",
    "        password=\"securepassword\"\n",
    "    )\n",
    ")"
   ]
  },
  {
   "cell_type": "code",
   "execution_count": 25,
   "id": "1e18a37b",
   "metadata": {},
   "outputs": [
    {
     "name": "stdout",
     "output_type": "stream",
     "text": [
      "invalid Password\n"
     ]
    }
   ],
   "source": [
    "print(\n",
    "    account.withdraw(\n",
    "        amount=300,\n",
    "        password=\"wrongpassword\"\n",
    "    )\n",
    ")"
   ]
  },
  {
   "cell_type": "code",
   "execution_count": 26,
   "id": "e376e9e4",
   "metadata": {},
   "outputs": [
    {
     "name": "stdout",
     "output_type": "stream",
     "text": [
      "Password changed successfully\n"
     ]
    }
   ],
   "source": [
    "print(\n",
    "    account.change_password(\n",
    "        old_password=\"securepassword\",\n",
    "        new_password=\"newsecurepassword\"\n",
    "    )\n",
    ")"
   ]
  },
  {
   "cell_type": "code",
   "execution_count": 27,
   "id": "88de302e",
   "metadata": {},
   "outputs": [
    {
     "name": "stdout",
     "output_type": "stream",
     "text": [
      "1500\n"
     ]
    }
   ],
   "source": [
    "print(\n",
    "    account.get_balance(\n",
    "        password=\"newsecurepassword\"\n",
    "    )\n",
    ")"
   ]
  },
  {
   "cell_type": "code",
   "execution_count": 28,
   "id": "299e17ca",
   "metadata": {},
   "outputs": [],
   "source": [
    "savings=SavingAccount(\n",
    "    account_number=\"987654321\",\n",
    "    balance=2000,\n",
    "    password=\"savingspassword\", \n",
    "    interest_rate=5\n",
    ")"
   ]
  },
  {
   "cell_type": "code",
   "execution_count": 29,
   "id": "98a9b280",
   "metadata": {},
   "outputs": [
    {
     "name": "stdout",
     "output_type": "stream",
     "text": [
      "initial balance=2000\n"
     ]
    }
   ],
   "source": [
    "balance=savings.get_balance(\n",
    "    password=\"savingspassword\"\n",
    ")\n",
    "\n",
    "print(f\"initial balance={balance}\")"
   ]
  },
  {
   "cell_type": "code",
   "execution_count": 30,
   "id": "a8143e2d",
   "metadata": {},
   "outputs": [
    {
     "ename": "NameError",
     "evalue": "name 'saving' is not defined",
     "output_type": "error",
     "traceback": [
      "\u001b[1;31m---------------------------------------------------------------------------\u001b[0m",
      "\u001b[1;31mNameError\u001b[0m                                 Traceback (most recent call last)",
      "Cell \u001b[1;32mIn[30], line 1\u001b[0m\n\u001b[1;32m----> 1\u001b[0m \u001b[43msaving\u001b[49m\u001b[38;5;241m.\u001b[39mapply_interest()\n\u001b[0;32m      2\u001b[0m \u001b[38;5;28mprint\u001b[39m(\u001b[38;5;124mf\u001b[39m\u001b[38;5;124m\"\u001b[39m\u001b[38;5;124mbalance after applying the interest: \u001b[39m\u001b[38;5;132;01m{\u001b[39;00msavings\u001b[38;5;241m.\u001b[39mget_balance(password\u001b[38;5;241m=\u001b[39m\u001b[38;5;124m'\u001b[39m\u001b[38;5;124msecurepassword\u001b[39m\u001b[38;5;124m'\u001b[39m)\u001b[38;5;132;01m}\u001b[39;00m\u001b[38;5;124m\"\u001b[39m)\n",
      "\u001b[1;31mNameError\u001b[0m: name 'saving' is not defined"
     ]
    }
   ],
   "source": [
    "saving.apply_interest()\n",
    "print(f\"balance after applying the interest: {savings.get_balance(password='securepassword')}\")"
   ]
  },
  {
   "cell_type": "code",
   "execution_count": null,
   "id": "c7e88e39",
   "metadata": {},
   "outputs": [
    {
     "name": "stdout",
     "output_type": "stream",
     "text": [
      "2200\n",
      "987654321\n",
      "123456789\n",
      "Balance after deposit (within class): 2700\n"
     ]
    }
   ],
   "source": [
    "#public attribute can be accessed from everywhere \n",
    "print(account.deposit(500))\n",
    "print(savings.account_number) #account number accessed by subclass \n",
    "print(account.account_number) #from outside directly \n",
    "print(f\"Balance after deposit (within class): {account.deposit(500)}\")"
   ]
  },
  {
   "cell_type": "code",
   "execution_count": null,
   "id": "58672dd2",
   "metadata": {},
   "outputs": [
    {
     "name": "stdout",
     "output_type": "stream",
     "text": [
      "2500\n",
      "2500\n"
     ]
    }
   ],
   "source": [
    "print(account._balance) # should not be accessesed directly \n",
    "print(account.get_balance(password=\"newsecurepassword\"))"
   ]
  },
  {
   "cell_type": "code",
   "execution_count": null,
   "id": "0018f3bb",
   "metadata": {},
   "outputs": [
    {
     "ename": "AttributeError",
     "evalue": "'BankAccount' object has no attribute '__password'",
     "output_type": "error",
     "traceback": [
      "\u001b[1;31m---------------------------------------------------------------------------\u001b[0m",
      "\u001b[1;31mAttributeError\u001b[0m                            Traceback (most recent call last)",
      "Cell \u001b[1;32mIn[104], line 1\u001b[0m\n\u001b[1;32m----> 1\u001b[0m \u001b[38;5;28mprint\u001b[39m(\u001b[43maccount\u001b[49m\u001b[38;5;241;43m.\u001b[39;49m\u001b[43m__password\u001b[49m)\n",
      "\u001b[1;31mAttributeError\u001b[0m: 'BankAccount' object has no attribute '__password'"
     ]
    }
   ],
   "source": [
    "print(account.__password) # will give error\n"
   ]
  },
  {
   "cell_type": "code",
   "execution_count": null,
   "id": "8cc11b66",
   "metadata": {},
   "outputs": [
    {
     "name": "stdout",
     "output_type": "stream",
     "text": [
      "987654321\n"
     ]
    }
   ],
   "source": [
    "print(savings.account_number)\n"
   ]
  },
  {
   "cell_type": "code",
   "execution_count": null,
   "id": "c3024d2c",
   "metadata": {},
   "outputs": [],
   "source": [
    "class BankAccount:\n",
    "    def __init__(self, account_number, balance, password):\n",
    "        self.account_number = account_number  # Public attribute\n",
    "        self._balance = balance  # Protected attribute\n",
    "        self.__password = password  # Private attribute\n",
    "\n",
    "    def deposit(self, amount):\n",
    "        if amount > 0:\n",
    "            self._balance += amount\n",
    "        return self._balance\n",
    "\n",
    "    def withdraw(self, amount, password):\n",
    "        if password == self.__password:\n",
    "            if amount > 0 and amount <= self._balance:\n",
    "                self._balance -= amount\n",
    "                return self._balance\n",
    "            else:\n",
    "                return \"Insufficient funds\"\n",
    "        else:\n",
    "            return \"Invalid password\"\n",
    "\n",
    "    def get_balance(self, password):\n",
    "        if password == self.__password:\n",
    "            return self._balance\n",
    "        else:\n",
    "            return \"Invalid password\"\n",
    "\n",
    "    def change_password(self, old_password, new_password):\n",
    "        if old_password == self.__password:\n",
    "            self.__password = new_password\n",
    "            return \"Password changed successfully\"\n",
    "        else:\n",
    "            return \"Invalid old password\"\n"
   ]
  },
  {
   "cell_type": "code",
   "execution_count": null,
   "id": "0999ed90",
   "metadata": {},
   "outputs": [],
   "source": [
    "class SavingsAccount(BankAccount):\n",
    "    def __init__(self, account_number, balance, password, interest_rate):\n",
    "        super().__init__(account_number, balance, password)\n",
    "        self.interest_rate = interest_rate  # Public attribute\n",
    "\n",
    "    def apply_interest(self):\n",
    "        interest = self._balance * self.interest_rate / 100\n",
    "        self._balance += interest\n",
    "        return self._balance\n"
   ]
  },
  {
   "cell_type": "code",
   "execution_count": null,
   "id": "a24d0469",
   "metadata": {},
   "outputs": [
    {
     "name": "stdout",
     "output_type": "stream",
     "text": [
      "Account Number (outside class): 123456789\n",
      "Account Number (SavingsAccount outside class): 987654321\n",
      "Interest Rate (SavingsAccount outside class): 5\n",
      "Balance after deposit (within class): 1500\n",
      "Balance after withdrawal (within class): 1200\n",
      "Balance with interest applied (within class): 2100.0\n",
      "Account Number (within subclass method): 987654321\n",
      "Interest Rate (within subclass method): 5\n"
     ]
    }
   ],
   "source": [
    "# Create a BankAccount object\n",
    "account = BankAccount(account_number=\"123456789\", balance=1000, password=\"securepassword\")\n",
    "\n",
    "# Accessing public attribute from outside the class\n",
    "print(f\"Account Number (outside class): {account.account_number}\")\n",
    "\n",
    "# Create a SavingsAccount object\n",
    "savings = SavingsAccount(account_number=\"987654321\", balance=2000, password=\"savingspassword\", interest_rate=5)\n",
    "\n",
    "# Accessing public attribute from outside the class\n",
    "print(f\"Account Number (SavingsAccount outside class): {savings.account_number}\")\n",
    "print(f\"Interest Rate (SavingsAccount outside class): {savings.interest_rate}\")\n",
    "\n",
    "# Accessing public attributes from within the class methods\n",
    "print(f\"Balance after deposit (within class): {account.deposit(500)}\")\n",
    "print(f\"Balance after withdrawal (within class): {account.withdraw(300, 'securepassword')}\")\n",
    "print(f\"Balance with interest applied (within class): {savings.apply_interest()}\")\n",
    "\n",
    "# Accessing public attribute from within a method in the subclass\n",
    "print(f\"Account Number (within subclass method): {savings.account_number}\")\n",
    "print(f\"Interest Rate (within subclass method): {savings.interest_rate}\")\n"
   ]
  },
  {
   "cell_type": "code",
   "execution_count": null,
   "id": "c32029e3",
   "metadata": {},
   "outputs": [],
   "source": [
    "class Employee:\n",
    "    def __init__(self, name, salary, ssn):\n",
    "        self.name=name #public attribute \n",
    "        self._salary=salary #protected attribute\n",
    "        self.__ssn=ssn #private attribute \n",
    "\n",
    "    def display_name(self):\n",
    "        return f\"Employee Name:{self.name}\"\n",
    "    \n",
    "    def _display_salary(self):\n",
    "        return f\"Employee Salary:{self._salary}\"\n",
    "    \n",
    "    def display_ssn(self):\n",
    "        return f\"Employee SSN:{self.__ssn}\"\n",
    "    \n",
    "    def __get_ssn(self):\n",
    "        return self.__ssn "
   ]
  },
  {
   "cell_type": "code",
   "execution_count": null,
   "id": "75241d58",
   "metadata": {},
   "outputs": [],
   "source": [
    "class Manager(Employee):\n",
    "    def __init__(self, name, salary, ssn, department):\n",
    "        super().__init__(name, salary, ssn)\n",
    "        self.department = department\n",
    "    \n",
    "    def display_department(self):\n",
    "        return f\"Manager department:{self.department}\"\n",
    "    \n",
    "\n"
   ]
  },
  {
   "cell_type": "code",
   "execution_count": null,
   "id": "3dba2ad3",
   "metadata": {},
   "outputs": [],
   "source": [
    "employee=Employee(\n",
    "    name=\"John Doe\",\n",
    "    salary=5000, \n",
    "    ssn=\"123-45-6789\"\n",
    ")\n",
    "\n",
    "manager=Manager(\n",
    "    name=\"John Doe\",\n",
    "    salary=5000, \n",
    "    ssn=\"123-45-6789\",\n",
    "    department=\"HR\"\n",
    ")"
   ]
  },
  {
   "cell_type": "code",
   "execution_count": null,
   "id": "08f6bf78",
   "metadata": {},
   "outputs": [
    {
     "name": "stdout",
     "output_type": "stream",
     "text": [
      "John Doe\n",
      "Employee Name:John Doe\n",
      "Employee Name:John Doe\n"
     ]
    }
   ],
   "source": [
    "#1. public attribute and method (accessible from anywhere)\n",
    "print(employee.name)\n",
    "print(employee.display_name())\n",
    "print(manager.display_name())"
   ]
  },
  {
   "cell_type": "code",
   "execution_count": null,
   "id": "c9f45006",
   "metadata": {},
   "outputs": [
    {
     "name": "stdout",
     "output_type": "stream",
     "text": [
      "5000\n",
      "Employee Salary:5000\n",
      "Employee Salary:5000\n"
     ]
    }
   ],
   "source": [
    "print(employee._salary)\n",
    "print(employee._display_salary())\n",
    "print(manager._display_salary())"
   ]
  },
  {
   "cell_type": "code",
   "execution_count": null,
   "id": "35007d89",
   "metadata": {},
   "outputs": [
    {
     "name": "stdout",
     "output_type": "stream",
     "text": [
      "Error'Employee' object has no attribute '__ssn'\n",
      "Employee SSN:123-45-6789\n",
      "Employee SSN:123-45-6789\n",
      "Error:'Manager' object has no attribute '__get_ssn'\n"
     ]
    }
   ],
   "source": [
    "try:\n",
    "    print(employee.__ssn) # will give error\n",
    "except AttributeError as e:\n",
    "    print(f\"Error{e}\")\n",
    "\n",
    "print(employee.display_ssn())\n",
    "\n",
    "try:\n",
    "    print(manager.display_ssn()) # will not give error although the attribute is getting accessed out of the class in subclass sincce the display_ssn() is the public method and is inherited by manager class\n",
    "except AttributeError as e:\n",
    "    print(f\"Error{e}\")\n",
    "\n",
    "try:\n",
    "    print(manager.__get_ssn())\n",
    "except AttributeError as e:\n",
    "    print( f\"Error:{e}\")\n"
   ]
  },
  {
   "cell_type": "markdown",
   "id": "ab547065",
   "metadata": {},
   "source": [
    "# Library system "
   ]
  },
  {
   "cell_type": "code",
   "execution_count": null,
   "id": "538a49a6",
   "metadata": {},
   "outputs": [],
   "source": [
    "class Library:\n",
    "    def __init__(self, name):\n",
    "        self.name=name\n",
    "        self._book=[]\n",
    "        self.__patrons=[]\n",
    "\n",
    "    #public method to add a protected attribute\n",
    "    def add_book(self, book):\n",
    "        self._book.append(book)\n",
    "        print(f\"Book '{book}' added to the library '{self.name}'.\")\n",
    "    \n",
    "    #protected method to add a private attribute\n",
    "    def _register_patron(self, patron):\n",
    "        self.__patrons.append(patron)\n",
    "        print(f\"Patron '{patron}' ragistered to the library '{self.name}'.\")\n",
    "    \n",
    "    #private method to list private attribute (patrons)\n",
    "    def __list_patrons(self):\n",
    "        return self.__patrons\n",
    "    \n",
    "    def show_patrons(self):\n",
    "        patrons=self.__list_patrons()\n",
    "        print(f\"List of patrons in {self.name}':{patrons}\")\n",
    "    \n",
    "    #Public method to access private method\n",
    "    def display_info(self):\n",
    "        return f\"library name:{self.name}\"\n",
    "    "
   ]
  },
  {
   "cell_type": "code",
   "execution_count": null,
   "id": "9d4b6b86",
   "metadata": {},
   "outputs": [],
   "source": [
    "class CityLibrary(Library):\n",
    "    def __init__(self, name, city):\n",
    "        super().__init__(name)\n",
    "        self.city=city #public attribute\n",
    "    \n",
    "    #public method to add a new book\n",
    "    def add_new_book(self,book):\n",
    "        self.add_book(book) #accessing public method of base class \n",
    "    \n",
    "    #method to ragister patron using protected method of base class \n",
    "    def register_new_patron(self, patron):\n",
    "        self._register_patron(patron) #accessing protected method of base class \n",
    "    \n",
    "    #method to show patrons using public method of base class \n",
    "    def display_patrons(self):\n",
    "        self.show_patrons() # accessing publi method of base class \n",
    "\n",
    "    #public method of subclass to display cicty library info\n",
    "    def display_city_info(self):\n",
    "        return f\"Library Name:{self.name}, City:{self.city}\""
   ]
  },
  {
   "cell_type": "code",
   "execution_count": null,
   "id": "18cbcbe5",
   "metadata": {},
   "outputs": [],
   "source": [
    "class UniversityLibrary(Library):\n",
    "    def __init__(self, name, university):\n",
    "        super().__init__(name)\n",
    "        self.university=university #public attribute\n",
    "    \n",
    "    #public method to add a new book\n",
    "    def add_research_book(self, book):\n",
    "        self.add_book(book) #access public method of base class \n",
    "    \n",
    "    #Method to ragister student using protected method of base class\n",
    "    def register_student(self, student):\n",
    "        self._register_patron(student) #accessing protected method of base class \n",
    "    \n",
    "    #publci method to display university library info\n",
    "    def display_university_info(self):\n",
    "        return f\"Libary Name:{self.name}, university:{self.university}\""
   ]
  },
  {
   "cell_type": "code",
   "execution_count": null,
   "id": "2d192590",
   "metadata": {},
   "outputs": [],
   "source": [
    "class Librarian:\n",
    "    def __init__(self, name, library):\n",
    "        self.name=name #public attribute\n",
    "        self._library=library #protected attribute\n",
    "        self.__password=\"libraian123\" # private attribute\n",
    "    \n",
    "    #public method to display librarina info\n",
    "    def display_librarian_info(self):\n",
    "        return f\"Librarian Name:{self.name}, Library:{self._library.name}\"\n",
    "    \n",
    "    #protected method to get libary details\n",
    "    def _get_library_details(self):\n",
    "        return self._library.display_info()\n",
    "    \n",
    "    #private method to check password\n",
    "    def __check_password(self, password):\n",
    "        return self.__password==password\n",
    "    \n",
    "    #public method to verify librarian access\n",
    "    def verify_access(self, password):\n",
    "        if self.__check_password(password):\n",
    "            return \"Access Granted.\"\n",
    "        else:\n",
    "            return \"Access denied\"\n"
   ]
  },
  {
   "cell_type": "code",
   "execution_count": null,
   "id": "8a7c75bb",
   "metadata": {},
   "outputs": [],
   "source": [
    "#create a Library object\n",
    "central_library=Library(\n",
    "    name=\"central Library\"\n",
    ")\n",
    "\n",
    "#create a CityLibrary object\n",
    "city_library=CityLibrary(\n",
    "    name=\"City Library\",\n",
    "    city=\"New York\"\n",
    ")\n",
    "\n",
    "#create a UniversityLibrary object\n",
    "university_library=UniversityLibrary(\n",
    "    name=\"University Library\",\n",
    "    university=\"MIT\"\n",
    ")\n",
    "\n",
    "#create a Librarian object\n",
    "librarian=Librarian(\n",
    "    name=\"Alice\",\n",
    "    library=city_library\n",
    ")\n",
    "\n"
   ]
  },
  {
   "cell_type": "code",
   "execution_count": null,
   "id": "d917a8de",
   "metadata": {},
   "outputs": [
    {
     "name": "stdout",
     "output_type": "stream",
     "text": [
      "Book 'The Great Gatsby' added to the library 'central Library'.\n",
      "Book '1984' added to the library 'City Library'.\n",
      "Book 'Quantum Physics' added to the library 'University Library'.\n",
      "Patron 'Alice' ragistered to the library 'central Library'.\n",
      "Patron 'Bob' ragistered to the library 'City Library'.\n",
      "Patron 'Charlie' ragistered to the library 'University Library'.\n",
      "Error: 'Library' object has no attribute '__list_patron'\n",
      "List of patrons in central Library':['Alice', 'Alice', 'Alice']\n",
      "List of patrons in City Library':['Bob', 'Bob', 'Bob']\n",
      "Error:'UniversityLibrary' object has no attribute '__list_patrons'\n",
      "Librarian Name:Alice, Library:City Library\n",
      "Access denied\n",
      "Access denied\n",
      "library name:City Library\n"
     ]
    }
   ],
   "source": [
    "#public method:adding books\n",
    "central_library.add_book(\"The Great Gatsby\")\n",
    "city_library.add_new_book(\"1984\")\n",
    "university_library.add_research_book(\"Quantum Physics\")\n",
    "\n",
    "#protected method:registering patrons(accessible within class and subclass)\n",
    "central_library._register_patron(\"Alice\") #not recommended to access directly\n",
    "city_library.register_new_patron(\"Bob\") #accessed  the protected method through public method\n",
    "university_library.register_student(\"Charlie\") #accessed the protected method through public method\n",
    "\n",
    "#private method: Listing patrons(not accesssible directly from subclass, will cause error)\n",
    "try:\n",
    "    print(central_library.__list_patron()) #will give error\n",
    "except AttributeError as e:\n",
    "    print(f\"Error: {e}\") #Output:Error: 'library' objejct has no attribute '__list_patrons'\n",
    "\n",
    "# trying to access private indirectly through public method\n",
    "central_library.show_patrons()\n",
    "city_library.display_patrons()\n",
    "\n",
    "# trying to access private method from subclass (will give error)\n",
    "try:\n",
    "    print(university_library.__list_patrons()) #will give error\n",
    "except AttributeError as e:\n",
    "    print(f\"Error:{e}\") #output:error: \"UniversityLibrary\" object has no atrribute '_list_patron'\n",
    "\n",
    "# Accessing public methods of Librarinan class \n",
    "print(librarian.display_librarian_info())\n",
    "print(librarian.verify_access(\"wrongpassword\")) #output:Access denied\n",
    "print(librarian.verify_access(\"librarian123\")) #output:Access granted.\n",
    "\n",
    "#accessing protected method of Librarian class within the class itself\n",
    "print(librarian._get_library_details())"
   ]
  },
  {
   "cell_type": "markdown",
   "id": "acb21fc3",
   "metadata": {},
   "source": [
    "## company and department example"
   ]
  },
  {
   "cell_type": "code",
   "execution_count": null,
   "id": "b977ed57",
   "metadata": {},
   "outputs": [],
   "source": [
    "class Company:\n",
    "    def __init__(self, name, revenue, tax_id):\n",
    "        self.name=name #public attribute\n",
    "        self._revenue=revenue #protected attribute \n",
    "        self.__tax_id=tax_id #private attribute \n",
    "\n",
    "    #public method to access the public attribute\n",
    "    def display_name(self):\n",
    "        return f\"company Name:{self.name}\"\n",
    "\n",
    "    #protected method to display the protected attribute \n",
    "    def _display_revenue(self):\n",
    "        return f\"revenue: ${self._revenue}\"\n",
    "\n",
    "    #public methodo too access protected method to access protected attribute\n",
    "    def get_revenue(self):\n",
    "        return self._display_revenue()\n",
    "\n",
    "    #private method to display the tax ID\n",
    "    def __display_tax_id(self):\n",
    "        return f\"Tax ID:{self.__tax_id}\"\n",
    "\n",
    "    #public method to access private tax ID method\n",
    "    def get_tax_id(self):\n",
    "        return self.__display_tax_id()"
   ]
  },
  {
   "cell_type": "code",
   "execution_count": null,
   "id": "7be83699",
   "metadata": {},
   "outputs": [],
   "source": [
    "class Department (Company):\n",
    "    def __init__(self, name, revenue, tax_id, department_name):\n",
    "        super().__init__(name, revenue, tax_id)\n",
    "        self.department_name=department_name #public attribute\n",
    "    \n",
    "    #pubic method to display department name\n",
    "    def display_department_name(self):\n",
    "        return f\"Department Name:{self.department_name}\"\n",
    "    \n",
    "    #method to access protected revenue attribute\n",
    "    def access_revenue(self):\n",
    "        return self._revenue\n",
    "    \n",
    "    #method to access private tax id attribute (indirectly via public method in base class)\n",
    "    def access_tax_id(self):\n",
    "        return self.get_tax_id()\n",
    "\n",
    "\n"
   ]
  },
  {
   "cell_type": "code",
   "execution_count": null,
   "id": "0efb32e9",
   "metadata": {},
   "outputs": [],
   "source": [
    "#create a ccompany object \n",
    "company = Company(\n",
    "    name=\"TechCorp\", \n",
    "    revenue=500,\n",
    "    tax_id=\"123-45-6789\"\n",
    ")\n",
    "\n",
    "department=Department(\n",
    "    name=\"TechCorp\", \n",
    "    revenue=500, \n",
    "    tax_id=\"123-45-6789\", \n",
    "    department_name=\"R&D\"\n",
    ")"
   ]
  },
  {
   "cell_type": "code",
   "execution_count": null,
   "id": "0a9674d5",
   "metadata": {},
   "outputs": [
    {
     "name": "stdout",
     "output_type": "stream",
     "text": [
      "TechCorp\n",
      "company Name:TechCorp\n",
      "company Name:TechCorp\n"
     ]
    }
   ],
   "source": [
    "print(company.name) #directly from base class\n",
    "print(company.display_name()) #indirectly from subclass public method-public attribute \n",
    "print(department.display_name())"
   ]
  },
  {
   "cell_type": "code",
   "execution_count": null,
   "id": "bebb5905",
   "metadata": {},
   "outputs": [
    {
     "name": "stdout",
     "output_type": "stream",
     "text": [
      "R&D\n",
      "Department Name:R&D\n"
     ]
    }
   ],
   "source": [
    "print(department.department_name)\n",
    "print(department.display_department_name())"
   ]
  },
  {
   "cell_type": "code",
   "execution_count": null,
   "id": "aad51263",
   "metadata": {},
   "outputs": [
    {
     "name": "stdout",
     "output_type": "stream",
     "text": [
      "500\n",
      "revenue: $500\n",
      "revenue: $500\n",
      "500\n",
      "500\n"
     ]
    }
   ],
   "source": [
    "print(company._revenue)# not recommended way to access  the protected attribute directly\n",
    "print(company._display_revenue()) #not recomended to access the protected method directly \n",
    "print(company.get_revenue()) # recomended to access protected method-attribute through public method\n",
    "print(department._revenue)# not recomended way to access the protected attribute directly \n",
    "print(department.access_revenue())# accessing the protected attribute indrectly through public method in the subclass"
   ]
  },
  {
   "cell_type": "code",
   "execution_count": null,
   "id": "21a96cfb",
   "metadata": {},
   "outputs": [
    {
     "name": "stdout",
     "output_type": "stream",
     "text": [
      "Tax ID:123-45-6789\n",
      "Tax ID:123-45-6789\n"
     ]
    }
   ],
   "source": [
    "#print(company.__tax_id) #directly access denied to private attribute\n",
    "#print(company.__display_tax_id()) #directly access to private method-attribute denied \n",
    "print(company.get_tax_id()) # will only work when the private attribute or method is accessed through the public method\n",
    "\n",
    "# print(department.__tax_id) #wont work direct access denied in subclass as well \n",
    "#print(department.__display_tax_id()) #wont work to directly access the private method in the subclass \n",
    "print(department.get_tax_id())\n"
   ]
  },
  {
   "cell_type": "markdown",
   "id": "abf41df0",
   "metadata": {},
   "source": [
    "# operations \n",
    "1. access \n",
    "2. modify\n",
    "3. delete\n",
    "4. inherit\n",
    "5. method overrid\n",
    "6. metho overloading \n",
    "7. attribute shadowing \n",
    "\n"
   ]
  },
  {
   "cell_type": "markdown",
   "id": "8954c5b4",
   "metadata": {},
   "source": [
    "# Modify"
   ]
  },
  {
   "cell_type": "code",
   "execution_count": null,
   "id": "f02ee17c",
   "metadata": {},
   "outputs": [],
   "source": [
    "class Person:\n",
    "    def __init__(self, name, age, email):\n",
    "        self.name=name\n",
    "        self._age=age\n",
    "        self.__email=email\n",
    "    \n",
    "    def update_name(self, new_name):\n",
    "        self.name=new_name\n",
    "        return f\"Name updated to:{self.name}\"\n",
    "    \n",
    "    def update_age(self, new_age):\n",
    "        self._age=new_age\n",
    "        return f\"age updated to :{self._age}\"\n",
    "    \n",
    "    def update_email(self, new_email):\n",
    "        self.__email=new_email\n",
    "        return f\"Email updated to:{self.__email}\"\n",
    "\n",
    "#create a person object\n",
    "person=Person(\n",
    "    name=\"Alice\", \n",
    "    age=30, \n",
    "    email=\"alice@example.com\"\n",
    ")"
   ]
  },
  {
   "cell_type": "code",
   "execution_count": null,
   "id": "7dd989a4",
   "metadata": {},
   "outputs": [
    {
     "name": "stdout",
     "output_type": "stream",
     "text": [
      "Name updated to:Alice Smith\n",
      "age updated to :31\n",
      "Email updated to:alice.smith@example.com\n"
     ]
    }
   ],
   "source": [
    "\n",
    "print(person.update_name(\"Alice Smith\"))\n",
    "print(person.update_age(31))\n",
    "print(person.update_email(\"alice.smith@example.com\"))"
   ]
  },
  {
   "cell_type": "code",
   "execution_count": null,
   "id": "c59e3258",
   "metadata": {},
   "outputs": [],
   "source": [
    "#university example\n",
    "class University:\n",
    "    def __init__(self, name, location, budget):\n",
    "        self.name=name\n",
    "        self._location=location\n",
    "        self.__budget=budget\n",
    "    \n",
    "    #public method to modify the public attribute\n",
    "    def set_name(self, new_name):\n",
    "        self.name=new_name\n",
    "  \n",
    "    \n",
    "    #protected method to modify the protected attribute\n",
    "    def _set_location(self, new_location):\n",
    "        self._location=new_location\n",
    "\n",
    "    #private method to modify the private attribute \n",
    "    def __set_budget(self, new_budget):\n",
    "        self.__budget=new_budget\n",
    "    \n",
    "    #public method to access the private budget modification method\n",
    "    def set_budget(self, new_budget):\n",
    "        self.__budget=new_budget\n",
    "    \n",
    "    #method to display the crruent state (for verification)\n",
    "    def display_info(self):\n",
    "        return f\"Name:{self.name}, Location:{self._location}, Budget:${self.__budget}\"\n",
    "\n"
   ]
  },
  {
   "cell_type": "code",
   "execution_count": null,
   "id": "83dcab9a",
   "metadata": {},
   "outputs": [],
   "source": [
    "class Department(University):\n",
    "    def __init__(self, name, location, budget, dept_name):\n",
    "        super().__init__(name, location, budget)\n",
    "        self.dept_name=dept_name #public attribute\n",
    "    \n",
    "    #public method to modify the department name\n",
    "    def set_dept_name(self, new_dept_name):\n",
    "        self.dept_name=new_dept_name\n",
    "    \n",
    "    #public method to modify protected location attribute using protected method of base class \n",
    "    def change_location(self, new_location):\n",
    "        self._set_location(new_location)\n",
    "    \n",
    "    #public method to modify the private attribute using the private method of the base class \n",
    "    def change_budget(self, new_budget):\n",
    "        self.set_budget(new_budget)\n",
    "    \n",
    "    #method to display_department_info(self):\n",
    "    def display_department_info(self):\n",
    "        return f\"University info:{self.display_info()}, Department:{self.dept_name}\"\n",
    "    \n"
   ]
  },
  {
   "cell_type": "code",
   "execution_count": null,
   "id": "e9c8a926",
   "metadata": {},
   "outputs": [],
   "source": [
    "university=University(\n",
    "    name=\"Tech University\",\n",
    "    location=\"New York\",\n",
    "    budget=500000\n",
    ")\n",
    "\n",
    "department=Department(\n",
    "    name=\"Tech University\",\n",
    "    location=\"New York\", \n",
    "    budget=500000, \n",
    "    dept_name=\"Computer Science\"\n",
    ")"
   ]
  },
  {
   "cell_type": "code",
   "execution_count": null,
   "id": "2a4d4199",
   "metadata": {},
   "outputs": [
    {
     "name": "stdout",
     "output_type": "stream",
     "text": [
      "Initial University Name:Tech University\n"
     ]
    }
   ],
   "source": [
    "#directly accessing the public attribute\n",
    "print(f\"Initial University Name:{university.name}\")"
   ]
  },
  {
   "cell_type": "code",
   "execution_count": null,
   "id": "c7a8ed33",
   "metadata": {},
   "outputs": [
    {
     "name": "stdout",
     "output_type": "stream",
     "text": [
      "updated univeristy name\n"
     ]
    }
   ],
   "source": [
    "# directly updating the public attribute \n",
    "university.name=\"Tech University International\"\n",
    "\n",
    "#directly accessing the public attribute\n",
    "print(f\"updated univeristy name\")"
   ]
  },
  {
   "cell_type": "code",
   "execution_count": null,
   "id": "7b4b0c62",
   "metadata": {},
   "outputs": [
    {
     "name": "stdout",
     "output_type": "stream",
     "text": [
      "Initial Location:University info:Name:Tech University, Location:New York, Budget:$500000, Department:Computer Science\n"
     ]
    }
   ],
   "source": [
    "#accessing the protected attribute indirectly\n",
    "print(f\"Initial Location:{department.display_department_info()}\")\n"
   ]
  },
  {
   "cell_type": "code",
   "execution_count": 31,
   "id": "73270e7f",
   "metadata": {},
   "outputs": [
    {
     "ename": "NameError",
     "evalue": "name 'department' is not defined",
     "output_type": "error",
     "traceback": [
      "\u001b[1;31m---------------------------------------------------------------------------\u001b[0m",
      "\u001b[1;31mNameError\u001b[0m                                 Traceback (most recent call last)",
      "Cell \u001b[1;32mIn[31], line 2\u001b[0m\n\u001b[0;32m      1\u001b[0m \u001b[38;5;66;03m# modifying the protected attribute with public method\u001b[39;00m\n\u001b[1;32m----> 2\u001b[0m \u001b[43mdepartment\u001b[49m\u001b[38;5;241m.\u001b[39mchange_location(\u001b[38;5;124m\"\u001b[39m\u001b[38;5;124mSan Francisco\u001b[39m\u001b[38;5;124m\"\u001b[39m)\n\u001b[0;32m      4\u001b[0m \u001b[38;5;66;03m#accessing protected attribute and private attribute indirectly through the publi method \u001b[39;00m\n\u001b[0;32m      5\u001b[0m \u001b[38;5;28mprint\u001b[39m(\u001b[38;5;124mf\u001b[39m\u001b[38;5;124m\"\u001b[39m\u001b[38;5;124mUpdataed Department:\u001b[39m\u001b[38;5;132;01m{\u001b[39;00mdepartment\u001b[38;5;241m.\u001b[39mdisplay_department_info()\u001b[38;5;132;01m}\u001b[39;00m\u001b[38;5;124m\"\u001b[39m)\n",
      "\u001b[1;31mNameError\u001b[0m: name 'department' is not defined"
     ]
    }
   ],
   "source": [
    "\n",
    "# modifying the protected attribute with public method\n",
    "department.change_location(\"San Francisco\")\n",
    "\n",
    "#accessing protected attribute and private attribute indirectly through the publi method \n",
    "print(f\"Updataed Department:{department.display_department_info()}\")"
   ]
  },
  {
   "cell_type": "code",
   "execution_count": 32,
   "id": "b43a382e",
   "metadata": {},
   "outputs": [
    {
     "ename": "NameError",
     "evalue": "name 'department' is not defined",
     "output_type": "error",
     "traceback": [
      "\u001b[1;31m---------------------------------------------------------------------------\u001b[0m",
      "\u001b[1;31mNameError\u001b[0m                                 Traceback (most recent call last)",
      "Cell \u001b[1;32mIn[32], line 1\u001b[0m\n\u001b[1;32m----> 1\u001b[0m \u001b[38;5;28mprint\u001b[39m(\u001b[38;5;124mf\u001b[39m\u001b[38;5;124m\"\u001b[39m\u001b[38;5;124minitial Budget Info:\u001b[39m\u001b[38;5;132;01m{\u001b[39;00m\u001b[43mdepartment\u001b[49m\u001b[38;5;241m.\u001b[39mdisplay_department_info()\u001b[38;5;132;01m}\u001b[39;00m\u001b[38;5;124m\"\u001b[39m)\n",
      "\u001b[1;31mNameError\u001b[0m: name 'department' is not defined"
     ]
    }
   ],
   "source": [
    "print(f\"initial Budget Info:{department.display_department_info()}\")"
   ]
  },
  {
   "cell_type": "code",
   "execution_count": null,
   "id": "21989ffd",
   "metadata": {},
   "outputs": [
    {
     "name": "stdout",
     "output_type": "stream",
     "text": [
      "Updated budget info:University info:Name:Tech University, Location:San Francisco, Budget:$750000, Department:Computer Science\n"
     ]
    }
   ],
   "source": [
    "# accesssing and modifying the private attribute indirectly through the public method\n",
    "department.change_budget(750000)\n",
    "print(f\"Updated budget info:{department.display_department_info()}\")"
   ]
  },
  {
   "cell_type": "code",
   "execution_count": null,
   "id": "eb7d9d19",
   "metadata": {},
   "outputs": [
    {
     "name": "stdout",
     "output_type": "stream",
     "text": [
      "University info: Name: Tech University, Location: new locaion, Budget: $1000000, Department: Computer Science\n"
     ]
    }
   ],
   "source": [
    "#demonstrate attempt to modify private attribute directly \n",
    "try:\n",
    "    department.__budget=1000000\n",
    "except AttributeError as e:\n",
    "    print(f\"Error:{e}\")\n",
    "\n",
    "try:\n",
    "    department._location=\"new locaion\"\n",
    "except AttributeError as e:\n",
    "    print(f\"Error:{e}\")\n",
    "\n",
    "print(department.display_department_info())"
   ]
  },
  {
   "cell_type": "code",
   "execution_count": null,
   "id": "58a7cc55",
   "metadata": {},
   "outputs": [
    {
     "name": "stdout",
     "output_type": "stream",
     "text": [
      "Name: Tech University, Location: New York, Budget: $500000\n"
     ]
    }
   ],
   "source": [
    "print(university.display_info())"
   ]
  },
  {
   "cell_type": "code",
   "execution_count": 33,
   "id": "b5bf4646",
   "metadata": {},
   "outputs": [
    {
     "ename": "NameError",
     "evalue": "name 'department' is not defined",
     "output_type": "error",
     "traceback": [
      "\u001b[1;31m---------------------------------------------------------------------------\u001b[0m",
      "\u001b[1;31mNameError\u001b[0m                                 Traceback (most recent call last)",
      "Cell \u001b[1;32mIn[33], line 1\u001b[0m\n\u001b[1;32m----> 1\u001b[0m \u001b[43mdepartment\u001b[49m\u001b[38;5;241m.\u001b[39mname\u001b[38;5;241m=\u001b[39m\u001b[38;5;124m\"\u001b[39m\u001b[38;5;124mnew university\u001b[39m\u001b[38;5;124m\"\u001b[39m\n\u001b[0;32m      2\u001b[0m \u001b[38;5;28mprint\u001b[39m(department\u001b[38;5;241m.\u001b[39mdisplay_department_info())\n\u001b[0;32m      3\u001b[0m \u001b[38;5;28mprint\u001b[39m(university\u001b[38;5;241m.\u001b[39mdisplay_info())\n",
      "\u001b[1;31mNameError\u001b[0m: name 'department' is not defined"
     ]
    }
   ],
   "source": [
    "department.name=\"new university\"\n",
    "print(department.display_department_info())\n",
    "print(university.display_info())"
   ]
  },
  {
   "cell_type": "code",
   "execution_count": 34,
   "id": "92915f7a",
   "metadata": {},
   "outputs": [
    {
     "ename": "NameError",
     "evalue": "name 'department' is not defined",
     "output_type": "error",
     "traceback": [
      "\u001b[1;31m---------------------------------------------------------------------------\u001b[0m",
      "\u001b[1;31mNameError\u001b[0m                                 Traceback (most recent call last)",
      "Cell \u001b[1;32mIn[34], line 1\u001b[0m\n\u001b[1;32m----> 1\u001b[0m \u001b[43mdepartment\u001b[49m\u001b[38;5;241m.\u001b[39m__budget\u001b[38;5;241m=\u001b[39m\u001b[38;5;124m\"\u001b[39m\u001b[38;5;124mnew_budget\u001b[39m\u001b[38;5;124m\"\u001b[39m\n\u001b[0;32m      2\u001b[0m \u001b[38;5;28mprint\u001b[39m(department\u001b[38;5;241m.\u001b[39mdisplay_department_info())\n",
      "\u001b[1;31mNameError\u001b[0m: name 'department' is not defined"
     ]
    }
   ],
   "source": [
    "department.__budget=\"new_budget\"\n",
    "print(department.display_department_info())"
   ]
  },
  {
   "cell_type": "code",
   "execution_count": 35,
   "id": "1b6d6451",
   "metadata": {},
   "outputs": [],
   "source": [
    "class Vehicle:\n",
    "    def __init__(self, make, model, mileage, vin):\n",
    "        self.make=make\n",
    "        self.model=model\n",
    "        self._mileage=mileage\n",
    "        self.__vin=vin\n",
    "    \n",
    "    def display_info(self):\n",
    "        print(f\"vehicle make:{self.make}, model:{self.model}, mileage:{self._mileage}\")\n",
    "    \n",
    "    def _update_mileage(self, new_mileage):\n",
    "        self._mileage=new_mileage\n",
    "    \n",
    "    def get_mileage(self):\n",
    "        return f\"the mileage is :{self._mileage}\"\n",
    "\n",
    "    def __update_vin(self, new_vin):\n",
    "        self.__vin=new_vin\n",
    "    \n",
    "    def __get_vin(self):\n",
    "        return f\"the vin is :{self.__vin}\"\n",
    "    "
   ]
  },
  {
   "cell_type": "code",
   "execution_count": 36,
   "id": "1086af18",
   "metadata": {},
   "outputs": [],
   "source": [
    "class Car(Vehicle):\n",
    "    def __init__(self, make, model, mileage, vin, num_doors):\n",
    "        super().__init__(make, model, mileage, vin)\n",
    "        self.num_doors=num_doors\n",
    "    \n",
    "    def update_car_mileage(self,new_mileage):\n",
    "        self._update_mileage(new_mileage)\n",
    "    \n",
    "    def change_car_vin(self, new_vin):\n",
    "        self._Vehicle__update_vin(new_vin)\n",
    "\n",
    "    def get_car_vin(self):\n",
    "        return self._Vehicle__get_vin()\n"
   ]
  },
  {
   "cell_type": "code",
   "execution_count": 37,
   "id": "ffa3486f",
   "metadata": {},
   "outputs": [],
   "source": [
    "car=Car(\n",
    "    make=\"honda\",\n",
    "    model=\"city\",\n",
    "    mileage=\"15 kmpl\",\n",
    "    vin=\"123-45-6789\",\n",
    "    num_doors=4\n",
    ")"
   ]
  },
  {
   "cell_type": "code",
   "execution_count": 38,
   "id": "d52b613f",
   "metadata": {},
   "outputs": [
    {
     "name": "stdout",
     "output_type": "stream",
     "text": [
      "honda\n",
      "city\n",
      "15 kmpl\n",
      "the mileage is :15 kmpl\n",
      "vin:the vin is :123-45-6789\n"
     ]
    }
   ],
   "source": [
    "print(car.make)\n",
    "print(car.model)\n",
    "print(car._mileage) # not recommended direct access for protected attribute\n",
    "print(car.get_mileage()) # recommended access to the protected attribute through the public method\n",
    "#print(car.__vin) # private attribute cant be accessed directly \n",
    "print(f\"vin:{car.get_car_vin()}\")"
   ]
  },
  {
   "cell_type": "code",
   "execution_count": 39,
   "id": "fa1adde3",
   "metadata": {},
   "outputs": [
    {
     "name": "stdout",
     "output_type": "stream",
     "text": [
      "vehicle make:honda, model:city, mileage:15 kmpl\n",
      "None\n"
     ]
    }
   ],
   "source": [
    "print(car.display_info())"
   ]
  },
  {
   "cell_type": "code",
   "execution_count": 40,
   "id": "1ca8af3a",
   "metadata": {},
   "outputs": [
    {
     "name": "stdout",
     "output_type": "stream",
     "text": [
      "tata\n",
      "the mileage is :22 kmpl\n",
      "Error:'Car' object has no attribute '__update_vin'\n",
      "the vin is :324\n"
     ]
    }
   ],
   "source": [
    "car.make=\"tata\"\n",
    "print(car.make) # its ok to do modify like this \n",
    "\n",
    "car._mileage=\"20 kmpl\" # not recommended direct modifying the protected attribute\n",
    "car._update_mileage(\"21 kmpl\") # not recommended to directly modifying protected attribute using the protected method\n",
    "car.update_car_mileage(new_mileage=\"22 kmpl\")\n",
    "print(car.get_mileage())\n",
    "\n",
    "try:\n",
    "    car.__vin=\"322\"\n",
    "except AttributeError as e:\n",
    "    print(f\"Error:{e}\")\n",
    "\n",
    "try:\n",
    "    car.__update_vin(\"323\")\n",
    "except AttributeError as e:\n",
    "    print(f\"Error:{e}\")\n",
    "\n",
    "car.change_car_vin(\"324\")\n",
    "print(car.get_car_vin())"
   ]
  },
  {
   "cell_type": "code",
   "execution_count": 43,
   "id": "8a10af70",
   "metadata": {},
   "outputs": [
    {
     "name": "stdout",
     "output_type": "stream",
     "text": [
      "Buddy is barking!\n"
     ]
    }
   ],
   "source": [
    "class Dog:\n",
    "    def __init__(self, name, breed):\n",
    "        self.name=name\n",
    "        self.breed=breed\n",
    "    \n",
    "    def bark(self):\n",
    "        return f\"{self.name} is barking!\"\n",
    "    \n",
    "#creating an object of the Dog class\n",
    "\n",
    "my_dog=Dog(\"Buddy\", \"Golden Retriever\")\n",
    "\n",
    "print(my_dog.bark())"
   ]
  },
  {
   "cell_type": "code",
   "execution_count": 2,
   "id": "58ce88e3",
   "metadata": {},
   "outputs": [
    {
     "name": "stdout",
     "output_type": "stream",
     "text": [
      "the engine of the honda city is starting\n"
     ]
    }
   ],
   "source": [
    "class Car:\n",
    "    def __init__(self,make, model, year):\n",
    "        self.make=make\n",
    "        self.model=model\n",
    "        self.year=year\n",
    "    \n",
    "    def start_engine(self):\n",
    "        return f\"the engine of the {self.make} {self.model} is starting\"\n",
    "    \n",
    "car=Car(\"honda\", \"city\", 2004)\n",
    "\n",
    "print(car.start_engine())"
   ]
  },
  {
   "cell_type": "code",
   "execution_count": 5,
   "id": "3bb1d04b",
   "metadata": {},
   "outputs": [
    {
     "name": "stdout",
     "output_type": "stream",
     "text": [
      "This car has a 100-kWh battery.\n",
      "This car has a 99-kWh battery.\n"
     ]
    }
   ],
   "source": [
    "class ElectricCar(Car):\n",
    "    def __init__(self, make, model, year, battery_size):\n",
    "        super().__init__(make, model, year)\n",
    "        self.battery_size=battery_size\n",
    "    \n",
    "    def describe_battery(self):\n",
    "        return f\"This car has a {self.battery_size}-kWh battery.\" \n",
    "\n",
    "#creating an objejct of the ElectricCar class\n",
    "my_electric_car= ElectricCar(\"Tesla\", \"Model S\", 2020, 100)\n",
    "\n",
    "#calling the describe_battery method\n",
    "print(my_electric_car.describe_battery())\n",
    "\n",
    "my_electric_car_2=ElectricCar(\"BYD\", \"super\", 2022, 99)\n",
    "\n",
    "print(my_electric_car_2.describe_battery())\n"
   ]
  },
  {
   "cell_type": "code",
   "execution_count": 11,
   "id": "e5d9294a",
   "metadata": {},
   "outputs": [
    {
     "name": "stdout",
     "output_type": "stream",
     "text": [
      "Account Number: 1234567890, Balance:1000\n",
      "1000\n",
      "[]\n",
      "1300\n",
      "['Deposited 500', 'Withdrew 200']\n"
     ]
    }
   ],
   "source": [
    "class BankAccount:\n",
    "    def __init__(self, account_number, balance):\n",
    "        self.account_number=account_number #public attribute\n",
    "        self._balance=balance #protected attribute\n",
    "        self.__transaction_history=[] #private attribute \n",
    "    \n",
    "    def deposit(self, amount):\n",
    "        if amount>0:\n",
    "            self._balance+=amount\n",
    "            self.__add_transaction(f\"Deposited {amount}\")\n",
    "        else:\n",
    "            print(\"Deposit amount must be positive\")\n",
    "        \n",
    "    def withdraw(self, amount):\n",
    "        if 0<amount<=self._balance:\n",
    "            self._balance-= amount\n",
    "            self.__add_transaction(f\"Withdrew {amount}\")\n",
    "        else:\n",
    "            print(\"Invalid withdraw amount.\")\n",
    "        \n",
    "    def get_balance(self):\n",
    "        return self._balance\n",
    "    \n",
    "    def get_transaction_history(self):\n",
    "        return self.__transaction_history\n",
    "    \n",
    "    def __add_transaction(self, transaction):\n",
    "        self.__transaction_history.append(transaction)\n",
    "    \n",
    "    def display_account_info(self):\n",
    "        return f\"Account Number: {self.account_number}, Balance:{self._balance}\"\n",
    "\n",
    "account=BankAccount(\"1234567890\", 1000)\n",
    "\n",
    "print(account.display_account_info())\n",
    "print(account._balance) #not recommended\n",
    "\n",
    "#print(account.__transaction_history)\n",
    "\n",
    "print(account.get_transaction_history())\n",
    "\n",
    "account.deposit(500)\n",
    "account.withdraw(200)\n",
    "\n",
    "print(account.get_balance())\n",
    "print(account.get_transaction_history())\n"
   ]
  },
  {
   "cell_type": "code",
   "execution_count": 2,
   "id": "4df5c3dc",
   "metadata": {},
   "outputs": [],
   "source": [
    "class Vehicle:\n",
    "    def __init__(self, brand, model):\n",
    "        self.brand = brand \n",
    "        self.model = model \n",
    "    \n",
    "    def start(self):\n",
    "        return f\"The {self.brand} {self.model} is starting.\"\n",
    "    \n",
    "    def stop(self):\n",
    "        return f\"The {self.brand} {self.model} is stopping\"\n"
   ]
  },
  {
   "cell_type": "code",
   "execution_count": 3,
   "id": "86a02d80",
   "metadata": {},
   "outputs": [],
   "source": [
    "\n",
    "class Car(Vehicle):\n",
    "    def __init__(self, brand, model, color):\n",
    "        super().__init__(brand, model)\n",
    "        self.color = color \n",
    "    \n",
    "    def describe(self):\n",
    "        return f\"This car is a {self.color} {self.brand} {self.model}.\"\n",
    "    \n",
    "    #overriding start method\n",
    "\n",
    "    def start(self):\n",
    "        return f\"The {self.color} {self.brand} {self.model} car is starting\"\n",
    "    \n",
    "\n"
   ]
  },
  {
   "cell_type": "code",
   "execution_count": null,
   "id": "cc74c92f",
   "metadata": {},
   "outputs": [],
   "source": [
    "class Motorcycle(Vehicle):\n",
    "    def __init__ (self, brand, model, engine_capacity):\n",
    "        super().__init__(brand, model)\n",
    "        self.engine_capacity = engine_capacity\n",
    "\n",
    "    def describe(self):\n",
    "        return f\"This motorcycle is a {self.brand} {self.model} with a {self.engine_capacity} cc engine\"\n",
    "    \n",
    "    def start(self):\n",
    "        return f\"The {self.brand} {self.model} motorcycle with a {self.engine_capacity}cc engine is starting\"\n",
    "    \n"
   ]
  },
  {
   "cell_type": "code",
   "execution_count": 5,
   "id": "74455dcd",
   "metadata": {},
   "outputs": [],
   "source": [
    "car=Car(\n",
    "    brand = \"Toyota\", \n",
    "    model = \"corolla\", \n",
    "    color=\"Red\"\n",
    ")\n",
    "\n",
    "motorcycle= Motorcycle(\n",
    "    brand=\"Yamaha\",\n",
    "    model=\"MT-09\", \n",
    "    engine_capacity=847\n",
    ")\n",
    "\n"
   ]
  },
  {
   "cell_type": "code",
   "execution_count": 8,
   "id": "bd155a90",
   "metadata": {},
   "outputs": [
    {
     "name": "stdout",
     "output_type": "stream",
     "text": [
      "This car is a Red Toyota corolla.\n",
      "The Red Toyota corolla car is starting\n",
      "The Toyota corolla is stopping\n"
     ]
    }
   ],
   "source": [
    "print(car.describe())\n",
    "print(car.start())\n",
    "print(car.stop())"
   ]
  },
  {
   "cell_type": "code",
   "execution_count": 11,
   "id": "893e9d91",
   "metadata": {},
   "outputs": [
    {
     "name": "stdout",
     "output_type": "stream",
     "text": [
      "This motorcycle is a Yamaha MT-09 with a 847 cc engine\n",
      "The Yamaha MT-09 motorcycle with a 847cc engine is starting\n",
      "The Yamaha MT-09 is stopping\n"
     ]
    }
   ],
   "source": [
    "print(motorcycle.describe())\n",
    "print(motorcycle.start())\n",
    "print(motorcycle.stop())"
   ]
  },
  {
   "cell_type": "code",
   "execution_count": 36,
   "id": "34fac952",
   "metadata": {},
   "outputs": [],
   "source": [
    "#Library Mangement system\n",
    "\n",
    "class Book:\n",
    "    def __init__(self, title, author, isbn):\n",
    "        self.title=title \n",
    "        self.author = author\n",
    "        self.isbn = isbn\n",
    "    \n",
    "    def get_details(self):\n",
    "        return f\" the book {self.title} has {self.isbn} isbn and is written by {self.author}\"\n",
    "\n",
    "\n"
   ]
  },
  {
   "cell_type": "code",
   "execution_count": 37,
   "id": "2f5b88de",
   "metadata": {},
   "outputs": [],
   "source": [
    "class Ebook(Book):\n",
    "    def __init__(self, title, author, isbn, file_size):\n",
    "        super().__init__(title, author, isbn)\n",
    "        self.file_size=file_size\n",
    "    \n",
    "    def download(self):\n",
    "        return f\"the Ebook {self.title} {self.isbn} by {self.author} having file size {self.file_size} MB is being downloaded\"\n",
    "    \n",
    "    def get_details(self):\n",
    "        return f\"the Ebook {self.title} {self.isbn} written by {self.author} has {self.file_size} MB file size\"\n",
    "    "
   ]
  },
  {
   "cell_type": "code",
   "execution_count": 38,
   "id": "82885c97",
   "metadata": {},
   "outputs": [],
   "source": [
    "class PrintedBook(Book):\n",
    "    def __init__(self, title, author, isbn, number_of_pages):\n",
    "        super().__init__(title, author, isbn)\n",
    "        self.number_of_pages = number_of_pages\n",
    "    \n",
    "    def read(self):\n",
    "        return f\"The printed book {self.title} written by the author {self.author} is being read\" \n",
    "    \n",
    "    def get_details(self):\n",
    "        return f\"the printed book {self.title} written by {self.author} has {self.number_of_pages} number of pages\" \n"
   ]
  },
  {
   "cell_type": "code",
   "execution_count": 39,
   "id": "05c436cb",
   "metadata": {},
   "outputs": [],
   "source": [
    "ebook = Ebook(\n",
    "    title= \"The Lord of the rings\", \n",
    "    author= \"J.R.R Tolkien\",\n",
    "    isbn= 134675484754364, \n",
    "    file_size= 1.4\n",
    ")\n",
    "\n",
    "printed_book = PrintedBook(\n",
    "    title= \"HARRY POTTER\", \n",
    "    author= \"J.K.ROLLINGS\",\n",
    "    isbn= 543265476736562435, \n",
    "    number_of_pages= 243\n",
    ")"
   ]
  },
  {
   "cell_type": "code",
   "execution_count": 41,
   "id": "cac80fcd",
   "metadata": {},
   "outputs": [
    {
     "name": "stdout",
     "output_type": "stream",
     "text": [
      "the Ebook The Lord of the rings 134675484754364 by J.R.R Tolkien having file size 1.4 MB is being downloaded\n",
      "the Ebook The Lord of the rings 134675484754364 written by J.R.R Tolkien has 1.4 MB file size\n",
      "The printed book HARRY POTTER written by the author J.K.ROLLINGS is being read\n",
      "the printed book HARRY POTTER written by J.K.ROLLINGS has 243 number of pages\n"
     ]
    }
   ],
   "source": [
    "print(ebook.download())\n",
    "print(ebook.get_details())\n",
    "\n",
    "print(printed_book.read())\n",
    "print(printed_book.get_details())"
   ]
  },
  {
   "cell_type": "code",
   "execution_count": 51,
   "id": "1e1c2c50",
   "metadata": {},
   "outputs": [],
   "source": [
    "class Person:\n",
    "    def __init__(self, name, age):\n",
    "        self.name=name\n",
    "        self._age=age\n",
    "        self.__ssn=\"123-3434-34\" \n",
    "\n",
    "    def public_method(self):\n",
    "        return f\"Name:{self.name}, Age:{self._age}, SSN:{self.__ssn}\"\n",
    "    \n",
    "    def _protected_method(self):\n",
    "        return f\"protected method:Name:{self.name}, age: {self._age}\"\n",
    "    \n",
    "    def __private_method(self):\n",
    "        return f\"Private Method: SSN: {self.__ssn}\"\n",
    "    \n",
    "    def access_private_method(self):\n",
    "        return self.__private_method()\n",
    "    \n",
    "\n",
    "person=Person(\n",
    "    name=\"John Doe\", \n",
    "    age=30\n",
    ")"
   ]
  },
  {
   "cell_type": "code",
   "execution_count": 57,
   "id": "07469b92",
   "metadata": {},
   "outputs": [
    {
     "name": "stdout",
     "output_type": "stream",
     "text": [
      "John Doe\n",
      "30\n",
      "'Person' object has no attribute '__ssn'\n",
      "Name:John Doe, Age:30, SSN:123-3434-34\n",
      "protected method:Name:John Doe, age: 30\n",
      "'Person' object has no attribute '__private_method'\n",
      "Private Method: SSN: 123-3434-34\n"
     ]
    }
   ],
   "source": [
    "#accessing public attribute\n",
    "print(person.name) #succeeds \n",
    "\n",
    "#accessing protected attribute \n",
    "print(person._age) #succeeds but generally discouraged \n",
    "\n",
    "#accessing the private attribute (will fail)\n",
    "try:\n",
    "    print(person.__ssn)\n",
    "except AttributeError as e:\n",
    "    print(e)\n",
    "\n",
    "#accessing public method\n",
    "print(person.public_method()) #succeeds\n",
    "\n",
    "#accessing protected method\n",
    "print(person._protected_method()) #succeeds but generally discouraged \n",
    "\n",
    "#accessing priivate method directly (will fail)\n",
    "try:\n",
    "    print(person.__private_method())\n",
    "except AttributeError as e:\n",
    "    print(e)\n",
    "\n",
    "print(person.access_private_method())"
   ]
  },
  {
   "cell_type": "code",
   "execution_count": 114,
   "id": "b8c4cef7",
   "metadata": {},
   "outputs": [],
   "source": [
    "#employee mangement system \n",
    "class Employee:\n",
    "    def __init__ (self, name, position, salary):\n",
    "        self.name = name \n",
    "        self._position = position \n",
    "        self.__salary = salary \n",
    "\n",
    "    def get_details(self):\n",
    "        return f\"employee details, name:{self.name}, position {self._position}, salary:{self.__salary}\" \n",
    "    \n",
    "    def _promote(self):\n",
    "        return f\"the employee {self.name} is getting promoted to position {self._position}\"  \n",
    "    \n",
    "\n",
    "    def __increase_salary(self):\n",
    "        return f\"the increased salary of the employee {self.name} is {self.__salary}\" \n",
    "    \n",
    "    def access_salary(self):\n",
    "        return self.__salary\n",
    "    \n",
    "    def access_protected_method(self):\n",
    "        return self._promote()\n",
    "    \n",
    "    def access_private_mehtod(self):\n",
    "        return self.__increase_salary()\n",
    "    \n",
    "    def _protected_private(self):\n",
    "        return self.__increase_salary()\n"
   ]
  },
  {
   "cell_type": "code",
   "execution_count": 115,
   "id": "9b3c4e60",
   "metadata": {},
   "outputs": [],
   "source": [
    "class Manager(Employee):\n",
    "    def __init__(self, name, position, salary, department):\n",
    "        super().__init__(name, position, salary)\n",
    "        self.department=department\n",
    "\n",
    "    def get_details(self):\n",
    "        return f\"the employee details name:{self.name}, position: {self._position}, salary:{self.__salary}, department :{self.department}\" \n",
    "    \n"
   ]
  },
  {
   "cell_type": "code",
   "execution_count": 116,
   "id": "3c0a8838",
   "metadata": {},
   "outputs": [],
   "source": [
    "employee=Employee(\n",
    "    name=\"Rajesh Raj\", \n",
    "    position=\"Business Analyst\", \n",
    "    salary=18000\n",
    ")\n",
    "\n",
    "manager=Manager(\n",
    "    name=\"Karan kartik\", \n",
    "    position= \"Sr. Manager\", \n",
    "    salary=21000, \n",
    "    department= \"Human Resource\"\n",
    ")"
   ]
  },
  {
   "cell_type": "code",
   "execution_count": 118,
   "id": "0b8df3d5",
   "metadata": {},
   "outputs": [
    {
     "name": "stdout",
     "output_type": "stream",
     "text": [
      "Rajesh Raj\n",
      "Business Analyst\n",
      "'Employee' object has no attribute '__salary'\n",
      "employee details, name:Rajesh Raj, position Business Analyst, salary:18000\n",
      "the employee Rajesh Raj is getting promoted to position Business Analyst\n",
      "the employee Rajesh Raj is getting promoted to position Business Analyst\n",
      "'Employee' object has no attribute '__increase_salary'\n",
      "the increased salary of the employee Rajesh Raj is 18000\n",
      "the increased salary of the employee Rajesh Raj is 18000\n"
     ]
    }
   ],
   "source": [
    "print(employee.name)\n",
    "print(employee._position) #not recommended\n",
    "\n",
    "#will not work\n",
    "try:\n",
    "    employee.__salary   \n",
    "except AttributeError as e:\n",
    "    print (e)\n",
    "\n",
    "print(employee.get_details())\n",
    "print(employee._promote()) # not recommended to acceess the protected method directly\n",
    "print(employee.access_protected_method()) # recommended to access the protected method\n",
    "\n",
    "try:\n",
    "    print(employee.__increase_salary())\n",
    "except AttributeError as e:\n",
    "    print(e)\n",
    "\n",
    "\n",
    "print(employee.access_private_mehtod()) # recommended to access the private method with public method\n",
    "\n",
    "print(employee._protected_private())"
   ]
  },
  {
   "cell_type": "code",
   "execution_count": 119,
   "id": "44258205",
   "metadata": {},
   "outputs": [
    {
     "name": "stdout",
     "output_type": "stream",
     "text": [
      "Karan kartik\n",
      "Sr. Manager\n",
      "'Manager' object has no attribute '__salary'\n",
      "'Manager' object has no attribute '_Manager__salary'\n",
      "the employee Karan kartik is getting promoted to position Sr. Manager\n",
      "'Manager' object has no attribute '__increase_salary'\n",
      "the employee Karan kartik is getting promoted to position Sr. Manager\n",
      "the increased salary of the employee Karan kartik is 21000\n",
      "the increased salary of the employee Karan kartik is 21000\n",
      "21000\n"
     ]
    }
   ],
   "source": [
    "print(manager.name)\n",
    "print(manager._position) # not recommended \n",
    "try:\n",
    "    print(manager.__salary)\n",
    "except AttributeError as e:\n",
    "    print(e)\n",
    "\n",
    "try:\n",
    "    print(manager.get_details())\n",
    "except AttributeError as e:\n",
    "    print(e)\n",
    "\n",
    "print(manager._promote()) # not recommended\n",
    "\n",
    "try:\n",
    "    print(manager.__increase_salary())\n",
    "except AttributeError as e:\n",
    "    print(e)\n",
    "\n",
    "print(manager.access_protected_method()) #recmmended way to access protected method\n",
    "print(manager.access_private_mehtod()) #only way to access the private method from subclass\n",
    "print(manager._protected_private())\n",
    "print(manager.access_salary()) #only way to access the private attribute from subclass "
   ]
  },
  {
   "cell_type": "markdown",
   "id": "bfea816d",
   "metadata": {},
   "source": [
    "### List of OOP Concepts Covered\n",
    "\n",
    "1. **Class Definition and Object Creation**\n",
    "2. **Methods**\n",
    "3. **Inheritance**\n",
    "4. **Method Overriding**\n",
    "5. **Encapsulation**"
   ]
  },
  {
   "cell_type": "markdown",
   "id": "bcb6e944",
   "metadata": {},
   "source": [
    "\n",
    "\n",
    "### Summary of Encapsulation Principles\n",
    "\n",
    "1. **Public Attributes**:\n",
    "   - Public attributes are not protected and can be accessed from anywhere.\n",
    "\n",
    "2. **Protected Attributes**:\n",
    "   - Protected attributes are supposed to be used within the class and its subclasses.\n",
    "\n",
    "3. **Private Attributes**:\n",
    "   - Private attributes can be accessed from public or private methods within the class.\n",
    "\n",
    "4. **Public Methods**:\n",
    "   - Public methods are directly accessible.\n",
    "\n",
    "5. **Protected Methods**:\n",
    "   - Protected methods should not be directly accessed but should be accessed through public methods.\n",
    "\n",
    "6. **Private Methods**:\n",
    "   - Private methods cannot be accessed from subclass objects. They can only be accessed through public or private methods of the class they are defined in.\n",
    "\n",
    "### General Principles:\n",
    "\n",
    "1. **Private Usage**:\n",
    "   - If you want to use an attribute or method only within a specific class, make it private.\n",
    "\n",
    "2. **Protected Usage**:\n",
    "   - If you want to use it within specific classes (class and subclasses), use protected members.\n",
    "\n",
    "3. **Public Access**:\n",
    "   - If you later decide to provide access to a previously protected or private member, you can expose it through a public method.\n",
    "\n",
    "### Modifying Access Levels:\n",
    "\n",
    "- **Reducing Access**:\n",
    "  - To reduce the access level of a member, you can modify or remove the public or protected method that exposes it.\n",
    "\n",
    "These principles will help you maintain proper encapsulation in your Python classes."
   ]
  },
  {
   "cell_type": "markdown",
   "id": "f89f65b6",
   "metadata": {},
   "source": [
    "# POLYMORPHISM"
   ]
  },
  {
   "cell_type": "markdown",
   "id": "3416b343",
   "metadata": {},
   "source": [
    " Polymorphism is a fundamental concept in object-oriented programming that allows for flexibility and integration of various objects through a common interface. Here's a breakdown of when and why you should use polymorphism:\n",
    "\n",
    "### Purpose of Polymorphism\n",
    "\n",
    "1. **Unified Interface**:\n",
    "   - Polymorphism allows you to define a unified interface for different classes. This means you can call the same method on different objects and get behavior that's appropriate for each object.\n",
    "   \n",
    "2. **Code Reusability and Extensibility**:\n",
    "   - By using polymorphism, you can write code that works with objects of different classes without knowing their exact types. This promotes code reusability and makes your codebase more extensible.\n",
    "\n",
    "3. **Simplifies Code Maintenance**:\n",
    "   - Polymorphism helps in simplifying code maintenance. Instead of having multiple conditional statements to handle different types of objects, polymorphism allows you to treat them uniformly.\n",
    "\n",
    "### Practical Use Cases for Polymorphism\n",
    "\n",
    "1. **Multiple Implementations of an Interface**:\n",
    "   - When you have multiple classes implementing the same set of methods (interface) in different ways. For example, different types of payments (credit card, PayPal, bank transfer) can all have a `process_payment` method.\n",
    "\n",
    "2. **Frameworks and Libraries**:\n",
    "   - When designing frameworks and libraries that need to work with a variety of user-defined types. For example, a graphics library might use polymorphism to handle different shapes (circles, squares, triangles) through a common interface.\n",
    "\n",
    "3. **Collections of Mixed Objects**:\n",
    "   - When you have a collection of objects of different types that share a common interface. For example, a list of employees where some are full-time and others are part-time, but all can perform a `calculate_salary` method.\n",
    "\n",
    "4. **Dynamic Behavior**:\n",
    "   - When you want to allow different objects to provide specific implementations of a method at runtime, depending on their class. For example, different types of documents (Word, PDF, Text) might have their own `print` method.\n",
    "   \n",
    "### When to Use Polymorphism\n",
    "\n",
    "- **When you need a common interface for different implementations**: This allows you to write code that is more general and works with any new types you might add in the future.\n",
    "- **When you want to simplify code maintenance**: Reduces the need for complex conditional statements and makes your code easier to read and maintain.\n",
    "- **When working with collections of mixed objects**: Enables you to handle different types of objects in a uniform way.\n",
    "\n",
    "Polymorphism is a powerful tool in OOP that enhances the flexibility and scalability of your code. By designing systems that leverage polymorphism, you can create robust and adaptable software architectures."
   ]
  },
  {
   "cell_type": "code",
   "execution_count": 121,
   "id": "aef25233",
   "metadata": {},
   "outputs": [],
   "source": [
    "class Animal:\n",
    "    def __init__(self, name):\n",
    "        self.name = name\n",
    "    \n",
    "    def make_sound(self):\n",
    "        raise NotImplementedError(\"subclass must implement abstract method\")\n",
    "    \n",
    "\n",
    "#define the subclass Dog\n",
    "class Dog(Animal):\n",
    "    def __init__(self, name, breed):\n",
    "        super().__init__(name)\n",
    "        self.breed=breed \n",
    "        \n",
    "    def make_sound(self):\n",
    "        return f\"{self.name}, the {self.breed}, says: Woof!\""
   ]
  },
  {
   "cell_type": "code",
   "execution_count": 123,
   "id": "b3337a47",
   "metadata": {},
   "outputs": [
    {
     "name": "stdout",
     "output_type": "stream",
     "text": [
      "Buddy, the Golden Retriever, says: Woof!\n",
      "Whiskers, the black cat, says: Meow!\n",
      "Rex, the black, says: Woof!\n",
      "Luna, the white cat, says: Meow!\n"
     ]
    }
   ],
   "source": [
    "\n",
    "class Cat(Animal):\n",
    "    def __init__(self, name, color):\n",
    "        super().__init__(name)\n",
    "        self.color=color\n",
    "    \n",
    "    def make_sound(self):\n",
    "        return f\"{self.name}, the {self.color} cat, says: Meow!\" \n",
    "\n",
    "#create a list of animal objects \n",
    "animals=[\n",
    "    Dog(name=\"Buddy\", breed=\"Golden Retriever\"), \n",
    "    Cat(name=\"Whiskers\", color=\"black\"), \n",
    "    Dog(name=\"Rex\", breed=\"black\"), \n",
    "    Cat(name= \"Luna\", color=\"white\")\n",
    "]\n",
    "\n",
    "for animal in animals:\n",
    "    print(animal.make_sound())"
   ]
  },
  {
   "cell_type": "code",
   "execution_count": 128,
   "id": "f187991e",
   "metadata": {},
   "outputs": [
    {
     "name": "stdout",
     "output_type": "stream",
     "text": [
      "Processing card payemnt of 100 dollers with card number 1243-343-354324-454\n",
      "Processing Paypal Payment of 150 dollars for account user@example.com\n",
      "Processing bank transfer payment of 200 dollars for account number 436542534234.\n"
     ]
    }
   ],
   "source": [
    "from abc import ABC, abstractmethod\n",
    "\n",
    "class PaymentMethod(ABC):\n",
    "    def __init__(self, amount):\n",
    "        self.amount=amount\n",
    "\n",
    "    @abstractmethod\n",
    "    def process_payment(self):\n",
    "        pass\n",
    "\n",
    "\n",
    "#define the subclass creditcardpayment \n",
    "class CreditCardPayment(PaymentMethod):\n",
    "    def __init__(self, amount, card_number):\n",
    "        super().__init__(amount)\n",
    "        self.card_number=card_number\n",
    "    \n",
    "    def process_payment(self):\n",
    "        return f\"Processing card payemnt of {self.amount} dollers with card number {self.card_number}\"\n",
    "    \n",
    "\n",
    "class PayPalPayment(PaymentMethod):\n",
    "    def __init__ (self, amount, email):\n",
    "        super().__init__(amount)\n",
    "        self.email = email  \n",
    "    \n",
    "    def process_payment(self):\n",
    "        return f\"Processing Paypal Payment of {self.amount} dollars for account {self.email}\" \n",
    "\n",
    "class BankTransferPayment(PaymentMethod):\n",
    "    def __init__(self, amount, account_number):\n",
    "        super().__init__(amount)\n",
    "        self.account_number=account_number \n",
    "    \n",
    "    def process_payment(self):\n",
    "        return f\"Processing bank transfer payment of {self.amount} dollars for account number {self.account_number}.\" \n",
    "\n",
    "payment_methods = [\n",
    "    CreditCardPayment(amount=100, card_number= \"1243-343-354324-454\"),\n",
    "    PayPalPayment(amount=150, email=\"user@example.com\"),\n",
    "    BankTransferPayment(amount=200, account_number=\"436542534234\")\n",
    "]\n",
    "\n",
    "for payment_method in payment_methods:\n",
    "    print(payment_method.process_payment())"
   ]
  },
  {
   "cell_type": "code",
   "execution_count": 132,
   "id": "861c2e27",
   "metadata": {},
   "outputs": [],
   "source": [
    "from abc import ABC, abstractmethod\n",
    "\n",
    "class MediaFile(ABC):\n",
    "    def __init__ (self, filename):\n",
    "        self.filename=filename\n",
    "    \n",
    "    @abstractmethod\n",
    "    def play(self):\n",
    "        pass\n",
    "\n",
    "#Define the subclass Audiofile\n",
    "class AudioFile(MediaFile):\n",
    "    def __init__(self, filename, duration):\n",
    "        super().__init__(filename)\n",
    "        self.duration=duration\n",
    "    \n",
    "    def play(self):\n",
    "        return f\"Play audio file {self.filename} with duration {self.duration} seconds.\" \n",
    "    \n",
    "class VideoFile(MediaFile):\n",
    "    def __init__(self, filename, resolution):\n",
    "        super().__init__(filename)\n",
    "        self.resolution=resolution\n",
    "    \n",
    "    def play(self):\n",
    "        return f\"the video is playing having the file name as {self.filename} and having {self.resolution} resolution.\" \n",
    "    \n",
    "\n"
   ]
  },
  {
   "cell_type": "code",
   "execution_count": 135,
   "id": "1d89bd53",
   "metadata": {},
   "outputs": [],
   "source": [
    "media_files=[\n",
    "    AudioFile(\n",
    "        filename=\"song.mp3\", \n",
    "        duration=300\n",
    "    ), \n",
    "\n",
    "    VideoFile(\n",
    "        filename=\"movie.mp4\", \n",
    "        resolution=\"1080p\"\n",
    "    )\n",
    "    \n",
    "]"
   ]
  },
  {
   "cell_type": "code",
   "execution_count": 136,
   "id": "cb9441a2",
   "metadata": {},
   "outputs": [
    {
     "name": "stdout",
     "output_type": "stream",
     "text": [
      "Play audio file song.mp3 with duration 300 seconds.\n",
      "the video is playing having the file name as movie.mp4 and having 1080p resolution.\n"
     ]
    }
   ],
   "source": [
    "for media_file in media_files:\n",
    "    print(media_file.play())"
   ]
  },
  {
   "cell_type": "code",
   "execution_count": 143,
   "id": "d1f46817",
   "metadata": {},
   "outputs": [],
   "source": [
    "from abc import ABC, abstractmethod\n",
    "\n",
    "class Employee(ABC):\n",
    "    def __init__(self, name):\n",
    "        self.name=name\n",
    "    \n",
    "    @abstractmethod\n",
    "    def calculate_salary(self):\n",
    "        pass\n",
    "\n",
    "\n",
    "#define the subclass FullTimeEmployee\n",
    "class FullTimeEmployee(Employee):\n",
    "    def __init__(self, name, monthly_Salary):\n",
    "        super().__init__(name)\n",
    "        self.monthly_salary=monthly_Salary\n",
    "    \n",
    "    def calculate_salary(self):\n",
    "        return f\"the monthly salary of {self.name} is {self.monthly_salary} dollars\" \n",
    "\n",
    "#Define the  subclass PartTimeEmployee\n",
    "class PartTimeEmployee(Employee):\n",
    "    def __init__(self, name, hourly_rate, hours_worked):\n",
    "        super().__init__(name)\n",
    "        self.hourly_rate=hourly_rate\n",
    "        self.hours_worked=hours_worked\n",
    "\n",
    "\n",
    "    def calculate_salary(self):\n",
    "        return f\"Part-time employee {self.name}'s monthly salary is {self.hourly_rate*self.hours_worked} dollars\" \n",
    "\n",
    "#Define the subclass ContractEmployee \n",
    "class ContractEmployee(Employee):\n",
    "    def __init__(self, name, contract_amount, months):\n",
    "        super().__init__(name)\n",
    "        self.contract_amount=contract_amount\n",
    "        self.months=months\n",
    "    \n",
    "    def calculate_salary(self):\n",
    "        return f\"contract employee {self.name}'s monthly salary is {self.contract_amount/self.months} dollars\" \n",
    "    \n",
    "    "
   ]
  },
  {
   "cell_type": "code",
   "execution_count": 146,
   "id": "6d1c37d7",
   "metadata": {},
   "outputs": [],
   "source": [
    "employees=[\n",
    "    FullTimeEmployee(\n",
    "        name=\"Jonny\", \n",
    "        monthly_Salary=5000, \n",
    "        \n",
    "    ), \n",
    "\n",
    "    PartTimeEmployee(\n",
    "        name=\"Jordan\", \n",
    "        hourly_rate= 95,\n",
    "        hours_worked=20\n",
    "    ), \n",
    "\n",
    "    ContractEmployee(\n",
    "        name=\"Jack\",\n",
    "        contract_amount=24000, \n",
    "        months=6 \n",
    "    )\n",
    "]\n"
   ]
  },
  {
   "cell_type": "code",
   "execution_count": 147,
   "id": "1982df96",
   "metadata": {},
   "outputs": [
    {
     "name": "stdout",
     "output_type": "stream",
     "text": [
      "the monthly salary of Jonny is 5000 dollars\n",
      "Part-time employee Jordan's monthly salary is 1900 dollars\n",
      "contract employee Jack's monthly salary is 4000.0 dollars\n"
     ]
    }
   ],
   "source": [
    "for employee in employees:\n",
    "    print(employee.calculate_salary())"
   ]
  },
  {
   "cell_type": "code",
   "execution_count": 152,
   "id": "2cc0a2f0",
   "metadata": {},
   "outputs": [],
   "source": [
    "#vehicle fleet management \n",
    "\n",
    "from abc import ABC, abstractmethod\n",
    "\n",
    "class Vehicle(ABC):\n",
    "    def __init__(self, make, model, fuel_efficiency):\n",
    "        self.make=make\n",
    "        self.model=model \n",
    "        self.fuel_efficiency=fuel_efficiency\n",
    "    \n",
    "    @abstractmethod\n",
    "    def describe_fuel_efficiency(self):\n",
    "        pass\n",
    "\n",
    "class Car(Vehicle):\n",
    "    def __init__(self, make, model, fuel_efficiency):\n",
    "        super().__init__(make, model, fuel_efficiency)\n",
    "    \n",
    "    def describe_fuel_efficiency(self):\n",
    "        return f\"the {self.make} {self.model} car has {self.fuel_efficiency} miles per gallon fuel efficiency\"\n",
    "        \n",
    "\n",
    "class Truck(Vehicle):\n",
    "    def __init__(self, make, model, fuel_efficiency, load_capacity):\n",
    "        super().__init__(make, model, fuel_efficiency)\n",
    "        self.load_capacity=load_capacity\n",
    "    \n",
    "    def describe_fuel_efficiency(self):\n",
    "        return f\"the {self.make} {self.model} Truck has {self.fuel_efficiency}miles per gallon fuel efficiency and {self.load_capacity} tones load capacity\" \n",
    "\n",
    "\n",
    "class Motorcycle(Vehicle):\n",
    "    def __init__(self, make, model, fuel_efficiency, engine_size):\n",
    "        super().__init__(make, model, fuel_efficiency)\n",
    "        self.engine_size=engine_size\n",
    "    \n",
    "    def describe_fuel_efficiency(self):\n",
    "        return f\"the {self.make} {self.model} motorcycle has {self.fuel_efficiency} miles per gallon fuel efficiency and {self.engine_size} cc engine size\"\n"
   ]
  },
  {
   "cell_type": "code",
   "execution_count": 153,
   "id": "3bf4dfca",
   "metadata": {},
   "outputs": [],
   "source": [
    "vehicles=[\n",
    "    Car(\n",
    "        make=\"Toyota\", \n",
    "        model=\"corolla\", \n",
    "        fuel_efficiency=14\n",
    "    ),\n",
    "\n",
    "    Truck(\n",
    "        make=\"Tata\", \n",
    "        model=\"model1\", \n",
    "        fuel_efficiency=5, \n",
    "        load_capacity= 100\n",
    "    ), \n",
    "\n",
    "    Motorcycle(\n",
    "        make=\"Yamaha\", \n",
    "        model=\"R15\", \n",
    "        fuel_efficiency=28, \n",
    "        engine_size=150\n",
    "    )\n",
    "]"
   ]
  },
  {
   "cell_type": "code",
   "execution_count": 154,
   "id": "68379561",
   "metadata": {},
   "outputs": [
    {
     "name": "stdout",
     "output_type": "stream",
     "text": [
      "the Toyota corolla car has 14 miles per gallon fuel efficiency\n",
      "the Tata model1 Truck has 5miles per gallon fuel efficiency and 100 tones load capacity\n",
      "the Yamaha R15 motorcycle has 28 miles per gallon fuel efficiency and 150 cc engine size\n"
     ]
    }
   ],
   "source": [
    "for vehicle in vehicles:\n",
    "    print(vehicle.describe_fuel_efficiency())"
   ]
  },
  {
   "cell_type": "markdown",
   "id": "0319d68d",
   "metadata": {},
   "source": [
    "### Composition "
   ]
  },
  {
   "cell_type": "markdown",
   "id": "7aa3222e",
   "metadata": {},
   "source": [
    "[python]: Sure! Here are some notes on composition in object-oriented programming:\n",
    "\n",
    "### Composition\n",
    "\n",
    "#### What is Composition?\n",
    "\n",
    "- **Definition**: Composition is a design principle in object-oriented programming where a class is composed of one or more objects from other classes, forming a \"has-a\" relationship.\n",
    "- **Example**: A `Car` class might have an `Engine` object and `Tire` objects as part of its state.\n",
    "\n",
    "#### Why Use Composition?\n",
    "\n",
    "1. **Code Reusability**:\n",
    "   - Composition allows you to reuse existing classes as building blocks for new classes, reducing code duplication.\n",
    "\n",
    "2. **Flexibility**:\n",
    "   - It provides greater flexibility compared to inheritance because you can change the behavior of a class at runtime by changing its components.\n",
    "   - You can create new classes by combining different objects in various ways without modifying the original classes.\n",
    "\n",
    "3. **Encapsulation**:\n",
    "   - Composition helps in encapsulating behavior. Each component class can manage its own state and behavior, making the overall system easier to understand and maintain.\n",
    "\n",
    "4. **Avoiding Inheritance Pitfalls**:\n",
    "   - Using composition can help avoid some of the issues associated with inheritance, such as the fragile base class problem and tight coupling between base and derived classes.\n",
    "\n",
    "#### When to Use Composition?\n",
    "\n",
    "1. **Has-a Relationship**:\n",
    "   - Use composition when there is a \"has-a\" relationship between classes. For example, a `Car` has an `Engine` and `Tires`.\n",
    "\n",
    "2. **Behavioral Changes**:\n",
    "   - Use composition when you want to change the behavior of a class at runtime by changing its components.\n",
    "\n",
    "3. **Reusability**:\n",
    "   - Use composition to create new functionality by combining existing classes without altering their code.\n",
    "\n",
    "4. **Simplifying Complex Systems**:\n",
    "   - Use composition to break down complex systems into simpler, more manageable parts.\n",
    "\n",
    "#### Importance of Composition\n",
    "\n",
    "1. **Modularity**:\n",
    "   - Composition promotes modular design by encouraging the creation of small, focused classes that can be combined to form more complex behavior.\n",
    "\n",
    "2. **Maintainability**:\n",
    "   - By encapsulating behavior in separate classes, composition makes it easier to maintain and update code. Changes to one component class do not necessarily affect others.\n",
    "\n",
    "3. **Testing**:\n",
    "   - Composition allows for more straightforward unit testing. Individual components can be tested in isolation before being integrated into larger systems.\n",
    "\n",
    "4. **Extensibility**:\n",
    "   - Composition makes it easy to extend systems. You can add new functionality by adding new components or combining existing components in new ways.\n",
    "\n",
    "\n",
    "### Summary\n",
    "\n",
    "- **Composition**: A design principle where a class is composed of objects from other classes.\n",
    "- **Why Use It?**: For code reusability, flexibility, encapsulation, and avoiding inheritance pitfalls.\n",
    "- **When to Use It?**: For \"has-a\" relationships, behavioral changes, reusability, and simplifying complex systems.\n",
    "- **Importance**: Promotes modularity, maintainability, testability, and extensibility.\n",
    "\n",
    "Composition is a powerful tool in object-oriented programming that helps create flexible, reusable, and maintainable code. By combining objects from different classes, you can build complex systems that are easier to manage and extend."
   ]
  },
  {
   "cell_type": "code",
   "execution_count": 159,
   "id": "717783c6",
   "metadata": {},
   "outputs": [
    {
     "name": "stdout",
     "output_type": "stream",
     "text": [
      "Computer specs: \n",
      "CPU speed is 3.5 GHz.\n",
      "Memory size is 16 GB.\n"
     ]
    }
   ],
   "source": [
    "class CPU:\n",
    "    def __init__(self, speed):\n",
    "        self.speed=speed \n",
    "    \n",
    "    def get_speed(self):\n",
    "        return f\"CPU speed is {self.speed} GHz.\" \n",
    "    \n",
    "class Memory:\n",
    "    def __init__(self, size):\n",
    "        self.size=size \n",
    "    \n",
    "    def get_size(self):\n",
    "        return f\"Memory size is {self.size} GB.\" \n",
    "\n",
    "class Computer:\n",
    "    def __init__(self, cpu_speed, memory_size):\n",
    "        self.cpu=CPU(cpu_speed)\n",
    "        self.memory=Memory(memory_size)\n",
    "\n",
    "    def get_specs(self):\n",
    "        cpu_speed=self.cpu.get_speed()\n",
    "        memory_size=self.memory.get_size() \n",
    "        return f\"Computer specs: \\n{cpu_speed}\\n{memory_size}\" \n",
    "    \n",
    "my_computer= Computer(\n",
    "    cpu_speed=3.5, \n",
    "    memory_size=16\n",
    ")\n",
    "\n",
    "print(my_computer.get_specs())\n"
   ]
  },
  {
   "cell_type": "code",
   "execution_count": 168,
   "id": "710a3f02",
   "metadata": {},
   "outputs": [],
   "source": [
    "#shopping System Example\n",
    "\n",
    "class Product:\n",
    "    def __init__(self, name, price, quantity):\n",
    "        self.name= name \n",
    "        self.price= price \n",
    "        self.quantity= quantity \n",
    "    \n",
    "    def get_details(self):\n",
    "        return f\"{self.name}: ${self.price:.2f} x {self.quantity}\" \n",
    "    \n",
    "    def get_total_price(self):\n",
    "        return self.price * self.quantity \n",
    "    \n",
    "\n",
    "class ShoppingCart:\n",
    "    def __init__(self):\n",
    "        self.products=[]\n",
    "    \n",
    "    def add_product(self, product):\n",
    "        self.products.append(product)\n",
    "        return f\"Added {product.name} to the cart\" \n",
    "    \n",
    "    def remove_product(self, product_name):\n",
    "        self.products=[product for product in self.products if product.name != product_name]\n",
    "\n",
    "\n",
    "    def get_total_cost(self):\n",
    "        return sum(product.get_total_price() for product in self.products)\n",
    "    \n",
    "    def get_products(self):\n",
    "        return [product.get_details() for product in self.products]\n"
   ]
  },
  {
   "cell_type": "code",
   "execution_count": 169,
   "id": "b180eee6",
   "metadata": {},
   "outputs": [],
   "source": [
    "class Order:\n",
    "    def __init__(self, customer_name, products):\n",
    "        self.customer_name=customer_name\n",
    "        self.products=products\n",
    "        self.total_cost=self.calculate_total_cost() \n",
    "\n",
    "    def calculate_total_cost(self):\n",
    "        return sum(product.get_total_price() for product in self.products)\n",
    "    \n",
    "    def get_order_details(self):\n",
    "        product_details= \"\\n\".join(product.get_details() for product in self.products)\n",
    "        return f\"Order for {self.customer_name}:\\n{product_details}\\nTotol cost: ${self.total_cost:.2f}\""
   ]
  },
  {
   "cell_type": "code",
   "execution_count": 170,
   "id": "b221a285",
   "metadata": {},
   "outputs": [],
   "source": [
    "class Customer:\n",
    "    def __init__(self, name):\n",
    "        self.name=name \n",
    "        self.cart= ShoppingCart() \n",
    "        self.order = [] \n",
    "        \n",
    "    def add_to_cart(self, product):\n",
    "        return self.cart.add_product(product)\n",
    "    \n",
    "    def remove_from_cart(self, product_name):\n",
    "        return self.cart.remove_product(product_name) \n",
    "    \n",
    "    def checkout(self):\n",
    "        order= Order(self.name, self.cart.products) \n",
    "        self.order.append(order) \n",
    "        self.cart = ShoppingCart() \n",
    "        return f\"Order placed:; \\n{order.get_order_details()}\" \n",
    "    \n",
    "    def get_order_history(self):\n",
    "        return [order.get_order_details() for order in self.order]"
   ]
  },
  {
   "cell_type": "code",
   "execution_count": 171,
   "id": "87b6c6f0",
   "metadata": {},
   "outputs": [
    {
     "name": "stdout",
     "output_type": "stream",
     "text": [
      "Added Laptop to the cart\n",
      "Added Headphones to the cart\n",
      "Added Mouse to the cart\n",
      "Products in cart:\n",
      "Laptop: $999.99 x 1\n",
      "Headphones: $199.99 x 2\n",
      "Mouse: $49.99 x 1\n",
      "Order placed:; \n",
      "Order for John Doe:\n",
      "Laptop: $999.99 x 1\n",
      "Headphones: $199.99 x 2\n",
      "Mouse: $49.99 x 1\n",
      "Totol cost: $1449.96\n",
      "Order history:\n",
      "Order for John Doe:\n",
      "Laptop: $999.99 x 1\n",
      "Headphones: $199.99 x 2\n",
      "Mouse: $49.99 x 1\n",
      "Totol cost: $1449.96\n"
     ]
    }
   ],
   "source": [
    "product1=Product(name=\"Laptop\", price=999.99, quantity=1)\n",
    "product2=Product(name=\"Headphones\", price=199.99, quantity=2) \n",
    "product3=Product(name=\"Mouse\", price=49.99, quantity=1) \n",
    "\n",
    "customer = Customer(name=\"John Doe\") \n",
    "\n",
    "print(customer.add_to_cart(product1))\n",
    "print(customer.add_to_cart(product2))\n",
    "print(customer.add_to_cart(product3)) \n",
    "\n",
    "print(\"Products in cart:\") \n",
    "print(\"\\n\".join(customer.cart.get_products()))\n",
    "\n",
    "print(customer.checkout()) \n",
    "\n",
    "print(\"Order history:\") \n",
    "print(\"\\n\".join(customer.get_order_history()))"
   ]
  },
  {
   "cell_type": "code",
   "execution_count": 354,
   "id": "4eafdf53",
   "metadata": {},
   "outputs": [],
   "source": [
    "#University management system\n",
    "class Student:\n",
    "    def __init__(self, name, student_id):\n",
    "        self.name= name \n",
    "        self.student_id=student_id \n",
    "    \n",
    "    def get_details(self):\n",
    "        return f\"student ID: {self.student_id}, Name:{self.name}\" \n",
    "    \n",
    "class Course:\n",
    "    def __init__(self, name, course_id, credits):\n",
    "        self.name=name \n",
    "        self.course_id = course_id \n",
    "        self.credits =credits \n",
    "    \n",
    "    def get_details(self):\n",
    "        return f\"course ID: {self.course_id}, Name:{self.name}, Credit:{self.credits}\" \n",
    "    \n"
   ]
  },
  {
   "cell_type": "code",
   "execution_count": 355,
   "id": "66e34058",
   "metadata": {},
   "outputs": [],
   "source": [
    "class Enrollment:\n",
    "    def __init__(self, student, course):\n",
    "        self.student=student \n",
    "        self.course= course \n",
    "    \n",
    "    def get_details(self):\n",
    "        return f\"Enrollment:{self.student.name} in {self.course.name}\" \n",
    "    "
   ]
  },
  {
   "cell_type": "code",
   "execution_count": 356,
   "id": "182576a5",
   "metadata": {},
   "outputs": [],
   "source": [
    "class University:\n",
    "    def __init__(self, name):\n",
    "        self.name = name \n",
    "        self.students =[]\n",
    "        self.courses =[] \n",
    "        self.enrollments=[] \n",
    "    \n",
    "    def add_student(self, student):\n",
    "        self.students.append(student) \n",
    "        return f\"Added student {student.name}\" \n",
    "    \n",
    "    def add_course(self, course):\n",
    "        self.courses.append(course)\n",
    "        return f\"Added course {course.name}\" \n",
    "    \n",
    "    def enroll_student(self, student, course):\n",
    "        enrollment =Enrollment(student, course)\n",
    "        self.enrollments.append(enrollment)\n",
    "        return f\"Enrolled {student.name} in {course.name}\" \n",
    "    \n",
    "    def get_students(self):\n",
    "        return [student.get_details() for student in self.students] \n",
    "    \n",
    "    def get_courses(self):\n",
    "        return [course.get_details() for course in self.courses] \n",
    "    \n",
    "    def get_enrollments(self):\n",
    "        return [enrollment.get_details() for enrollment in self.enrollments]\n",
    "    \n",
    "    "
   ]
  },
  {
   "cell_type": "code",
   "execution_count": 357,
   "id": "652410fb",
   "metadata": {},
   "outputs": [],
   "source": [
    "student1=Student(name=\"Alice\", student_id=\"S001\") \n",
    "student2=Student(name=\"Bob\", student_id=\"S002\") \n",
    "\n",
    "course1=Course(name=\"Math 101\", course_id=\"C001\", credits=3) \n",
    "course2=Course(name=\"History 101\", course_id=\"C002\", credits=4)"
   ]
  },
  {
   "cell_type": "code",
   "execution_count": 358,
   "id": "9aa45b1b",
   "metadata": {},
   "outputs": [],
   "source": [
    "university=University(name=\"Tech University\") \n"
   ]
  },
  {
   "cell_type": "code",
   "execution_count": 359,
   "id": "7af8ead9",
   "metadata": {},
   "outputs": [
    {
     "name": "stdout",
     "output_type": "stream",
     "text": [
      "Added student Alice\n",
      "Added student Bob\n",
      "Added course Math 101\n",
      "Added course History 101\n",
      "Enrolled Alice in Math 101\n",
      "Enrolled Bob in History 101\n",
      "Students in university:\n",
      "student ID: S001, Name:Alice\n",
      "student ID: S002, Name:Bob\n",
      "Courses in university:\n",
      "student ID: S001, Name:Alice\n",
      "student ID: S002, Name:Bob\n",
      "Enrollments in university:\n",
      "Enrollment:Alice in Math 101\n",
      "Enrollment:Bob in History 101\n"
     ]
    }
   ],
   "source": [
    "print(university.add_student(student1))\n",
    "print(university.add_student(student2))\n",
    "print(university.add_course(course1)) \n",
    "print(university.add_course(course2)) \n",
    "\n",
    "#enroll student in courses \n",
    "print(university.enroll_student(student1, course1)) \n",
    "print(university.enroll_student(student2, course2)) \n",
    "\n",
    "print(\"Students in university:\") \n",
    "print(\"\\n\".join(university.get_students()))\n",
    "\n",
    "print(\"Courses in university:\")\n",
    "print(\"\\n\".join(university.get_students())) \n",
    "\n",
    "print(\"Enrollments in university:\") \n",
    "print(\"\\n\".join(university.get_enrollments()))\n",
    "\n",
    "\n"
   ]
  },
  {
   "cell_type": "code",
   "execution_count": 360,
   "id": "4f361ce8",
   "metadata": {},
   "outputs": [],
   "source": [
    "#create students (student_name, age, student id)\n",
    "#create courses (course_name, course_credits, course_id)\n",
    "#create enrollments (student, course)\n",
    "#create university (university_name, students, courses, enrollments)\n",
    "# add students, courses and enrollment to the university \n",
    "#get the details of the students , cources and enrollments of the university \n"
   ]
  },
  {
   "cell_type": "code",
   "execution_count": 361,
   "id": "1660064d",
   "metadata": {},
   "outputs": [],
   "source": [
    "class Student:\n",
    "    def __init__(self, student_name, age, student_id):\n",
    "        self.student_name=student_name\n",
    "        self.age=age \n",
    "        self.student_id=student_id \n",
    "    \n",
    "    def get_student_details(self):\n",
    "        return f\"student details:: student name:{self.student_name}, student age:{self.age}, student id number:{self.student_id}\""
   ]
  },
  {
   "cell_type": "code",
   "execution_count": 362,
   "id": "4dd5f10d",
   "metadata": {},
   "outputs": [],
   "source": [
    "student_1=Student(\n",
    "    student_name=\"Ajay Varma\",\n",
    "    age=29, \n",
    "    student_id=1453554\n",
    ")"
   ]
  },
  {
   "cell_type": "code",
   "execution_count": 363,
   "id": "224f794e",
   "metadata": {},
   "outputs": [
    {
     "name": "stdout",
     "output_type": "stream",
     "text": [
      "student details:: student name:Ajay Varma, student age:29, student id number:1453554\n"
     ]
    }
   ],
   "source": [
    "print(student_1.get_student_details())"
   ]
  },
  {
   "cell_type": "code",
   "execution_count": 364,
   "id": "a1fbe1b9",
   "metadata": {},
   "outputs": [],
   "source": [
    "class Course:\n",
    "    def __init__(self, course_id, course_name, course_credits):\n",
    "        self.course_id=course_id \n",
    "        self.course_name=course_name \n",
    "        self.course_credits=course_credits \n",
    "\n",
    "    def get_course_details(self):\n",
    "        return f\"course details:: course id: {self.course_id} course name:{self.course_name} course credits:{self.course_credits}\"\n",
    "    \n",
    "        "
   ]
  },
  {
   "cell_type": "code",
   "execution_count": 365,
   "id": "6a8fa198",
   "metadata": {},
   "outputs": [],
   "source": [
    "course_1=Course(\n",
    "    course_id=\"001\", \n",
    "    course_name=\"Deep_Learning\", \n",
    "    course_credits=8\n",
    ")"
   ]
  },
  {
   "cell_type": "code",
   "execution_count": 366,
   "id": "000cdc96",
   "metadata": {},
   "outputs": [
    {
     "data": {
      "text/plain": [
       "'course details:: course id: 001 course name:Deep_Learning course credits:8'"
      ]
     },
     "execution_count": 366,
     "metadata": {},
     "output_type": "execute_result"
    }
   ],
   "source": [
    "course_1.get_course_details()"
   ]
  },
  {
   "cell_type": "code",
   "execution_count": 367,
   "id": "795476ad",
   "metadata": {},
   "outputs": [],
   "source": [
    "class Enrollment:\n",
    "    def __init__(self, student_enrolled, course_enrolled): \n",
    "        self.student_enrolled=student_enrolled \n",
    "        self.course_enrolled=course_enrolled \n",
    "    \n",
    "    def get_enrollment_details(self):\n",
    "        return f\"enrollment details:: student name: {self.student_enrolled.student_name}, course name:{self.course_enrolled.course_name}\"\n"
   ]
  },
  {
   "cell_type": "code",
   "execution_count": 368,
   "id": "b53e2d40",
   "metadata": {},
   "outputs": [],
   "source": [
    "enrol=Enrollment(\n",
    "    student_enrolled=student_1, \n",
    "    course_enrolled=course_1\n",
    ")"
   ]
  },
  {
   "cell_type": "code",
   "execution_count": 369,
   "id": "52207846",
   "metadata": {},
   "outputs": [
    {
     "data": {
      "text/plain": [
       "'enrollment details:: student name: Ajay Varma, course name:Deep_Learning'"
      ]
     },
     "execution_count": 369,
     "metadata": {},
     "output_type": "execute_result"
    }
   ],
   "source": [
    "enrol.get_enrollment_details()"
   ]
  },
  {
   "cell_type": "code",
   "execution_count": 370,
   "id": "7a57b45f",
   "metadata": {},
   "outputs": [],
   "source": [
    "class Univeristy_1:\n",
    "    def __init__(self, univeristy_name):\n",
    "        self.university_name= univeristy_name\n",
    "        self.student_list=[] \n",
    "        self.course_list=[] \n",
    "        self.university_enrollments_list=[]\n",
    "\n",
    "    def add_student(self, student):\n",
    "        self.student_list.append(student)\n",
    "        return f\"the student {student.student_name} has been added to the university\" \n",
    "    \n",
    "    def add_course(self, course):\n",
    "        self.course_list.append(course)\n",
    "        return f\"the course {course.course_name} ha been added to the university\" \n",
    "    \n",
    "    def enrollment(self, student, course):\n",
    "        self.university_enrollments_list.append(Enrollment(student_enrolled=student, course_enrolled=course))\n",
    "        return f\"the student {student.student_name} has been enrolled in {course.course_name} course at the university\"\n",
    "    \n",
    "    def get_university_students_details(self):\n",
    "        return [existing_students.get_student_details() for existing_students in self.student_list]\n",
    "    \n",
    "    def get_university_courses_details(self):\n",
    "        return [existing_courses.get_course_details() for existing_courses in self.course_list]\n",
    "    \n",
    "    def get_university_enrollment_details(self):\n",
    "        return [existing_enrollments.get_enrollment_details() for existing_enrollments in self.university_enrollments_list]\n"
   ]
  },
  {
   "cell_type": "code",
   "execution_count": 371,
   "id": "ef80c189",
   "metadata": {},
   "outputs": [],
   "source": [
    "university_2=Univeristy_1(\n",
    "    univeristy_name=\"University of Technology\"\n",
    ")"
   ]
  },
  {
   "cell_type": "code",
   "execution_count": 372,
   "id": "c5ac5497",
   "metadata": {},
   "outputs": [
    {
     "name": "stdout",
     "output_type": "stream",
     "text": [
      "the student Ajay Varma has been added to the university\n",
      "the course Deep_Learning ha been added to the university\n",
      "the student Ajay Varma has been enrolled in Deep_Learning course at the university\n",
      "['student details:: student name:Ajay Varma, student age:29, student id number:1453554']\n",
      "['course details:: course id: 001 course name:Deep_Learning course credits:8']\n",
      "['enrollment details:: student name: Ajay Varma, course name:Deep_Learning']\n"
     ]
    }
   ],
   "source": [
    "print(university_2.add_student(student_1))\n",
    "print(university_2.add_course(course_1))\n",
    "print(university_2.enrollment(student_1, course_1))\n",
    "\n",
    "print(university_2.get_university_students_details())\n",
    "print(university_2.get_university_courses_details())\n",
    "print(university_2.get_university_enrollment_details())"
   ]
  },
  {
   "cell_type": "code",
   "execution_count": 373,
   "id": "fd169d39",
   "metadata": {},
   "outputs": [],
   "source": [
    "student_2=Student(\n",
    "    student_name=\"Karan Sharma\", \n",
    "    age=22, \n",
    "    student_id=3425243\n",
    ")"
   ]
  },
  {
   "cell_type": "code",
   "execution_count": 374,
   "id": "01ea9582",
   "metadata": {},
   "outputs": [],
   "source": [
    "course_2=Course(\n",
    "    course_id=\"002\", \n",
    "    course_name=\"Information Technology\", \n",
    "    course_credits=6\n",
    ")"
   ]
  },
  {
   "cell_type": "code",
   "execution_count": 375,
   "id": "09e74ba4",
   "metadata": {},
   "outputs": [
    {
     "name": "stdout",
     "output_type": "stream",
     "text": [
      "the student Karan Sharma has been added to the university\n",
      "the course Information Technology ha been added to the university\n",
      "the student Karan Sharma has been enrolled in Information Technology course at the university\n"
     ]
    }
   ],
   "source": [
    "print(university_2.add_student(student_2))\n",
    "print(university_2.add_course(course_2))\n",
    "print(university_2.enrollment(student_2, course_2))"
   ]
  },
  {
   "cell_type": "code",
   "execution_count": 376,
   "id": "b4532b2c",
   "metadata": {},
   "outputs": [
    {
     "name": "stdout",
     "output_type": "stream",
     "text": [
      "student details:: student name:Ajay Varma, student age:29, student id number:1453554\n",
      "student details:: student name:Karan Sharma, student age:22, student id number:3425243\n",
      "course details:: course id: 001 course name:Deep_Learning course credits:8\n",
      "course details:: course id: 002 course name:Information Technology course credits:6\n",
      "enrollment details:: student name: Ajay Varma, course name:Deep_Learning\n",
      "enrollment details:: student name: Karan Sharma, course name:Information Technology\n"
     ]
    }
   ],
   "source": [
    "print(\"\\n\".join(university_2.get_university_students_details()))\n",
    "print(\"\\n\".join(university_2.get_university_courses_details()))\n",
    "print(\"\\n\".join(university_2.get_university_enrollment_details()))"
   ]
  },
  {
   "cell_type": "code",
   "execution_count": 417,
   "id": "bf564c5d",
   "metadata": {},
   "outputs": [],
   "source": [
    "# Library Management system\n",
    "\n",
    "class Book:\n",
    "    def __init__(self, title, author, isbn):\n",
    "        self.title=title \n",
    "        self.author=author\n",
    "        self.isbn=isbn \n",
    "    \n",
    "    def get_book_details(self):\n",
    "        return f\"book title: {self.title}, book author:{self.author}, book isbn{self.isbn}\"\n",
    "    \n"
   ]
  },
  {
   "cell_type": "code",
   "execution_count": 418,
   "id": "5692b1d4",
   "metadata": {},
   "outputs": [],
   "source": [
    "class Member:\n",
    "    def __init__(self, name, member_id):\n",
    "        self.name=name \n",
    "        self.member_id=member_id\n",
    "    \n",
    "    def get_member_details(self):\n",
    "        return f\"member name:{self.name}, member_id:{self.member_id}\"\n",
    "    \n",
    "\n"
   ]
  },
  {
   "cell_type": "code",
   "execution_count": 419,
   "id": "f73daf9d",
   "metadata": {},
   "outputs": [],
   "source": [
    "class Loan:\n",
    "    def __init__(self, book, member, loan_date):\n",
    "        self.book=book \n",
    "        self.member=member\n",
    "        self.loan_date= loan_date   \n",
    "    \n",
    "    def get_loan_details(self):\n",
    "        return f\"book :{self.book.title}, member {self.member.name}, loan date:{self.loan_date}\" \n",
    "    \n",
    "\n"
   ]
  },
  {
   "cell_type": "code",
   "execution_count": 420,
   "id": "e4fa4e64",
   "metadata": {},
   "outputs": [],
   "source": [
    "class Library:\n",
    "    def __init__(self, library_name):\n",
    "        self.library_name=library_name \n",
    "        self.books=[]\n",
    "        self.members=[]\n",
    "        self.loan_books=[]\n",
    "\n",
    "    def add_book(self, book):\n",
    "        self.books.append(book)\n",
    "        return f\"the book {book.title} has been added to the library\" \n",
    "    \n",
    "    def add_member(self, member):\n",
    "        self.members.append(member)\n",
    "        return f\"{member.name} has been added as a member to the library\" \n",
    "    \n",
    "    def loan_book(self, book, member, loan_date):\n",
    "        self.loan_books.append(Loan(book,member))\n",
    "        return f\"loaned book:{book.title}, member name:{member.name}, loan date:{loan_date}\"\n",
    "    \n",
    "    def get_all_books(self):\n",
    "        return [book.get_book_details() for book in self.books]\n",
    "    \n",
    "    def get_all_members(self):\n",
    "        return [member.get_member_details() for member in self.members]\n",
    "    \n",
    "    def get_all_loans(self):\n",
    "        return [loan.get_loan_details() for loan in self.loan_books]"
   ]
  },
  {
   "cell_type": "code",
   "execution_count": 421,
   "id": "c8e86d74",
   "metadata": {},
   "outputs": [],
   "source": [
    "book1=Book(\n",
    "    title=\"The Story Book\", \n",
    "    author=\"Author 1\",\n",
    "    isbn=124534343\n",
    ")\n",
    "\n",
    "member1=Member(\n",
    "    name=\"Karan Varma\", \n",
    "    member_id=2345\n",
    ")"
   ]
  },
  {
   "cell_type": "code",
   "execution_count": 422,
   "id": "5ae5b039",
   "metadata": {},
   "outputs": [],
   "source": [
    "library1=Library(\n",
    "    library_name=\"City_library\"\n",
    ")"
   ]
  },
  {
   "cell_type": "code",
   "execution_count": 423,
   "id": "ccfd526b",
   "metadata": {},
   "outputs": [
    {
     "name": "stdout",
     "output_type": "stream",
     "text": [
      "the book The Story Book has been added to the library\n",
      "Karan Varma has been added as a member to the library\n"
     ]
    }
   ],
   "source": [
    "print(library1.add_book(book1))\n",
    "print(library1.add_member(member1))\n"
   ]
  },
  {
   "cell_type": "code",
   "execution_count": 424,
   "id": "f4ca9720",
   "metadata": {},
   "outputs": [
    {
     "ename": "TypeError",
     "evalue": "Loan.__init__() missing 1 required positional argument: 'loan_date'",
     "output_type": "error",
     "traceback": [
      "\u001b[1;31m---------------------------------------------------------------------------\u001b[0m",
      "\u001b[1;31mTypeError\u001b[0m                                 Traceback (most recent call last)",
      "Cell \u001b[1;32mIn[424], line 1\u001b[0m\n\u001b[1;32m----> 1\u001b[0m \u001b[38;5;28mprint\u001b[39m(\u001b[43mlibrary1\u001b[49m\u001b[38;5;241;43m.\u001b[39;49m\u001b[43mloan_book\u001b[49m\u001b[43m(\u001b[49m\n\u001b[0;32m      2\u001b[0m \u001b[43m    \u001b[49m\u001b[43mbook\u001b[49m\u001b[38;5;241;43m=\u001b[39;49m\u001b[43mbook1\u001b[49m\u001b[43m,\u001b[49m\n\u001b[0;32m      3\u001b[0m \u001b[43m    \u001b[49m\u001b[43mmember\u001b[49m\u001b[38;5;241;43m=\u001b[39;49m\u001b[43mmember1\u001b[49m\u001b[43m,\u001b[49m\u001b[43m \u001b[49m\n\u001b[0;32m      4\u001b[0m \u001b[43m    \u001b[49m\u001b[43mloan_date\u001b[49m\u001b[38;5;241;43m=\u001b[39;49m\u001b[38;5;124;43m\"\u001b[39;49m\u001b[38;5;124;43m22-11-1996\u001b[39;49m\u001b[38;5;124;43m\"\u001b[39;49m\n\u001b[0;32m      5\u001b[0m \u001b[43m)\u001b[49m)\n",
      "Cell \u001b[1;32mIn[420], line 17\u001b[0m, in \u001b[0;36mLibrary.loan_book\u001b[1;34m(self, book, member, loan_date)\u001b[0m\n\u001b[0;32m     16\u001b[0m \u001b[38;5;28;01mdef\u001b[39;00m \u001b[38;5;21mloan_book\u001b[39m(\u001b[38;5;28mself\u001b[39m, book, member, loan_date):\n\u001b[1;32m---> 17\u001b[0m     \u001b[38;5;28mself\u001b[39m\u001b[38;5;241m.\u001b[39mloan_books\u001b[38;5;241m.\u001b[39mappend(\u001b[43mLoan\u001b[49m\u001b[43m(\u001b[49m\u001b[43mbook\u001b[49m\u001b[43m,\u001b[49m\u001b[43mmember\u001b[49m\u001b[43m)\u001b[49m)\n\u001b[0;32m     18\u001b[0m     \u001b[38;5;28;01mreturn\u001b[39;00m \u001b[38;5;124mf\u001b[39m\u001b[38;5;124m\"\u001b[39m\u001b[38;5;124mloaned book:\u001b[39m\u001b[38;5;132;01m{\u001b[39;00mbook\u001b[38;5;241m.\u001b[39mtitle\u001b[38;5;132;01m}\u001b[39;00m\u001b[38;5;124m, member name:\u001b[39m\u001b[38;5;132;01m{\u001b[39;00mmember\u001b[38;5;241m.\u001b[39mname\u001b[38;5;132;01m}\u001b[39;00m\u001b[38;5;124m, loan date:\u001b[39m\u001b[38;5;132;01m{\u001b[39;00mloan_date\u001b[38;5;132;01m}\u001b[39;00m\u001b[38;5;124m\"\u001b[39m\n",
      "\u001b[1;31mTypeError\u001b[0m: Loan.__init__() missing 1 required positional argument: 'loan_date'"
     ]
    }
   ],
   "source": [
    "print(library1.loan_book(\n",
    "    book=book1,\n",
    "    member=member1, \n",
    "    loan_date=\"22-11-1996\"\n",
    "))"
   ]
  },
  {
   "cell_type": "code",
   "execution_count": 425,
   "id": "6536e987",
   "metadata": {},
   "outputs": [
    {
     "name": "stdout",
     "output_type": "stream",
     "text": [
      "The book 'The Story Book' has been added to the library\n",
      "Karan Varma has been added as a member to the library\n",
      "Loaned book: The Story Book, Member name: Karan Varma, Loan date: 22-11-1996\n",
      "All books in the library:\n",
      "Book title: The Story Book, Book author: Author 1, Book ISBN: 124534343\n",
      "All members in the library:\n",
      "Member name: Karan Varma, Member ID: 2345\n",
      "All loans in the library:\n",
      "Book: The Story Book, Member: Karan Varma, Loan date: 22-11-1996\n"
     ]
    }
   ],
   "source": [
    "# Library Management System\n",
    "\n",
    "class Book:\n",
    "    def __init__(self, title, author, isbn):\n",
    "        self.title = title \n",
    "        self.author = author\n",
    "        self.isbn = isbn \n",
    "    \n",
    "    def get_book_details(self):\n",
    "        return f\"Book title: {self.title}, Book author: {self.author}, Book ISBN: {self.isbn}\"\n",
    "\n",
    "class Member:\n",
    "    def __init__(self, name, member_id):\n",
    "        self.name = name \n",
    "        self.member_id = member_id\n",
    "    \n",
    "    def get_member_details(self):\n",
    "        return f\"Member name: {self.name}, Member ID: {self.member_id}\"\n",
    "\n",
    "class Loan:\n",
    "    def __init__(self, book, member, loan_date):\n",
    "        self.book = book \n",
    "        self.member = member\n",
    "        self.loan_date = loan_date   \n",
    "    \n",
    "    def get_loan_details(self):\n",
    "        return f\"Book: {self.book.title}, Member: {self.member.name}, Loan date: {self.loan_date}\" \n",
    "\n",
    "class Library:\n",
    "    def __init__(self, library_name):\n",
    "        self.library_name = library_name \n",
    "        self.books = []\n",
    "        self.members = []\n",
    "        self.loan_books = []\n",
    "\n",
    "    def add_book(self, book):\n",
    "        self.books.append(book)\n",
    "        return f\"The book '{book.title}' has been added to the library\" \n",
    "    \n",
    "    def add_member(self, member):\n",
    "        self.members.append(member)\n",
    "        return f\"{member.name} has been added as a member to the library\" \n",
    "    \n",
    "    def loan_book(self, book, member, loan_date):\n",
    "        self.loan_books.append(Loan(book, member, loan_date))\n",
    "        return f\"Loaned book: {book.title}, Member name: {member.name}, Loan date: {loan_date}\"\n",
    "    \n",
    "    def get_all_books(self):\n",
    "        return [book.get_book_details() for book in self.books]\n",
    "    \n",
    "    def get_all_members(self):\n",
    "        return [member.get_member_details() for member in self.members]\n",
    "    \n",
    "    def get_all_loans(self):\n",
    "        return [loan.get_loan_details() for loan in self.loan_books]\n",
    "\n",
    "# Create instances of Book and Member\n",
    "book1 = Book(\n",
    "    title=\"The Story Book\", \n",
    "    author=\"Author 1\",\n",
    "    isbn=\"124534343\"\n",
    ")\n",
    "\n",
    "member1 = Member(\n",
    "    name=\"Karan Varma\", \n",
    "    member_id=\"2345\"\n",
    ")\n",
    "\n",
    "# Create a Library instance\n",
    "library1 = Library(\n",
    "    library_name=\"City Library\"\n",
    ")\n",
    "\n",
    "# Add book and member to the library\n",
    "print(library1.add_book(book1))\n",
    "print(library1.add_member(member1))\n",
    "\n",
    "# Loan the book to the member\n",
    "print(library1.loan_book(\n",
    "    book=book1,\n",
    "    member=member1, \n",
    "    loan_date=\"22-11-1996\"\n",
    "))\n",
    "\n",
    "# Get all books, members, and loans\n",
    "print(\"All books in the library:\")\n",
    "print(\"\\n\".join(library1.get_all_books()))\n",
    "\n",
    "print(\"All members in the library:\")\n",
    "print(\"\\n\".join(library1.get_all_members()))\n",
    "\n",
    "print(\"All loans in the library:\")\n",
    "print(\"\\n\".join(library1.get_all_loans()))\n"
   ]
  },
  {
   "cell_type": "code",
   "execution_count": 173,
   "id": "19157c3d",
   "metadata": {},
   "outputs": [],
   "source": [
    "#Library Management System \n",
    "class Book:\n",
    "    def __init__(self, book_title, book_author, book_isbn):\n",
    "        self.book_title= book_title \n",
    "        self.book_author= book_author \n",
    "        self.book_isbn= book_isbn \n",
    "    \n",
    "    def get_book_details(self):\n",
    "        return f\"book_name:{self.book_title}, book_author:{self.book_author}, book_isbn:{self.book_isbn}\" "
   ]
  },
  {
   "cell_type": "code",
   "execution_count": 174,
   "id": "947ec2c7",
   "metadata": {},
   "outputs": [],
   "source": [
    "class Member:\n",
    "    def __init__(self, member_name, member_id):\n",
    "        self.member_name= member_name \n",
    "        self.member_id= member_id \n",
    "    \n",
    "    def get_member_details(self):\n",
    "        return f\"Member name:{self.member_name}, member id:{self.member_id}\" "
   ]
  },
  {
   "cell_type": "code",
   "execution_count": 175,
   "id": "19a14d55",
   "metadata": {},
   "outputs": [],
   "source": [
    "class Loan:\n",
    "    def __init__(self, book, member, loan_date):\n",
    "        self.book=book \n",
    "        self.member=member\n",
    "        self.loan_date=loan_date  \n",
    "    \n",
    "    def get_loan_details(self):\n",
    "        return f\"book_name:{self.book.book_title}, member_name:{self.member.member_name}, loan_date:{self.loan_date}\""
   ]
  },
  {
   "cell_type": "code",
   "execution_count": 185,
   "id": "9057838e",
   "metadata": {},
   "outputs": [],
   "source": [
    "class Library:\n",
    "    def __init__(self, library_name):\n",
    "        self.library_name= library_name \n",
    "        self.books=[]\n",
    "        self.members=[]\n",
    "        self.loans=[]\n",
    "\n",
    "    def add_books(self, book):\n",
    "        self.books.append(book)\n",
    "        return f\"book: {book.book_title}, has been added to the Library\" \n",
    "    \n",
    "    def add_member(self, member):\n",
    "        self.members.append(member)\n",
    "        return f\"the member:{member.member_name},has been added to the Library\" \n",
    "    \n",
    "    def loan_book(self, book, member, loan_date):\n",
    "        self.loans.append(Loan(book, member, loan_date))\n",
    "        return f\"loan_details::book_name: {book.book_title}, member_name:{member.member_name}, loan date:{loan_date}\"\n",
    "    \n",
    "    def get_all_books(self):\n",
    "        return [current_book.get_book_details() for current_book in self.books]\n",
    "    \n",
    "    def get_all_members(self):\n",
    "        return [current_member.get_member_details() for current_member in self.members]\n",
    "    \n",
    "    def get_all_loans(self):\n",
    "        return [current_loan.get_loan_details() for current_loan in self.loans]"
   ]
  },
  {
   "cell_type": "code",
   "execution_count": 186,
   "id": "3cc5e453",
   "metadata": {},
   "outputs": [],
   "source": [
    "book1=Book(\n",
    "    book_title=\"the Kite Runner\", \n",
    "    book_author= \"Khalid Husain\", \n",
    "    book_isbn=\"13khg34j5g5\"\n",
    ")\n",
    "book2=Book(\n",
    "    book_title=\"the thousand splandid suns\", \n",
    "    book_author=\"khalid Husain\", \n",
    "    book_isbn=\"12434f1234rh12h44\"\n",
    ")"
   ]
  },
  {
   "cell_type": "code",
   "execution_count": 187,
   "id": "23ab1f50",
   "metadata": {},
   "outputs": [
    {
     "data": {
      "text/plain": [
       "'book_name:the Kite Runner, book_author:Khalid Husain, book_isbn:13khg34j5g5'"
      ]
     },
     "execution_count": 187,
     "metadata": {},
     "output_type": "execute_result"
    }
   ],
   "source": [
    "book1.get_book_details()\n"
   ]
  },
  {
   "cell_type": "code",
   "execution_count": 188,
   "id": "cad7c009",
   "metadata": {},
   "outputs": [],
   "source": [
    "member1=Member(\n",
    "    member_name= \"Jay Joshi\", \n",
    "    member_id=233252231, \n",
    ")\n",
    "\n",
    "member2=Member(\n",
    "    member_name=\"Rakesh sharma\",\n",
    "    member_id=12435322\n",
    ")"
   ]
  },
  {
   "cell_type": "code",
   "execution_count": 189,
   "id": "7d66c49b",
   "metadata": {},
   "outputs": [
    {
     "data": {
      "text/plain": [
       "'Member name:Jay Joshi, member id:233252231'"
      ]
     },
     "execution_count": 189,
     "metadata": {},
     "output_type": "execute_result"
    }
   ],
   "source": [
    "member1.get_member_details()"
   ]
  },
  {
   "cell_type": "code",
   "execution_count": null,
   "id": "00feca53",
   "metadata": {},
   "outputs": [],
   "source": []
  },
  {
   "cell_type": "code",
   "execution_count": 190,
   "id": "4d9010c8",
   "metadata": {},
   "outputs": [],
   "source": [
    "\n",
    "library1=Library(\n",
    "    library_name=\"City_Library\",\n",
    ")"
   ]
  },
  {
   "cell_type": "code",
   "execution_count": 191,
   "id": "b70070ab",
   "metadata": {},
   "outputs": [
    {
     "name": "stdout",
     "output_type": "stream",
     "text": [
      "book: the Kite Runner, has been added to the Library\n",
      "book: the thousand splandid suns, has been added to the Library\n"
     ]
    }
   ],
   "source": [
    "print(library1.add_books(book1))\n",
    "print(library1.add_books(book2))"
   ]
  },
  {
   "cell_type": "code",
   "execution_count": 192,
   "id": "5810bb96",
   "metadata": {},
   "outputs": [
    {
     "name": "stdout",
     "output_type": "stream",
     "text": [
      "the member:Jay Joshi,has been added to the Library\n",
      "the member:Rakesh sharma,has been added to the Library\n"
     ]
    }
   ],
   "source": [
    "print(library1.add_member(member1))\n",
    "print(library1.add_member(member2))"
   ]
  },
  {
   "cell_type": "code",
   "execution_count": 193,
   "id": "c02a0516",
   "metadata": {},
   "outputs": [
    {
     "name": "stdout",
     "output_type": "stream",
     "text": [
      "loan_details::book_name: the Kite Runner, member_name:Jay Joshi, loan date:12/11/2024\n",
      "loan_details::book_name: the thousand splandid suns, member_name:Rakesh sharma, loan date:23/11/2022\n"
     ]
    }
   ],
   "source": [
    "print(library1.loan_book(book1, member1, \"12/11/2024\"))\n",
    "print(library1.loan_book(book2, member2, \"23/11/2022\"))"
   ]
  },
  {
   "cell_type": "code",
   "execution_count": 194,
   "id": "54287238",
   "metadata": {},
   "outputs": [
    {
     "data": {
      "text/plain": [
       "['book_name:the Kite Runner, book_author:Khalid Husain, book_isbn:13khg34j5g5',\n",
       " 'book_name:the thousand splandid suns, book_author:khalid Husain, book_isbn:12434f1234rh12h44']"
      ]
     },
     "execution_count": 194,
     "metadata": {},
     "output_type": "execute_result"
    }
   ],
   "source": [
    "library1.get_all_books()"
   ]
  },
  {
   "cell_type": "code",
   "execution_count": 195,
   "id": "c40a0c41",
   "metadata": {},
   "outputs": [
    {
     "data": {
      "text/plain": [
       "['Member name:Jay Joshi, member id:233252231',\n",
       " 'Member name:Rakesh sharma, member id:12435322']"
      ]
     },
     "execution_count": 195,
     "metadata": {},
     "output_type": "execute_result"
    }
   ],
   "source": [
    "library1.get_all_members()"
   ]
  },
  {
   "cell_type": "code",
   "execution_count": 196,
   "id": "3d1674f7",
   "metadata": {},
   "outputs": [
    {
     "data": {
      "text/plain": [
       "['book_name:the Kite Runner, member_name:Jay Joshi, loan_date:12/11/2024',\n",
       " 'book_name:the thousand splandid suns, member_name:Rakesh sharma, loan_date:23/11/2022']"
      ]
     },
     "execution_count": 196,
     "metadata": {},
     "output_type": "execute_result"
    }
   ],
   "source": [
    "library1.get_all_loans()"
   ]
  },
  {
   "cell_type": "markdown",
   "id": "4ff59363",
   "metadata": {},
   "source": [
    "# New Concept: Abstraction in Python"
   ]
  },
  {
   "cell_type": "code",
   "execution_count": 1,
   "id": "8580e0f0",
   "metadata": {},
   "outputs": [],
   "source": [
    " from abc import ABC, abstractmethod"
   ]
  },
  {
   "cell_type": "code",
   "execution_count": 2,
   "id": "00eceaf4",
   "metadata": {},
   "outputs": [
    {
     "name": "stdout",
     "output_type": "stream",
     "text": [
      "Woof\n",
      "Meow\n"
     ]
    }
   ],
   "source": [
    "class Animal(ABC):\n",
    "    @abstractmethod \n",
    "    def make_sound(self):\n",
    "        pass \n",
    "\n",
    "class Dog(Animal): \n",
    "    def make_sound(self):\n",
    "        return \"Woof\" \n",
    "\n",
    "class Cat(Animal):\n",
    "    def make_sound(self):\n",
    "        return \"Meow\" \n",
    "\n",
    "\n",
    "animals=[Dog(), Cat()]\n",
    "for animal in animals:\n",
    "    print(animal.make_sound())"
   ]
  },
  {
   "cell_type": "markdown",
   "id": "2eef9a9a",
   "metadata": {},
   "source": [
    "Abstraction Challenge: Document Reader"
   ]
  },
  {
   "cell_type": "code",
   "execution_count": 5,
   "id": "c6e984d0",
   "metadata": {},
   "outputs": [
    {
     "name": "stdout",
     "output_type": "stream",
     "text": [
      "Reading PDF document...\n",
      "Opening Word document...\n",
      "Reading Plain text document...\n"
     ]
    }
   ],
   "source": [
    "from abc import ABC, abstractmethod\n",
    "\n",
    "class Document(ABC):\n",
    "    @abstractmethod \n",
    "    \n",
    "    def read(self):\n",
    "        pass \n",
    "\n",
    "class PDFDocument(Document):\n",
    "    def read(self):\n",
    "        return f\"Reading PDF document...\" \n",
    "    \n",
    "class WordDocument(Document):\n",
    "    def read(self):\n",
    "        return f\"Opening Word document...\" \n",
    "    \n",
    "class TextDocument(Document):\n",
    "    def read(self):\n",
    "        return f\"Reading Plain text document...\" \n",
    "    \n",
    "\n",
    "documents=[\n",
    "    PDFDocument(),\n",
    "    WordDocument(),\n",
    "    TextDocument()\n",
    "]\n",
    "\n",
    "for document in documents:\n",
    "    print(document.read())"
   ]
  },
  {
   "cell_type": "markdown",
   "id": "96f18864",
   "metadata": {},
   "source": [
    "Combined OOP Challenge: Smart Home Device Control System"
   ]
  },
  {
   "cell_type": "code",
   "execution_count": 82,
   "id": "81a4993f",
   "metadata": {},
   "outputs": [],
   "source": [
    "from abc import ABC, abstractmethod \n",
    "\n",
    "class SmartDevice(ABC): \n",
    "    def __init__(self, is_on=False):\n",
    "        self.__is_on=is_on \n",
    "\n",
    "    def toggle_power(self):\n",
    "        self.__is_on= not self.__is_on \n",
    "    \n",
    "    def is_on(self):\n",
    "        return self.__is_on\n",
    "    \n",
    "    @abstractmethod\n",
    "    def perform_action(self): \n",
    "        pass \n",
    "    "
   ]
  },
  {
   "cell_type": "code",
   "execution_count": 83,
   "id": "a7911f9b",
   "metadata": {},
   "outputs": [],
   "source": [
    "class SmartLight(SmartDevice):\n",
    "    def perform_action(self): \n",
    "        if not self.is_on():\n",
    "            self.toggle_power()\n",
    "            print(\"SmartLight is now ON\") \n",
    "        print(\"Adjusting brightness...\") \n",
    "    \n",
    "class Thermostat(SmartDevice):\n",
    "    def perform_action(self):\n",
    "        if not self.is_on():\n",
    "            self.toggle_power()\n",
    "            print(\"Thermostat is now ON\")\n",
    "        print(\"Setting temperature...\") \n",
    "    \n",
    "class SecurityCamera(SmartDevice):\n",
    "    def perform_action(self):\n",
    "        if not self.is_on():\n",
    "            self.toggle_power()\n",
    "            print(\"SecurityCamera is now ON\")\n",
    "        print(\"Starting recording...\")\n",
    "        \n",
    "\n"
   ]
  },
  {
   "cell_type": "code",
   "execution_count": 85,
   "id": "69f87223",
   "metadata": {},
   "outputs": [
    {
     "name": "stdout",
     "output_type": "stream",
     "text": [
      "Adjusting brightness...\n",
      "Thermostat is now ON\n",
      "Setting temperature...\n",
      "SecurityCamera is now ON\n",
      "Starting recording...\n"
     ]
    }
   ],
   "source": [
    "devices=[\n",
    "    SmartLight(is_on=True),\n",
    "    Thermostat(is_on=False),\n",
    "    SecurityCamera(is_on=False) \n",
    "]\n",
    "\n",
    "for device in devices:\n",
    "    device.perform_action()"
   ]
  },
  {
   "cell_type": "code",
   "execution_count": 90,
   "id": "10447704",
   "metadata": {},
   "outputs": [],
   "source": [
    "from abc import ABC, abstractmethod\n",
    "\n",
    "class SmartDevice(ABC):\n",
    "    def __init__(self, is_on=False):\n",
    "        self.__is_on=is_on \n",
    "    \n",
    "    def is_on(self):\n",
    "        return self.__is_on\n",
    "    \n",
    "    def toggle_power(self):\n",
    "        self.__is_on= not self.__is_on \n",
    "    \n",
    "    @abstractmethod \n",
    "    def perform_action(self):\n",
    "        pass\n",
    "\n",
    "class SmartLight(SmartDevice):\n",
    "    def perform_action(self):\n",
    "        if not self.is_on():\n",
    "            self.toggle_power()\n",
    "            print(\"SmartLight is now ON\")\n",
    "        print(\"Adjusting brightness...\") \n",
    "\n",
    "class Thermostat(SmartDevice): \n",
    "    def perform_action(self):\n",
    "        if not self.is_on():\n",
    "            self.toggle_power()\n",
    "            print(\"Thermostat is now ON\")\n",
    "        print(\"Setting temperature...\") \n",
    "\n",
    "class SecurityCamera(SmartDevice):\n",
    "    def perform_action(self):\n",
    "        if not self.is_on():\n",
    "            self.toggle_power()\n",
    "            print(\"SecurityCamera is now ON\")\n",
    "        print(\"starting recording...\") \n",
    "    "
   ]
  },
  {
   "cell_type": "code",
   "execution_count": 91,
   "id": "971be4af",
   "metadata": {},
   "outputs": [
    {
     "name": "stdout",
     "output_type": "stream",
     "text": [
      "SmartLight is now ON\n",
      "Adjusting brightness...\n",
      "Thermostat is now ON\n",
      "Setting temperature...\n",
      "SecurityCamera is now ON\n",
      "starting recording...\n"
     ]
    }
   ],
   "source": [
    "devices=[\n",
    "    SmartLight(),\n",
    "    Thermostat(),\n",
    "    SecurityCamera()\n",
    "]\n",
    "\n",
    "for device in devices:\n",
    "    device.perform_action()"
   ]
  },
  {
   "cell_type": "markdown",
   "id": "b18077e4",
   "metadata": {},
   "source": [
    "### Practice challenges (encapsulation, inheritance, polymorphism, abstraction)"
   ]
  },
  {
   "cell_type": "markdown",
   "id": "b15c5370",
   "metadata": {},
   "source": [
    "Challenge: Animal Feeding System (Simple but Complete OOP Practice)"
   ]
  },
  {
   "cell_type": "code",
   "execution_count": 114,
   "id": "5298cfbe",
   "metadata": {},
   "outputs": [],
   "source": [
    "from abc import ABC, abstractmethod\n",
    "\n",
    "class Animal(ABC):\n",
    "    def __init__(self, is_hungry=True):\n",
    "        self.__is_hungry=is_hungry \n",
    "\n",
    "    def is_hungry(self):\n",
    "        return self.__is_hungry\n",
    "        \n",
    "    def toggle_hunger(self):\n",
    "        self.__is_hungry= not self.__is_hungry\n",
    "\n",
    "    @abstractmethod \n",
    "    def feed(self):\n",
    "        pass\n",
    "\n",
    "class Lion(Animal):\n",
    "    def feed(self):\n",
    "        if self.is_hungry():\n",
    "            self.toggle_hunger()\n",
    "            print(\"Lion is now full\") \n",
    "        else:\n",
    "            print(\"Lion is already full\")\n",
    "\n",
    "class Elephant(Animal):\n",
    "    def feed(self):\n",
    "        if self.is_hungry():\n",
    "            self.toggle_hunger() \n",
    "            print(\"Elephant enjoyed the food\")\n",
    "        else:\n",
    "            print(\"Elephant is not hungry\") \n",
    "\n",
    "class Monkey(Animal):\n",
    "    def feed(self):\n",
    "        if self.is_hungry():\n",
    "            self.toggle_hunger()\n",
    "            print(\"Monkey munches a banana\") \n",
    "        else:\n",
    "            print(\"Monkey doesn't want more food\")"
   ]
  },
  {
   "cell_type": "code",
   "execution_count": 115,
   "id": "9e16164d",
   "metadata": {},
   "outputs": [
    {
     "name": "stdout",
     "output_type": "stream",
     "text": [
      "Lion is now full\n",
      "Elephant enjoyed the food\n",
      "Monkey munches a banana\n",
      "Lion is already full\n",
      "Elephant is not hungry\n",
      "Monkey doesn't want more food\n"
     ]
    }
   ],
   "source": [
    "Animals1=[\n",
    "    Lion(), \n",
    "    Elephant(),\n",
    "    Monkey()\n",
    "]\n",
    "\n",
    "for animalk in Animals1:\n",
    "    animalk.feed()\n",
    "\n",
    "for animalk in Animals1:\n",
    "    animalk.feed()"
   ]
  },
  {
   "cell_type": "markdown",
   "id": "b4511497",
   "metadata": {},
   "source": [
    "Challenge: Bank Account System"
   ]
  },
  {
   "cell_type": "code",
   "execution_count": 10,
   "id": "a67520fc",
   "metadata": {},
   "outputs": [],
   "source": [
    "from abc import ABC, abstractmethod \n",
    "\n",
    "class BankAccount(ABC):\n",
    "    def __init__(self, balance):\n",
    "        self.__balance=balance \n",
    "    \n",
    "    def get_balance(self):\n",
    "        return self.__balance \n",
    "    \n",
    "    def deposit(self, amount):\n",
    "        if amount>0:\n",
    "            self.__balance+=amount \n",
    "            return f\"[{self.__class__.__name__}]${amount} deposited. Current balance:${self.__balance}\" \n",
    "        return f\"[{self.__class__.__name__}] Invalid deposit amount\" \n",
    "    \n",
    "    def withdraw(self, amount): \n",
    "        if amount>0: \n",
    "            if amount<=self.__balance: \n",
    "                self.__balance-=amount \n",
    "                return f\"[{self.__class__.__name__}] ${amount} withdrawn. Current balance:${self.__balance}\"\n",
    "            return f\"[{self.__class__.__name__}] Insufficient balance\" \n",
    "        return f\"[{self.__class__.__name__}] Invalid withdrawal amount\" \n",
    "    \n",
    "    @abstractmethod \n",
    "    def calculate_interest(self):\n",
    "        pass \n",
    "\n",
    "    \n"
   ]
  },
  {
   "cell_type": "code",
   "execution_count": 11,
   "id": "d4498186",
   "metadata": {},
   "outputs": [],
   "source": [
    "class SavingAccount(BankAccount):\n",
    "    def calculate_interest(self, interest_rate=5):\n",
    "        interest=self.get_balance()*(interest_rate/100)\n",
    "        return f\"{self.__class__.__name__} interest:$ {interest:.2f}\"\n",
    "    \n",
    "class CheckingAccount(BankAccount):\n",
    "    def calculate_interest(self, interest_rate=2): \n",
    "        interest=self.get_balance()*(interest_rate/100)\n",
    "        return f\"{self.__class__.__name__} interest:$ {interest}\" \n",
    "\n",
    "class StudentAccount(BankAccount):\n",
    "    def calculate_interest(self, intrest_rate=1):\n",
    "        interest=self.get_balance()*(intrest_rate/100) \n",
    "        return f\"{self.__class__.__name__} interest:${interest}\"\n",
    "\n",
    "\n",
    "\n",
    "\n"
   ]
  },
  {
   "cell_type": "code",
   "execution_count": 12,
   "id": "7a76d23c",
   "metadata": {},
   "outputs": [
    {
     "name": "stdout",
     "output_type": "stream",
     "text": [
      "===============Initial Balance:===================\n",
      "SavingAccount:$1000\n",
      "CheckingAccount:$2500\n",
      "StudentAccount:$500\n",
      "=================performing Deposits and withdrawals:================\n",
      "[SavingAccount]$1000 deposited. Current balance:$2000\n",
      "[SavingAccount] $300 withdrawn. Current balance:$1700\n",
      "[CheckingAccount]$1000 deposited. Current balance:$3500\n",
      "[CheckingAccount] $300 withdrawn. Current balance:$3200\n",
      "[StudentAccount]$1000 deposited. Current balance:$1500\n",
      "[StudentAccount] $300 withdrawn. Current balance:$1200\n",
      "==================Interest Calculations:==========================\n",
      "SavingAccount interest:$ 85.00\n",
      "CheckingAccount interest:$ 64.0\n",
      "StudentAccount interest:$12.0\n"
     ]
    }
   ],
   "source": [
    "accounts=[\n",
    "    SavingAccount(balance=1000),\n",
    "    CheckingAccount(balance=2500), \n",
    "    StudentAccount(500)\n",
    "]\n",
    "\n",
    "print(\"===============Initial Balance:===================\") \n",
    "for acc in accounts:\n",
    "    print(f\"{acc.__class__.__name__}:${acc.get_balance()}\") \n",
    "\n",
    "\n",
    "print(\"=================performing Deposits and withdrawals:================\") \n",
    "for acc in accounts:\n",
    "    print(acc.deposit(1000)) \n",
    "    print(acc.withdraw(300)) \n",
    "\n",
    "\n",
    "print(\"==================Interest Calculations:==========================\")\n",
    "for acc in accounts:\n",
    "    print(acc.calculate_interest())\n",
    "\n",
    "\n"
   ]
  },
  {
   "cell_type": "markdown",
   "id": "ae2ca7aa",
   "metadata": {},
   "source": [
    "Challenge: Vehicle Rental System"
   ]
  },
  {
   "cell_type": "code",
   "execution_count": 2,
   "id": "7168bd0a",
   "metadata": {},
   "outputs": [],
   "source": [
    "from abc import ABC, abstractmethod \n",
    "\n",
    "class Vehicle(ABC):\n",
    "    def __init__(self, vehicle_id, is_available, rental_rate):\n",
    "        self.__vehicle_id=vehicle_id \n",
    "        self.__is_available= is_available \n",
    "        self.__rental_rate = rental_rate \n",
    "    \n",
    "    def get_vehicle_id(self):\n",
    "        return self.__vehicle_id \n",
    "    \n",
    "    def is_available(self):\n",
    "        return self.__is_available \n",
    "    \n",
    "    def get_rental_rate(self): \n",
    "        return self.__rental_rate \n",
    "    \n",
    "    def toggle_availability(self):\n",
    "        self.__is_available = not self.__is_available \n",
    "        state = \"available\" if self.__is_available else \"Unavailable\"  \n",
    "        return f\"[{self.__class__.__name__}] is now {state}\" \n",
    "    \n",
    "    @abstractmethod \n",
    "    def calculate_rent(self,days):\n",
    "        pass \n",
    "\n",
    "    @abstractmethod\n",
    "    def perform_maintenance(self):\n",
    "        pass"
   ]
  },
  {
   "cell_type": "code",
   "execution_count": 3,
   "id": "c47369aa",
   "metadata": {},
   "outputs": [],
   "source": [
    "class Car(Vehicle):\n",
    "    def calculate_rent(self,days):\n",
    "        rent=self.get_rental_rate()*days \n",
    "        return f\"[{self.__class__.__name__}] Rent for {days} days:${rent}\" \n",
    "    \n",
    "    def perform_maintenance(self):\n",
    "        return f\"{self.__class__.__name__} Maintenance: oil change & tire rotation\" \n",
    "\n",
    "class Bike(Vehicle):\n",
    "    def calculate_rent(self,days):\n",
    "        rent=self.get_rental_rate()*days\n",
    "        return f\"[{self.__class__.__name__}] Rent for {days} days:${rent}\" \n",
    "    \n",
    "    def perform_maintenance(self):\n",
    "        return f\"{self.__class__.__name__} Maintenance: chain Lubrication\" \n",
    "    \n",
    "class Truck(Vehicle):\n",
    "    def calculate_rent(self, days):\n",
    "        rent=self.get_rental_rate()*days \n",
    "        return f\"[{self.__class__.__name__}] Rent for {days} days: ${rent}\"\n",
    "    \n",
    "    def perform_maintenance(self):\n",
    "        return f\"{self.__class__.__name__} Maintenance: Engine check & cargo inspection\" \n",
    "    \n"
   ]
  },
  {
   "cell_type": "code",
   "execution_count": 4,
   "id": "b65fc4dd",
   "metadata": {},
   "outputs": [
    {
     "name": "stdout",
     "output_type": "stream",
     "text": [
      "Vehicle ID: C001 | Available: True\n",
      "[Car] Rent for 5 days:$250\n",
      "[Car] is now Unavailable\n",
      "Car Maintenance: oil change & tire rotation\n",
      "========================================\n",
      "Vehicle ID: B001 | Available: True\n",
      "[Bike] Rent for 5 days:$100\n",
      "[Bike] is now Unavailable\n",
      "Bike Maintenance: chain Lubrication\n",
      "========================================\n",
      "Vehicle ID: T001 | Available: True\n",
      "[Truck] Rent for 5 days: $500\n",
      "[Truck] is now Unavailable\n",
      "Truck Maintenance: Engine check & cargo inspection\n",
      "========================================\n"
     ]
    }
   ],
   "source": [
    "vehicles=[\n",
    "    Car(vehicle_id=\"C001\", is_available=True, rental_rate=50),\n",
    "    Bike(vehicle_id=\"B001\", is_available=True, rental_rate=20), \n",
    "    Truck(vehicle_id=\"T001\", is_available=True, rental_rate=100) \n",
    "]\n",
    "\n",
    "for v in vehicles:\n",
    "    print(f\"Vehicle ID: {v.get_vehicle_id()} | Available: {v.is_available()}\")\n",
    "    print(v.calculate_rent(days=5)) \n",
    "    print(v.toggle_availability()) \n",
    "    print(v.perform_maintenance())\n",
    "    print(\"=\"*40)"
   ]
  },
  {
   "cell_type": "markdown",
   "id": "8a7d92df",
   "metadata": {},
   "source": [
    "# Composition"
   ]
  },
  {
   "cell_type": "markdown",
   "id": "8af41d95",
   "metadata": {},
   "source": [
    "What is Composition?\n",
    "Composition means that one class has another class as an attribute.\n",
    "\n",
    "This models a “has-a” relationship.\n",
    "\n",
    "It helps reuse behavior without extending via inheritance."
   ]
  },
  {
   "cell_type": "markdown",
   "id": "be805e2f",
   "metadata": {},
   "source": [
    "Example in English:\n",
    "A Car has an Engine\n",
    "\n",
    "A Student has Courses\n",
    "\n",
    "A Library has Books\n",
    "\n",
    "Not everything should be done using inheritance (e.g., Car is not a type of Engine, but it contains one).\n",
    "\n"
   ]
  },
  {
   "cell_type": "markdown",
   "id": "17a60319",
   "metadata": {},
   "source": [
    "| Inheritance                      | Composition                          |\n",
    "| -------------------------------- | ------------------------------------ |\n",
    "| “is-a” relationship              | “has-a” relationship                 |\n",
    "| Reuses behavior via parent class | Reuses behavior via contained object |\n",
    "| Tight coupling                   | Loose and flexible                   |\n"
   ]
  },
  {
   "cell_type": "code",
   "execution_count": 8,
   "id": "f46896db",
   "metadata": {},
   "outputs": [
    {
     "name": "stdout",
     "output_type": "stream",
     "text": [
      "Computer Model: Dell XPS | Intel Processor with 8 cores\n"
     ]
    }
   ],
   "source": [
    "class Processor:\n",
    "    def __init__(self, brand, cores): \n",
    "        self.brand=brand \n",
    "        self.cores=cores \n",
    "\n",
    "    \n",
    "    def get_specs(self):\n",
    "        return f\"{self.brand} Processor with {self.cores} cores\" \n",
    "    \n",
    "class Computer:\n",
    "    def __init__(self, model, processor:Processor):\n",
    "        self.model=model \n",
    "        self.processor=processor  \n",
    "    \n",
    "    def show_detials(self):\n",
    "        return f\"Computer Model: {self.model} | {self.processor.get_specs()}\"\n",
    "\n",
    "intel=Processor(brand=\"Intel\", cores=8) \n",
    "my_pc= Computer(model=\"Dell XPS\", processor=intel) \n",
    "\n",
    "print(my_pc.show_detials())"
   ]
  },
  {
   "cell_type": "markdown",
   "id": "b334d5d6",
   "metadata": {},
   "source": [
    " Summary: What You Just Learned\n",
    "Computer has a Processor (composition)\n",
    "\n",
    "We're not inheriting, we're using another class’s behavior inside our own\n",
    "\n",
    "This gives us more flexibility, better code organization, and modularity\n",
    "\n"
   ]
  },
  {
   "cell_type": "markdown",
   "id": "569939b2",
   "metadata": {},
   "source": [
    "### Challenge: Student and Courses (Composition with List)"
   ]
  },
  {
   "cell_type": "code",
   "execution_count": null,
   "id": "9dce7ec7",
   "metadata": {},
   "outputs": [
    {
     "name": "stdout",
     "output_type": "stream",
     "text": [
      "Student: Amit\n",
      "Student enrolled in course: Math\n",
      "Student enrolled in course: Science\n",
      "Enrolled course: Math - Grade: 85\n",
      "Enrolled course: Science - Grade: 90\n",
      "Average Grade: 87.50\n"
     ]
    }
   ],
   "source": [
    "\n",
    "class Course:\n",
    "    def __init__(self, course_name, grade):\n",
    "        self.course_name = course_name\n",
    "        self.grade = grade\n",
    "\n",
    "    def get_info(self):\n",
    "        return f\"{self.course_name} - Grade: {self.grade}\"\n",
    "\n",
    "\n",
    "\n",
    "class Student:\n",
    "    def __init__(self, name):\n",
    "        self.name = name\n",
    "        self.__courses = []  \n",
    "\n",
    "    def get_student(self):\n",
    "        return f\"Student: {self.name}\"\n",
    "\n",
    "    # ✅ IMPROVED: Removed default argument (course=Course) — not needed\n",
    "    def enroll(self, course):\n",
    "        self.__courses.append(course)\n",
    "        return f\"Student enrolled in course: {course.course_name}\"\n",
    "\n",
    "    def show_courses(self):\n",
    "        for c in self.__courses:\n",
    "            print(f\"Enrolled course: {c.get_info()}\")\n",
    "\n",
    "    # ✅ IMPROVED: Handles case where no courses are enrolled\n",
    "    # ✅ IMPROVED: Cleaner average calculation using generator expression\n",
    "    def get_average_grade(self):\n",
    "        if not self.__courses:\n",
    "            return \"No courses enrolled.\"  # ✅ avoids ZeroDivisionError\n",
    "        avg = sum(c.grade for c in self.__courses) / len(self.__courses)\n",
    "        return f\"Average Grade: {avg:.2f}\"  # ✅ formatting to 2 decimal places\n",
    "\n",
    "\n",
    "# ✅ Creating course instances\n",
    "math = Course(\"Math\", 85)\n",
    "science = Course(\"Science\", 90)\n",
    "\n",
    "# ✅ Creating a student and enrolling in courses\n",
    "student1 = Student(\"Amit\")\n",
    "print(student1.get_student())\n",
    "\n",
    "# ✅ ENROLLMENT and OUTPUT\n",
    "print(student1.enroll(math))     # ✅ passes a Course object explicitly\n",
    "print(student1.enroll(science))  # ✅ correct composition in action\n",
    "\n",
    "# ✅ Displaying all enrolled courses and average\n",
    "student1.show_courses()\n",
    "print(student1.get_average_grade())\n"
   ]
  },
  {
   "cell_type": "code",
   "execution_count": null,
   "id": "2adb3e17",
   "metadata": {},
   "outputs": [],
   "source": []
  }
 ],
 "metadata": {
  "kernelspec": {
   "display_name": "base",
   "language": "python",
   "name": "python3"
  },
  "language_info": {
   "codemirror_mode": {
    "name": "ipython",
    "version": 3
   },
   "file_extension": ".py",
   "mimetype": "text/x-python",
   "name": "python",
   "nbconvert_exporter": "python",
   "pygments_lexer": "ipython3",
   "version": "3.11.7"
  }
 },
 "nbformat": 4,
 "nbformat_minor": 5
}
