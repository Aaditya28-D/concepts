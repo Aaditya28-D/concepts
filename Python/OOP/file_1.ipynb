{
 "cells": [
  {
   "cell_type": "code",
   "execution_count": 2,
   "metadata": {},
   "outputs": [
    {
     "name": "stdout",
     "output_type": "stream",
     "text": [
      "this car is a Red Toyota Corolla.\n"
     ]
    }
   ],
   "source": [
    "class Car:\n",
    "    def __init__(self, brand, model, color):\n",
    "        self.brand=brand\n",
    "        self.model=model\n",
    "        self.color=color\n",
    "    \n",
    "    def describe(self):\n",
    "        return f\"this car is a {self.color} {self.brand} {self.model}.\"\n",
    "    \n",
    "my_car= Car(\"Toyota\", \"Corolla\", \"Red\")\n",
    "\n",
    "print(my_car.describe())"
   ]
  },
  {
   "cell_type": "code",
   "execution_count": 3,
   "metadata": {},
   "outputs": [
    {
     "name": "stdout",
     "output_type": "stream",
     "text": [
      "this is Rahul, his age is 28, his gender is Male.\n"
     ]
    }
   ],
   "source": [
    "class Person:\n",
    "    def __init__(self, name, age, gender):\n",
    "        self.name=name\n",
    "        self.age=age\n",
    "        self.gender=gender\n",
    "    \n",
    "    def introduce(self):\n",
    "        return f\"this is {self.name}, his age is {self.age}, his gender is {self.gender}.\"\n",
    "    \n",
    "person1=Person(\"Rahul\", 28, \"Male\")\n",
    "\n",
    "print(person1.introduce())"
   ]
  },
  {
   "cell_type": "markdown",
   "metadata": {},
   "source": [
    "# Inheritance "
   ]
  },
  {
   "cell_type": "code",
   "execution_count": 4,
   "metadata": {},
   "outputs": [
    {
     "name": "stdout",
     "output_type": "stream",
     "text": [
      "the Tesla model 3 is starting\n",
      "the Tesla model 3 is stopping\n"
     ]
    }
   ],
   "source": [
    "class Vehicle:\n",
    "    def __init__(self, brand, model):\n",
    "        self.brand=brand\n",
    "        self.model=model\n",
    "    \n",
    "    def start(self):\n",
    "        return f\"the {self.brand} {self.model} is starting\"\n",
    "    \n",
    "    def stop(self):\n",
    "        return f\"the {self.brand} {self.model} is stopping\"\n",
    "    \n",
    "veh1=Vehicle(\"Tesla\", \"model 3\")\n",
    "\n",
    "print(veh1.start())\n",
    "print(veh1.stop())\n",
    "\n"
   ]
  },
  {
   "cell_type": "code",
   "execution_count": 5,
   "metadata": {},
   "outputs": [],
   "source": [
    "class Car(Vehicle):\n",
    "    def __init__(self, brand, model, color):\n",
    "        super().__init__(brand, model)\n",
    "        self.color=color\n",
    "    \n",
    "    def describe(self):\n",
    "        return f\"this car is {self.color} {self.brand} {self.model}.\""
   ]
  },
  {
   "cell_type": "code",
   "execution_count": 6,
   "metadata": {},
   "outputs": [],
   "source": [
    "class Motorcycle(Vehicle):\n",
    "    def __init__ (self, brand, model, engine_capacity):\n",
    "        super().__init__(brand, model)\n",
    "        self.engine_capacity=engine_capacity\n",
    "    \n",
    "    def describe(self):\n",
    "        return f\"This motor cycle is a {self.brand} {self.model} with a {self.engine_capacity}cc engine\""
   ]
  },
  {
   "cell_type": "code",
   "execution_count": 7,
   "metadata": {},
   "outputs": [
    {
     "name": "stdout",
     "output_type": "stream",
     "text": [
      "the Toyota Corolla is starting\n",
      "this car is Red Toyota Corolla.\n",
      "the Toyota Corolla is stopping\n",
      "the Yamaha MT-09 is starting\n",
      "This motor cycle is a Yamaha MT-09 with a 847cc engine\n",
      "the Yamaha MT-09 is stopping\n"
     ]
    }
   ],
   "source": [
    "my_car=Car(\"Toyota\", \"Corolla\", \"Red\")\n",
    "print(my_car.start())\n",
    "print(my_car.describe())\n",
    "print(my_car.stop())\n",
    "\n",
    "my_motorcycle=Motorcycle(\"Yamaha\", \"MT-09\", 847)\n",
    "print(my_motorcycle.start())\n",
    "print(my_motorcycle.describe())\n",
    "print(my_motorcycle.stop())"
   ]
  },
  {
   "cell_type": "code",
   "execution_count": 8,
   "metadata": {},
   "outputs": [
    {
     "name": "stdout",
     "output_type": "stream",
     "text": [
      "the Ford F-150 is starting\n",
      "It is Ford F-150 truck having 2 tone cargo capacity\n",
      "the Ford F-150 is stopping\n"
     ]
    }
   ],
   "source": [
    "class Truck(Vehicle):\n",
    "    def __init__(self, brand, model, cargo_capacity):\n",
    "        super().__init__ (brand, model)\n",
    "        self.cargo_capacity=cargo_capacity\n",
    "    \n",
    "    def describe(self):\n",
    "        return f\"It is {self.brand} {self.model} truck having {self.cargo_capacity} tone cargo capacity\"\n",
    "\n",
    "my_truck=Truck(\n",
    "    brand=\"Ford\", \n",
    "    model=\"F-150\", \n",
    "    cargo_capacity=2\n",
    ")\n",
    "\n",
    "print(my_truck.start())\n",
    "print(my_truck.describe())\n",
    "print(my_truck.stop())"
   ]
  },
  {
   "cell_type": "code",
   "execution_count": 9,
   "metadata": {},
   "outputs": [],
   "source": [
    "class Animal:\n",
    "    def __init__(self, name):\n",
    "        self.name=name\n",
    "    \n",
    "    def make_sound(self):\n",
    "        return f\"{self.name} makes a sound\"\n",
    "\n",
    "\n",
    "class Dog(Animal):\n",
    "    def __init__(self, name, breed):\n",
    "        super().__init__(name)\n",
    "        self.breed=breed\n",
    "    \n",
    "    def make_sound(self):\n",
    "        return f\"{self.name}, the {self.breed}, says:Woof!\"\n",
    "    \n",
    "\n",
    "class Cat(Animal):\n",
    "    def __init__(self, name, color):\n",
    "        super().__init__(name)\n",
    "        self.color=color\n",
    "    \n",
    "    def make_sound(self):\n",
    "        return f\"{self.name}, the {self.color} cat, says: Meow!\"\n",
    "    \n",
    "\n",
    "class Bird(Animal):\n",
    "    def __init__(self, name, species):\n",
    "        super().__init__(name)\n",
    "        self.species=species\n",
    "    \n",
    "    def make_sound(self):\n",
    "        return f\"{self.name}, the {self.species} bird, says:chrip\"\n",
    "\n",
    "\n"
   ]
  },
  {
   "cell_type": "code",
   "execution_count": 10,
   "metadata": {},
   "outputs": [
    {
     "name": "stdout",
     "output_type": "stream",
     "text": [
      "buddy, the Golden Retriever, says:Woof!\n"
     ]
    }
   ],
   "source": [
    "dog1=Dog(\n",
    "    name=\"buddy\",\n",
    "    breed=\"Golden Retriever\"\n",
    ")\n",
    "\n",
    "print(dog1.make_sound())"
   ]
  },
  {
   "cell_type": "code",
   "execution_count": 11,
   "metadata": {},
   "outputs": [
    {
     "name": "stdout",
     "output_type": "stream",
     "text": [
      "Whiskers, the black cat, says: Meow!\n"
     ]
    }
   ],
   "source": [
    "cat1=Cat(\n",
    "    name=\"Whiskers\", \n",
    "    color=\"black\"\n",
    ")\n",
    "print(cat1.make_sound())"
   ]
  },
  {
   "cell_type": "code",
   "execution_count": 12,
   "metadata": {},
   "outputs": [
    {
     "name": "stdout",
     "output_type": "stream",
     "text": [
      "Tweety, the Canary bird, says:chrip\n"
     ]
    }
   ],
   "source": [
    "bird1=Bird(\n",
    "    name=\"Tweety\", \n",
    "    species=\"Canary\"\n",
    ")\n",
    "\n",
    "print(bird1.make_sound())"
   ]
  },
  {
   "cell_type": "code",
   "execution_count": 13,
   "metadata": {},
   "outputs": [
    {
     "name": "stdout",
     "output_type": "stream",
     "text": [
      "buddy, the Golden Retriever, says:Woof!\n",
      "Whiskers, the black cat, says: Meow!\n",
      "Tweety, the Canary bird, says:chrip\n"
     ]
    }
   ],
   "source": [
    "animals=[dog1, cat1, bird1]\n",
    "\n",
    "for animal in animals:\n",
    "    print(animal.make_sound())"
   ]
  },
  {
   "cell_type": "code",
   "execution_count": 14,
   "metadata": {},
   "outputs": [],
   "source": [
    "class Employee:\n",
    "    def __init__(self, name, salary):\n",
    "        self.name=name\n",
    "        self.salary=salary\n",
    "    \n",
    "    def display_details(self):\n",
    "        return f\"the employee {self.name} has {self.salary} weekly salary\"\n",
    "    \n",
    "\n",
    "class Manager(Employee):\n",
    "    def __init__(self, name, salary, department):\n",
    "        super(). __init__(name, salary)\n",
    "        self.department=department\n",
    "    \n",
    "    def display_details(self):\n",
    "        return f\"{self.name} is the manager of {self.department} department, having the {self.salary} weekly salary\"\n",
    "\n",
    "\n",
    "\n",
    "class Developer(Employee):\n",
    "    def __init__(self, name, salary, programming_language):\n",
    "        super(). __init__(name, salary)\n",
    "        self.programming_language=programming_language\n",
    "    \n",
    "    def display_details(self):\n",
    "        return f\"{self.name} is the {self.programming_language} developer having the {self.salary} weekly salary\"\n"
   ]
  },
  {
   "cell_type": "code",
   "execution_count": 15,
   "metadata": {},
   "outputs": [
    {
     "name": "stdout",
     "output_type": "stream",
     "text": [
      "the employee nick has 1000 weekly salary\n"
     ]
    }
   ],
   "source": [
    "emp1=Employee(\n",
    "    name=\"nick\",\n",
    "    salary=1000\n",
    ")\n",
    "\n",
    "print(emp1.display_details())"
   ]
  },
  {
   "cell_type": "code",
   "execution_count": 16,
   "metadata": {},
   "outputs": [
    {
     "name": "stdout",
     "output_type": "stream",
     "text": [
      "Rina is the manager of Research and development department, having the 1500 weekly salary\n"
     ]
    }
   ],
   "source": [
    "emp2=Manager(\n",
    "    name=\"Rina\", \n",
    "    salary=1500,\n",
    "    department=\"Research and development\"\n",
    ")\n",
    "\n",
    "print(emp2.display_details())"
   ]
  },
  {
   "cell_type": "code",
   "execution_count": 17,
   "metadata": {},
   "outputs": [
    {
     "name": "stdout",
     "output_type": "stream",
     "text": [
      "Joe is the Python developer having the 1200 weekly salary\n"
     ]
    }
   ],
   "source": [
    "emp3=Developer(\n",
    "    name=\"Joe\", \n",
    "    salary=1200, \n",
    "    programming_language=\"Python\"\n",
    ")\n",
    "\n",
    "print(emp3.display_details())"
   ]
  },
  {
   "cell_type": "markdown",
   "metadata": {},
   "source": [
    "# Encapsulation and Access Modifiers"
   ]
  },
  {
   "cell_type": "markdown",
   "metadata": {},
   "source": [
    "ncapsulation is one of the fundamental concepts in object-oriented programming. It refers to the bundling of data (attributes) and methods (functions) that operate on the data into a single unit or class. Encapsulation also helps to restrict access to certain components and can prevent accidental modification of data.\n",
    "\n",
    "Access Modifiers\n",
    "In Python, there are three types of access modifiers:\n",
    "\n",
    "1. Public: Attributes and methods are accessible from anywhere.\n",
    "2. Protected: Attributes and methods are accessible within the class and its subclasses.\n",
    "3. Private: Attributes and methods are accessible only within the class."
   ]
  },
  {
   "cell_type": "markdown",
   "metadata": {},
   "source": [
    "| **Aspect**        | **Public Attributes**                   | **Protected Attributes**                        | **Private Attributes**                        |\n",
    "|-------------------|-----------------------------------------|------------------------------------------------|---------------------------------------------|\n",
    "| **Access Control**| Accessible from anywhere                | Intended for access within class & subclasses  | Accessible only within the class            |\n",
    "| **Encapsulation** | Part of the class's public API          | Internal implementation, not for public use    | Strongly encapsulated, strictly internal    |\n",
    "| **Syntax**        | `self.attribute`                        | `self._attribute`                              | `self.__attribute`                          |\n",
    "| **Direct Access** | Allowed and unrestricted                | Allowed but discouraged                        | Not allowed, will raise an `AttributeError` |\n",
    "| **Impact on API** | Changes can impact external code        | Changes mostly impact internal/subclass code   | Changes do not affect external code         |\n",
    "| **Modification**  | Freely accessed and modified            | Modified within class/subclass, not directly   | Modified only within the class              |\n",
    "| **Best Practice** | Use for stable, widely-used attributes  | Use for internal attributes to discourage misuse| Use for sensitive/private data              |\n"
   ]
  },
  {
   "cell_type": "code",
   "execution_count": 18,
   "metadata": {},
   "outputs": [],
   "source": [
    "class BankAccount:\n",
    "    def __init__(self, account_number, balance):\n",
    "        self.account_number=account_number #publiv attribute\n",
    "        self._balance=balance #protected attribute\n",
    "    \n",
    "    # public method\n",
    "    def deposit(self, amount):\n",
    "        if amount>0:\n",
    "            self._balance+=amount\n",
    "        return self._balance\n",
    "    \n",
    "    # public method\n",
    "    def withdraw(self, amount):\n",
    "        if amount>0 and amount<=self._balance:\n",
    "            self._balance-=amount\n",
    "        return self._balance\n",
    "    \n",
    "    #public method\n",
    "    def get_balance(self):\n",
    "        return self._balance\n",
    "            "
   ]
  },
  {
   "cell_type": "code",
   "execution_count": 19,
   "metadata": {},
   "outputs": [
    {
     "name": "stdout",
     "output_type": "stream",
     "text": [
      "Account number:123456789\n",
      "initial Balance:1000\n",
      "balance after depost:1500\n",
      "Balance after withdrawal:1200\n"
     ]
    }
   ],
   "source": [
    "account=BankAccount(\n",
    "    account_number=\"123456789\", \n",
    "    balance=1000\n",
    ")\n",
    "\n",
    "\n",
    "#access public attribute \n",
    "print(f\"Account number:{account.account_number}\")\n",
    "\n",
    "\n",
    "#access protected attribute via public method \n",
    "print(f\"initial Balance:{account.get_balance()}\")\n",
    "\n",
    "#deposit money \n",
    "account.deposit(\n",
    "    amount=500\n",
    ")\n",
    "print(f\"balance after depost:{account.get_balance()}\")\n",
    "\n",
    "#withdraw money \n",
    "account.withdraw(300)\n",
    "print(f\"Balance after withdrawal:{account.get_balance()}\")"
   ]
  },
  {
   "cell_type": "code",
   "execution_count": 20,
   "metadata": {},
   "outputs": [],
   "source": [
    "class BankAccount:\n",
    "    def __init__(self, account_number, balance, password):\n",
    "        self.account_number=account_number #public attribute\n",
    "        self._balance=balance #protected attribute \n",
    "        self.__password=password #private attribute \n",
    "    \n",
    "    def deposit(self, amount):\n",
    "        if amount>0:\n",
    "            self._balance+=amount\n",
    "        return self._balance\n",
    "    \n",
    "    def withdraw(self, amount, password):\n",
    "        if password==self.__password:\n",
    "            if amount>0 and amount<=self._balance:\n",
    "                self._balance-=amount\n",
    "                return self._balance\n",
    "            else:\n",
    "                return \"insufficient funds\"\n",
    "        else:\n",
    "            return \"invalid Password\"\n",
    "    \n",
    "    def get_balance(self, password):\n",
    "        if password==self.__password:\n",
    "            return self._balance\n",
    "        else:\n",
    "            return \"invalid password\"\n",
    "    \n",
    "    def change_password(self, old_password, new_password):\n",
    "        if old_password==self.__password:\n",
    "            self.__password=new_password\n",
    "            return \"Password changed successfully\"\n",
    "        else:\n",
    "            return \"invalid old password\""
   ]
  },
  {
   "cell_type": "code",
   "execution_count": 21,
   "metadata": {},
   "outputs": [],
   "source": [
    "class SavingAccount(BankAccount):\n",
    "    def __init__(self, account_number, balance, password, interest_rate):\n",
    "        super().__init__(account_number, balance, password)\n",
    "        self.interest_rate=interest_rate #public attribute\n",
    "    \n",
    "\n",
    "    def apply_interest(self):\n",
    "        interest=self._balance*(self.interest_rate/100)\n",
    "        self._balance+=interest\n",
    "        return self._balance\n",
    "\n"
   ]
  },
  {
   "cell_type": "code",
   "execution_count": 22,
   "metadata": {},
   "outputs": [
    {
     "name": "stdout",
     "output_type": "stream",
     "text": [
      "123456789\n"
     ]
    }
   ],
   "source": [
    "account=BankAccount(\n",
    "    account_number=\"123456789\",\n",
    "    balance=1000,\n",
    "    password=\"securepassword\"\n",
    ")\n",
    "\n",
    "#public attribute and method\n",
    "print(account.account_number) #accessible"
   ]
  },
  {
   "cell_type": "code",
   "execution_count": 23,
   "metadata": {},
   "outputs": [
    {
     "name": "stdout",
     "output_type": "stream",
     "text": [
      "1000\n"
     ]
    }
   ],
   "source": [
    "print(\n",
    "    account.get_balance(\n",
    "        password=\"securepassword\"\n",
    "    )\n",
    ")"
   ]
  },
  {
   "cell_type": "code",
   "execution_count": 24,
   "metadata": {},
   "outputs": [
    {
     "name": "stdout",
     "output_type": "stream",
     "text": [
      "1500\n"
     ]
    }
   ],
   "source": [
    "account.deposit(500)\n",
    "print(\n",
    "    account.get_balance(\n",
    "        password=\"securepassword\"\n",
    "    )\n",
    ")"
   ]
  },
  {
   "cell_type": "code",
   "execution_count": 25,
   "metadata": {},
   "outputs": [
    {
     "name": "stdout",
     "output_type": "stream",
     "text": [
      "invalid Password\n"
     ]
    }
   ],
   "source": [
    "print(\n",
    "    account.withdraw(\n",
    "        amount=300,\n",
    "        password=\"wrongpassword\"\n",
    "    )\n",
    ")"
   ]
  },
  {
   "cell_type": "code",
   "execution_count": 26,
   "metadata": {},
   "outputs": [
    {
     "name": "stdout",
     "output_type": "stream",
     "text": [
      "Password changed successfully\n"
     ]
    }
   ],
   "source": [
    "print(\n",
    "    account.change_password(\n",
    "        old_password=\"securepassword\",\n",
    "        new_password=\"newsecurepassword\"\n",
    "    )\n",
    ")"
   ]
  },
  {
   "cell_type": "code",
   "execution_count": 27,
   "metadata": {},
   "outputs": [
    {
     "name": "stdout",
     "output_type": "stream",
     "text": [
      "1500\n"
     ]
    }
   ],
   "source": [
    "print(\n",
    "    account.get_balance(\n",
    "        password=\"newsecurepassword\"\n",
    "    )\n",
    ")"
   ]
  },
  {
   "cell_type": "code",
   "execution_count": 28,
   "metadata": {},
   "outputs": [],
   "source": [
    "savings=SavingAccount(\n",
    "    account_number=\"987654321\",\n",
    "    balance=2000,\n",
    "    password=\"savingspassword\", \n",
    "    interest_rate=5\n",
    ")"
   ]
  },
  {
   "cell_type": "code",
   "execution_count": 29,
   "metadata": {},
   "outputs": [
    {
     "name": "stdout",
     "output_type": "stream",
     "text": [
      "initial balance=2000\n"
     ]
    }
   ],
   "source": [
    "balance=savings.get_balance(\n",
    "    password=\"savingspassword\"\n",
    ")\n",
    "\n",
    "print(f\"initial balance={balance}\")"
   ]
  },
  {
   "cell_type": "code",
   "execution_count": 30,
   "metadata": {},
   "outputs": [
    {
     "ename": "NameError",
     "evalue": "name 'saving' is not defined",
     "output_type": "error",
     "traceback": [
      "\u001b[1;31m---------------------------------------------------------------------------\u001b[0m",
      "\u001b[1;31mNameError\u001b[0m                                 Traceback (most recent call last)",
      "Cell \u001b[1;32mIn[30], line 1\u001b[0m\n\u001b[1;32m----> 1\u001b[0m \u001b[43msaving\u001b[49m\u001b[38;5;241m.\u001b[39mapply_interest()\n\u001b[0;32m      2\u001b[0m \u001b[38;5;28mprint\u001b[39m(\u001b[38;5;124mf\u001b[39m\u001b[38;5;124m\"\u001b[39m\u001b[38;5;124mbalance after applying the interest: \u001b[39m\u001b[38;5;132;01m{\u001b[39;00msavings\u001b[38;5;241m.\u001b[39mget_balance(password\u001b[38;5;241m=\u001b[39m\u001b[38;5;124m'\u001b[39m\u001b[38;5;124msecurepassword\u001b[39m\u001b[38;5;124m'\u001b[39m)\u001b[38;5;132;01m}\u001b[39;00m\u001b[38;5;124m\"\u001b[39m)\n",
      "\u001b[1;31mNameError\u001b[0m: name 'saving' is not defined"
     ]
    }
   ],
   "source": [
    "saving.apply_interest()\n",
    "print(f\"balance after applying the interest: {savings.get_balance(password='securepassword')}\")"
   ]
  },
  {
   "cell_type": "code",
   "execution_count": null,
   "metadata": {},
   "outputs": [
    {
     "name": "stdout",
     "output_type": "stream",
     "text": [
      "2200\n",
      "987654321\n",
      "123456789\n",
      "Balance after deposit (within class): 2700\n"
     ]
    }
   ],
   "source": [
    "#public attribute can be accessed from everywhere \n",
    "print(account.deposit(500))\n",
    "print(savings.account_number) #account number accessed by subclass \n",
    "print(account.account_number) #from outside directly \n",
    "print(f\"Balance after deposit (within class): {account.deposit(500)}\")"
   ]
  },
  {
   "cell_type": "code",
   "execution_count": null,
   "metadata": {},
   "outputs": [
    {
     "name": "stdout",
     "output_type": "stream",
     "text": [
      "2500\n",
      "2500\n"
     ]
    }
   ],
   "source": [
    "print(account._balance) # should not be accessesed directly \n",
    "print(account.get_balance(password=\"newsecurepassword\"))"
   ]
  },
  {
   "cell_type": "code",
   "execution_count": null,
   "metadata": {},
   "outputs": [
    {
     "ename": "AttributeError",
     "evalue": "'BankAccount' object has no attribute '__password'",
     "output_type": "error",
     "traceback": [
      "\u001b[1;31m---------------------------------------------------------------------------\u001b[0m",
      "\u001b[1;31mAttributeError\u001b[0m                            Traceback (most recent call last)",
      "Cell \u001b[1;32mIn[104], line 1\u001b[0m\n\u001b[1;32m----> 1\u001b[0m \u001b[38;5;28mprint\u001b[39m(\u001b[43maccount\u001b[49m\u001b[38;5;241;43m.\u001b[39;49m\u001b[43m__password\u001b[49m)\n",
      "\u001b[1;31mAttributeError\u001b[0m: 'BankAccount' object has no attribute '__password'"
     ]
    }
   ],
   "source": [
    "print(account.__password) # will give error\n"
   ]
  },
  {
   "cell_type": "code",
   "execution_count": null,
   "metadata": {},
   "outputs": [
    {
     "name": "stdout",
     "output_type": "stream",
     "text": [
      "987654321\n"
     ]
    }
   ],
   "source": [
    "print(savings.account_number)\n"
   ]
  },
  {
   "cell_type": "code",
   "execution_count": null,
   "metadata": {},
   "outputs": [],
   "source": [
    "class BankAccount:\n",
    "    def __init__(self, account_number, balance, password):\n",
    "        self.account_number = account_number  # Public attribute\n",
    "        self._balance = balance  # Protected attribute\n",
    "        self.__password = password  # Private attribute\n",
    "\n",
    "    def deposit(self, amount):\n",
    "        if amount > 0:\n",
    "            self._balance += amount\n",
    "        return self._balance\n",
    "\n",
    "    def withdraw(self, amount, password):\n",
    "        if password == self.__password:\n",
    "            if amount > 0 and amount <= self._balance:\n",
    "                self._balance -= amount\n",
    "                return self._balance\n",
    "            else:\n",
    "                return \"Insufficient funds\"\n",
    "        else:\n",
    "            return \"Invalid password\"\n",
    "\n",
    "    def get_balance(self, password):\n",
    "        if password == self.__password:\n",
    "            return self._balance\n",
    "        else:\n",
    "            return \"Invalid password\"\n",
    "\n",
    "    def change_password(self, old_password, new_password):\n",
    "        if old_password == self.__password:\n",
    "            self.__password = new_password\n",
    "            return \"Password changed successfully\"\n",
    "        else:\n",
    "            return \"Invalid old password\"\n"
   ]
  },
  {
   "cell_type": "code",
   "execution_count": null,
   "metadata": {},
   "outputs": [],
   "source": [
    "class SavingsAccount(BankAccount):\n",
    "    def __init__(self, account_number, balance, password, interest_rate):\n",
    "        super().__init__(account_number, balance, password)\n",
    "        self.interest_rate = interest_rate  # Public attribute\n",
    "\n",
    "    def apply_interest(self):\n",
    "        interest = self._balance * self.interest_rate / 100\n",
    "        self._balance += interest\n",
    "        return self._balance\n"
   ]
  },
  {
   "cell_type": "code",
   "execution_count": null,
   "metadata": {},
   "outputs": [
    {
     "name": "stdout",
     "output_type": "stream",
     "text": [
      "Account Number (outside class): 123456789\n",
      "Account Number (SavingsAccount outside class): 987654321\n",
      "Interest Rate (SavingsAccount outside class): 5\n",
      "Balance after deposit (within class): 1500\n",
      "Balance after withdrawal (within class): 1200\n",
      "Balance with interest applied (within class): 2100.0\n",
      "Account Number (within subclass method): 987654321\n",
      "Interest Rate (within subclass method): 5\n"
     ]
    }
   ],
   "source": [
    "# Create a BankAccount object\n",
    "account = BankAccount(account_number=\"123456789\", balance=1000, password=\"securepassword\")\n",
    "\n",
    "# Accessing public attribute from outside the class\n",
    "print(f\"Account Number (outside class): {account.account_number}\")\n",
    "\n",
    "# Create a SavingsAccount object\n",
    "savings = SavingsAccount(account_number=\"987654321\", balance=2000, password=\"savingspassword\", interest_rate=5)\n",
    "\n",
    "# Accessing public attribute from outside the class\n",
    "print(f\"Account Number (SavingsAccount outside class): {savings.account_number}\")\n",
    "print(f\"Interest Rate (SavingsAccount outside class): {savings.interest_rate}\")\n",
    "\n",
    "# Accessing public attributes from within the class methods\n",
    "print(f\"Balance after deposit (within class): {account.deposit(500)}\")\n",
    "print(f\"Balance after withdrawal (within class): {account.withdraw(300, 'securepassword')}\")\n",
    "print(f\"Balance with interest applied (within class): {savings.apply_interest()}\")\n",
    "\n",
    "# Accessing public attribute from within a method in the subclass\n",
    "print(f\"Account Number (within subclass method): {savings.account_number}\")\n",
    "print(f\"Interest Rate (within subclass method): {savings.interest_rate}\")\n"
   ]
  },
  {
   "cell_type": "code",
   "execution_count": null,
   "metadata": {},
   "outputs": [],
   "source": [
    "class Employee:\n",
    "    def __init__(self, name, salary, ssn):\n",
    "        self.name=name #public attribute \n",
    "        self._salary=salary #protected attribute\n",
    "        self.__ssn=ssn #private attribute \n",
    "\n",
    "    def display_name(self):\n",
    "        return f\"Employee Name:{self.name}\"\n",
    "    \n",
    "    def _display_salary(self):\n",
    "        return f\"Employee Salary:{self._salary}\"\n",
    "    \n",
    "    def display_ssn(self):\n",
    "        return f\"Employee SSN:{self.__ssn}\"\n",
    "    \n",
    "    def __get_ssn(self):\n",
    "        return self.__ssn "
   ]
  },
  {
   "cell_type": "code",
   "execution_count": null,
   "metadata": {},
   "outputs": [],
   "source": [
    "class Manager(Employee):\n",
    "    def __init__(self, name, salary, ssn, department):\n",
    "        super().__init__(name, salary, ssn)\n",
    "        self.department = department\n",
    "    \n",
    "    def display_department(self):\n",
    "        return f\"Manager department:{self.department}\"\n",
    "    \n",
    "\n"
   ]
  },
  {
   "cell_type": "code",
   "execution_count": null,
   "metadata": {},
   "outputs": [],
   "source": [
    "employee=Employee(\n",
    "    name=\"John Doe\",\n",
    "    salary=5000, \n",
    "    ssn=\"123-45-6789\"\n",
    ")\n",
    "\n",
    "manager=Manager(\n",
    "    name=\"John Doe\",\n",
    "    salary=5000, \n",
    "    ssn=\"123-45-6789\",\n",
    "    department=\"HR\"\n",
    ")"
   ]
  },
  {
   "cell_type": "code",
   "execution_count": null,
   "metadata": {},
   "outputs": [
    {
     "name": "stdout",
     "output_type": "stream",
     "text": [
      "John Doe\n",
      "Employee Name:John Doe\n",
      "Employee Name:John Doe\n"
     ]
    }
   ],
   "source": [
    "#1. public attribute and method (accessible from anywhere)\n",
    "print(employee.name)\n",
    "print(employee.display_name())\n",
    "print(manager.display_name())"
   ]
  },
  {
   "cell_type": "code",
   "execution_count": null,
   "metadata": {},
   "outputs": [
    {
     "name": "stdout",
     "output_type": "stream",
     "text": [
      "5000\n",
      "Employee Salary:5000\n",
      "Employee Salary:5000\n"
     ]
    }
   ],
   "source": [
    "print(employee._salary)\n",
    "print(employee._display_salary())\n",
    "print(manager._display_salary())"
   ]
  },
  {
   "cell_type": "code",
   "execution_count": null,
   "metadata": {},
   "outputs": [
    {
     "name": "stdout",
     "output_type": "stream",
     "text": [
      "Error'Employee' object has no attribute '__ssn'\n",
      "Employee SSN:123-45-6789\n",
      "Employee SSN:123-45-6789\n",
      "Error:'Manager' object has no attribute '__get_ssn'\n"
     ]
    }
   ],
   "source": [
    "try:\n",
    "    print(employee.__ssn) # will give error\n",
    "except AttributeError as e:\n",
    "    print(f\"Error{e}\")\n",
    "\n",
    "print(employee.display_ssn())\n",
    "\n",
    "try:\n",
    "    print(manager.display_ssn()) # will not give error although the attribute is getting accessed out of the class in subclass sincce the display_ssn() is the public method and is inherited by manager class\n",
    "except AttributeError as e:\n",
    "    print(f\"Error{e}\")\n",
    "\n",
    "try:\n",
    "    print(manager.__get_ssn())\n",
    "except AttributeError as e:\n",
    "    print( f\"Error:{e}\")\n"
   ]
  },
  {
   "cell_type": "markdown",
   "metadata": {},
   "source": [
    "# Library system "
   ]
  },
  {
   "cell_type": "code",
   "execution_count": null,
   "metadata": {},
   "outputs": [],
   "source": [
    "class Library:\n",
    "    def __init__(self, name):\n",
    "        self.name=name\n",
    "        self._book=[]\n",
    "        self.__patrons=[]\n",
    "\n",
    "    #public method to add a protected attribute\n",
    "    def add_book(self, book):\n",
    "        self._book.append(book)\n",
    "        print(f\"Book '{book}' added to the library '{self.name}'.\")\n",
    "    \n",
    "    #protected method to add a private attribute\n",
    "    def _register_patron(self, patron):\n",
    "        self.__patrons.append(patron)\n",
    "        print(f\"Patron '{patron}' ragistered to the library '{self.name}'.\")\n",
    "    \n",
    "    #private method to list private attribute (patrons)\n",
    "    def __list_patrons(self):\n",
    "        return self.__patrons\n",
    "    \n",
    "    def show_patrons(self):\n",
    "        patrons=self.__list_patrons()\n",
    "        print(f\"List of patrons in {self.name}':{patrons}\")\n",
    "    \n",
    "    #Public method to access private method\n",
    "    def display_info(self):\n",
    "        return f\"library name:{self.name}\"\n",
    "    "
   ]
  },
  {
   "cell_type": "code",
   "execution_count": null,
   "metadata": {},
   "outputs": [],
   "source": [
    "class CityLibrary(Library):\n",
    "    def __init__(self, name, city):\n",
    "        super().__init__(name)\n",
    "        self.city=city #public attribute\n",
    "    \n",
    "    #public method to add a new book\n",
    "    def add_new_book(self,book):\n",
    "        self.add_book(book) #accessing public method of base class \n",
    "    \n",
    "    #method to ragister patron using protected method of base class \n",
    "    def register_new_patron(self, patron):\n",
    "        self._register_patron(patron) #accessing protected method of base class \n",
    "    \n",
    "    #method to show patrons using public method of base class \n",
    "    def display_patrons(self):\n",
    "        self.show_patrons() # accessing publi method of base class \n",
    "\n",
    "    #public method of subclass to display cicty library info\n",
    "    def display_city_info(self):\n",
    "        return f\"Library Name:{self.name}, City:{self.city}\""
   ]
  },
  {
   "cell_type": "code",
   "execution_count": null,
   "metadata": {},
   "outputs": [],
   "source": [
    "class UniversityLibrary(Library):\n",
    "    def __init__(self, name, university):\n",
    "        super().__init__(name)\n",
    "        self.university=university #public attribute\n",
    "    \n",
    "    #public method to add a new book\n",
    "    def add_research_book(self, book):\n",
    "        self.add_book(book) #access public method of base class \n",
    "    \n",
    "    #Method to ragister student using protected method of base class\n",
    "    def register_student(self, student):\n",
    "        self._register_patron(student) #accessing protected method of base class \n",
    "    \n",
    "    #publci method to display university library info\n",
    "    def display_university_info(self):\n",
    "        return f\"Libary Name:{self.name}, university:{self.university}\""
   ]
  },
  {
   "cell_type": "code",
   "execution_count": null,
   "metadata": {},
   "outputs": [],
   "source": [
    "class Librarian:\n",
    "    def __init__(self, name, library):\n",
    "        self.name=name #public attribute\n",
    "        self._library=library #protected attribute\n",
    "        self.__password=\"libraian123\" # private attribute\n",
    "    \n",
    "    #public method to display librarina info\n",
    "    def display_librarian_info(self):\n",
    "        return f\"Librarian Name:{self.name}, Library:{self._library.name}\"\n",
    "    \n",
    "    #protected method to get libary details\n",
    "    def _get_library_details(self):\n",
    "        return self._library.display_info()\n",
    "    \n",
    "    #private method to check password\n",
    "    def __check_password(self, password):\n",
    "        return self.__password==password\n",
    "    \n",
    "    #public method to verify librarian access\n",
    "    def verify_access(self, password):\n",
    "        if self.__check_password(password):\n",
    "            return \"Access Granted.\"\n",
    "        else:\n",
    "            return \"Access denied\"\n"
   ]
  },
  {
   "cell_type": "code",
   "execution_count": null,
   "metadata": {},
   "outputs": [],
   "source": [
    "#create a Library object\n",
    "central_library=Library(\n",
    "    name=\"central Library\"\n",
    ")\n",
    "\n",
    "#create a CityLibrary object\n",
    "city_library=CityLibrary(\n",
    "    name=\"City Library\",\n",
    "    city=\"New York\"\n",
    ")\n",
    "\n",
    "#create a UniversityLibrary object\n",
    "university_library=UniversityLibrary(\n",
    "    name=\"University Library\",\n",
    "    university=\"MIT\"\n",
    ")\n",
    "\n",
    "#create a Librarian object\n",
    "librarian=Librarian(\n",
    "    name=\"Alice\",\n",
    "    library=city_library\n",
    ")\n",
    "\n"
   ]
  },
  {
   "cell_type": "code",
   "execution_count": null,
   "metadata": {},
   "outputs": [
    {
     "name": "stdout",
     "output_type": "stream",
     "text": [
      "Book 'The Great Gatsby' added to the library 'central Library'.\n",
      "Book '1984' added to the library 'City Library'.\n",
      "Book 'Quantum Physics' added to the library 'University Library'.\n",
      "Patron 'Alice' ragistered to the library 'central Library'.\n",
      "Patron 'Bob' ragistered to the library 'City Library'.\n",
      "Patron 'Charlie' ragistered to the library 'University Library'.\n",
      "Error: 'Library' object has no attribute '__list_patron'\n",
      "List of patrons in central Library':['Alice', 'Alice', 'Alice']\n",
      "List of patrons in City Library':['Bob', 'Bob', 'Bob']\n",
      "Error:'UniversityLibrary' object has no attribute '__list_patrons'\n",
      "Librarian Name:Alice, Library:City Library\n",
      "Access denied\n",
      "Access denied\n",
      "library name:City Library\n"
     ]
    }
   ],
   "source": [
    "#public method:adding books\n",
    "central_library.add_book(\"The Great Gatsby\")\n",
    "city_library.add_new_book(\"1984\")\n",
    "university_library.add_research_book(\"Quantum Physics\")\n",
    "\n",
    "#protected method:registering patrons(accessible within class and subclass)\n",
    "central_library._register_patron(\"Alice\") #not recommended to access directly\n",
    "city_library.register_new_patron(\"Bob\") #accessed  the protected method through public method\n",
    "university_library.register_student(\"Charlie\") #accessed the protected method through public method\n",
    "\n",
    "#private method: Listing patrons(not accesssible directly from subclass, will cause error)\n",
    "try:\n",
    "    print(central_library.__list_patron()) #will give error\n",
    "except AttributeError as e:\n",
    "    print(f\"Error: {e}\") #Output:Error: 'library' objejct has no attribute '__list_patrons'\n",
    "\n",
    "# trying to access private indirectly through public method\n",
    "central_library.show_patrons()\n",
    "city_library.display_patrons()\n",
    "\n",
    "# trying to access private method from subclass (will give error)\n",
    "try:\n",
    "    print(university_library.__list_patrons()) #will give error\n",
    "except AttributeError as e:\n",
    "    print(f\"Error:{e}\") #output:error: \"UniversityLibrary\" object has no atrribute '_list_patron'\n",
    "\n",
    "# Accessing public methods of Librarinan class \n",
    "print(librarian.display_librarian_info())\n",
    "print(librarian.verify_access(\"wrongpassword\")) #output:Access denied\n",
    "print(librarian.verify_access(\"librarian123\")) #output:Access granted.\n",
    "\n",
    "#accessing protected method of Librarian class within the class itself\n",
    "print(librarian._get_library_details())"
   ]
  },
  {
   "cell_type": "markdown",
   "metadata": {},
   "source": [
    "## company and department example"
   ]
  },
  {
   "cell_type": "code",
   "execution_count": null,
   "metadata": {},
   "outputs": [],
   "source": [
    "class Company:\n",
    "    def __init__(self, name, revenue, tax_id):\n",
    "        self.name=name #public attribute\n",
    "        self._revenue=revenue #protected attribute \n",
    "        self.__tax_id=tax_id #private attribute \n",
    "\n",
    "    #public method to access the public attribute\n",
    "    def display_name(self):\n",
    "        return f\"company Name:{self.name}\"\n",
    "\n",
    "    #protected method to display the protected attribute \n",
    "    def _display_revenue(self):\n",
    "        return f\"revenue: ${self._revenue}\"\n",
    "\n",
    "    #public methodo too access protected method to access protected attribute\n",
    "    def get_revenue(self):\n",
    "        return self._display_revenue()\n",
    "\n",
    "    #private method to display the tax ID\n",
    "    def __display_tax_id(self):\n",
    "        return f\"Tax ID:{self.__tax_id}\"\n",
    "\n",
    "    #public method to access private tax ID method\n",
    "    def get_tax_id(self):\n",
    "        return self.__display_tax_id()"
   ]
  },
  {
   "cell_type": "code",
   "execution_count": null,
   "metadata": {},
   "outputs": [],
   "source": [
    "class Department (Company):\n",
    "    def __init__(self, name, revenue, tax_id, department_name):\n",
    "        super().__init__(name, revenue, tax_id)\n",
    "        self.department_name=department_name #public attribute\n",
    "    \n",
    "    #pubic method to display department name\n",
    "    def display_department_name(self):\n",
    "        return f\"Department Name:{self.department_name}\"\n",
    "    \n",
    "    #method to access protected revenue attribute\n",
    "    def access_revenue(self):\n",
    "        return self._revenue\n",
    "    \n",
    "    #method to access private tax id attribute (indirectly via public method in base class)\n",
    "    def access_tax_id(self):\n",
    "        return self.get_tax_id()\n",
    "\n",
    "\n"
   ]
  },
  {
   "cell_type": "code",
   "execution_count": null,
   "metadata": {},
   "outputs": [],
   "source": [
    "#create a ccompany object \n",
    "company = Company(\n",
    "    name=\"TechCorp\", \n",
    "    revenue=500,\n",
    "    tax_id=\"123-45-6789\"\n",
    ")\n",
    "\n",
    "department=Department(\n",
    "    name=\"TechCorp\", \n",
    "    revenue=500, \n",
    "    tax_id=\"123-45-6789\", \n",
    "    department_name=\"R&D\"\n",
    ")"
   ]
  },
  {
   "cell_type": "code",
   "execution_count": null,
   "metadata": {},
   "outputs": [
    {
     "name": "stdout",
     "output_type": "stream",
     "text": [
      "TechCorp\n",
      "company Name:TechCorp\n",
      "company Name:TechCorp\n"
     ]
    }
   ],
   "source": [
    "print(company.name) #directly from base class\n",
    "print(company.display_name()) #indirectly from subclass public method-public attribute \n",
    "print(department.display_name())"
   ]
  },
  {
   "cell_type": "code",
   "execution_count": null,
   "metadata": {},
   "outputs": [
    {
     "name": "stdout",
     "output_type": "stream",
     "text": [
      "R&D\n",
      "Department Name:R&D\n"
     ]
    }
   ],
   "source": [
    "print(department.department_name)\n",
    "print(department.display_department_name())"
   ]
  },
  {
   "cell_type": "code",
   "execution_count": null,
   "metadata": {},
   "outputs": [
    {
     "name": "stdout",
     "output_type": "stream",
     "text": [
      "500\n",
      "revenue: $500\n",
      "revenue: $500\n",
      "500\n",
      "500\n"
     ]
    }
   ],
   "source": [
    "print(company._revenue)# not recommended way to access  the protected attribute directly\n",
    "print(company._display_revenue()) #not recomended to access the protected method directly \n",
    "print(company.get_revenue()) # recomended to access protected method-attribute through public method\n",
    "print(department._revenue)# not recomended way to access the protected attribute directly \n",
    "print(department.access_revenue())# accessing the protected attribute indrectly through public method in the subclass"
   ]
  },
  {
   "cell_type": "code",
   "execution_count": null,
   "metadata": {},
   "outputs": [
    {
     "name": "stdout",
     "output_type": "stream",
     "text": [
      "Tax ID:123-45-6789\n",
      "Tax ID:123-45-6789\n"
     ]
    }
   ],
   "source": [
    "#print(company.__tax_id) #directly access denied to private attribute\n",
    "#print(company.__display_tax_id()) #directly access to private method-attribute denied \n",
    "print(company.get_tax_id()) # will only work when the private attribute or method is accessed through the public method\n",
    "\n",
    "# print(department.__tax_id) #wont work direct access denied in subclass as well \n",
    "#print(department.__display_tax_id()) #wont work to directly access the private method in the subclass \n",
    "print(department.get_tax_id())\n"
   ]
  },
  {
   "cell_type": "markdown",
   "metadata": {},
   "source": [
    "# operations \n",
    "1. access \n",
    "2. modify\n",
    "3. delete\n",
    "4. inherit\n",
    "5. method overrid\n",
    "6. metho overloading \n",
    "7. attribute shadowing \n",
    "\n"
   ]
  },
  {
   "cell_type": "markdown",
   "metadata": {},
   "source": [
    "# Modify"
   ]
  },
  {
   "cell_type": "code",
   "execution_count": null,
   "metadata": {},
   "outputs": [],
   "source": [
    "class Person:\n",
    "    def __init__(self, name, age, email):\n",
    "        self.name=name\n",
    "        self._age=age\n",
    "        self.__email=email\n",
    "    \n",
    "    def update_name(self, new_name):\n",
    "        self.name=new_name\n",
    "        return f\"Name updated to:{self.name}\"\n",
    "    \n",
    "    def update_age(self, new_age):\n",
    "        self._age=new_age\n",
    "        return f\"age updated to :{self._age}\"\n",
    "    \n",
    "    def update_email(self, new_email):\n",
    "        self.__email=new_email\n",
    "        return f\"Email updated to:{self.__email}\"\n",
    "\n",
    "#create a person object\n",
    "person=Person(\n",
    "    name=\"Alice\", \n",
    "    age=30, \n",
    "    email=\"alice@example.com\"\n",
    ")"
   ]
  },
  {
   "cell_type": "code",
   "execution_count": null,
   "metadata": {},
   "outputs": [
    {
     "name": "stdout",
     "output_type": "stream",
     "text": [
      "Name updated to:Alice Smith\n",
      "age updated to :31\n",
      "Email updated to:alice.smith@example.com\n"
     ]
    }
   ],
   "source": [
    "\n",
    "print(person.update_name(\"Alice Smith\"))\n",
    "print(person.update_age(31))\n",
    "print(person.update_email(\"alice.smith@example.com\"))"
   ]
  },
  {
   "cell_type": "code",
   "execution_count": null,
   "metadata": {},
   "outputs": [],
   "source": [
    "#university example\n",
    "class University:\n",
    "    def __init__(self, name, location, budget):\n",
    "        self.name=name\n",
    "        self._location=location\n",
    "        self.__budget=budget\n",
    "    \n",
    "    #public method to modify the public attribute\n",
    "    def set_name(self, new_name):\n",
    "        self.name=new_name\n",
    "  \n",
    "    \n",
    "    #protected method to modify the protected attribute\n",
    "    def _set_location(self, new_location):\n",
    "        self._location=new_location\n",
    "\n",
    "    #private method to modify the private attribute \n",
    "    def __set_budget(self, new_budget):\n",
    "        self.__budget=new_budget\n",
    "    \n",
    "    #public method to access the private budget modification method\n",
    "    def set_budget(self, new_budget):\n",
    "        self.__budget=new_budget\n",
    "    \n",
    "    #method to display the crruent state (for verification)\n",
    "    def display_info(self):\n",
    "        return f\"Name:{self.name}, Location:{self._location}, Budget:${self.__budget}\"\n",
    "\n"
   ]
  },
  {
   "cell_type": "code",
   "execution_count": null,
   "metadata": {},
   "outputs": [],
   "source": [
    "class Department(University):\n",
    "    def __init__(self, name, location, budget, dept_name):\n",
    "        super().__init__(name, location, budget)\n",
    "        self.dept_name=dept_name #public attribute\n",
    "    \n",
    "    #public method to modify the department name\n",
    "    def set_dept_name(self, new_dept_name):\n",
    "        self.dept_name=new_dept_name\n",
    "    \n",
    "    #public method to modify protected location attribute using protected method of base class \n",
    "    def change_location(self, new_location):\n",
    "        self._set_location(new_location)\n",
    "    \n",
    "    #public method to modify the private attribute using the private method of the base class \n",
    "    def change_budget(self, new_budget):\n",
    "        self.set_budget(new_budget)\n",
    "    \n",
    "    #method to display_department_info(self):\n",
    "    def display_department_info(self):\n",
    "        return f\"University info:{self.display_info()}, Department:{self.dept_name}\"\n",
    "    \n"
   ]
  },
  {
   "cell_type": "code",
   "execution_count": null,
   "metadata": {},
   "outputs": [],
   "source": [
    "university=University(\n",
    "    name=\"Tech University\",\n",
    "    location=\"New York\",\n",
    "    budget=500000\n",
    ")\n",
    "\n",
    "department=Department(\n",
    "    name=\"Tech University\",\n",
    "    location=\"New York\", \n",
    "    budget=500000, \n",
    "    dept_name=\"Computer Science\"\n",
    ")"
   ]
  },
  {
   "cell_type": "code",
   "execution_count": null,
   "metadata": {},
   "outputs": [
    {
     "name": "stdout",
     "output_type": "stream",
     "text": [
      "Initial University Name:Tech University\n"
     ]
    }
   ],
   "source": [
    "#directly accessing the public attribute\n",
    "print(f\"Initial University Name:{university.name}\")"
   ]
  },
  {
   "cell_type": "code",
   "execution_count": null,
   "metadata": {},
   "outputs": [
    {
     "name": "stdout",
     "output_type": "stream",
     "text": [
      "updated univeristy name\n"
     ]
    }
   ],
   "source": [
    "# directly updating the public attribute \n",
    "university.name=\"Tech University International\"\n",
    "\n",
    "#directly accessing the public attribute\n",
    "print(f\"updated univeristy name\")"
   ]
  },
  {
   "cell_type": "code",
   "execution_count": null,
   "metadata": {},
   "outputs": [
    {
     "name": "stdout",
     "output_type": "stream",
     "text": [
      "Initial Location:University info:Name:Tech University, Location:New York, Budget:$500000, Department:Computer Science\n"
     ]
    }
   ],
   "source": [
    "#accessing the protected attribute indirectly\n",
    "print(f\"Initial Location:{department.display_department_info()}\")\n"
   ]
  },
  {
   "cell_type": "code",
   "execution_count": 31,
   "metadata": {},
   "outputs": [
    {
     "ename": "NameError",
     "evalue": "name 'department' is not defined",
     "output_type": "error",
     "traceback": [
      "\u001b[1;31m---------------------------------------------------------------------------\u001b[0m",
      "\u001b[1;31mNameError\u001b[0m                                 Traceback (most recent call last)",
      "Cell \u001b[1;32mIn[31], line 2\u001b[0m\n\u001b[0;32m      1\u001b[0m \u001b[38;5;66;03m# modifying the protected attribute with public method\u001b[39;00m\n\u001b[1;32m----> 2\u001b[0m \u001b[43mdepartment\u001b[49m\u001b[38;5;241m.\u001b[39mchange_location(\u001b[38;5;124m\"\u001b[39m\u001b[38;5;124mSan Francisco\u001b[39m\u001b[38;5;124m\"\u001b[39m)\n\u001b[0;32m      4\u001b[0m \u001b[38;5;66;03m#accessing protected attribute and private attribute indirectly through the publi method \u001b[39;00m\n\u001b[0;32m      5\u001b[0m \u001b[38;5;28mprint\u001b[39m(\u001b[38;5;124mf\u001b[39m\u001b[38;5;124m\"\u001b[39m\u001b[38;5;124mUpdataed Department:\u001b[39m\u001b[38;5;132;01m{\u001b[39;00mdepartment\u001b[38;5;241m.\u001b[39mdisplay_department_info()\u001b[38;5;132;01m}\u001b[39;00m\u001b[38;5;124m\"\u001b[39m)\n",
      "\u001b[1;31mNameError\u001b[0m: name 'department' is not defined"
     ]
    }
   ],
   "source": [
    "\n",
    "# modifying the protected attribute with public method\n",
    "department.change_location(\"San Francisco\")\n",
    "\n",
    "#accessing protected attribute and private attribute indirectly through the publi method \n",
    "print(f\"Updataed Department:{department.display_department_info()}\")"
   ]
  },
  {
   "cell_type": "code",
   "execution_count": 32,
   "metadata": {},
   "outputs": [
    {
     "ename": "NameError",
     "evalue": "name 'department' is not defined",
     "output_type": "error",
     "traceback": [
      "\u001b[1;31m---------------------------------------------------------------------------\u001b[0m",
      "\u001b[1;31mNameError\u001b[0m                                 Traceback (most recent call last)",
      "Cell \u001b[1;32mIn[32], line 1\u001b[0m\n\u001b[1;32m----> 1\u001b[0m \u001b[38;5;28mprint\u001b[39m(\u001b[38;5;124mf\u001b[39m\u001b[38;5;124m\"\u001b[39m\u001b[38;5;124minitial Budget Info:\u001b[39m\u001b[38;5;132;01m{\u001b[39;00m\u001b[43mdepartment\u001b[49m\u001b[38;5;241m.\u001b[39mdisplay_department_info()\u001b[38;5;132;01m}\u001b[39;00m\u001b[38;5;124m\"\u001b[39m)\n",
      "\u001b[1;31mNameError\u001b[0m: name 'department' is not defined"
     ]
    }
   ],
   "source": [
    "print(f\"initial Budget Info:{department.display_department_info()}\")"
   ]
  },
  {
   "cell_type": "code",
   "execution_count": null,
   "metadata": {},
   "outputs": [
    {
     "name": "stdout",
     "output_type": "stream",
     "text": [
      "Updated budget info:University info:Name:Tech University, Location:San Francisco, Budget:$750000, Department:Computer Science\n"
     ]
    }
   ],
   "source": [
    "# accesssing and modifying the private attribute indirectly through the public method\n",
    "department.change_budget(750000)\n",
    "print(f\"Updated budget info:{department.display_department_info()}\")"
   ]
  },
  {
   "cell_type": "code",
   "execution_count": null,
   "metadata": {},
   "outputs": [
    {
     "name": "stdout",
     "output_type": "stream",
     "text": [
      "University info: Name: Tech University, Location: new locaion, Budget: $1000000, Department: Computer Science\n"
     ]
    }
   ],
   "source": [
    "#demonstrate attempt to modify private attribute directly \n",
    "try:\n",
    "    department.__budget=1000000\n",
    "except AttributeError as e:\n",
    "    print(f\"Error:{e}\")\n",
    "\n",
    "try:\n",
    "    department._location=\"new locaion\"\n",
    "except AttributeError as e:\n",
    "    print(f\"Error:{e}\")\n",
    "\n",
    "print(department.display_department_info())"
   ]
  },
  {
   "cell_type": "code",
   "execution_count": null,
   "metadata": {},
   "outputs": [
    {
     "name": "stdout",
     "output_type": "stream",
     "text": [
      "Name: Tech University, Location: New York, Budget: $500000\n"
     ]
    }
   ],
   "source": [
    "print(university.display_info())"
   ]
  },
  {
   "cell_type": "code",
   "execution_count": 33,
   "metadata": {},
   "outputs": [
    {
     "ename": "NameError",
     "evalue": "name 'department' is not defined",
     "output_type": "error",
     "traceback": [
      "\u001b[1;31m---------------------------------------------------------------------------\u001b[0m",
      "\u001b[1;31mNameError\u001b[0m                                 Traceback (most recent call last)",
      "Cell \u001b[1;32mIn[33], line 1\u001b[0m\n\u001b[1;32m----> 1\u001b[0m \u001b[43mdepartment\u001b[49m\u001b[38;5;241m.\u001b[39mname\u001b[38;5;241m=\u001b[39m\u001b[38;5;124m\"\u001b[39m\u001b[38;5;124mnew university\u001b[39m\u001b[38;5;124m\"\u001b[39m\n\u001b[0;32m      2\u001b[0m \u001b[38;5;28mprint\u001b[39m(department\u001b[38;5;241m.\u001b[39mdisplay_department_info())\n\u001b[0;32m      3\u001b[0m \u001b[38;5;28mprint\u001b[39m(university\u001b[38;5;241m.\u001b[39mdisplay_info())\n",
      "\u001b[1;31mNameError\u001b[0m: name 'department' is not defined"
     ]
    }
   ],
   "source": [
    "department.name=\"new university\"\n",
    "print(department.display_department_info())\n",
    "print(university.display_info())"
   ]
  },
  {
   "cell_type": "code",
   "execution_count": 34,
   "metadata": {},
   "outputs": [
    {
     "ename": "NameError",
     "evalue": "name 'department' is not defined",
     "output_type": "error",
     "traceback": [
      "\u001b[1;31m---------------------------------------------------------------------------\u001b[0m",
      "\u001b[1;31mNameError\u001b[0m                                 Traceback (most recent call last)",
      "Cell \u001b[1;32mIn[34], line 1\u001b[0m\n\u001b[1;32m----> 1\u001b[0m \u001b[43mdepartment\u001b[49m\u001b[38;5;241m.\u001b[39m__budget\u001b[38;5;241m=\u001b[39m\u001b[38;5;124m\"\u001b[39m\u001b[38;5;124mnew_budget\u001b[39m\u001b[38;5;124m\"\u001b[39m\n\u001b[0;32m      2\u001b[0m \u001b[38;5;28mprint\u001b[39m(department\u001b[38;5;241m.\u001b[39mdisplay_department_info())\n",
      "\u001b[1;31mNameError\u001b[0m: name 'department' is not defined"
     ]
    }
   ],
   "source": [
    "department.__budget=\"new_budget\"\n",
    "print(department.display_department_info())"
   ]
  },
  {
   "cell_type": "code",
   "execution_count": 35,
   "metadata": {},
   "outputs": [],
   "source": [
    "class Vehicle:\n",
    "    def __init__(self, make, model, mileage, vin):\n",
    "        self.make=make\n",
    "        self.model=model\n",
    "        self._mileage=mileage\n",
    "        self.__vin=vin\n",
    "    \n",
    "    def display_info(self):\n",
    "        print(f\"vehicle make:{self.make}, model:{self.model}, mileage:{self._mileage}\")\n",
    "    \n",
    "    def _update_mileage(self, new_mileage):\n",
    "        self._mileage=new_mileage\n",
    "    \n",
    "    def get_mileage(self):\n",
    "        return f\"the mileage is :{self._mileage}\"\n",
    "\n",
    "    def __update_vin(self, new_vin):\n",
    "        self.__vin=new_vin\n",
    "    \n",
    "    def __get_vin(self):\n",
    "        return f\"the vin is :{self.__vin}\"\n",
    "    "
   ]
  },
  {
   "cell_type": "code",
   "execution_count": 36,
   "metadata": {},
   "outputs": [],
   "source": [
    "class Car(Vehicle):\n",
    "    def __init__(self, make, model, mileage, vin, num_doors):\n",
    "        super().__init__(make, model, mileage, vin)\n",
    "        self.num_doors=num_doors\n",
    "    \n",
    "    def update_car_mileage(self,new_mileage):\n",
    "        self._update_mileage(new_mileage)\n",
    "    \n",
    "    def change_car_vin(self, new_vin):\n",
    "        self._Vehicle__update_vin(new_vin)\n",
    "\n",
    "    def get_car_vin(self):\n",
    "        return self._Vehicle__get_vin()\n"
   ]
  },
  {
   "cell_type": "code",
   "execution_count": 37,
   "metadata": {},
   "outputs": [],
   "source": [
    "car=Car(\n",
    "    make=\"honda\",\n",
    "    model=\"city\",\n",
    "    mileage=\"15 kmpl\",\n",
    "    vin=\"123-45-6789\",\n",
    "    num_doors=4\n",
    ")"
   ]
  },
  {
   "cell_type": "code",
   "execution_count": 38,
   "metadata": {},
   "outputs": [
    {
     "name": "stdout",
     "output_type": "stream",
     "text": [
      "honda\n",
      "city\n",
      "15 kmpl\n",
      "the mileage is :15 kmpl\n",
      "vin:the vin is :123-45-6789\n"
     ]
    }
   ],
   "source": [
    "print(car.make)\n",
    "print(car.model)\n",
    "print(car._mileage) # not recommended direct access for protected attribute\n",
    "print(car.get_mileage()) # recommended access to the protected attribute through the public method\n",
    "#print(car.__vin) # private attribute cant be accessed directly \n",
    "print(f\"vin:{car.get_car_vin()}\")"
   ]
  },
  {
   "cell_type": "code",
   "execution_count": 39,
   "metadata": {},
   "outputs": [
    {
     "name": "stdout",
     "output_type": "stream",
     "text": [
      "vehicle make:honda, model:city, mileage:15 kmpl\n",
      "None\n"
     ]
    }
   ],
   "source": [
    "print(car.display_info())"
   ]
  },
  {
   "cell_type": "code",
   "execution_count": 40,
   "metadata": {},
   "outputs": [
    {
     "name": "stdout",
     "output_type": "stream",
     "text": [
      "tata\n",
      "the mileage is :22 kmpl\n",
      "Error:'Car' object has no attribute '__update_vin'\n",
      "the vin is :324\n"
     ]
    }
   ],
   "source": [
    "car.make=\"tata\"\n",
    "print(car.make) # its ok to do modify like this \n",
    "\n",
    "car._mileage=\"20 kmpl\" # not recommended direct modifying the protected attribute\n",
    "car._update_mileage(\"21 kmpl\") # not recommended to directly modifying protected attribute using the protected method\n",
    "car.update_car_mileage(new_mileage=\"22 kmpl\")\n",
    "print(car.get_mileage())\n",
    "\n",
    "try:\n",
    "    car.__vin=\"322\"\n",
    "except AttributeError as e:\n",
    "    print(f\"Error:{e}\")\n",
    "\n",
    "try:\n",
    "    car.__update_vin(\"323\")\n",
    "except AttributeError as e:\n",
    "    print(f\"Error:{e}\")\n",
    "\n",
    "car.change_car_vin(\"324\")\n",
    "print(car.get_car_vin())"
   ]
  },
  {
   "cell_type": "code",
   "execution_count": 43,
   "metadata": {},
   "outputs": [
    {
     "name": "stdout",
     "output_type": "stream",
     "text": [
      "Buddy is barking!\n"
     ]
    }
   ],
   "source": [
    "class Dog:\n",
    "    def __init__(self, name, breed):\n",
    "        self.name=name\n",
    "        self.breed=breed\n",
    "    \n",
    "    def bark(self):\n",
    "        return f\"{self.name} is barking!\"\n",
    "    \n",
    "#creating an object of the Dog class\n",
    "\n",
    "my_dog=Dog(\"Buddy\", \"Golden Retriever\")\n",
    "\n",
    "print(my_dog.bark())"
   ]
  },
  {
   "cell_type": "code",
   "execution_count": 2,
   "metadata": {},
   "outputs": [
    {
     "name": "stdout",
     "output_type": "stream",
     "text": [
      "the engine of the honda city is starting\n"
     ]
    }
   ],
   "source": [
    "class Car:\n",
    "    def __init__(self,make, model, year):\n",
    "        self.make=make\n",
    "        self.model=model\n",
    "        self.year=year\n",
    "    \n",
    "    def start_engine(self):\n",
    "        return f\"the engine of the {self.make} {self.model} is starting\"\n",
    "    \n",
    "car=Car(\"honda\", \"city\", 2004)\n",
    "\n",
    "print(car.start_engine())"
   ]
  },
  {
   "cell_type": "code",
   "execution_count": 5,
   "metadata": {},
   "outputs": [
    {
     "name": "stdout",
     "output_type": "stream",
     "text": [
      "This car has a 100-kWh battery.\n",
      "This car has a 99-kWh battery.\n"
     ]
    }
   ],
   "source": [
    "class ElectricCar(Car):\n",
    "    def __init__(self, make, model, year, battery_size):\n",
    "        super().__init__(make, model, year)\n",
    "        self.battery_size=battery_size\n",
    "    \n",
    "    def describe_battery(self):\n",
    "        return f\"This car has a {self.battery_size}-kWh battery.\" \n",
    "\n",
    "#creating an objejct of the ElectricCar class\n",
    "my_electric_car= ElectricCar(\"Tesla\", \"Model S\", 2020, 100)\n",
    "\n",
    "#calling the describe_battery method\n",
    "print(my_electric_car.describe_battery())\n",
    "\n",
    "my_electric_car_2=ElectricCar(\"BYD\", \"super\", 2022, 99)\n",
    "\n",
    "print(my_electric_car_2.describe_battery())\n"
   ]
  },
  {
   "cell_type": "code",
   "execution_count": 11,
   "metadata": {},
   "outputs": [
    {
     "name": "stdout",
     "output_type": "stream",
     "text": [
      "Account Number: 1234567890, Balance:1000\n",
      "1000\n",
      "[]\n",
      "1300\n",
      "['Deposited 500', 'Withdrew 200']\n"
     ]
    }
   ],
   "source": [
    "class BankAccount:\n",
    "    def __init__(self, account_number, balance):\n",
    "        self.account_number=account_number #public attribute\n",
    "        self._balance=balance #protected attribute\n",
    "        self.__transaction_history=[] #private attribute \n",
    "    \n",
    "    def deposit(self, amount):\n",
    "        if amount>0:\n",
    "            self._balance+=amount\n",
    "            self.__add_transaction(f\"Deposited {amount}\")\n",
    "        else:\n",
    "            print(\"Deposit amount must be positive\")\n",
    "        \n",
    "    def withdraw(self, amount):\n",
    "        if 0<amount<=self._balance:\n",
    "            self._balance-= amount\n",
    "            self.__add_transaction(f\"Withdrew {amount}\")\n",
    "        else:\n",
    "            print(\"Invalid withdraw amount.\")\n",
    "        \n",
    "    def get_balance(self):\n",
    "        return self._balance\n",
    "    \n",
    "    def get_transaction_history(self):\n",
    "        return self.__transaction_history\n",
    "    \n",
    "    def __add_transaction(self, transaction):\n",
    "        self.__transaction_history.append(transaction)\n",
    "    \n",
    "    def display_account_info(self):\n",
    "        return f\"Account Number: {self.account_number}, Balance:{self._balance}\"\n",
    "\n",
    "account=BankAccount(\"1234567890\", 1000)\n",
    "\n",
    "print(account.display_account_info())\n",
    "print(account._balance) #not recommended\n",
    "\n",
    "#print(account.__transaction_history)\n",
    "\n",
    "print(account.get_transaction_history())\n",
    "\n",
    "account.deposit(500)\n",
    "account.withdraw(200)\n",
    "\n",
    "print(account.get_balance())\n",
    "print(account.get_transaction_history())\n"
   ]
  }
 ],
 "metadata": {
  "kernelspec": {
   "display_name": "base",
   "language": "python",
   "name": "python3"
  },
  "language_info": {
   "codemirror_mode": {
    "name": "ipython",
    "version": 3
   },
   "file_extension": ".py",
   "mimetype": "text/x-python",
   "name": "python",
   "nbconvert_exporter": "python",
   "pygments_lexer": "ipython3",
   "version": "undefined.undefined.undefined"
  }
 },
 "nbformat": 4,
 "nbformat_minor": 2
}
