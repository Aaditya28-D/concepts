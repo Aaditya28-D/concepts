{
 "cells": [
  {
   "cell_type": "code",
   "execution_count": 5,
   "id": "00119cf1",
   "metadata": {},
   "outputs": [
    {
     "name": "stdout",
     "output_type": "stream",
     "text": [
      "this car is a Red Toyota Corolla.\n"
     ]
    }
   ],
   "source": [
    "class Car:\n",
    "    def __init__(self, brand, model, color):\n",
    "        self.brand=brand \n",
    "        self.model=model \n",
    "        self.color=color \n",
    "    \n",
    "    def describe(self):\n",
    "        return f\"this car is a {self.color} {self.brand} {self.model}.\" \n",
    "\n",
    "my_car=Car(\"Toyota\", \"Corolla\", \"Red\")\n",
    "\n",
    "print(my_car.describe())"
   ]
  },
  {
   "cell_type": "code",
   "execution_count": 10,
   "id": "2b9b0da7",
   "metadata": {},
   "outputs": [
    {
     "name": "stdout",
     "output_type": "stream",
     "text": [
      "Buddy\n",
      "Labrador\n",
      "Max\n",
      "Max\n"
     ]
    }
   ],
   "source": [
    "#defining a class\n",
    "\n",
    "class Dog:\n",
    "    #constructor (initializer)\n",
    "    def __init__ (self, name, breed):\n",
    "        self.name=name #instance variable\n",
    "        self.breed = breed #instance variable\n",
    "\n",
    "    #instance method\n",
    "    def bark(self):\n",
    "        return f\"{self.name} says woof:\"\n",
    "\n",
    "#creating instances\n",
    "dog1=Dog(\"Buddy\", \"Labrador\")\n",
    "dog2= Dog(\"Max\", \"beagle\") \n",
    "\n",
    "print(dog1.name)\n",
    "print(dog1.breed)\n",
    "print(dog2.name)\n",
    "print(dog2.name)\n"
   ]
  },
  {
   "cell_type": "code",
   "execution_count": 11,
   "id": "a8615734",
   "metadata": {},
   "outputs": [
    {
     "name": "stdout",
     "output_type": "stream",
     "text": [
      "Buddy\n",
      "beagle\n",
      "Max says woof:\n"
     ]
    }
   ],
   "source": [
    "class Dog:\n",
    "    #initializer/constructor \n",
    "    def __init__(self, name, breed):\n",
    "        self.name =name #object/instance variable/attributes\n",
    "        self.breed=breed #object/instance variable/attributes\n",
    "    \n",
    "    #instance method\n",
    "    def bark(self):\n",
    "        return f\"{self.name} says woof!\"\n",
    "    \n",
    "    #instance/objects \n",
    "\n",
    "    dog1=Dog(name=\"buddy\", breed= \"Labrador\")\n",
    "    dog2=Dog(name=\"Max\", breed=\"Beagle\")\n",
    "\n",
    "    \n",
    "#accessing attributes and methods\n",
    "print(dog1.name) \n",
    "print(dog2.breed) \n",
    "print(dog2.bark())"
   ]
  },
  {
   "cell_type": "code",
   "execution_count": 15,
   "id": "a840a954",
   "metadata": {},
   "outputs": [
    {
     "name": "stdout",
     "output_type": "stream",
     "text": [
      "max\n",
      "pugh\n",
      "bully says woof!\n"
     ]
    }
   ],
   "source": [
    "class Dog: #class\n",
    "    #constructor\n",
    "    def __init__(self, name, breed): #parameters\n",
    "        self.name=name #instance variables\n",
    "        self.breed = breed #instance variables\n",
    "\n",
    "    #instance methods\n",
    "    def bark(self):\n",
    "        return f\"{self.name} says woof!\" \n",
    "    \n",
    "#instances/ objects\"\n",
    "dog1=Dog(\"max\", \"Labrador\") #arguments \n",
    "dog2=Dog(\"bully\", \"pugh\") #arguments\n",
    "\n",
    "#calling the instance variables and methods\n",
    "print(dog1.name)\n",
    "print(dog2.breed)\n",
    "print(dog2.bark())\n"
   ]
  },
  {
   "cell_type": "code",
   "execution_count": 17,
   "id": "58d0217c",
   "metadata": {},
   "outputs": [
    {
     "name": "stdout",
     "output_type": "stream",
     "text": [
      "This car is a 2020 Toyota corolla\n"
     ]
    }
   ],
   "source": [
    "class Car:\n",
    "    def __init__(self, make, model, year):\n",
    "        self.make=make \n",
    "        self.model=model \n",
    "        self.year=year \n",
    "\n",
    "    def description(self):\n",
    "        return f\"This car is a {self.year} {self.make} {self.model}\"\n",
    "\n",
    "car1 = Car(make=\"Toyota\", model=\"corolla\", year=\"2020\")\n",
    "car2=Car(make=\"BMW\", model=\"X7\", year=\"2024\")\n",
    "\n",
    "print(car1.description())"
   ]
  },
  {
   "cell_type": "code",
   "execution_count": 21,
   "id": "7bff2a5e",
   "metadata": {},
   "outputs": [
    {
     "name": "stdout",
     "output_type": "stream",
     "text": [
      "Current balance:$ 1200\n"
     ]
    }
   ],
   "source": [
    "class BankAccount:\n",
    "    def __init__(self, account_holder, balance):\n",
    "        self.account_holder=account_holder\n",
    "        self.balance=balance \n",
    "\n",
    "    def deposit(self, amount):\n",
    "        self.balance += amount\n",
    "\n",
    "    def withdraw(self, amount):\n",
    "        if self.balance>amount:\n",
    "            self.balance-= amount\n",
    "\n",
    "    def get_balance(self):\n",
    "        return f\"Current balance:$ {self.balance}\"\n",
    "    \n",
    "\n",
    "BA1=BankAccount(account_holder=\"Amit\", balance=1000)\n",
    "\n",
    "BA1.deposit(500)\n",
    "BA1.withdraw(300)\n",
    "print(BA1.get_balance())\n",
    "\n"
   ]
  },
  {
   "cell_type": "code",
   "execution_count": 28,
   "id": "6c39c4f7",
   "metadata": {},
   "outputs": [
    {
     "name": "stdout",
     "output_type": "stream",
     "text": [
      "Book: Harry Potter by J.K. Rowling-Available\n",
      "book Harry Potter is borrowed\n",
      "Book: Harry Potter by J.K. Rowling-Unavailable\n",
      "sorry, this book is currently unavailable\n",
      "book Harry Potter return complete\n",
      "Book: Harry Potter by J.K. Rowling-Available\n",
      "book Harry Potter is borrowed\n"
     ]
    }
   ],
   "source": [
    "class Book:\n",
    "    def __init__(self, title, author, is_available):\n",
    "        self.title=title\n",
    "        self.author=author \n",
    "        self.is_available=is_available \n",
    "\n",
    "    def borrow_book(self):\n",
    "        if self.is_available==True:\n",
    "            self.is_available=False\n",
    "            return f\"book {self.title} is borrowed\"\n",
    "        else:\n",
    "            return f\"sorry, this book is currently unavailable\"\n",
    "        \n",
    "\n",
    "    def return_book(self):\n",
    "        self.is_available=True\n",
    "        return f\"book {self.title} return complete\"\n",
    "\n",
    "\n",
    "    def get_info(self):\n",
    "        status=\"Available\" if self.is_available else \"Unavailable\"\n",
    "        return f\"Book: {self.title} by {self.author}-{status}\"\n",
    "\n",
    "B1=Book(title=\"Harry Potter\", author=\"J.K. Rowling\", is_available=True)  \n",
    "\n",
    "print(B1.get_info())\n",
    "print(B1.borrow_book())\n",
    "\n",
    "print(B1.get_info())\n",
    "print(B1.borrow_book())\n",
    "\n",
    "print(B1.return_book())\n",
    "\n",
    "print(B1.get_info())\n",
    "print(B1.borrow_book())\n",
    "\n"
   ]
  },
  {
   "cell_type": "code",
   "execution_count": 17,
   "id": "87e4ea3c",
   "metadata": {},
   "outputs": [],
   "source": [
    "class Book:\n",
    "    def __init__(self, title, author, is_available=True):\n",
    "        self.title=title \n",
    "        self.author=author \n",
    "        self.is_available=is_available\n",
    "\n",
    "    def get_info(self):\n",
    "        status=\"available\" if self.is_available else \"Unavailable\" \n",
    "        return f\"Book:{self.title} by {self.author}-{status}\"\n",
    "    \n",
    "    def borrow_book(self):\n",
    "        if self.is_available:\n",
    "            self.is_available=False\n",
    "            return f\"book {self.title} by {self.author} is borrowed\" \n",
    "        else:\n",
    "            return f\"sorry, the book {self.title} by {self.author} is unavailable\"\n",
    "\n",
    "    def return_book(self):\n",
    "        self.is_available=True \n",
    "\n",
    "\n",
    "\n",
    "class Library:\n",
    "    def __init__(self, name):\n",
    "        self.name=name \n",
    "        self.books = []\n",
    "\n",
    "    def add_book(self, book):\n",
    "        self.books.append(book)\n",
    "\n",
    "    def list_books(self):\n",
    "        for book in self.books:\n",
    "            print(book.get_info())\n",
    "\n",
    "    def borrow_book_by_title(self, title):\n",
    "        for book in self.books:\n",
    "            if book.title==title:\n",
    "                return book.borrow_book()\n",
    "        return f\"No book with title '{title}' found.\" \n",
    "    \n",
    "    def return_book_by_title(self, title):\n",
    "        for book in self.books:\n",
    "            if book.title==title:\n",
    "                return book.return_book()\n",
    "        return f\"NO book with title '{title}' found.\"\n"
   ]
  },
  {
   "cell_type": "code",
   "execution_count": null,
   "id": "c00a3782",
   "metadata": {},
   "outputs": [],
   "source": [
    "\n"
   ]
  },
  {
   "cell_type": "code",
   "execution_count": 42,
   "id": "85ca9549",
   "metadata": {},
   "outputs": [
    {
     "name": "stdout",
     "output_type": "stream",
     "text": [
      "Harry Potter\n",
      "J.K.Rowling\n",
      "True\n",
      "Book:Harry Potter by J.K.Rowling-available\n",
      "Book Harry Potter is borrowed\n",
      "Book:Harry Potter by J.K.Rowling-unavailable\n",
      "The book Harry Potter returned\n",
      "Book:Harry Potter by J.K.Rowling-available\n",
      "Book Harry Potter is borrowed\n",
      "The book Harry Potter returned\n",
      "Book:Harry Potter by J.K.Rowling-available\n"
     ]
    }
   ],
   "source": [
    "class Book:\n",
    "    def __init__(self, title, author, is_available=True):\n",
    "        self.title=title \n",
    "        self.author=author \n",
    "        self.is_available=is_available\n",
    "    \n",
    "    def borrow_book(self):\n",
    "        if self.is_available==True:\n",
    "            self.is_available=False\n",
    "            return f\"Book {self.title} is borrowed\" \n",
    "        else:\n",
    "            return f\"sorry the book {self.title} is not available\"\n",
    "    \n",
    "    def return_book(self):\n",
    "        self.is_available=True\n",
    "        return f\"The book {self.title} returned\" \n",
    "    \n",
    "    def get_info(self):\n",
    "        status=\"available\" if self.is_available else \"unavailable\" \n",
    "        return f\"Book:{self.title} by {self.author}-{status}\" \n",
    "    \n",
    "book1=Book(title=\"Harry Potter\", author=\"J.K.Rowling\")\n",
    "book2=Book(title=\"kite runner\", author=\"Khalid Hussian\")\n",
    "\n",
    "print(book1.title)\n",
    "print(book1.author)\n",
    "print(book1.is_available)\n",
    "print(book1.get_info())\n",
    "print(book1.borrow_book())\n",
    "\n",
    "print(book1.get_info())\n",
    "print(book1.return_book())\n",
    "\n",
    "print(book1.get_info())\n",
    "print(book1.borrow_book())\n",
    "print(book1.return_book())\n",
    "print(book1.get_info())\n"
   ]
  },
  {
   "cell_type": "code",
   "execution_count": 54,
   "id": "3ef8aa84",
   "metadata": {},
   "outputs": [
    {
     "name": "stdout",
     "output_type": "stream",
     "text": [
      "the book Harry Potter added to library\n",
      "the book kite runner added to library\n",
      "Book:Harry Potter by J.K.Rowling-available\n",
      "Book:kite runner by Khalid Hussian-available\n",
      "None\n",
      "Book Harry Potter is borrowed\n",
      "Book kite runner is borrowed\n",
      "The book Harry Potter returned\n",
      "The book kite runner returned\n",
      "Book:Harry Potter by J.K.Rowling-available\n",
      "Book:kite runner by Khalid Hussian-available\n",
      "None\n"
     ]
    }
   ],
   "source": [
    "class Library:\n",
    "    def __init__(self, name):\n",
    "        self.name=name \n",
    "        self.books=[]\n",
    "\n",
    "    def add_book(self, book):\n",
    "        self.books.append(book)\n",
    "        return f\"the book {book.title} added to library\"\n",
    "    \n",
    "    def list_book(self):\n",
    "        for book in self.books:\n",
    "            print (book.get_info())\n",
    "        \n",
    "    def borrow_book_by_title(self, title):\n",
    "        for book in self.books:\n",
    "            if book.title==title:\n",
    "                return book.borrow_book()\n",
    "    \n",
    "    def return_book_by_title(self, title):\n",
    "        for book in self.books:\n",
    "            if book.title==title:\n",
    "                return book.return_book()\n",
    "\n",
    "\n",
    "lab1=Library(name=\"auzilab\")\n",
    "print(lab1.add_book(book1))\n",
    "print(lab1.add_book(book2))\n",
    "\n",
    "print(lab1.list_book())\n",
    "\n",
    "print(lab1.borrow_book_by_title(\"Harry Potter\"))\n",
    "print(lab1.borrow_book_by_title(\"kite runner\"))\n",
    "\n",
    "print(lab1.return_book_by_title(\"Harry Potter\"))\n",
    "print(lab1.return_book_by_title(\"kite runner\"))\n",
    "print(lab1.list_book())"
   ]
  },
  {
   "cell_type": "markdown",
   "id": "fc666028",
   "metadata": {},
   "source": [
    "### customer and order system"
   ]
  },
  {
   "cell_type": "code",
   "execution_count": 56,
   "id": "22aa457d",
   "metadata": {},
   "outputs": [],
   "source": [
    "class Customer:\n",
    "    def __init__(self, name, email):\n",
    "        self.name=name\n",
    "        self.email=email\n",
    "\n",
    "    def get_info(self):\n",
    "        return f\"Customer: {self.name} ({self.email})\"\n",
    "    \n",
    "\n",
    "class Order:\n",
    "    def __init__(self, order_id, product_name, customer):\n",
    "        self.order_id=order_id \n",
    "        self.product_name=product_name \n",
    "        self.customer=customer\n",
    "    \n",
    "    def get_order_details(self):\n",
    "        return f\"Order #{self.order_id}: {self.product_name} by {self.customer.name}\"\n",
    "    \n"
   ]
  },
  {
   "cell_type": "code",
   "execution_count": 59,
   "id": "333b7f0e",
   "metadata": {},
   "outputs": [
    {
     "name": "stdout",
     "output_type": "stream",
     "text": [
      "John\n",
      "John@email.com\n",
      "Customer: John (John@email.com)\n"
     ]
    }
   ],
   "source": [
    "customer_1=Customer(name=\"John\", email=\"John@email.com\")\n",
    "print(customer_1.name)\n",
    "print(customer_1.email)\n",
    "print(customer_1.get_info())"
   ]
  },
  {
   "cell_type": "code",
   "execution_count": 65,
   "id": "5569bed2",
   "metadata": {},
   "outputs": [
    {
     "name": "stdout",
     "output_type": "stream",
     "text": [
      "101\n",
      "Laptop\n",
      "John\n",
      "Order #101: Laptop by John\n"
     ]
    }
   ],
   "source": [
    "order_1=Order(order_id=101, product_name=\"Laptop\", customer=customer_1)\n",
    "print(order_1.order_id)\n",
    "print(order_1.product_name)\n",
    "print(order_1.customer.name)\n",
    "print(order_1.get_order_details())"
   ]
  },
  {
   "cell_type": "markdown",
   "id": "6a45e648",
   "metadata": {},
   "source": [
    "## Inheritance"
   ]
  },
  {
   "cell_type": "code",
   "execution_count": 69,
   "id": "7b24b7e7",
   "metadata": {},
   "outputs": [
    {
     "name": "stdout",
     "output_type": "stream",
     "text": [
      "Buddy\n",
      "Buddy make a sound\n",
      "Buddy says woof\n"
     ]
    }
   ],
   "source": [
    "#parent class\n",
    "class Animal:\n",
    "    def __init__(self, name):\n",
    "        self.name=name \n",
    "    \n",
    "    def speak(self):\n",
    "        return f\"{self.name} make a sound\"\n",
    "    \n",
    "\n",
    "#child class\n",
    "class Dog(Animal):\n",
    "    def bark(self):\n",
    "        return f\"{self.name} says woof\"\n",
    "    \n",
    "dog1= Dog(\"Buddy\")\n",
    "print(dog1.name)\n",
    "print(dog1.speak())\n",
    "print(dog1.bark())"
   ]
  },
  {
   "cell_type": "markdown",
   "id": "0bd62541",
   "metadata": {},
   "source": [
    "#### Inheritance with Employee and Manager"
   ]
  },
  {
   "cell_type": "code",
   "execution_count": 80,
   "id": "05ea99fe",
   "metadata": {},
   "outputs": [
    {
     "name": "stdout",
     "output_type": "stream",
     "text": [
      "Employee: John, Salary:50000\n",
      "Employee: Alice, Salary:75000\n",
      "Manager:Alice, Department:Sales\n"
     ]
    }
   ],
   "source": [
    "class Employee:\n",
    "    def __init__ (self, name, salary):\n",
    "        self.name = name \n",
    "        self.salary= salary \n",
    "    \n",
    "    def get_details(self):\n",
    "        return f\"Employee: {self.name}, Salary:{self.salary}\" \n",
    "    \n",
    "class Manager(Employee):\n",
    "    def __init__ (self, name, salary, department):\n",
    "        super().__init__(name, salary)\n",
    "        self.department=department \n",
    "    \n",
    "    def get_manager_details(self):\n",
    "        return f\"Manager:{self.name}, Department:{self.department}\" \n",
    "\n",
    "emp_1=Employee(name=\"John\", salary=50000)\n",
    "print(emp_1.get_details())\n",
    "\n",
    "mang_1=Manager(name=\"Alice\", salary=75000, department=\"Sales\") \n",
    "print(mang_1.get_details())\n",
    "print(mang_1.get_manager_details())"
   ]
  },
  {
   "cell_type": "markdown",
   "id": "5266565e",
   "metadata": {},
   "source": [
    "#### Vehicle and Car Inheritance"
   ]
  },
  {
   "cell_type": "code",
   "execution_count": 81,
   "id": "fa30ff9c",
   "metadata": {},
   "outputs": [],
   "source": [
    "class Vehicle:\n",
    "    def __init__(self, brand, model):\n",
    "        self.brand=brand \n",
    "        self.model =model \n",
    "    \n",
    "    def get_info(self):\n",
    "        return f\"Vehicle: {self.brand} {self.model}\""
   ]
  },
  {
   "cell_type": "code",
   "execution_count": null,
   "id": "4bc0c7b8",
   "metadata": {},
   "outputs": [],
   "source": [
    "class Car(Vehicle):\n",
    "    def __init__(self, brand, model, year):\n",
    "        super(). __init__(brand, model)\n",
    "        self.year=year \n",
    "\n",
    "    def get_full_info(self):\n",
    "        return f\"Car: {self.brand} {self.model} ({self.year})\"\n"
   ]
  },
  {
   "cell_type": "code",
   "execution_count": 84,
   "id": "fc913980",
   "metadata": {},
   "outputs": [
    {
     "name": "stdout",
     "output_type": "stream",
     "text": [
      "BMW\n",
      "X7\n",
      "Vehicle: BMW X7\n",
      "Toyota\n",
      "corolla\n",
      "2022\n",
      "Vehicle: Toyota corolla\n",
      "Car: Toyota corolla (2022)\n"
     ]
    }
   ],
   "source": [
    "veh_1=Vehicle(brand=\"BMW\", model=\"X7\")\n",
    "car_1=Car(brand=\"Toyota\", model=\"corolla\", year=\"2022\") \n",
    "\n",
    "print(veh_1.brand) \n",
    "print(veh_1.model) \n",
    "print(veh_1.get_info()) \n",
    "\n",
    "print(car_1.brand) \n",
    "print(car_1.model) \n",
    "print(car_1.year) \n",
    "print(car_1.get_info())\n",
    "print(car_1.get_full_info()) "
   ]
  },
  {
   "cell_type": "markdown",
   "id": "03a6e0b1",
   "metadata": {},
   "source": [
    "#### Inheritance with Method Reuse + List of Children"
   ]
  },
  {
   "cell_type": "code",
   "execution_count": null,
   "id": "cfce20da",
   "metadata": {},
   "outputs": [],
   "source": [
    "class Person:\n",
    "    def __init__ (self, name, Age):\n",
    "        self.name= name \n",
    "        self.Age= Age \n",
    "    \n",
    "    def get_info(self):\n",
    "        return f\"Name: {self.name} Age: {self.Age}\"\n",
    "    \n",
    "class Student(Person):\n",
    "    def __init__(self, name, Age, grade):\n",
    "        super(). __init__ (name, Age)\n",
    "        self.grade=grade \n",
    "    \n",
    "    def get_info(self):\n",
    "        return f\"student:{self.name}, Age:{self.Age}, Grade:{self.grade}\" \n",
    "    \n",
    "class Teacher(Person):\n",
    "    def __init__(self, name, Age, subject):\n",
    "        super().__init__(name, Age)\n",
    "        self.subject=subject \n",
    "    \n",
    "    def get_info(self):\n",
    "        return f\"Teacher: {self.name}, Age:{self.Age}, subject:{self.subject}\" \n",
    "    \n"
   ]
  },
  {
   "cell_type": "code",
   "execution_count": 92,
   "id": "fae34d14",
   "metadata": {},
   "outputs": [],
   "source": [
    "stud_1=Student(name=\"Tara\", Age= 28, grade=8) \n",
    "stud_2=Student(name=\"Rahul\", Age=16, grade=10) \n",
    "\n",
    "teach_1=Teacher(name=\"Priya\", Age=35, subject= \"Maths\")\n",
    "teach_2=Teacher(name=\"karan\", Age=54, subject=\"science\")"
   ]
  },
  {
   "cell_type": "code",
   "execution_count": 93,
   "id": "c19a3386",
   "metadata": {},
   "outputs": [
    {
     "name": "stdout",
     "output_type": "stream",
     "text": [
      "Tara\n",
      "28\n",
      "8\n",
      "student:Tara, Age:28, Grade:8\n"
     ]
    }
   ],
   "source": [
    "print(stud_1.name)\n",
    "print(stud_1.Age)\n",
    "print(stud_1.grade)\n",
    "print(stud_1.get_info())"
   ]
  },
  {
   "cell_type": "code",
   "execution_count": 94,
   "id": "b2e1bf2e",
   "metadata": {},
   "outputs": [
    {
     "name": "stdout",
     "output_type": "stream",
     "text": [
      "Priya\n",
      "35\n",
      "Maths\n",
      "Teacher: Priya, Age:35, subject:Maths\n"
     ]
    }
   ],
   "source": [
    "print(teach_1.name)\n",
    "print(teach_1.Age)\n",
    "print(teach_1.subject)\n",
    "print(teach_1.get_info())\n"
   ]
  },
  {
   "cell_type": "code",
   "execution_count": 96,
   "id": "85f4a246",
   "metadata": {},
   "outputs": [
    {
     "name": "stdout",
     "output_type": "stream",
     "text": [
      "student:Tara, Age:28, Grade:8\n",
      "student:Rahul, Age:16, Grade:10\n",
      "Teacher: Priya, Age:35, subject:Maths\n",
      "Teacher: karan, Age:54, subject:science\n"
     ]
    }
   ],
   "source": [
    "people=[stud_1, stud_2, teach_1, teach_2]\n",
    "\n",
    "for person in people:\n",
    "    print(person.get_info())"
   ]
  },
  {
   "cell_type": "markdown",
   "id": "f595cde1",
   "metadata": {},
   "source": [
    "#### Animal Hierarchy with super() in Overriding"
   ]
  },
  {
   "cell_type": "code",
   "execution_count": 105,
   "id": "27895102",
   "metadata": {},
   "outputs": [
    {
     "name": "stdout",
     "output_type": "stream",
     "text": [
      "Parrot\n",
      "Hen\n",
      "This is an animal named Parrot. it can fly.\n",
      "This is an animal named Hen. it cannot fly\n"
     ]
    }
   ],
   "source": [
    "class Animal:\n",
    "    def __init__ (self, name):\n",
    "        self.name=name \n",
    "\n",
    "    def describe(self):\n",
    "        return f\"This is an animal named {self.name}\"\n",
    "    \n",
    "class Bird(Animal):\n",
    "    def __init__(self, name, can_fly):\n",
    "        super(). __init__ (name)\n",
    "        self.can_fly=can_fly\n",
    "\n",
    "\n",
    "    def describe(self):\n",
    "        if self.can_fly==True:\n",
    "            return f\"This is an animal named {self.name}. it can fly.\" \n",
    "        else:\n",
    "            return f\"This is an animal named {self.name}. it cannot fly\" \n",
    "    \n",
    "\n",
    "B1=Bird(name=\"Parrot\", can_fly=True)\n",
    "B2=Bird(name=\"Hen\", can_fly=False) \n",
    "\n",
    "print(B1.name)\n",
    "print(B2.name)\n",
    "print(B1.describe())\n",
    "print(B2.describe())"
   ]
  },
  {
   "cell_type": "code",
   "execution_count": 107,
   "id": "7f28df78",
   "metadata": {},
   "outputs": [
    {
     "name": "stdout",
     "output_type": "stream",
     "text": [
      "Parrot\n",
      "Penguin\n",
      "This is an animal named Parrot. It can fly.\n",
      "This is an animal named Penguin. It can not fly\n"
     ]
    }
   ],
   "source": [
    "class Animal:\n",
    "    def __init__(self, name):\n",
    "        self.name=name \n",
    "    \n",
    "    def describe(self):\n",
    "        return f\"This is an animal named {self.name}\" \n",
    "    \n",
    "class Bird(Animal):\n",
    "    def __init__ (self, name, can_fly):\n",
    "        super().__init__(name)\n",
    "        self.can_fly=can_fly \n",
    "    \n",
    "    def describe(self):\n",
    "        base_description=super().describe() \n",
    "        if self.can_fly:\n",
    "            return f\"{base_description}. It can fly.\" \n",
    "        else:\n",
    "            return f\"{base_description}. It can not fly\" \n",
    "    \n",
    "\n",
    "B1=Bird(name=\"Parrot\", can_fly=True)\n",
    "B2=Bird(name=\"Penguin\", can_fly=False)\n",
    "\n",
    "print(B1.name)\n",
    "print(B2.name)\n",
    "print(B1.describe())\n",
    "print(B2.describe())"
   ]
  },
  {
   "cell_type": "markdown",
   "id": "1de497e3",
   "metadata": {},
   "source": [
    "#### Bank Account and SavingsAccount Inheritance"
   ]
  },
  {
   "cell_type": "code",
   "execution_count": 119,
   "id": "b302b444",
   "metadata": {},
   "outputs": [],
   "source": [
    "class BankAccount:\n",
    "    def __init__(self, holder_name, balance):\n",
    "        self.holder_name=holder_name \n",
    "        self.balance=balance \n",
    "    \n",
    "    def get_balance(self):\n",
    "        return f\"Balance: ${self.balance}\" \n",
    "    \n",
    "    def deposit(self, amount):\n",
    "        self.balance+=amount \n",
    "        return f\"amount {amount} deposited. the new balance is {self.balance}.\"\n",
    "\n",
    "    def withdraw(self, amount):\n",
    "        if self.balance>=amount:\n",
    "            self.balance-=amount\n",
    "            return f\"amount {amount} withdrawed. the new balance is {self.balance}\" \n",
    "        else:\n",
    "            return \"Insufficient blance to withdraw\"\n",
    "\n",
    "\n",
    "class SavingAccount(BankAccount):\n",
    "    def __init__(self, holder_name, balance, interest_rate):\n",
    "        super(). __init__(holder_name, balance) \n",
    "        self.interest_rate=interest_rate \n",
    "    \n",
    "    def get_balance(self):\n",
    "        bank_balance=super().get_balance() \n",
    "        return f\"{bank_balance} with {self.interest_rate} % interest\" \n"
   ]
  },
  {
   "cell_type": "code",
   "execution_count": 122,
   "id": "66c415c8",
   "metadata": {},
   "outputs": [
    {
     "name": "stdout",
     "output_type": "stream",
     "text": [
      "Karan Kapoor\n",
      "5000\n",
      "Balance: $5000 with 5 % interest\n",
      "amount 30 deposited. the new balance is 5030.\n",
      "amount 48 withdrawed. the new balance is 4982\n",
      "Balance: $4982 with 5 % interest\n",
      "Insufficient blance to withdraw\n"
     ]
    }
   ],
   "source": [
    "SA1=SavingAccount(holder_name=\"Karan Kapoor\", balance=5000, interest_rate=5)\n",
    "print(SA1.holder_name)\n",
    "print(SA1.balance)\n",
    "print(SA1.get_balance())\n",
    "print(SA1.deposit(30))\n",
    "print(SA1.withdraw(48))\n",
    "print(SA1.get_balance())\n",
    "print(SA1.withdraw(4983))\n",
    "\n",
    "\n",
    "    "
   ]
  },
  {
   "cell_type": "markdown",
   "id": "c9c2a5ab",
   "metadata": {},
   "source": [
    "## Encapsulation"
   ]
  },
  {
   "cell_type": "code",
   "execution_count": 131,
   "id": "7eb79ffc",
   "metadata": {},
   "outputs": [],
   "source": [
    "class BankAccount:\n",
    "    def __init__(self, holder_name, balance):\n",
    "        self.holder_name =holder_name \n",
    "        self.__balance = balance \n",
    "    \n",
    "    def get_balance(self):\n",
    "         return self.__balance \n",
    "    \n",
    "    def deposit (self, amount):\n",
    "        if amount> 0:\n",
    "            self.__balance +=amount \n",
    "\n",
    "    def withdraw(self, amount): \n",
    "        if 0<amount <=self.__balance: \n",
    "            self.__balance -=amount \n",
    "        else:\n",
    "            print(\"Insufficient balance or invalid amount\") \n",
    "            "
   ]
  },
  {
   "cell_type": "code",
   "execution_count": 134,
   "id": "08c7f092",
   "metadata": {},
   "outputs": [
    {
     "name": "stdout",
     "output_type": "stream",
     "text": [
      "Amit\n",
      "1000\n",
      "Insufficient balance or invalid amount\n"
     ]
    }
   ],
   "source": [
    "acc = BankAccount(\"Amit\", 1000) \n",
    "print(acc.holder_name)\n",
    "#print(acc.__balance) will give error direct access blocked \n",
    "print(acc.get_balance())\n",
    "\n",
    "acc.deposit(500)\n",
    "acc.withdraw(2000)"
   ]
  },
  {
   "cell_type": "markdown",
   "id": "89ef2cd1",
   "metadata": {},
   "source": [
    "#### Encapsulation types\n",
    "In Python, encapsulation is implemented using access modifiers to control access to class attributes and methods."
   ]
  },
  {
   "cell_type": "markdown",
   "id": "b451db7e",
   "metadata": {},
   "source": [
    "#### 1. Public Members "
   ]
  },
  {
   "cell_type": "code",
   "execution_count": 137,
   "id": "bf45a89d",
   "metadata": {},
   "outputs": [
    {
     "name": "stdout",
     "output_type": "stream",
     "text": [
      "Amit\n"
     ]
    }
   ],
   "source": [
    "class Person:\n",
    "    def __init__(self, name):\n",
    "        self.name=name #public attribute \n",
    "\n",
    "p1=Person(\"Amit\") \n",
    "print(p1.name)"
   ]
  },
  {
   "cell_type": "markdown",
   "id": "6e4d2614",
   "metadata": {},
   "source": [
    "#### 2. protected Member "
   ]
  },
  {
   "cell_type": "code",
   "execution_count": 140,
   "id": "c77a2017",
   "metadata": {},
   "outputs": [
    {
     "name": "stdout",
     "output_type": "stream",
     "text": [
      "Amit\n",
      "Amit\n"
     ]
    }
   ],
   "source": [
    "class Person:\n",
    "    def __init__(self, name):\n",
    "        self._name=name #protected \n",
    "    \n",
    "class Student(Person):\n",
    "    def show_name(self): \n",
    "        return self._name # accessed in child class \n",
    "\n",
    "s1=Student(\"Amit\")\n",
    "print(s1._name) #works but discouraged outside the class\n",
    "print(s1.show_name())\n",
    "    \n",
    "\n"
   ]
  },
  {
   "cell_type": "markdown",
   "id": "63e97ce1",
   "metadata": {},
   "source": [
    "##### Private Members \n"
   ]
  },
  {
   "cell_type": "code",
   "execution_count": 144,
   "id": "743013c7",
   "metadata": {},
   "outputs": [
    {
     "name": "stdout",
     "output_type": "stream",
     "text": [
      "1000\n"
     ]
    }
   ],
   "source": [
    "class BankAccount:\n",
    "    def __init__ (self, balance):\n",
    "        self.__balance = balance #private \n",
    "    \n",
    "    def get_balance(self):\n",
    "        return self.__balance \n",
    "\n",
    "acc = BankAccount(1000)\n",
    "#print(acc.__balance) wont work\n",
    "print (acc.get_balance()) #works\n"
   ]
  },
  {
   "cell_type": "code",
   "execution_count": null,
   "id": "a2c50b4f",
   "metadata": {},
   "outputs": [
    {
     "name": "stdout",
     "output_type": "stream",
     "text": [
      "Ravi\n",
      "Engineering\n",
      "60000\n",
      "the increased salary 64000\n",
      "Invalid raise amount\n",
      "None\n",
      "Name:Ravi, Department:Engineering, Salary:64000\n"
     ]
    }
   ],
   "source": [
    "class Employee:\n",
    "    def __init__(self, name, department, salary):\n",
    "        self.name = name #public \n",
    "        self._department = department #protected \n",
    "        self.__salary = salary #private \n",
    "\n",
    "\n",
    "    # public method to access private variable (Getter) \n",
    "    def get_salary(self):\n",
    "        return self.__salary  \n",
    "\n",
    "    #setter for salary \n",
    "    def increase_salary(self, amount):\n",
    "        if amount >0:\n",
    "            self.__salary +=amount \n",
    "            return f\"the increased salary {self.__salary}\"\n",
    "        else:\n",
    "            print(\"Invalid raise amount\") \n",
    "        \n",
    "\n",
    "    def show_info(self):\n",
    "        return f\"Name:{self.name}, Department:{self._department}, Salary:{self.__salary}\"\n",
    "\n",
    "emp= Employee(\"Ravi\", \"Engineering\", 60000)\n",
    "print(emp.name) # ok for direct access \n",
    "print(emp._department) # not promoted for direct access\n",
    "#print(emp.__salary) # wont work for direct access \n",
    "\n",
    "print(emp.get_salary())\n",
    "print(emp.increase_salary(4000))\n",
    "print(emp.increase_salary(-300))\n",
    "print(emp.show_info())"
   ]
  },
  {
   "cell_type": "markdown",
   "id": "b8fe8a32",
   "metadata": {},
   "source": [
    "##### Encapsulation Challenge: Patient Record System"
   ]
  },
  {
   "cell_type": "code",
   "execution_count": 163,
   "id": "e64ab203",
   "metadata": {},
   "outputs": [],
   "source": [
    "class Patient:\n",
    "    def __init__(self, name, age, medical_history):\n",
    "        self.name=name \n",
    "        self._age = age \n",
    "        self.__medical_history =[medical_history] \n",
    "    \n",
    "    #private getter \n",
    "    def get_medical_history(self):\n",
    "        return self.__medical_history\n",
    "\n",
    "    #private setter \n",
    "    def add_medical_record(self, record):\n",
    "        if record:\n",
    "            self.__medical_history.append(record) \n",
    "    \n",
    "    def show_summary(self):\n",
    "        return f\"Patient: {self.name}, Age: {self._age}, Records:{self.__medical_history}\"\n",
    "    "
   ]
  },
  {
   "cell_type": "code",
   "execution_count": 166,
   "id": "e5816749",
   "metadata": {},
   "outputs": [
    {
     "name": "stdout",
     "output_type": "stream",
     "text": [
      "Ravi\n",
      "['Diabetes', 'High BP']\n",
      "Patient: Ravi, Age: 32, Records:['Diabetes', 'High BP']\n"
     ]
    }
   ],
   "source": [
    "p1=Patient(name=\"Ravi\", age=32, medical_history=\"Diabetes\")\n",
    "print(p1.name)\n",
    "p1.add_medical_record(\"High BP\")\n",
    "print(p1.get_medical_history())\n",
    "print(p1.show_summary())\n"
   ]
  },
  {
   "cell_type": "code",
   "execution_count": 4,
   "id": "2d7dc6ae",
   "metadata": {},
   "outputs": [],
   "source": [
    "class Patient:\n",
    "    def __init__(self, name, age, medical_history):\n",
    "        self.name=name\n",
    "        self._age=age \n",
    "        self.__medical_history=[medical_history]\n",
    "    \n",
    "    def get_medical_history(self):\n",
    "        return self.__medical_history \n",
    "    \n",
    "    def add_medical_record(self, record):\n",
    "        if record:\n",
    "            self.__medical_history.append(record)\n",
    "    \n",
    "    def show_summary(self):\n",
    "        return f\"Patient: {self.name}, Age: {self._age}, Records: {self.__medical_history}\"\n",
    "    \n"
   ]
  },
  {
   "cell_type": "code",
   "execution_count": 12,
   "id": "80aaa254",
   "metadata": {},
   "outputs": [
    {
     "name": "stdout",
     "output_type": "stream",
     "text": [
      "Ravi\n",
      "32\n",
      "['Diabetes']\n",
      "None\n",
      "Patient: Ravi, Age: 32, Records: ['Diabetes', 'High BP']\n"
     ]
    }
   ],
   "source": [
    "P1=Patient(name=\"Ravi\", age=32, medical_history=\"Diabetes\")\n",
    "print(P1.name) #directly accessing public attribute \n",
    "print(P1._age) #directly accessing protected attribute (not recommended)\n",
    "#print(P1.__medical_history) directly accessing private attribute (doesn't work) \n",
    "\n",
    "print(P1.get_medical_history())\n",
    "print(P1.add_medical_record(record=\"High BP\"))\n",
    "print(P1.show_summary())"
   ]
  },
  {
   "cell_type": "markdown",
   "id": "3358384c",
   "metadata": {},
   "source": [
    "##### Encapsulation Challenge: Online Course Tracker"
   ]
  },
  {
   "cell_type": "code",
   "execution_count": 41,
   "id": "c1d65584",
   "metadata": {},
   "outputs": [],
   "source": [
    "class Course:\n",
    "    def __init__(self, title, total_modules, completed_modules=0):\n",
    "        self.title=title \n",
    "        self.__completed_modules=completed_modules \n",
    "        self.__total_modules=total_modules \n",
    "\n",
    "    \n",
    "    def get_progress(self):\n",
    "        return f\"completed {self.__completed_modules} of {self.__total_modules}\" \n",
    "    \n",
    "    def complete_module(self):\n",
    "        if self.__total_modules>self.__completed_modules:\n",
    "            self.__completed_modules+=1 \n",
    "            return \"one more module complete\" \n",
    "        else:\n",
    "            return \"all modules completed\"\n",
    "    \n",
    "    def show_summary(self):\n",
    "        return f\"course:{self.title} | Progress: {self.__completed_modules}/{self.__total_modules}\""
   ]
  },
  {
   "cell_type": "code",
   "execution_count": 43,
   "id": "515e73eb",
   "metadata": {},
   "outputs": [
    {
     "name": "stdout",
     "output_type": "stream",
     "text": [
      "Python Basics\n",
      "completed 0 of 10\n",
      "one more module complete\n",
      "one more module complete\n",
      "one more module complete\n",
      "one more module complete\n",
      "completed 4 of 10\n",
      "course:Python Basics | Progress: 4/10\n"
     ]
    }
   ],
   "source": [
    "c1=Course(title=\"Python Basics\", total_modules=10)\n",
    "print(c1.title)\n",
    "#print(c1.__completed_modules)\n",
    "#print(c1.__total_modules)\n",
    "print(c1.get_progress())\n",
    "\n",
    "for _ in range(4):\n",
    "    print(c1.complete_module())\n",
    "\n",
    "print(c1.get_progress())\n",
    "print(c1.show_summary())"
   ]
  },
  {
   "cell_type": "markdown",
   "id": "cb8eb8d3",
   "metadata": {},
   "source": [
    "##### Multi-Object Encapsulation Challenge: Student with Courses"
   ]
  },
  {
   "cell_type": "code",
   "execution_count": 151,
   "id": "0433499e",
   "metadata": {},
   "outputs": [],
   "source": [
    "class Course:\n",
    "    def __init__(self, title, total_modules, completed_modules=0):\n",
    "        self.title=title \n",
    "        self.__completed_modules=completed_modules \n",
    "        self.__total_modules= total_modules \n",
    "    \n",
    "    def get_progress(self):\n",
    "        return f\"completed {self.__completed_modules} of {self.__total_modules} modules\" \n",
    "    \n",
    "    def complete_module(self):\n",
    "        if self.__completed_modules<self.__total_modules:\n",
    "            self.__completed_modules+=1 \n",
    "            return f\"one more course complete\" \n",
    "        else:\n",
    "            return f\"all modules complete\"\n",
    "    \n",
    "    def show_summary(self):\n",
    "        return f\"Course: {self.title} | Progress: {self.__completed_modules}/{self.__total_modules}\" \n",
    "    \n",
    "\n",
    "\n",
    "\n",
    "    \n",
    "class Student:\n",
    "    def __init__(self, name):\n",
    "        self.name=name \n",
    "        self.__courses=[]\n",
    "    \n",
    "    def enroll(self, course):\n",
    "        if course not in self.__courses:\n",
    "            self.__courses.append(course)\n",
    "            return f\"course {course.title} enrolled\"\n",
    "        else:\n",
    "            return f\"course {course} is already enorlled\"\n",
    "  \n",
    "    def show_courses(self):\n",
    "        for course in self.__courses:\n",
    "            print(course.show_summary())\n",
    "        \n",
    "    \n",
    "    def complete_module_for(self, course_title):\n",
    "        for course in self.__courses: \n",
    "            if course.title==course_title:\n",
    "                course.complete_module()\n",
    "                return f\"{course.title}: one more module complete by student\"\n",
    "            \n",
    "        return f\"{course_title} is not enrolled\" \n",
    "\n",
    "    \n",
    "    "
   ]
  },
  {
   "cell_type": "code",
   "execution_count": 152,
   "id": "3302345f",
   "metadata": {},
   "outputs": [],
   "source": [
    "s1=Student(name=\"Ravi\")"
   ]
  },
  {
   "cell_type": "code",
   "execution_count": 153,
   "id": "1a393ada",
   "metadata": {},
   "outputs": [
    {
     "name": "stdout",
     "output_type": "stream",
     "text": [
      "course Python Basics enrolled\n",
      "course Data Science enrolled\n"
     ]
    }
   ],
   "source": [
    "c1=Course(title=\"Python Basics\", total_modules=10) \n",
    "print(s1.enroll(course=c1))\n",
    "\n",
    "c2=Course(title=\"Data Science\", total_modules=12)\n",
    "print(s1.enroll(course=c2))\n",
    "\n"
   ]
  },
  {
   "cell_type": "code",
   "execution_count": 155,
   "id": "f732a5ec",
   "metadata": {},
   "outputs": [
    {
     "name": "stdout",
     "output_type": "stream",
     "text": [
      "Python Basics: one more module complete by student\n",
      "Python Basics: one more module complete by student\n",
      "Python Basics: one more module complete by student\n",
      "Data Science: one more module complete by student\n",
      "Course: Python Basics | Progress: 6/10\n",
      "Course: Data Science | Progress: 2/12\n"
     ]
    }
   ],
   "source": [
    "for _ in range(3): \n",
    "    print(s1.complete_module_for(course_title=\"Python Basics\"))\n",
    "\n",
    "print(s1.complete_module_for(course_title=\"Data Science\"))\n",
    "s1.show_courses()\n"
   ]
  },
  {
   "cell_type": "markdown",
   "id": "7e881914",
   "metadata": {},
   "source": [
    "## Polymorphism"
   ]
  },
  {
   "cell_type": "code",
   "execution_count": 156,
   "id": "2f01e606",
   "metadata": {},
   "outputs": [
    {
     "name": "stdout",
     "output_type": "stream",
     "text": [
      "Woof\n",
      "meow\n",
      "some generic sound\n"
     ]
    }
   ],
   "source": [
    "class Animal:\n",
    "    def speak(self):\n",
    "        return \"some generic sound\"\n",
    "    \n",
    "class Dog(Animal):\n",
    "    def speak(self):\n",
    "        return \"Woof\" \n",
    "    \n",
    "class Cat(Animal):\n",
    "    def speak(self):\n",
    "        return \"meow\" \n",
    "\n",
    "animals=[Dog(), Cat(), Animal()] \n",
    "\n",
    "for animal in animals:\n",
    "    print(animal.speak())"
   ]
  },
  {
   "cell_type": "markdown",
   "id": "f03a8ac9",
   "metadata": {},
   "source": [
    "Real-World Example: Payment Processing System"
   ]
  },
  {
   "cell_type": "code",
   "execution_count": 157,
   "id": "d6140dc1",
   "metadata": {},
   "outputs": [],
   "source": [
    "class PaymentMethod:\n",
    "    def process_payment(self,amount):\n",
    "        return f\"Processing generic payment of ${amount}\" \n",
    "\n",
    "class CreditCard(PaymentMethod):\n",
    "    def processing_payment(self, amount):\n",
    "        return f\"Charged ${amount} to credit card\" \n",
    "    \n",
    "class Paypal(PaymentMethod):\n",
    "    def process_payment(self, amount):\n",
    "        return f\"paid ${amount} via Paypal\" \n",
    "    \n",
    "class CryptoWallet(PaymentMethod):\n",
    "    def process_payment(self, amount):\n",
    "        return f\"Transferred ${amount} from crypto Wallet\" "
   ]
  },
  {
   "cell_type": "code",
   "execution_count": 158,
   "id": "79951a3c",
   "metadata": {},
   "outputs": [
    {
     "name": "stdout",
     "output_type": "stream",
     "text": [
      "Processing generic payment of $100\n",
      "paid $100 via Paypal\n",
      "Transferred $100 from crypto Wallet\n"
     ]
    }
   ],
   "source": [
    "payments=[\n",
    "    CreditCard(),\n",
    "    Paypal(),\n",
    "    CryptoWallet(),\n",
    "]\n",
    "\n",
    "for payment in payments:\n",
    "    print(payment.process_payment(100))"
   ]
  },
  {
   "cell_type": "markdown",
   "id": "657b4eb6",
   "metadata": {},
   "source": [
    "Polymorphism Challenge: Notification System"
   ]
  },
  {
   "cell_type": "code",
   "execution_count": 159,
   "id": "e8723f07",
   "metadata": {},
   "outputs": [],
   "source": [
    "class Notifier:\n",
    "    def send(self, message):\n",
    "        return f\"sending Notification...\" \n",
    "    \n",
    "class EmailNotifier(Notifier):\n",
    "    def send(self, message):\n",
    "        return f\"sending Email:{message}\" \n",
    "    \n",
    "class SMSNotifier(Notifier):\n",
    "    def send(self, message):\n",
    "        return f\"sending SMS: {message}\" \n",
    "\n",
    "class PushNotifier(Notifier):\n",
    "    def send(self, message):\n",
    "        return f\"sending Push Notification:{message}\" \n"
   ]
  },
  {
   "cell_type": "code",
   "execution_count": 162,
   "id": "64ce737b",
   "metadata": {},
   "outputs": [
    {
     "name": "stdout",
     "output_type": "stream",
     "text": [
      "sending Email:Hello!\n",
      "sending SMS: Hello!\n",
      "sending Push Notification:Hello!\n"
     ]
    }
   ],
   "source": [
    "Notification_methods=[ \n",
    "    EmailNotifier(),\n",
    "    SMSNotifier(),\n",
    "    PushNotifier()\n",
    "]\n",
    "\n",
    "for NM in Notification_methods:\n",
    "    print(NM.send(\"Hello!\"))\n"
   ]
  },
  {
   "cell_type": "markdown",
   "id": "91673ac6",
   "metadata": {},
   "source": [
    "Polymorphism Challenge: Shape Area Calculator"
   ]
  },
  {
   "cell_type": "code",
   "execution_count": 169,
   "id": "b3a69421",
   "metadata": {},
   "outputs": [
    {
     "name": "stdout",
     "output_type": "stream",
     "text": [
      "Circle area = 50.24\n",
      "Rectangle area = 18\n",
      "Triangle area = 16.0\n"
     ]
    }
   ],
   "source": [
    "class Shape:\n",
    "    def area(self):\n",
    "        return f\"Area not defined\" \n",
    "    \n",
    "class Circle(Shape):\n",
    "    def __init__(self, radius):\n",
    "        self.radius=radius\n",
    "\n",
    "    def area(self):\n",
    "        return f\"{3.14*self.radius*self.radius}\" \n",
    "\n",
    "class Rectangle(Shape):\n",
    "    def __init__(self, length, width):\n",
    "        self.length=length \n",
    "        self.width=width \n",
    "\n",
    "    def area(self):\n",
    "        return f\"{self.length*self.width}\" \n",
    "\n",
    "class Triangle(Shape):\n",
    "    def __init__(self, base, height):\n",
    "        self.base=base\n",
    "        self.height=height \n",
    "\n",
    "    def area (self):\n",
    "        return f\"{0.5*self.base*self.height}\" \n",
    "    \n",
    "shapes=[\n",
    "    Circle(radius=4),\n",
    "    Rectangle(length=6, width=3),\n",
    "    Triangle(base=4, height=8)\n",
    "]\n",
    "\n",
    "for shape in shapes:\n",
    "    print(f\"{shape.__class__.__name__} area = { shape.area()}\")\n",
    "\n"
   ]
  },
  {
   "cell_type": "markdown",
   "id": "881cf15d",
   "metadata": {},
   "source": [
    "Polymorphism Challenge: Media Player"
   ]
  },
  {
   "cell_type": "code",
   "execution_count": 174,
   "id": "9e384197",
   "metadata": {},
   "outputs": [
    {
     "name": "stdout",
     "output_type": "stream",
     "text": [
      "Playing audio track: Relaxing Beats\n",
      "Playing Video clip : Python Tutorial\n",
      "Streaming podcast: AI Talk Episode 1\n"
     ]
    }
   ],
   "source": [
    "class Media:\n",
    "    def play(self):\n",
    "        return f\"Playing media...\"\n",
    "    \n",
    "class AudioTrack(Media):\n",
    "    def __init__(self, title):\n",
    "        self.title=title\n",
    "\n",
    "\n",
    "    def play(self):\n",
    "        return f\"Playing audio track: {self.title}\" \n",
    "    \n",
    "class VideoClip(Media): \n",
    "    def __init__(self, title):\n",
    "        self.title=title\n",
    "\n",
    "    def play (self):\n",
    "        return f\"Playing Video clip : {self.title}\" \n",
    "    \n",
    "class PodcastEpisode(Media):\n",
    "    def __init__(self, title):\n",
    "        self.title=title\n",
    "\n",
    "    def play (self): \n",
    "        return f\"Streaming podcast: {self.title}\" \n",
    "    \n",
    "\n",
    "Media_type=[\n",
    "    AudioTrack(title=\"Relaxing Beats\"),\n",
    "    VideoClip(title=\"Python Tutorial\"),\n",
    "    PodcastEpisode(title=\"AI Talk Episode 1\")\n",
    "\n",
    "]\n",
    "\n",
    "for media in Media_type:\n",
    "    print(media.play())\n"
   ]
  },
  {
   "cell_type": "markdown",
   "id": "91bb25ff",
   "metadata": {},
   "source": [
    "### practice questions (Encapsulation, abstraction, inheritance, polymorphism)"
   ]
  },
  {
   "cell_type": "code",
   "execution_count": 9,
   "id": "ae38ee19",
   "metadata": {},
   "outputs": [],
   "source": [
    "from abc import ABC, abstractmethod \n",
    "\n",
    "class Animal(ABC):\n",
    "    def __init__ (self, is_hungry=True):\n",
    "        self.__is_hungry=is_hungry  \n",
    "    \n",
    "    def is_hungry(self):\n",
    "        return self.__is_hungry\n",
    "    \n",
    "    def toggle_hunger(self):\n",
    "        self.__is_hungry= not self.__is_hungry \n",
    "    \n",
    "    @abstractmethod\n",
    "    def feed(self):\n",
    "        pass \n",
    "\n",
    "class Lion(Animal):\n",
    "    def feed(self):\n",
    "        if self.is_hungry():\n",
    "            self.toggle_hunger()\n",
    "            print(\"Lion is now full\")\n",
    "        else:\n",
    "            print(\"Lion is already full\") \n",
    "\n",
    "\n",
    "class Elephant(Animal):\n",
    "    def feed(self):\n",
    "        if self.is_hungry():\n",
    "            self.toggle_hunger()\n",
    "            print(\"Elephant enjoyed the food\") \n",
    "        else:\n",
    "            print(\"Elephant is not hungry\")\n",
    "\n",
    "\n",
    "class Monkey(Animal):\n",
    "    def feed(self):\n",
    "        if self.is_hungry():\n",
    "            self.toggle_hunger()\n",
    "            print(\"Monkey munches a banana\") \n",
    "        else:\n",
    "            print(\"Monkey doesn't want more fodd\")\n",
    "\n"
   ]
  },
  {
   "cell_type": "code",
   "execution_count": 10,
   "id": "87bfe46a",
   "metadata": {},
   "outputs": [
    {
     "name": "stdout",
     "output_type": "stream",
     "text": [
      "Lion is now full\n",
      "Elephant enjoyed the food\n",
      "Monkey munches a banana\n",
      "Lion is already full\n",
      "Elephant is not hungry\n",
      "Monkey doesn't want more fodd\n"
     ]
    }
   ],
   "source": [
    "animals=[\n",
    "    Lion(),\n",
    "    Elephant(),\n",
    "    Monkey()\n",
    "]\n",
    "\n",
    "for animal in animals:\n",
    "    animal.feed()\n",
    "\n",
    "for animal in animals:\n",
    "    animal.feed()"
   ]
  },
  {
   "cell_type": "code",
   "execution_count": 11,
   "id": "589a7a29",
   "metadata": {},
   "outputs": [],
   "source": [
    "from abc import ABC, abstractmethod \n",
    "\n",
    "class SmartDevice(ABC):\n",
    "    def __init__(self, is_on=False):\n",
    "        self.__is_on=is_on \n",
    "    \n",
    "    def is_on(self):\n",
    "        return self.__is_on \n",
    "    \n",
    "    def toggle_power(self):\n",
    "        self.__is_on= not self.__is_on \n",
    "    \n",
    "    @abstractmethod \n",
    "    def perform_action(self):\n",
    "        pass \n",
    "\n",
    "class SmartLight(SmartDevice):\n",
    "    def perform_action(self):\n",
    "        if not self.is_on():\n",
    "            self.toggle_power()\n",
    "            print(\"SmartLight is now ON\")\n",
    "        print(\"Adjusting brightness...\") \n",
    "    \n",
    "class Thermostat(SmartDevice):\n",
    "    def perform_action(self):\n",
    "        if not self.is_on():\n",
    "            self.toggle_power()\n",
    "            print(\"Thermostat is now ON\") \n",
    "        print(\"Setting temperature...\") \n",
    "    \n",
    "class SecurityCamera(SmartDevice):\n",
    "    def perform_action(self):\n",
    "        if not self.is_on():\n",
    "            self.toggle_power()\n",
    "            print(\"SecurityCamera is now ON\") \n",
    "        print(\"Starting recording...\") \n",
    "\n"
   ]
  },
  {
   "cell_type": "code",
   "execution_count": 12,
   "id": "4693566c",
   "metadata": {},
   "outputs": [
    {
     "name": "stdout",
     "output_type": "stream",
     "text": [
      "SmartLight is now ON\n",
      "Adjusting brightness...\n",
      "Thermostat is now ON\n",
      "Setting temperature...\n",
      "SecurityCamera is now ON\n",
      "Starting recording...\n",
      "Adjusting brightness...\n",
      "Setting temperature...\n",
      "Starting recording...\n"
     ]
    }
   ],
   "source": [
    "devices=[\n",
    "    SmartLight(),\n",
    "    Thermostat(),\n",
    "    SecurityCamera()\n",
    "]\n",
    "\n",
    "for device in devices:\n",
    "    device.perform_action()\n",
    "\n",
    "for device in devices:\n",
    "    device.perform_action()"
   ]
  },
  {
   "cell_type": "markdown",
   "id": "aa51d9cf",
   "metadata": {},
   "source": [
    " Bank Account System – OOP Challenge"
   ]
  },
  {
   "cell_type": "code",
   "execution_count": 21,
   "id": "22a8dd42",
   "metadata": {},
   "outputs": [],
   "source": [
    "from abc import ABC, abstractmethod\n",
    "\n",
    "class BankAccount(ABC):\n",
    "    def __init__(self, balance):\n",
    "        self.__balance=balance \n",
    "    \n",
    "    def current_balance(self):\n",
    "        return self.__balance\n",
    "    \n",
    "    def deposit(self, amount):\n",
    "        if amount>0:\n",
    "            self.__balance+=amount \n",
    "            return f\"amount {amount} deposited, the updated balance is {self.current_balance()}\" \n",
    "        return f\"amount: {amount} is invalid\"\n",
    "    \n",
    "    def withdraw(self, amount):\n",
    "        if amount>0:\n",
    "            if amount<=self.__balance:\n",
    "                self.__balance-=amount \n",
    "                return f\"amount {amount} withdrawed, the updated balance is {self.current_balance()}\" \n",
    "            return f\"insufficent balance, the current balance is :{self.current_balance()}\" \n",
    "        return f\"amount: {amount} is invalid\" \n",
    "    \n",
    "    @abstractmethod\n",
    "    def calculate_interest(self):\n",
    "        pass \n",
    "    \n"
   ]
  },
  {
   "cell_type": "code",
   "execution_count": 26,
   "id": "80e511cc",
   "metadata": {},
   "outputs": [],
   "source": [
    "class SavingAccount(BankAccount):\n",
    "    def calculate_interest(self, interest_rate=5):\n",
    "        interest=self.current_balance()*(interest_rate/100) \n",
    "        return f\"SavingAccount Interest: {interest}\"\n",
    "\n",
    "class CheckingAccount(BankAccount):\n",
    "    def calculate_interest(self, interest_rate=2):\n",
    "        interest=self.current_balance()*(interest_rate/100) \n",
    "        return f\"CheckingAccount Interest: {interest}\"\n",
    "\n",
    "class StudentAccount(BankAccount):\n",
    "    def calculate_interest(self, interest_rate=1):\n",
    "        interest=self.current_balance()*(interest_rate/100)\n",
    "        return f\"StudentAccount Interest: {interest}\"\n",
    "\n"
   ]
  },
  {
   "cell_type": "code",
   "execution_count": null,
   "id": "90fbcc60",
   "metadata": {},
   "outputs": [
    {
     "name": "stdout",
     "output_type": "stream",
     "text": [
      "amount 1000 deposited, the updated balance is 2000\n",
      "amount 500 deposited, the updated balance is 1500\n",
      "amount 500 deposited, the updated balance is 1500\n",
      "amount 500 withdrawed, the updated balance is 1500\n",
      "amount: 0 is invalid\n",
      "amount: -5 is invalid\n",
      "SavingAccount Interest: 75.0\n",
      "CheckingAccount Interest: 30.0\n",
      "StudentAccount Interest: 15.0\n"
     ]
    }
   ],
   "source": [
    "SA1=SavingAccount(balance=1000)\n",
    "CA1=CheckingAccount(balance=1000)\n",
    "STA1=StudentAccount(balance=1000)\n",
    "\n",
    "print(SA1.deposit(amount=1000))\n",
    "print(CA1.deposit(amount=500))\n",
    "print(STA1.deposit(amount=500))\n",
    "\n",
    "print(SA1.withdraw(amount=500))\n",
    "print(CA1.withdraw(amount=0))\n",
    "print(STA1.withdraw(amount=-5))\n",
    "\n",
    "print(SA1.calculate_interest())\n",
    "print(CA1.calculate_interest())e\n",
    "print(STA1.calculate_interest())"
   ]
  },
  {
   "cell_type": "code",
   "execution_count": 95,
   "id": "94a297b3",
   "metadata": {},
   "outputs": [],
   "source": [
    "from abc import ABC, abstractmethod\n",
    "\n",
    "class BankAccount(ABC):\n",
    "    def __init__(self, balance):\n",
    "        self.__balance=balance \n",
    "    \n",
    "    def get_balance(self):\n",
    "        return self.__balance\n",
    "\n",
    "    def deposit(self, amount):\n",
    "        if amount>0:\n",
    "            self.__balance+=amount \n",
    "            return f\"{amount} deposited, current balance ={self.get_balance()}\"\n",
    "        return f\"invalid amount, please try again\"\n",
    "    \n",
    "    def withdraw(self, amount):\n",
    "        if amount >0:\n",
    "            if amount <= self.__balance:\n",
    "                self.__balance-=amount  \n",
    "                return f\"{amount} withdrawed, current balance ={self.get_balance()}\"\n",
    "            return f\"insufficient balance, please try again\"\n",
    "        return \"invalid amount,please try again\"\n",
    "    \n",
    "    @abstractmethod\n",
    "    def calculate_interest(self):\n",
    "        pass \n"
   ]
  },
  {
   "cell_type": "code",
   "execution_count": 96,
   "id": "eec7f03d",
   "metadata": {},
   "outputs": [],
   "source": [
    "class SavingAccount(BankAccount):\n",
    "    def calculate_interest(self, interest_rate=5):\n",
    "        interest=self.get_balance()*(interest_rate/100) \n",
    "        return f\"saving account interest:{interest}\" \n",
    "    \n",
    "class CheckingAccount(BankAccount): \n",
    "    def calculate_interest(self, interest_rate=2):\n",
    "        interest=self.get_balance()*(interest_rate/100) \n",
    "        return f\"checking account interest:{interest}\"\n",
    "    \n",
    "class StudentAccount(BankAccount):\n",
    "    def calculate_interest(self, interest_rate=1):\n",
    "        interest=self.get_balance()*(interest_rate/100)\n",
    "        return f\"student account interest:{interest}\" \n",
    "    \n"
   ]
  },
  {
   "cell_type": "code",
   "execution_count": 98,
   "id": "27567d57",
   "metadata": {},
   "outputs": [
    {
     "name": "stdout",
     "output_type": "stream",
     "text": [
      " the current balance of SavingAccount is 1000\n",
      " the current balance of CheckingAccount is 1000\n",
      " the current balance of StudentAccount is 1000\n",
      "1000 deposited, current balance =2000\n",
      "500 withdrawed, current balance =1500\n",
      "saving account interest:75.0\n",
      "1000 deposited, current balance =2000\n",
      "500 withdrawed, current balance =1500\n",
      "checking account interest:30.0\n",
      "1000 deposited, current balance =2000\n",
      "500 withdrawed, current balance =1500\n",
      "student account interest:15.0\n"
     ]
    }
   ],
   "source": [
    "Saving_account1=SavingAccount(balance=1000)\n",
    "Checking_account1=CheckingAccount(balance=1000)\n",
    "Student_account1=StudentAccount(balance=1000) \n",
    "\n",
    "bank_accounts=[Saving_account1, Checking_account1, Student_account1]\n",
    "\n",
    "for BAs in bank_accounts:\n",
    "    print(f\" the current balance of {BAs.__class__.__name__} is {BAs.get_balance()}\")\n",
    "\n",
    "for BAs in bank_accounts:\n",
    "    print(BAs.deposit(1000))\n",
    "    print(BAs.withdraw(500))\n",
    "    print(BAs.calculate_interest())\n",
    "\n",
    "    "
   ]
  },
  {
   "cell_type": "code",
   "execution_count": null,
   "id": "9ebc4f4f",
   "metadata": {},
   "outputs": [],
   "source": [
    "from abc import ABC, abstractmethod \n",
    "\n",
    "class BankAccount(ABC):\n",
    "    def __init__(self, balance):\n",
    "        self.__balance=balance \n",
    "    \n",
    "    def get_balance(self):\n",
    "        return self.__balance \n",
    "    \n",
    "    def deposit(self, amount):\n",
    "        if amount>0:\n",
    "            self.__balance+=amount \n",
    "            return f\"[{self.__class__.__name__}]${amount} deposited. Current balance:${self.__balance}\" \n",
    "        return f\"[{self.__class__.__name__}] Invalid deposit amount\" \n",
    "    \n",
    "    def withdraw(self, amount): \n",
    "        if amount>0: \n",
    "            if amount<=self.__balance: \n",
    "                self.__balance-=amount \n",
    "                return f\"[{self.__class__.__name__}] ${amount} withdrawn. Current balance:${self.__balance}\"\n",
    "            return f\"[{self.__class__.__name__}] Insufficient balance\" \n",
    "        return f\"[{self.__class__.__name__}] Invalid withdrawal amount\" \n",
    "    \n",
    "    @abstractmethod \n",
    "    def calculate_interest(self):\n",
    "        pass \n",
    "\n",
    "    @abstractmethod\n",
    "    def process_month_end(self):\n",
    "        pass\n",
    "     \n"
   ]
  },
  {
   "cell_type": "code",
   "execution_count": null,
   "id": "91ef3f69",
   "metadata": {},
   "outputs": [],
   "source": [
    "class SavingAccount(BankAccount):\n",
    "    def calculate_interest(self, interest_rate=5):\n",
    "        interest=self.get_balance()*(interest_rate/100)\n",
    "        return f\"{self.__class__.__name__} interest:$ {interest:.2f}\"\n",
    "    \n",
    "    def withdraw(self, amount, minimum_balance=1000):\n",
    "        if amount>0:\n",
    "            if self.get_balance()-amount>minimum_balance:\n",
    "                self.get_balance()-=amount\n",
    "                return f\"[{self.__class__.__name__}] ${amount} withdrawn, current balance:{self.get_balance()}\"\n",
    "            return f\"[{self.__class__.__name__}] transaction failed: minimum balance limit reached\" \n",
    "        return f\"amount:{amount} invalid\"\n",
    "        \n",
    "class CheckingAccount(BankAccount):\n",
    "    def calculate_interest(self, interest_rate=2): \n",
    "        interest=self.get_balance()*(interest_rate/100)\n",
    "        return f\"{self.__class__.__name__} interest:$ {interest}\" \n",
    "    \n",
    "    def withdraw(self, amount, overdraft_limit=500 ):\n",
    "        if amount>0: \n",
    "            \n",
    "\n",
    "\n",
    "class StudentAccount(BankAccount):\n",
    "    def calculate_interest(self, intrest_rate=1):\n",
    "        interest=self.get_balance()*(intrest_rate/100) \n",
    "        return f\"{self.__class__.__name__} interest:${interest}\"\n",
    "\n",
    "\n",
    "\n",
    "\n"
   ]
  },
  {
   "cell_type": "code",
   "execution_count": 3,
   "id": "5e4302ea",
   "metadata": {},
   "outputs": [
    {
     "name": "stdout",
     "output_type": "stream",
     "text": [
      "===============Initial Balance:===================\n",
      "SavingAccount:$1000\n",
      "CheckingAccount:$2500\n",
      "StudentAccount:$500\n",
      "=================performing Deposits and withdrawals:================\n",
      "[SavingAccount]$1000 deposited. Current balance:$2000\n",
      "[SavingAccount] $300 withdrawn. Current balance:$1700\n",
      "[CheckingAccount]$1000 deposited. Current balance:$3500\n",
      "[CheckingAccount] $300 withdrawn. Current balance:$3200\n",
      "[StudentAccount]$1000 deposited. Current balance:$1500\n",
      "[StudentAccount] $300 withdrawn. Current balance:$1200\n",
      "==================Interest Calculations:==========================\n",
      "SavingAccount interest:$ 85.00\n",
      "CheckingAccount interest:$ 64.0\n",
      "StudentAccount interest:$12.0\n"
     ]
    }
   ],
   "source": [
    "accounts=[\n",
    "    SavingAccount(balance=1000),\n",
    "    CheckingAccount(balance=2500), \n",
    "    StudentAccount(500)\n",
    "]\n",
    "\n",
    "print(\"===============Initial Balance:===================\") \n",
    "for acc in accounts:\n",
    "    print(f\"{acc.__class__.__name__}:${acc.get_balance()}\") \n",
    "\n",
    "\n",
    "print(\"=================performing Deposits and withdrawals:================\") \n",
    "for acc in accounts:\n",
    "    print(acc.deposit(1000)) \n",
    "    print(acc.withdraw(300)) \n",
    "\n",
    "\n",
    "print(\"==================Interest Calculations:==========================\")\n",
    "for acc in accounts:\n",
    "    print(acc.calculate_interest())\n",
    "\n",
    "\n"
   ]
  },
  {
   "cell_type": "markdown",
   "id": "332c4765",
   "metadata": {},
   "source": [
    "Challenge: Vehicle Rental System"
   ]
  },
  {
   "cell_type": "code",
   "execution_count": 29,
   "id": "b292ebaf",
   "metadata": {},
   "outputs": [],
   "source": [
    "from abc import ABC, abstractmethod\n",
    "\n",
    "class Vehicle(ABC):\n",
    "    def __init__(self, vehicle_id, is_available, rental_rate):\n",
    "        self.__vehicle_id= vehicle_id \n",
    "        self.__is_available=is_available \n",
    "        self.__rental_rate=rental_rate \n",
    "    \n",
    "    def get_vehicle_id(self):\n",
    "        return self.__vehicle_id\n",
    "    \n",
    "    def is_available(self):\n",
    "        return self.__is_available \n",
    "    \n",
    "    def get_rental_rate(self):\n",
    "        return self.__rental_rate\n",
    "    \n",
    "    def toggle_availability(self):\n",
    "        self.__is_available=not self.__is_available \n",
    "        if self.__is_available:\n",
    "            return f\"[{self.__class__.__name__}] is now available\"\n",
    "        else:\n",
    "            return f\"[{self.__class__.__name__}] is now unavailable\"\n",
    "    \n",
    "\n",
    "    @abstractmethod\n",
    "    def calculate_rent(self, days):\n",
    "        pass \n",
    "\n",
    "    @abstractmethod\n",
    "    def perform_maintenance(self):\n",
    "        pass \n",
    "\n",
    "    "
   ]
  },
  {
   "cell_type": "code",
   "execution_count": 30,
   "id": "438279ff",
   "metadata": {},
   "outputs": [],
   "source": [
    "class Car(Vehicle):\n",
    "    def calculate_rent(self, days):\n",
    "        rent=self.get_rental_rate()*days\n",
    "        return f\"Rent for {days} days: ${rent}\"\n",
    "    \n",
    "    def perform_maintenance(self):\n",
    "        return f\"Car Maintenance: Oil change & tire rotation\" \n",
    "    \n",
    "class Bike(Vehicle):\n",
    "    def calculate_rent(self, days):\n",
    "        rent=self.get_rental_rate()*days\n",
    "        return f\"Rent for {days}: ${rent}\" \n",
    "    \n",
    "    def perform_maintenance(self):\n",
    "        return f\"Bike maintenance: chain lubrication\" \n",
    "    \n",
    "class Truck(Vehicle): \n",
    "    def calculate_rent(self, days):\n",
    "        rent=self.get_rental_rate()*days  \n",
    "        return f\"Rent for {days}: ${rent}\" \n",
    "    \n",
    "    def perform_maintenance(self):\n",
    "        return f\"Truck maintenance: engine check & cargo inspection\" \n",
    "    \n"
   ]
  },
  {
   "cell_type": "code",
   "execution_count": 32,
   "id": "ca82df29",
   "metadata": {},
   "outputs": [
    {
     "name": "stdout",
     "output_type": "stream",
     "text": [
      "Vehicle ID: C001 | Available: True\n",
      "Rent for 5 days: $250\n",
      "[Car] is now unavailable\n",
      "Car Maintenance: Oil change & tire rotation\n"
     ]
    }
   ],
   "source": [
    "c1=Car(vehicle_id=\"C001\",\n",
    "       is_available=True,\n",
    "       rental_rate=50)\n",
    "\n",
    "print(f\"Vehicle ID: {c1.get_vehicle_id()} | Available: {c1.is_available()}\")\n",
    "print(c1.calculate_rent(days=5))\n",
    "print(c1.toggle_availability())\n",
    "print(c1.perform_maintenance())"
   ]
  },
  {
   "cell_type": "markdown",
   "id": "7cad960b",
   "metadata": {},
   "source": [
    "# Composition"
   ]
  },
  {
   "cell_type": "markdown",
   "id": "18b51ea5",
   "metadata": {},
   "source": [
    "Challenge: Author & Book Composition"
   ]
  },
  {
   "cell_type": "code",
   "execution_count": 39,
   "id": "ed119f1e",
   "metadata": {},
   "outputs": [],
   "source": [
    "class Author:\n",
    "    def __init__(self, name, nationality):\n",
    "        self.name=name \n",
    "        self.nationality= nationality\n",
    "\n",
    "    def get_bio(self):\n",
    "        return f\"Author:{self.name}({self.nationality})\"\n",
    "\n",
    "class Book:\n",
    "    def __init__(self, title, year, author=Author):\n",
    "        self.title=title\n",
    "        self.year=year\n",
    "        self.author=author \n",
    "\n",
    "    def get_details(self):\n",
    "        return f\"{self.title} ({self.year}) by {self.author.get_bio()}\"\n"
   ]
  },
  {
   "cell_type": "code",
   "execution_count": 41,
   "id": "0f0b9746",
   "metadata": {},
   "outputs": [
    {
     "data": {
      "text/plain": [
       "'Harry Potter (1997) by Author:J.K. Rowling(British)'"
      ]
     },
     "execution_count": 41,
     "metadata": {},
     "output_type": "execute_result"
    }
   ],
   "source": [
    "a1=Author(name=\"J.K. Rowling\", nationality=\"British\")\n",
    "b1=Book(title=\"Harry Potter\", year=\"1997\", author= a1)\n",
    " \n",
    "b1.get_details()"
   ]
  },
  {
   "cell_type": "markdown",
   "id": "efa94d5d",
   "metadata": {},
   "source": [
    "Challenge: Student and Courses (Composition with List)"
   ]
  },
  {
   "cell_type": "code",
   "execution_count": 93,
   "id": "4a091714",
   "metadata": {},
   "outputs": [],
   "source": [
    "class Course:\n",
    "    def __init__(self, course_name, grade):\n",
    "        self.course_name=course_name \n",
    "        self.grade=grade \n",
    "    \n",
    "    def get_info(self):\n",
    "        return f\"{self.course_name} - Grade:{self.grade}\" \n",
    "\n",
    "class Student: \n",
    "    def __init__(self, name, courses=[]):\n",
    "        self.name=name\n",
    "        self.__courses=[]\n",
    "\n",
    "    def get_student(self):\n",
    "        return f\"Student: {self.name}\" \n",
    "\n",
    "\n",
    "    def enroll(self, course):\n",
    "        self.__courses.append(course) \n",
    "        return f\"Student enrolled in course:{course.course_name}\"\n",
    "    \n",
    "    def show_courses(self):\n",
    "        for c in self.__courses:\n",
    "            print(f\"Enrolled course: {c.get_info()}\")\n",
    "    \n",
    "    def get_average_grade(self):\n",
    "        if not self.__courses:\n",
    "            return \"no course enrolled\"\n",
    "        avg=sum(c.grade for c in self.__courses)/len(self.__courses)\n",
    "        return f\"Average Grade:{avg:.2f}\"\n",
    "\n",
    "\n"
   ]
  },
  {
   "cell_type": "code",
   "execution_count": 94,
   "id": "1bb05e57",
   "metadata": {},
   "outputs": [],
   "source": [
    "M=Course(\n",
    "    course_name=\"Math\", \n",
    "    grade=85\n",
    ")\n",
    "\n",
    "Sc=Course(\n",
    "    course_name=\"Science\",\n",
    "    grade=90\n",
    ")\n",
    "\n",
    "S1=Student(\n",
    "    name=\"Amit\"\n",
    ")\n"
   ]
  },
  {
   "cell_type": "code",
   "execution_count": 95,
   "id": "4e670cd9",
   "metadata": {},
   "outputs": [
    {
     "name": "stdout",
     "output_type": "stream",
     "text": [
      "Math - Grade:85\n",
      "Science - Grade:90\n",
      "Student: Amit\n",
      "Student enrolled in course:Math\n",
      "Student enrolled in course:Science\n",
      "Enrolled course: Math - Grade:85\n",
      "Enrolled course: Science - Grade:90\n",
      "Average Grade:87.50\n"
     ]
    }
   ],
   "source": [
    "print(M.get_info())\n",
    "print(Sc.get_info())\n",
    "print(S1.get_student())\n",
    "print(S1.enroll(course=M))\n",
    "print(S1.enroll(course=Sc))\n",
    "S1.show_courses()\n",
    "print(S1.get_average_grade())"
   ]
  },
  {
   "cell_type": "markdown",
   "id": "33a67774",
   "metadata": {},
   "source": [
    "Challenge: Library System with Nested Composition\n"
   ]
  },
  {
   "cell_type": "code",
   "execution_count": 124,
   "id": "0f815332",
   "metadata": {},
   "outputs": [],
   "source": [
    "class Author:\n",
    "    def __init__(self, name, country):\n",
    "        self.name=name \n",
    "        self.country=country \n",
    "    \n",
    "    def get_info(self):\n",
    "        return f\"{self.name} ({self.country})\"\n",
    "\n",
    "class Book:\n",
    "    def __init__(self, title, year, author):\n",
    "        self.title=title \n",
    "        self.year=year \n",
    "        self.author=author \n",
    "    \n",
    "    def get_info(self):\n",
    "        return f\"{self.title} ({self.year}) by {self.author.get_info()}\"\n",
    "    \n",
    "class Library:\n",
    "    def __init__(self, name):\n",
    "        self.name=name \n",
    "        self.__books=[]\n",
    "\n",
    "    def get_library(self):\n",
    "        return f\"Library: {self.name}\"\n",
    "    \n",
    "    def add_book(self, book):\n",
    "        self.__books.append(book)\n",
    "        return f\"{book.get_info()} added to the Library\" \n",
    "    \n",
    "    def show_books(self):\n",
    "        print(\"\\nBooks Available:\")\n",
    "        for book in self.__books:\n",
    "            print(book.get_info())\n",
    "        \n",
    "    \n",
    "    "
   ]
  },
  {
   "cell_type": "code",
   "execution_count": 125,
   "id": "73b9692a",
   "metadata": {},
   "outputs": [],
   "source": [
    "author_1=Author(name=\"George Orwell\", country=\"UK\") \n",
    "author_2=Author(name=\"Harper Lee\", country=\"USA\") \n",
    "\n",
    "book_1=Book(title=\"1984\", year=\"1949\", author=author_1)\n",
    "book_2=Book(title=\"Animal Farm\", year= \"1945\", author=author_1)\n",
    "book_3=Book(title=\"To Kill a Mockingbird\", year=1960, author=author_2) \n",
    "\n",
    "library_1=Library(name=\"City Central Library\")\n",
    "\n"
   ]
  },
  {
   "cell_type": "code",
   "execution_count": 126,
   "id": "f121e788",
   "metadata": {},
   "outputs": [
    {
     "name": "stdout",
     "output_type": "stream",
     "text": [
      "Library: City Central Library\n",
      "\n",
      "Books Available:\n",
      "1984 (1949) by George Orwell (UK)\n",
      "Animal Farm (1945) by George Orwell (UK)\n",
      "To Kill a Mockingbird (1960) by Harper Lee (USA)\n"
     ]
    }
   ],
   "source": [
    "print(library_1.get_library())\n",
    "\n",
    "books=[book_1, book_2, book_3]\n",
    "for book in books:\n",
    "    library_1.add_book(book)\n",
    "\n",
    "library_1.show_books()\n",
    "\n",
    "\n",
    "\n",
    "\n"
   ]
  },
  {
   "cell_type": "code",
   "execution_count": null,
   "id": "1ecedf37",
   "metadata": {},
   "outputs": [],
   "source": []
  },
  {
   "cell_type": "code",
   "execution_count": 159,
   "id": "87d3fa23",
   "metadata": {},
   "outputs": [],
   "source": [
    "class Author:\n",
    "    def __init__(self, name, country):\n",
    "        self.name=name\n",
    "        self.country=country \n",
    "    \n",
    "    def get_info(self):\n",
    "        return f\"{self.name} ({self.country})\" \n",
    "\n",
    "class Book:\n",
    "    def __init__(self, title, year, author):\n",
    "        self.title=title \n",
    "        self.year=year \n",
    "        self.author=author \n",
    "    \n",
    "    def get_info(self):\n",
    "        return f\"{self.title} ({self.year}) by {self.author.get_info()}\"\n",
    "    \n",
    "class Library:\n",
    "    def __init__(self, name): \n",
    "        self.name=name \n",
    "        self.books=[] \n",
    "    \n",
    "    def get_library(self):\n",
    "        return f\"Library: {self.name}\"\n",
    "\n",
    "    \n",
    "    def add_book(self, book):\n",
    "        self.books.append(book)\n",
    "        return f\"Book: {book.get_info()} added to the {self.name}\" \n",
    "    \n",
    "    def show_books(self):\n",
    "        print(\"\\nBooks Available:\")\n",
    "        for book in self.books:\n",
    "            print(f\"{book.get_info()}\")\n",
    "\n",
    "    \n"
   ]
  },
  {
   "cell_type": "code",
   "execution_count": 160,
   "id": "0e8a179a",
   "metadata": {},
   "outputs": [
    {
     "name": "stdout",
     "output_type": "stream",
     "text": [
      "Library: City Central Library\n",
      "Book: 1984 (1949) by George Orwell (UK) added to the City Central Library\n",
      "Book: Animal Farm (1945) by George Orwell (UK) added to the City Central Library\n",
      "Book: To Kill a Mockingbird (1960) by Harper Lee (USA) added to the City Central Library\n",
      "\n",
      "Books Available:\n",
      "1984 (1949) by George Orwell (UK)\n",
      "Animal Farm (1945) by George Orwell (UK)\n",
      "To Kill a Mockingbird (1960) by Harper Lee (USA)\n"
     ]
    }
   ],
   "source": [
    "author_11=Author(name=\"George Orwell\", country=\"UK\") \n",
    "author_12=Author(name=\"Harper Lee\", country=\"USA\") \n",
    "book_11=Book(title=\"1984\", year=\"1949\", author=author_11) \n",
    "book_12=Book(title=\"Animal Farm\", year=\"1945\", author=author_11) \n",
    "book_13=Book(title=\"To Kill a Mockingbird\", year=\"1960\", author=author_12) \n",
    "library_11=Library(name=\"City Central Library\") \n",
    "\n",
    "print(library_11.get_library())\n",
    "\n",
    "all_books=[book_11, book_12, book_13] \n",
    "\n",
    "for book in all_books:\n",
    "    print(library_11.add_book(book))\n",
    "\n",
    "library_11.show_books()"
   ]
  },
  {
   "cell_type": "markdown",
   "id": "3c7b22ca",
   "metadata": {},
   "source": [
    "Challenge: Students & Courses (Many-to-Many Relationship)"
   ]
  },
  {
   "cell_type": "code",
   "execution_count": 211,
   "id": "9089f65c",
   "metadata": {},
   "outputs": [],
   "source": [
    "class Course:\n",
    "    def __init__(self, course_name):\n",
    "        self.course_name=course_name \n",
    "        self.__students=[]\n",
    "\n",
    "    def add_student(self, student):\n",
    "        if student not in self.__students:\n",
    "            self.__students.append(student)\n",
    "             \n",
    "        \n",
    "    def get_course_info(self):\n",
    "        print(f\"\\nCourse:{self.course_name}\")\n",
    "        print(\"Students Enrolled:\")\n",
    "        for student in self.__students:\n",
    "            print(f\"- {student.name}\")\n",
    "\n",
    "class Student:\n",
    "    def __init__(self, name):\n",
    "        self.name=name \n",
    "        self.__courses=[]\n",
    "\n",
    "    def enroll(self, course):\n",
    "        if course not in self.__courses:\n",
    "            self.__courses.append(course)\n",
    "            course.add_student(self)\n",
    "            print(f\"student {self.name} enrolled in {course.course_name}\")\n",
    "        \n",
    "    def get_student_info(self):\n",
    "        print(f\"\\nStudent:{self.name}\")\n",
    "        print(\"Courses Enrolled:\") \n",
    "        for course in self.__courses:\n",
    "            print(f\"- {course.course_name}\")\n"
   ]
  },
  {
   "cell_type": "code",
   "execution_count": 212,
   "id": "06e1cf21",
   "metadata": {},
   "outputs": [
    {
     "name": "stdout",
     "output_type": "stream",
     "text": [
      "student Amit enrolled in Math\n",
      "student Amit enrolled in Science\n",
      "student Rahul enrolled in Math\n",
      "\n",
      "Student:Amit\n",
      "Courses Enrolled:\n",
      "- Math\n",
      "- Science\n",
      "\n",
      "Course:Math\n",
      "Students Enrolled:\n",
      "- Amit\n",
      "- Rahul\n",
      "\n",
      "Student:Rahul\n",
      "Courses Enrolled:\n",
      "- Math\n",
      "\n",
      "Course:Science\n",
      "Students Enrolled:\n",
      "- Amit\n"
     ]
    }
   ],
   "source": [
    "student_11=Student(name=\"Amit\") \n",
    "student_12=Student(name=\"Rahul\") \n",
    "course_11=Course(course_name=\"Math\") \n",
    "course_12=Course(course_name=\"Science\") \n",
    "\n",
    "student_11.enroll(course=course_11) \n",
    "student_11.enroll(course=course_12)\n",
    "student_12.enroll(course=course_11)\n",
    "\n",
    "student_11.get_student_info()\n",
    "course_11.get_course_info()\n",
    "student_12.get_student_info()\n",
    "course_12.get_course_info()"
   ]
  },
  {
   "cell_type": "code",
   "execution_count": 239,
   "id": "faa311aa",
   "metadata": {},
   "outputs": [],
   "source": [
    "class Doctor:\n",
    "    def __init__(self, name):\n",
    "        self.name=name \n",
    "        self.__patients=[]\n",
    "\n",
    "    def add_patient(self, patient):\n",
    "        if patient not in self.__patients:\n",
    "            self.__patients.append(patient) \n",
    "    \n",
    "    def get_doctor_info(self):\n",
    "        print(f\"Doctor: {self.name}\")\n",
    "        print(f\"Patients:\")\n",
    "        for patient in self.__patients:\n",
    "            print(f\"- {patient.name}\")\n",
    "\n",
    "\n",
    "\n",
    "\n",
    "class Patient:\n",
    "    def __init__ (self, name):\n",
    "        self.name=name\n",
    "        self.__doctors=[]\n",
    "        self.__treatments=[] \n",
    "\n",
    "    def add_doctor(self, doctor):\n",
    "        if doctor not in self.__doctors:\n",
    "            self.__doctors.append(doctor)\n",
    "            doctor.add_patient(self)\n",
    "        \n",
    "    def add_treatment(self, treatment):\n",
    "        if treatment not in self.__treatments:\n",
    "            self.__treatments.append(treatment) \n",
    "\n",
    "    def get_patient_info(self):\n",
    "        print(f\"\\nPatient: {self.name}\")\n",
    "        print(\"Doctors:\")\n",
    "        for doctor in self.__doctors:\n",
    "            print(f\"- {doctor.name}\") \n",
    "        print(\"Treatments:\")\n",
    "        for treatment in self.__treatments:\n",
    "            print(f\"- {treatment.get_info()}\")\n",
    "        \n",
    "            \n",
    "\n",
    "\n",
    "class Treatment:\n",
    "    def __init__(self, name, description):\n",
    "        self.name=name \n",
    "        self.description=description \n",
    "    \n",
    "    def get_info(self):\n",
    "        return f\"{self.name} - {self.description}\"\n",
    "\n",
    "\n",
    "\n"
   ]
  },
  {
   "cell_type": "code",
   "execution_count": 240,
   "id": "118432a9",
   "metadata": {},
   "outputs": [
    {
     "name": "stdout",
     "output_type": "stream",
     "text": [
      "Doctor: Dr. Smith\n",
      "Patients:\n",
      "- Amit\n",
      "- Ravi\n",
      "\n",
      "Patient: Amit\n",
      "Doctors:\n",
      "- Dr. Smith\n",
      "Treatments:\n",
      "- MRI - Magnetic Scan\n",
      "- Surgery - Appendix Removal\n",
      "\n",
      "Patient: Ravi\n",
      "Doctors:\n",
      "- Dr. Smith\n",
      "Treatments:\n"
     ]
    }
   ],
   "source": [
    "treatment_1=Treatment(name=\"MRI\", description=\"Magnetic Scan\") \n",
    "treatment_2=Treatment(name=\"Surgery\", description=\"Appendix Removal\") \n",
    "\n",
    "patient_1=Patient(name=\"Amit\") \n",
    "patient_2=Patient(name=\"Ravi\")  \n",
    "\n",
    "doctor_1=Doctor(name=\"Dr. Smith\") \n",
    "\n",
    "patient_1.add_treatment(treatment=treatment_1)\n",
    "patient_1.add_treatment(treatment=treatment_2) \n",
    "patient_1.add_doctor(doctor=doctor_1) \n",
    "patient_2.add_doctor(doctor=doctor_1) \n",
    "\n",
    "doctor_1.get_doctor_info()\n",
    "patient_1.get_patient_info()\n",
    "patient_2.get_patient_info()"
   ]
  },
  {
   "cell_type": "markdown",
   "id": "68c3ae8f",
   "metadata": {},
   "source": [
    "### AGAIN. practice questions (encapsulation, abstraction, inheritance, polymorphism) "
   ]
  },
  {
   "cell_type": "code",
   "execution_count": 1,
   "id": "fc15db38",
   "metadata": {},
   "outputs": [],
   "source": [
    "from abc import ABC, abstractmethod \n",
    "\n",
    "class Animal(ABC):\n",
    "    def __init__(self, is_hungry=True):\n",
    "        self.__is_hungry=is_hungry \n",
    "\n",
    "    def is_hungry(self):\n",
    "        return self.__is_hungry \n",
    "    \n",
    "    def toggle_hunger(self):\n",
    "        self.__is_hungry= not self.__is_hungry \n",
    "    \n",
    "    @abstractmethod \n",
    "    def feed(self):\n",
    "        pass "
   ]
  },
  {
   "cell_type": "code",
   "execution_count": 3,
   "id": "a303b1a8",
   "metadata": {},
   "outputs": [],
   "source": [
    "class Lion(Animal): \n",
    "    def feed(self): \n",
    "        if self.is_hungry(): \n",
    "            self.toggle_hunger() \n",
    "            print(\"Lion is now full\") \n",
    "        else: \n",
    "            print(\"Lion is already full\") \n",
    "        \n",
    "    \n",
    "class Elephant(Animal): \n",
    "    def feed(self): \n",
    "        if self.is_hungry(): \n",
    "            self.toggle_hunger()\n",
    "            print(\"Elephant enjoyed the food\") \n",
    "        else:\n",
    "            print(\"Elephant is not hungry\") \n",
    "    \n",
    "class Monkey(Animal): \n",
    "    def feed(self): \n",
    "        if self.is_hungry(): \n",
    "            self.toggle_hunger()\n",
    "            print(\"Monkey munches a banana\") \n",
    "        else:\n",
    "            print(\"Monkey doesn't want mroe food\") \n",
    "    \n"
   ]
  },
  {
   "cell_type": "code",
   "execution_count": 5,
   "id": "b902ab32",
   "metadata": {},
   "outputs": [
    {
     "name": "stdout",
     "output_type": "stream",
     "text": [
      "Lion is now full\n",
      "Elephant enjoyed the food\n",
      "Monkey munches a banana\n",
      "Lion is already full\n",
      "Elephant is not hungry\n",
      "Monkey doesn't want mroe food\n"
     ]
    }
   ],
   "source": [
    "animals=[\n",
    "    Lion(), \n",
    "    Elephant(), \n",
    "    Monkey()\n",
    "]\n",
    "\n",
    "for animal in animals:\n",
    "    animal.feed() \n",
    "\n",
    "for animal in animals:\n",
    "    animal.feed()"
   ]
  },
  {
   "cell_type": "code",
   "execution_count": 6,
   "id": "b5ccd1fa",
   "metadata": {},
   "outputs": [],
   "source": [
    "from abc import ABC, abstractmethod \n",
    "\n",
    "class SmartDevice(ABC): \n",
    "    def __init__(self, is_on=False):\n",
    "        self.__is_on =is_on \n",
    "    \n",
    "    def is_on(self):\n",
    "        return self.__is_on \n",
    "    \n",
    "    def toggle_power(self): \n",
    "        self.__is_on=not self.__is_on \n",
    "    \n",
    "    @abstractmethod \n",
    "    def perform_action(self): \n",
    "        pass \n",
    "\n",
    "class SmartLight(SmartDevice):\n",
    "    def perform_action(self): \n",
    "        pass\n"
   ]
  },
  {
   "cell_type": "code",
   "execution_count": 7,
   "id": "1fe29128",
   "metadata": {},
   "outputs": [],
   "source": [
    "class SmartLight(SmartDevice): \n",
    "    def perform_action(self): \n",
    "        if not self.is_on(): \n",
    "            self.toggle_power() \n",
    "            print(\"SmartLight is now ON\") \n",
    "        print(\"Adjusting brightness...\") \n",
    "    \n",
    "\n",
    "class Thermostat(SmartDevice): \n",
    "    def perform_action(self): \n",
    "        if not self.is_on(): \n",
    "            self.toggle_power() \n",
    "            print(\"Thermostat is now ON\")  \n",
    "        print(\"Setting temperature...\")  \n",
    "\n",
    "class SecurityCamera(SmartDevice): \n",
    "    def perform_action(self):\n",
    "        if not self.is_on(): \n",
    "            self.toggle_power() \n",
    "            print(\"SecurityCamera is now ON\") \n",
    "        print(\"Starting recording...\") \n",
    "    \n",
    "\n"
   ]
  },
  {
   "cell_type": "code",
   "execution_count": 8,
   "id": "0459cc3e",
   "metadata": {},
   "outputs": [
    {
     "name": "stdout",
     "output_type": "stream",
     "text": [
      "SmartLight is now ON\n",
      "Adjusting brightness...\n",
      "Thermostat is now ON\n",
      "Setting temperature...\n",
      "SecurityCamera is now ON\n",
      "Starting recording...\n",
      "Adjusting brightness...\n",
      "Setting temperature...\n",
      "Starting recording...\n"
     ]
    }
   ],
   "source": [
    "devices=[\n",
    "    SmartLight(), \n",
    "    Thermostat(), \n",
    "    SecurityCamera()\n",
    "]\n",
    "\n",
    "for device in devices: \n",
    "    device.perform_action() \n",
    "\n",
    "for device in devices: \n",
    "    device.perform_action() \n",
    "    "
   ]
  },
  {
   "cell_type": "markdown",
   "id": "f5953346",
   "metadata": {},
   "source": [
    "##### Bank Account System - OOP Challenge "
   ]
  },
  {
   "cell_type": "code",
   "execution_count": 14,
   "id": "a80aa03c",
   "metadata": {},
   "outputs": [],
   "source": [
    "from abc import ABC, abstractmethod \n",
    "\n",
    "class BankAccount(ABC): \n",
    "    def __init__(self, balance): \n",
    "        self.__balance=balance \n",
    "    \n",
    "    def current_balance(self): \n",
    "        return self.__balance \n",
    "    \n",
    "    def deposit(self, amount): \n",
    "        if amount>0:\n",
    "            self.__balance+=amount \n",
    "            return f\"amount{amount} deposited, the updated balance is {self.current_balance()}\" \n",
    "        return f\"amount:{amount} is invalid\" \n",
    "    \n",
    "    def withdraw(self, amount): \n",
    "        if amount>0: \n",
    "            if amount<=self.__balance: \n",
    "                self.__balance-=amount \n",
    "                return f\"amount {amount} withdrawed, the updated balance is {self.current_balance()}\" \n",
    "            return f\"insufficent balance, the current balance is :{self.current_balance()}\" \n",
    "        return f\"amount:{amount} is invalid\" \n",
    "    \n",
    "    @abstractmethod \n",
    "    def calcualte_interest(self): \n",
    "        pass "
   ]
  },
  {
   "cell_type": "code",
   "execution_count": 15,
   "id": "b92831b9",
   "metadata": {},
   "outputs": [],
   "source": [
    "class SavingAccount(BankAccount): \n",
    "    def calaculate_interest(self, interest_rate=5): \n",
    "        interest=self.current_balance()*(interest_rate/100) \n",
    "        return f\"SavingAccount Interest: {interest}\" \n",
    "    \n",
    "class CheckingAccount(BankAccount): \n",
    "    def calculate_interest(self, interest_rate=2):\n",
    "        interest=self.current_balance()*(interest_rate/100) \n",
    "        return f\"CheckingAccount Interest: {interest}\" \n",
    "\n",
    "class StudentAccount(BankAccount): \n",
    "    def calculate_interest(self, interest_rate=1): \n",
    "        interest=self.current_balance()*(interest_rate/100) \n",
    "        return f\"StudentAccount Interest: {interest}\" \n",
    "\n"
   ]
  },
  {
   "cell_type": "code",
   "execution_count": 16,
   "id": "03803382",
   "metadata": {},
   "outputs": [
    {
     "ename": "TypeError",
     "evalue": "Can't instantiate abstract class SavingAccount with abstract method calcualte_interest",
     "output_type": "error",
     "traceback": [
      "\u001b[1;31m---------------------------------------------------------------------------\u001b[0m",
      "\u001b[1;31mTypeError\u001b[0m                                 Traceback (most recent call last)",
      "Cell \u001b[1;32mIn[16], line 1\u001b[0m\n\u001b[1;32m----> 1\u001b[0m SA1\u001b[38;5;241m=\u001b[39m\u001b[43mSavingAccount\u001b[49m\u001b[43m(\u001b[49m\u001b[43mbalance\u001b[49m\u001b[38;5;241;43m=\u001b[39;49m\u001b[38;5;241;43m1000\u001b[39;49m\u001b[43m)\u001b[49m \n\u001b[0;32m      2\u001b[0m CA1\u001b[38;5;241m=\u001b[39mCheckingAccount(balance\u001b[38;5;241m=\u001b[39m\u001b[38;5;241m1000\u001b[39m) \n\u001b[0;32m      3\u001b[0m STA1\u001b[38;5;241m=\u001b[39mStudentAccount(balance\u001b[38;5;241m=\u001b[39m\u001b[38;5;241m1000\u001b[39m) \n",
      "\u001b[1;31mTypeError\u001b[0m: Can't instantiate abstract class SavingAccount with abstract method calcualte_interest"
     ]
    }
   ],
   "source": [
    "SA1=SavingAccount(balance=1000) \n",
    "CA1=CheckingAccount(balance=1000) \n",
    "STA1=StudentAccount(balance=1000) \n",
    "\n",
    "print(SA1.deposit(amount=1000)) \n",
    "print(CA1.deposit(amount=500)) \n",
    "print(STA1.deposit(amount=500)) \n",
    "\n",
    "print(SA1.withdraw(amount=500)) \n",
    "print(CA1.withdraw(amount=0)) \n",
    "print(STA1.withdraw(amount=-5)) \n",
    " \n",
    "print(SA1.calcualte_interest()) \n",
    "print(CA1.calculate_interest()) \n",
    "print(STA1.calculate_interest())"
   ]
  },
  {
   "cell_type": "code",
   "execution_count": null,
   "id": "4a5d99a3",
   "metadata": {},
   "outputs": [],
   "source": []
  }
 ],
 "metadata": {
  "kernelspec": {
   "display_name": "base",
   "language": "python",
   "name": "python3"
  },
  "language_info": {
   "codemirror_mode": {
    "name": "ipython",
    "version": 3
   },
   "file_extension": ".py",
   "mimetype": "text/x-python",
   "name": "python",
   "nbconvert_exporter": "python",
   "pygments_lexer": "ipython3",
   "version": "3.11.7"
  }
 },
 "nbformat": 4,
 "nbformat_minor": 5
}
