{
 "cells": [
  {
   "cell_type": "code",
   "execution_count": 2,
   "metadata": {},
   "outputs": [],
   "source": [
    "\n",
    "import pandas as pd\n",
    "import numpy as np \n"
   ]
  },
  {
   "cell_type": "markdown",
   "metadata": {},
   "source": [
    "# Series "
   ]
  },
  {
   "cell_type": "code",
   "execution_count": 3,
   "metadata": {},
   "outputs": [
    {
     "data": {
      "text/plain": [
       "a    0.959447\n",
       "b    1.516012\n",
       "c    0.858753\n",
       "d   -0.806542\n",
       "e   -1.609498\n",
       "dtype: float64"
      ]
     },
     "execution_count": 3,
     "metadata": {},
     "output_type": "execute_result"
    }
   ],
   "source": [
    "#from ndarray\n",
    "s=pd.Series(np.random.randn(5), index=['a', 'b', 'c', 'd', 'e'])\n",
    "s"
   ]
  },
  {
   "cell_type": "code",
   "execution_count": 4,
   "metadata": {},
   "outputs": [
    {
     "data": {
      "text/plain": [
       "Index(['a', 'b', 'c', 'd', 'e'], dtype='object')"
      ]
     },
     "execution_count": 4,
     "metadata": {},
     "output_type": "execute_result"
    }
   ],
   "source": [
    "s.index"
   ]
  },
  {
   "cell_type": "code",
   "execution_count": 5,
   "metadata": {},
   "outputs": [
    {
     "data": {
      "text/plain": [
       "0   -1.145821\n",
       "1    1.513898\n",
       "2   -0.106275\n",
       "3   -0.547164\n",
       "4   -0.054932\n",
       "dtype: float64"
      ]
     },
     "execution_count": 5,
     "metadata": {},
     "output_type": "execute_result"
    }
   ],
   "source": [
    "pd.Series(np.random.randn(5))"
   ]
  },
  {
   "cell_type": "code",
   "execution_count": 6,
   "metadata": {},
   "outputs": [
    {
     "data": {
      "text/plain": [
       "b    1\n",
       "a    0\n",
       "c    2\n",
       "dtype: int64"
      ]
     },
     "execution_count": 6,
     "metadata": {},
     "output_type": "execute_result"
    }
   ],
   "source": [
    "# from dictionary\n",
    "d={'b':1, 'a':0,'c':2}\n",
    "pd.Series(d)"
   ]
  },
  {
   "cell_type": "code",
   "execution_count": 7,
   "metadata": {},
   "outputs": [
    {
     "data": {
      "text/plain": [
       "a    0.0\n",
       "b    1.0\n",
       "c    2.0\n",
       "dtype: float64"
      ]
     },
     "execution_count": 7,
     "metadata": {},
     "output_type": "execute_result"
    }
   ],
   "source": [
    "d={\"a\":0.0, \"b\":1.0, \"c\":2.0}\n",
    "pd.Series(d)"
   ]
  },
  {
   "cell_type": "code",
   "execution_count": 8,
   "metadata": {},
   "outputs": [
    {
     "data": {
      "text/plain": [
       "b    1.0\n",
       "c    2.0\n",
       "d    NaN\n",
       "a    0.0\n",
       "dtype: float64"
      ]
     },
     "execution_count": 8,
     "metadata": {},
     "output_type": "execute_result"
    }
   ],
   "source": [
    "pd.Series(d, index=[\"b\", \"c\", \"d\", \"a\"])\n"
   ]
  },
  {
   "cell_type": "code",
   "execution_count": 9,
   "metadata": {},
   "outputs": [
    {
     "data": {
      "text/plain": [
       "a    5.0\n",
       "b    5.0\n",
       "c    5.0\n",
       "d    5.0\n",
       "e    5.0\n",
       "dtype: float64"
      ]
     },
     "execution_count": 9,
     "metadata": {},
     "output_type": "execute_result"
    }
   ],
   "source": [
    "#from scalar value\n",
    "# fi the data is a scalar value, an index must be provided the value will be repeated to match the lenght of index\n",
    "pd.Series(5.0, index=[\"a\", \"b\", \"c\", \"d\", \"e\"])\n"
   ]
  },
  {
   "cell_type": "markdown",
   "metadata": {},
   "source": [
    "# series is ndarray like"
   ]
  },
  {
   "cell_type": "code",
   "execution_count": 10,
   "metadata": {},
   "outputs": [],
   "source": [
    "\n",
    "#series acts very similarly to a ndarray and is a valid argument to most Numpy functions.\n",
    "#however operations such as slicing will also slice the index"
   ]
  },
  {
   "cell_type": "code",
   "execution_count": 11,
   "metadata": {},
   "outputs": [
    {
     "data": {
      "text/plain": [
       "0.7070867240193318"
      ]
     },
     "execution_count": 11,
     "metadata": {},
     "output_type": "execute_result"
    }
   ],
   "source": [
    "s=pd.Series(np.random.randn(5), index=[\"a\", \"b\", \"c\" , \"d\", \"e\"])\n",
    "\n",
    "s.iloc[0]\n"
   ]
  },
  {
   "cell_type": "code",
   "execution_count": 12,
   "metadata": {},
   "outputs": [
    {
     "data": {
      "text/plain": [
       "a    0.707087\n",
       "b   -1.217516\n",
       "c   -0.236113\n",
       "dtype: float64"
      ]
     },
     "execution_count": 12,
     "metadata": {},
     "output_type": "execute_result"
    }
   ],
   "source": [
    "s.iloc[:3]"
   ]
  },
  {
   "cell_type": "code",
   "execution_count": 13,
   "metadata": {},
   "outputs": [
    {
     "data": {
      "text/plain": [
       "a    0.707087\n",
       "e   -0.046496\n",
       "dtype: float64"
      ]
     },
     "execution_count": 13,
     "metadata": {},
     "output_type": "execute_result"
    }
   ],
   "source": [
    "s[s>s.median()]"
   ]
  },
  {
   "cell_type": "code",
   "execution_count": 14,
   "metadata": {},
   "outputs": [
    {
     "data": {
      "text/plain": [
       "e   -0.046496\n",
       "d   -0.489112\n",
       "b   -1.217516\n",
       "dtype: float64"
      ]
     },
     "execution_count": 14,
     "metadata": {},
     "output_type": "execute_result"
    }
   ],
   "source": [
    "s.iloc[[4,3,1]]"
   ]
  },
  {
   "cell_type": "code",
   "execution_count": 15,
   "metadata": {},
   "outputs": [
    {
     "data": {
      "text/plain": [
       "a    2.028074\n",
       "b    0.295964\n",
       "c    0.789692\n",
       "d    0.613170\n",
       "e    0.954569\n",
       "dtype: float64"
      ]
     },
     "execution_count": 15,
     "metadata": {},
     "output_type": "execute_result"
    }
   ],
   "source": [
    "np.exp(s)"
   ]
  },
  {
   "cell_type": "code",
   "execution_count": 16,
   "metadata": {},
   "outputs": [
    {
     "name": "stdout",
     "output_type": "stream",
     "text": [
      "Original Series\n",
      "a   -0.392349\n",
      "b   -1.244292\n",
      "c   -0.665327\n",
      "d    0.253693\n",
      "e   -0.400082\n",
      "dtype: float64\n",
      "Subset(Postional Indexing):\n",
      "b   -1.244292\n",
      "c   -0.665327\n",
      "dtype: float64\n"
     ]
    }
   ],
   "source": [
    "s=pd.Series(np.random.randn(5), index=[\"a\", \"b\", \"c\", \"d\", \"e\"])\n",
    "subset_positional=s[1:3]\n",
    "\n",
    "print(\"Original Series\")\n",
    "print(s)\n",
    "\n",
    "print(\"Subset(Postional Indexing):\")\n",
    "print(subset_positional)\n",
    "\n"
   ]
  },
  {
   "cell_type": "code",
   "execution_count": 17,
   "metadata": {},
   "outputs": [
    {
     "name": "stdout",
     "output_type": "stream",
     "text": [
      "-1.2442916454012167\n",
      "-1.2442916454012167\n"
     ]
    }
   ],
   "source": [
    "print(s[\"b\"])\n",
    "print(subset_positional[\"b\"])"
   ]
  },
  {
   "cell_type": "code",
   "execution_count": 18,
   "metadata": {},
   "outputs": [
    {
     "name": "stdout",
     "output_type": "stream",
     "text": [
      "-0.3923486636024642\n",
      "-1.2442916454012167\n"
     ]
    },
    {
     "name": "stderr",
     "output_type": "stream",
     "text": [
      "C:\\Users\\aadit\\AppData\\Local\\Temp\\ipykernel_18200\\1918086105.py:1: FutureWarning: Series.__getitem__ treating keys as positions is deprecated. In a future version, integer keys will always be treated as labels (consistent with DataFrame behavior). To access a value by position, use `ser.iloc[pos]`\n",
      "  print(s[0])\n",
      "C:\\Users\\aadit\\AppData\\Local\\Temp\\ipykernel_18200\\1918086105.py:2: FutureWarning: Series.__getitem__ treating keys as positions is deprecated. In a future version, integer keys will always be treated as labels (consistent with DataFrame behavior). To access a value by position, use `ser.iloc[pos]`\n",
      "  print(subset_positional[0])\n"
     ]
    }
   ],
   "source": [
    "print(s[0])\n",
    "print(subset_positional[0])"
   ]
  },
  {
   "cell_type": "markdown",
   "metadata": {},
   "source": [
    "##### we can provide the labeled index to the series but not the numpy array. thus when we do the slicing of the series the labeled index get sliced as well. \n"
   ]
  },
  {
   "cell_type": "markdown",
   "metadata": {},
   "source": [
    "##### when we do the slicing of the series or a array the subset is the view of the orginal series or the array. thus wnen we do the modification of the subset the original series or original array also get modified"
   ]
  },
  {
   "cell_type": "code",
   "execution_count": 19,
   "metadata": {},
   "outputs": [
    {
     "name": "stdout",
     "output_type": "stream",
     "text": [
      "Original Series\n",
      "0    0.529036\n",
      "1   -0.786069\n",
      "2   -0.300621\n",
      "3   -1.506446\n",
      "4   -0.789676\n",
      "dtype: float64\n",
      "\n",
      "Subset:\n",
      "1   -0.786069\n",
      "2   -0.300621\n",
      "dtype: float64\n",
      "\n",
      "Modified Original series:\n",
      "0     0.529036\n",
      "1    99.000000\n",
      "2    -0.300621\n",
      "3    -1.506446\n",
      "4    -0.789676\n",
      "dtype: float64\n",
      "\n",
      "Modified Subset\n",
      "1    99.000000\n",
      "2    -0.300621\n",
      "dtype: float64\n"
     ]
    }
   ],
   "source": [
    "#Series slicing with shared data\n",
    "\n",
    "import pandas as pd\n",
    "import numpy as np\n",
    "\n",
    "s=pd.Series(np.random.randn(5))\n",
    "\n",
    "subset=s[1:3]\n",
    "\n",
    "print(\"Original Series\")\n",
    "print(s)\n",
    "\n",
    "print(\"\\nSubset:\")\n",
    "print(subset)\n",
    "\n",
    "#modify the subset\n",
    "\n",
    "subset[1]=99\n",
    "print(\"\\nModified Original series:\")\n",
    "print(s)\n",
    "print(\"\\nModified Subset\")\n",
    "print(subset)"
   ]
  },
  {
   "cell_type": "code",
   "execution_count": 20,
   "metadata": {},
   "outputs": [
    {
     "name": "stdout",
     "output_type": "stream",
     "text": [
      "Original Array:\n",
      "[1 2 3 4 5]\n",
      "\n",
      "Sliced array:\n",
      "[2 3 4]\n",
      "\n",
      "Modified Original Array:\n",
      "[ 1 99  3  4  5]\n",
      "\n",
      "Modified Sliced Array:\n",
      "[99  3  4]\n"
     ]
    }
   ],
   "source": [
    "#array slicing with shared data\n",
    "#modifying the values of a sliced NumPy array directly impacts the corresponding valuesin the original array\n",
    "#since  the sliced array is a view into the underlying data\n",
    "\n",
    "import numpy as np\n",
    "arr=np.array([1,2,3,4,5])\n",
    "\n",
    "subset=arr[1:4]\n",
    "\n",
    "print(\"Original Array:\")\n",
    "print(arr)\n",
    "print(\"\\nSliced array:\")\n",
    "print(subset)\n",
    "\n",
    "#modify the first element in the sliced array \n",
    "subset[0]=99\n",
    "\n",
    "print(\"\\nModified Original Array:\")\n",
    "print(arr)\n",
    "print(\"\\nModified Sliced Array:\")\n",
    "print(subset)"
   ]
  },
  {
   "cell_type": "code",
   "execution_count": 21,
   "metadata": {},
   "outputs": [
    {
     "data": {
      "text/plain": [
       "dtype('float64')"
      ]
     },
     "execution_count": 21,
     "metadata": {},
     "output_type": "execute_result"
    }
   ],
   "source": [
    "#like NumPy array, a Pandas Series has a single dtype\n",
    "s.dtype"
   ]
  },
  {
   "cell_type": "code",
   "execution_count": 22,
   "metadata": {},
   "outputs": [
    {
     "name": "stdout",
     "output_type": "stream",
     "text": [
      "float64\n",
      "<class 'pandas.core.arrays.numpy_.NumpyExtensionArray'>\n"
     ]
    }
   ],
   "source": [
    "#series to pandas array [extension array]\n",
    "s.array\n",
    "print(s.array.dtype)\n",
    "print(type(s.array))"
   ]
  },
  {
   "cell_type": "code",
   "execution_count": 23,
   "metadata": {},
   "outputs": [
    {
     "name": "stdout",
     "output_type": "stream",
     "text": [
      "float64\n",
      "<class 'numpy.ndarray'>\n"
     ]
    }
   ],
   "source": [
    "# series to numpy ndarray\n",
    "s.to_numpy()\n",
    "print(s.to_numpy().dtype) #type of data inside the object \n",
    "print(type(s.to_numpy())) # type of the  object "
   ]
  },
  {
   "cell_type": "markdown",
   "metadata": {},
   "source": [
    "# series is dict-like"
   ]
  },
  {
   "cell_type": "code",
   "execution_count": 24,
   "metadata": {},
   "outputs": [
    {
     "ename": "KeyError",
     "evalue": "'a'",
     "output_type": "error",
     "traceback": [
      "\u001b[1;31m---------------------------------------------------------------------------\u001b[0m",
      "\u001b[1;31mKeyError\u001b[0m                                  Traceback (most recent call last)",
      "Cell \u001b[1;32mIn[24], line 1\u001b[0m\n\u001b[1;32m----> 1\u001b[0m \u001b[43ms\u001b[49m\u001b[43m[\u001b[49m\u001b[38;5;124;43m\"\u001b[39;49m\u001b[38;5;124;43ma\u001b[39;49m\u001b[38;5;124;43m\"\u001b[39;49m\u001b[43m]\u001b[49m\n",
      "File \u001b[1;32mc:\\Users\\aadit\\AppData\\Local\\Programs\\Python\\Python311\\Lib\\site-packages\\pandas\\core\\series.py:1040\u001b[0m, in \u001b[0;36mSeries.__getitem__\u001b[1;34m(self, key)\u001b[0m\n\u001b[0;32m   1037\u001b[0m     \u001b[38;5;28;01mreturn\u001b[39;00m \u001b[38;5;28mself\u001b[39m\u001b[38;5;241m.\u001b[39m_values[key]\n\u001b[0;32m   1039\u001b[0m \u001b[38;5;28;01melif\u001b[39;00m key_is_scalar:\n\u001b[1;32m-> 1040\u001b[0m     \u001b[38;5;28;01mreturn\u001b[39;00m \u001b[38;5;28;43mself\u001b[39;49m\u001b[38;5;241;43m.\u001b[39;49m\u001b[43m_get_value\u001b[49m\u001b[43m(\u001b[49m\u001b[43mkey\u001b[49m\u001b[43m)\u001b[49m\n\u001b[0;32m   1042\u001b[0m \u001b[38;5;66;03m# Convert generator to list before going through hashable part\u001b[39;00m\n\u001b[0;32m   1043\u001b[0m \u001b[38;5;66;03m# (We will iterate through the generator there to check for slices)\u001b[39;00m\n\u001b[0;32m   1044\u001b[0m \u001b[38;5;28;01mif\u001b[39;00m is_iterator(key):\n",
      "File \u001b[1;32mc:\\Users\\aadit\\AppData\\Local\\Programs\\Python\\Python311\\Lib\\site-packages\\pandas\\core\\series.py:1156\u001b[0m, in \u001b[0;36mSeries._get_value\u001b[1;34m(self, label, takeable)\u001b[0m\n\u001b[0;32m   1153\u001b[0m     \u001b[38;5;28;01mreturn\u001b[39;00m \u001b[38;5;28mself\u001b[39m\u001b[38;5;241m.\u001b[39m_values[label]\n\u001b[0;32m   1155\u001b[0m \u001b[38;5;66;03m# Similar to Index.get_value, but we do not fall back to positional\u001b[39;00m\n\u001b[1;32m-> 1156\u001b[0m loc \u001b[38;5;241m=\u001b[39m \u001b[38;5;28;43mself\u001b[39;49m\u001b[38;5;241;43m.\u001b[39;49m\u001b[43mindex\u001b[49m\u001b[38;5;241;43m.\u001b[39;49m\u001b[43mget_loc\u001b[49m\u001b[43m(\u001b[49m\u001b[43mlabel\u001b[49m\u001b[43m)\u001b[49m\n\u001b[0;32m   1158\u001b[0m \u001b[38;5;28;01mif\u001b[39;00m is_integer(loc):\n\u001b[0;32m   1159\u001b[0m     \u001b[38;5;28;01mreturn\u001b[39;00m \u001b[38;5;28mself\u001b[39m\u001b[38;5;241m.\u001b[39m_values[loc]\n",
      "File \u001b[1;32mc:\\Users\\aadit\\AppData\\Local\\Programs\\Python\\Python311\\Lib\\site-packages\\pandas\\core\\indexes\\range.py:418\u001b[0m, in \u001b[0;36mRangeIndex.get_loc\u001b[1;34m(self, key)\u001b[0m\n\u001b[0;32m    416\u001b[0m         \u001b[38;5;28;01mraise\u001b[39;00m \u001b[38;5;167;01mKeyError\u001b[39;00m(key) \u001b[38;5;28;01mfrom\u001b[39;00m \u001b[38;5;21;01merr\u001b[39;00m\n\u001b[0;32m    417\u001b[0m \u001b[38;5;28;01mif\u001b[39;00m \u001b[38;5;28misinstance\u001b[39m(key, Hashable):\n\u001b[1;32m--> 418\u001b[0m     \u001b[38;5;28;01mraise\u001b[39;00m \u001b[38;5;167;01mKeyError\u001b[39;00m(key)\n\u001b[0;32m    419\u001b[0m \u001b[38;5;28mself\u001b[39m\u001b[38;5;241m.\u001b[39m_check_indexing_error(key)\n\u001b[0;32m    420\u001b[0m \u001b[38;5;28;01mraise\u001b[39;00m \u001b[38;5;167;01mKeyError\u001b[39;00m(key)\n",
      "\u001b[1;31mKeyError\u001b[0m: 'a'"
     ]
    }
   ],
   "source": [
    "s[\"a\"]"
   ]
  },
  {
   "cell_type": "code",
   "execution_count": null,
   "metadata": {},
   "outputs": [],
   "source": [
    "s[\"e\"]=12.0"
   ]
  },
  {
   "cell_type": "code",
   "execution_count": null,
   "metadata": {},
   "outputs": [
    {
     "data": {
      "text/plain": [
       "a    -0.547054\n",
       "b     0.081320\n",
       "c     0.759618\n",
       "d     0.949790\n",
       "e    12.000000\n",
       "dtype: float64"
      ]
     },
     "execution_count": 67,
     "metadata": {},
     "output_type": "execute_result"
    }
   ],
   "source": [
    "s"
   ]
  },
  {
   "cell_type": "code",
   "execution_count": null,
   "metadata": {},
   "outputs": [
    {
     "data": {
      "text/plain": [
       "True"
      ]
     },
     "execution_count": 68,
     "metadata": {},
     "output_type": "execute_result"
    }
   ],
   "source": [
    "\"e\" in s"
   ]
  },
  {
   "cell_type": "code",
   "execution_count": null,
   "metadata": {},
   "outputs": [
    {
     "data": {
      "text/plain": [
       "False"
      ]
     },
     "execution_count": 69,
     "metadata": {},
     "output_type": "execute_result"
    }
   ],
   "source": [
    "\"f\" in s"
   ]
  },
  {
   "cell_type": "code",
   "execution_count": null,
   "metadata": {},
   "outputs": [],
   "source": [
    "s.get(\"f\")# no output since the f is not a label in the series s "
   ]
  },
  {
   "cell_type": "code",
   "execution_count": null,
   "metadata": {},
   "outputs": [
    {
     "data": {
      "text/plain": [
       "nan"
      ]
     },
     "execution_count": 71,
     "metadata": {},
     "output_type": "execute_result"
    }
   ],
   "source": [
    "s.get(\"f\", np.nan) # returned specific default"
   ]
  },
  {
   "cell_type": "code",
   "execution_count": null,
   "metadata": {},
   "outputs": [
    {
     "data": {
      "text/plain": [
       "-0.5470541791242921"
      ]
     },
     "execution_count": 73,
     "metadata": {},
     "output_type": "execute_result"
    }
   ],
   "source": [
    "#the labels can also be accessed by attribute\n",
    "s.a"
   ]
  },
  {
   "cell_type": "markdown",
   "metadata": {},
   "source": [
    "#### Different styles of accessing data in pandas series"
   ]
  },
  {
   "cell_type": "code",
   "execution_count": null,
   "metadata": {},
   "outputs": [
    {
     "name": "stdout",
     "output_type": "stream",
     "text": [
      "-0.5470541791242921\n",
      "-0.5470541791242921\n",
      "-0.5470541791242921\n",
      "-0.5470541791242921\n",
      "a   -0.547054\n",
      "b    0.081320\n",
      "dtype: float64\n",
      "-0.5470541791242921\n",
      "a   -0.547054\n",
      "dtype: float64\n",
      "a   -0.547054\n",
      "dtype: float64\n",
      "a   -0.547054\n",
      "dtype: float64\n"
     ]
    }
   ],
   "source": [
    "# all these are printing the data of label \"a\"\n",
    "print(s[\"a\"]) # dictionary-style access\n",
    "print(s.a) #attribute style access\n",
    "print(s.get(\"a\")) #using get method\n",
    "print(s.loc['a']) #label-based indexing\n",
    "print(s.loc[\"a\":\"b\"]) #label-based indexing \n",
    "print(s.iloc[0]) #integer - location based indexing\n",
    "print(s.iloc[0:1]) #integer - location based indexing\n",
    "print(s[0:1]) #slicing \n",
    "print(s[lambda x:x.index.isin([\"a\"])]) #callable function\n"
   ]
  },
  {
   "cell_type": "markdown",
   "metadata": {},
   "source": [
    "#### Vectorized operations and label alignment with Series "
   ]
  },
  {
   "cell_type": "code",
   "execution_count": null,
   "metadata": {},
   "outputs": [
    {
     "name": "stdout",
     "output_type": "stream",
     "text": [
      "a    -0.547054\n",
      "b     0.081320\n",
      "c     0.759618\n",
      "d     0.949790\n",
      "e    12.000000\n",
      "dtype: float64\n"
     ]
    }
   ],
   "source": [
    "print(s)"
   ]
  },
  {
   "cell_type": "code",
   "execution_count": null,
   "metadata": {},
   "outputs": [],
   "source": [
    "s1=pd.Series(10, index=[\"a\", \"b\", \"c\", \"d\", \"e\"])\n",
    "s2=pd.Series(5, index=[\"a\", \"b\", \"d\", \"e\"])"
   ]
  },
  {
   "cell_type": "code",
   "execution_count": null,
   "metadata": {},
   "outputs": [
    {
     "name": "stdout",
     "output_type": "stream",
     "text": [
      "a    10\n",
      "b    10\n",
      "c    10\n",
      "d    10\n",
      "e    10\n",
      "dtype: int64\n"
     ]
    }
   ],
   "source": [
    "print(s1)"
   ]
  },
  {
   "cell_type": "code",
   "execution_count": null,
   "metadata": {},
   "outputs": [
    {
     "name": "stdout",
     "output_type": "stream",
     "text": [
      "a    5\n",
      "b    5\n",
      "d    5\n",
      "e    5\n",
      "dtype: int64\n"
     ]
    }
   ],
   "source": [
    "print(s2)"
   ]
  },
  {
   "cell_type": "code",
   "execution_count": null,
   "metadata": {},
   "outputs": [
    {
     "name": "stdout",
     "output_type": "stream",
     "text": [
      "a    15.0\n",
      "b    15.0\n",
      "c     NaN\n",
      "d    15.0\n",
      "e    15.0\n",
      "dtype: float64\n"
     ]
    }
   ],
   "source": [
    "print(s1+s2) #addition"
   ]
  },
  {
   "cell_type": "code",
   "execution_count": null,
   "metadata": {},
   "outputs": [
    {
     "data": {
      "text/plain": [
       "a    5.0\n",
       "b    5.0\n",
       "c    NaN\n",
       "d    5.0\n",
       "e    5.0\n",
       "dtype: float64"
      ]
     },
     "execution_count": 112,
     "metadata": {},
     "output_type": "execute_result"
    }
   ],
   "source": [
    "s1-s2 #substraction "
   ]
  },
  {
   "cell_type": "code",
   "execution_count": null,
   "metadata": {},
   "outputs": [
    {
     "data": {
      "text/plain": [
       "a    20\n",
       "b    20\n",
       "c    20\n",
       "d    20\n",
       "e    20\n",
       "dtype: int64"
      ]
     },
     "execution_count": 105,
     "metadata": {},
     "output_type": "execute_result"
    }
   ],
   "source": [
    "s1*2 #multiplication "
   ]
  },
  {
   "cell_type": "code",
   "execution_count": null,
   "metadata": {},
   "outputs": [
    {
     "data": {
      "text/plain": [
       "a    2.0\n",
       "b    2.0\n",
       "c    NaN\n",
       "d    2.0\n",
       "e    2.0\n",
       "dtype: float64"
      ]
     },
     "execution_count": 111,
     "metadata": {},
     "output_type": "execute_result"
    }
   ],
   "source": [
    "s1/s2 #division "
   ]
  },
  {
   "cell_type": "code",
   "execution_count": null,
   "metadata": {},
   "outputs": [
    {
     "data": {
      "text/plain": [
       "a    2.0\n",
       "b    2.0\n",
       "c    NaN\n",
       "d    2.0\n",
       "e    2.0\n",
       "dtype: float64"
      ]
     },
     "execution_count": 113,
     "metadata": {},
     "output_type": "execute_result"
    }
   ],
   "source": [
    "s1//s2 #largest integer less than or equal to the result"
   ]
  },
  {
   "cell_type": "code",
   "execution_count": null,
   "metadata": {},
   "outputs": [
    {
     "data": {
      "text/plain": [
       "a    100000.0\n",
       "b    100000.0\n",
       "c         NaN\n",
       "d    100000.0\n",
       "e    100000.0\n",
       "dtype: float64"
      ]
     },
     "execution_count": 116,
     "metadata": {},
     "output_type": "execute_result"
    }
   ],
   "source": [
    "s1**s2 #exponential (10 to the power 5)"
   ]
  },
  {
   "cell_type": "code",
   "execution_count": null,
   "metadata": {},
   "outputs": [
    {
     "data": {
      "text/plain": [
       "a    0.0\n",
       "b    0.0\n",
       "c    NaN\n",
       "d    0.0\n",
       "e    0.0\n",
       "dtype: float64"
      ]
     },
     "execution_count": 115,
     "metadata": {},
     "output_type": "execute_result"
    }
   ],
   "source": [
    "s1%s2# modulus (remainders)"
   ]
  },
  {
   "cell_type": "code",
   "execution_count": null,
   "metadata": {},
   "outputs": [
    {
     "data": {
      "text/plain": [
       "a    22026.465795\n",
       "b    22026.465795\n",
       "c    22026.465795\n",
       "d    22026.465795\n",
       "e    22026.465795\n",
       "dtype: float64"
      ]
     },
     "execution_count": 109,
     "metadata": {},
     "output_type": "execute_result"
    }
   ],
   "source": [
    "np.exp(s1)"
   ]
  },
  {
   "cell_type": "code",
   "execution_count": null,
   "metadata": {},
   "outputs": [
    {
     "data": {
      "text/plain": [
       "a         NaN\n",
       "b    0.162640\n",
       "c    1.519236\n",
       "d    1.899579\n",
       "e         NaN\n",
       "dtype: float64"
      ]
     },
     "execution_count": 117,
     "metadata": {},
     "output_type": "execute_result"
    }
   ],
   "source": [
    "#label alignment\n",
    "s.iloc[1:]+s.iloc[:-1]"
   ]
  },
  {
   "cell_type": "markdown",
   "metadata": {},
   "source": [
    "#### Name attribute"
   ]
  },
  {
   "cell_type": "code",
   "execution_count": null,
   "metadata": {},
   "outputs": [
    {
     "data": {
      "text/plain": [
       "0   -0.455546\n",
       "1   -0.403944\n",
       "2   -0.598499\n",
       "3    1.014273\n",
       "4    1.322100\n",
       "Name: first series, dtype: float64"
      ]
     },
     "execution_count": 121,
     "metadata": {},
     "output_type": "execute_result"
    }
   ],
   "source": [
    "s=pd.Series(np.random.randn(5), name=\"first series\")\n",
    "s"
   ]
  },
  {
   "cell_type": "code",
   "execution_count": null,
   "metadata": {},
   "outputs": [
    {
     "data": {
      "text/plain": [
       "0   -0.455546\n",
       "1   -0.403944\n",
       "2   -0.598499\n",
       "3    1.014273\n",
       "4    1.322100\n",
       "Name: final series, dtype: float64"
      ]
     },
     "execution_count": 123,
     "metadata": {},
     "output_type": "execute_result"
    }
   ],
   "source": [
    "s=s.rename(\"final series\")\n",
    "s"
   ]
  },
  {
   "cell_type": "code",
   "execution_count": null,
   "metadata": {},
   "outputs": [],
   "source": [
    "pd.Series(\n",
    "    data=np.random.randint(\n",
    "        low=0, \n",
    "        high=16, \n",
    "        size=(4,1)\n",
    "    ).flatten(),\n",
    "    index=['a', 'b', 'c','d']\n",
    ")"
   ]
  },
  {
   "cell_type": "code",
   "execution_count": null,
   "metadata": {},
   "outputs": [],
   "source": [
    "pd.Series(\n",
    "    np.diag(\n",
    "        v=[1,2,3]\n",
    "    ).flatten()\n",
    ")"
   ]
  },
  {
   "cell_type": "markdown",
   "metadata": {},
   "source": [
    "Revision"
   ]
  },
  {
   "cell_type": "code",
   "execution_count": 33,
   "metadata": {},
   "outputs": [],
   "source": [
    "#different ways of creating Series\n",
    "s1=pd.Series([1,2,3,4,5]) #from list\n",
    "s2=pd.Series(np.random.randn(5)) #from random sample\n",
    "s3=pd.Series(pd.Series(5, index=[\"a\", \"b\", \"c\"])) #from scaler value with explicit index\n",
    "s4=pd.Series(range(5)) #from range\n",
    "s5=pd.Series(np.array([1,2,3,4,5]))#from numpy array\n",
    "s6=pd.Series({'a':2, 'b':2, 'c':3}) #from dictionary\n",
    "\n"
   ]
  },
  {
   "cell_type": "code",
   "execution_count": 86,
   "metadata": {},
   "outputs": [],
   "source": [
    "#different ways of creating arrays\n",
    "a1=np.array([1,2,3,4,5]) #from  a provided values list\n",
    "a2=np.random.randn(5) #random values array\n",
    "a3=np.ones((5,)) #array of one\n",
    "a4=np.zeros((5,)) #array of zeros\n",
    "a5=np.arange(0,11,2) #(start, stop, step) \n",
    "a6=np.linspace(0,11,5) #(start, stop, number of points)\n",
    "a7=np.empty(3) # create the random array from the values in its memory \n",
    "a8=np.eye(4) #identical matrix (0 and 1)\n",
    "a9=np.diag([1,2,3]) #diagonal matrix\n",
    "a10=np.array([[1,2,3], [4,5,6],[7,8,9]]) #from nested list\n",
    "a11=np.random.randint(1,10, size=(3,3)) #random integer between 1 and 10, 3*3 array\n"
   ]
  },
  {
   "cell_type": "code",
   "execution_count": null,
   "metadata": {},
   "outputs": [],
   "source": [
    "#np.zeros() # both for all\n",
    "#np.ones()\n",
    "#np.eye()\n",
    "#np.diag()\n",
    "\n",
    "#np.random.randn() #float values\n",
    "#np.empty() #float values\n",
    "#np.randint() #int values\n",
    "\n",
    "#np.arange() both for all \n",
    "#np.linspace()\n",
    "\n",
    "#np.array() #from list or nested list or tupple\n",
    "\n"
   ]
  },
  {
   "cell_type": "code",
   "execution_count": null,
   "metadata": {},
   "outputs": [],
   "source": []
  },
  {
   "cell_type": "code",
   "execution_count": null,
   "metadata": {},
   "outputs": [],
   "source": []
  }
 ],
 "metadata": {
  "kernelspec": {
   "display_name": "Python 3",
   "language": "python",
   "name": "python3"
  },
  "language_info": {
   "codemirror_mode": {
    "name": "ipython",
    "version": 3
   },
   "file_extension": ".py",
   "mimetype": "text/x-python",
   "name": "python",
   "nbconvert_exporter": "python",
   "pygments_lexer": "ipython3",
   "version": "3.11.4"
  }
 },
 "nbformat": 4,
 "nbformat_minor": 2
}
