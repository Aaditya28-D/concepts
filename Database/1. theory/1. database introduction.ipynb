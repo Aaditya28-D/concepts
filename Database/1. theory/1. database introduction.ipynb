{
 "cells": [
  {
   "cell_type": "markdown",
   "metadata": {},
   "source": [
    "\n",
    "\n",
    "### 1. **What is a Database?**\n",
    "   A database is an organized collection of data, generally stored and accessed electronically from a computer system. Databases make it easier to store large amounts of information systematically and manage it efficiently.\n",
    "\n",
    "### 2. **Types of Databases**\n",
    "   - **Relational Databases (RDBMS)**: These databases store data in tables, which are organized into rows and columns. Each row represents a unique record, and each column represents a field within the record. SQL (Structured Query Language) is commonly used to manage and query data in such databases.\n",
    "   - **NoSQL Databases**: These databases are used for unstructured data and are more flexible than relational databases. They can be document-oriented, key-value pairs, graph databases, or wide-column stores.\n",
    "   - **Distributed Databases**: These are spread across multiple physical locations, either on the same network or across different networks.\n",
    "\n",
    "### 3. **Database Schema**\n",
    "   A database schema defines the structure of the database, which includes the tables, the fields in each table, and the relationships between tables. The schema is like a blueprint of the database.\n",
    "\n",
    "### 4. **Database Normalization**\n",
    "   Normalization is a process used to reduce redundancy and dependency by organizing fields and table of a database. The main aim is to isolate data so that additions, deletions, and modifications of a field can be made in just one table and then propagated through the rest of the database via the defined relationships.\n",
    "\n",
    "### 5. **ACID Properties**\n",
    "   These properties ensure database transactions are processed reliably:\n",
    "   - **Atomicity**: Ensures that each transaction is treated as a single \"unit\", which either succeeds completely or fails completely.\n",
    "   - **Consistency**: Ensures that a transaction can only bring the database from one valid state to another, maintaining database invariants.\n",
    "   - **Isolation**: Ensures that concurrent execution of transactions leaves the database in the same state that would have been obtained if the transactions were executed sequentially.\n",
    "   - **Durability**: Ensures that once a transaction has been committed, it will remain so, even in the event of a power loss, crashes, or errors.\n",
    "\n",
    "### 6. **SQL vs. NoSQL**\n",
    "   - **SQL (Structured Query Language)**: Used in relational databases, it is perfect for complex queries and is highly structured.\n",
    "   - **NoSQL**: Used in databases that store different types of data formats, it's more flexible and scalable.\n",
    "\n",
    "### 7. **Database Management Systems (DBMS)**\n",
    "   These are software systems designed to handle databases. They provide an interface for users to manage database creation, querying, update, and administration.\n",
    "\n",
    "### 8. **Data Integrity and Security**\n",
    "   - **Data Integrity**: Mechanisms such as constraints, foreign keys, and transactions help ensure accuracy and consistency of data.\n",
    "   - **Security**: Involves ensuring that only authorized users have access to the database, which can be managed through encryption, user authentication, and access controls.\n",
    "\n",
    "### 9. **Indexing and Performance Optimization**\n",
    "   Indexes are used to quickly locate data without having to search every row in a database table every time a database table is accessed. They can dramatically improve query performance.\n",
    "\n",
    "This overview should provide a foundation in understanding how databases work and why they are essential in managing data effectively. If there’s a particular area you’d like to explore in more detail, let me know!"
   ]
  },
  {
   "cell_type": "markdown",
   "metadata": {},
   "source": []
  }
 ],
 "metadata": {
  "language_info": {
   "name": "python"
  }
 },
 "nbformat": 4,
 "nbformat_minor": 2
}
