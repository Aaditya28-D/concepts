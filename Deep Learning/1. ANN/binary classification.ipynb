{
 "cells": [
  {
   "cell_type": "code",
   "execution_count": 17,
   "metadata": {},
   "outputs": [],
   "source": [
    "import tensorflow as tf\n",
    "from tensorflow.keras.models import Sequential\n",
    "from tensorflow.keras.layers import Dense\n",
    "from tensorflow.keras.optimizers import Adam\n",
    "from sklearn.model_selection import train_test_split\n",
    "from sklearn.preprocessing import StandardScaler\n",
    "from sklearn.datasets import make_classification"
   ]
  },
  {
   "cell_type": "code",
   "execution_count": 18,
   "metadata": {},
   "outputs": [
    {
     "data": {
      "text/html": [
       "<div>\n",
       "<style scoped>\n",
       "    .dataframe tbody tr th:only-of-type {\n",
       "        vertical-align: middle;\n",
       "    }\n",
       "\n",
       "    .dataframe tbody tr th {\n",
       "        vertical-align: top;\n",
       "    }\n",
       "\n",
       "    .dataframe thead th {\n",
       "        text-align: right;\n",
       "    }\n",
       "</style>\n",
       "<table border=\"1\" class=\"dataframe\">\n",
       "  <thead>\n",
       "    <tr style=\"text-align: right;\">\n",
       "      <th></th>\n",
       "      <th>feature_0</th>\n",
       "      <th>feature_1</th>\n",
       "      <th>feature_2</th>\n",
       "      <th>feature_3</th>\n",
       "      <th>feature_4</th>\n",
       "      <th>feature_5</th>\n",
       "      <th>feature_6</th>\n",
       "      <th>feature_7</th>\n",
       "      <th>feature_8</th>\n",
       "      <th>feature_9</th>\n",
       "      <th>...</th>\n",
       "      <th>feature_11</th>\n",
       "      <th>feature_12</th>\n",
       "      <th>feature_13</th>\n",
       "      <th>feature_14</th>\n",
       "      <th>feature_15</th>\n",
       "      <th>feature_16</th>\n",
       "      <th>feature_17</th>\n",
       "      <th>feature_18</th>\n",
       "      <th>feature_19</th>\n",
       "      <th>target</th>\n",
       "    </tr>\n",
       "  </thead>\n",
       "  <tbody>\n",
       "    <tr>\n",
       "      <th>0</th>\n",
       "      <td>-0.669356</td>\n",
       "      <td>-1.495778</td>\n",
       "      <td>-0.870766</td>\n",
       "      <td>1.141831</td>\n",
       "      <td>0.021606</td>\n",
       "      <td>1.730630</td>\n",
       "      <td>-1.251698</td>\n",
       "      <td>0.289305</td>\n",
       "      <td>0.357163</td>\n",
       "      <td>-0.196811</td>\n",
       "      <td>...</td>\n",
       "      <td>0.154850</td>\n",
       "      <td>-0.219970</td>\n",
       "      <td>-0.739137</td>\n",
       "      <td>1.802012</td>\n",
       "      <td>1.634606</td>\n",
       "      <td>-0.938180</td>\n",
       "      <td>-1.267337</td>\n",
       "      <td>-1.276334</td>\n",
       "      <td>1.016643</td>\n",
       "      <td>1</td>\n",
       "    </tr>\n",
       "    <tr>\n",
       "      <th>1</th>\n",
       "      <td>0.093372</td>\n",
       "      <td>0.785848</td>\n",
       "      <td>0.105754</td>\n",
       "      <td>1.272354</td>\n",
       "      <td>-0.846316</td>\n",
       "      <td>-0.979093</td>\n",
       "      <td>1.263707</td>\n",
       "      <td>0.264020</td>\n",
       "      <td>2.411677</td>\n",
       "      <td>-0.960046</td>\n",
       "      <td>...</td>\n",
       "      <td>0.199810</td>\n",
       "      <td>0.288724</td>\n",
       "      <td>0.732492</td>\n",
       "      <td>-0.872002</td>\n",
       "      <td>-1.654887</td>\n",
       "      <td>-1.130204</td>\n",
       "      <td>-0.122709</td>\n",
       "      <td>0.693431</td>\n",
       "      <td>0.911363</td>\n",
       "      <td>0</td>\n",
       "    </tr>\n",
       "    <tr>\n",
       "      <th>2</th>\n",
       "      <td>-0.905797</td>\n",
       "      <td>-0.608341</td>\n",
       "      <td>0.295141</td>\n",
       "      <td>0.943716</td>\n",
       "      <td>0.092936</td>\n",
       "      <td>1.370397</td>\n",
       "      <td>-0.064772</td>\n",
       "      <td>0.287273</td>\n",
       "      <td>-0.533004</td>\n",
       "      <td>-0.032504</td>\n",
       "      <td>...</td>\n",
       "      <td>-0.510064</td>\n",
       "      <td>-0.868768</td>\n",
       "      <td>-0.598279</td>\n",
       "      <td>0.019832</td>\n",
       "      <td>0.613460</td>\n",
       "      <td>-1.779439</td>\n",
       "      <td>0.830498</td>\n",
       "      <td>-0.737332</td>\n",
       "      <td>-0.578212</td>\n",
       "      <td>1</td>\n",
       "    </tr>\n",
       "    <tr>\n",
       "      <th>3</th>\n",
       "      <td>-0.585793</td>\n",
       "      <td>0.389279</td>\n",
       "      <td>0.698816</td>\n",
       "      <td>0.436236</td>\n",
       "      <td>-0.315082</td>\n",
       "      <td>0.459505</td>\n",
       "      <td>1.448820</td>\n",
       "      <td>0.505558</td>\n",
       "      <td>-1.440982</td>\n",
       "      <td>-1.134020</td>\n",
       "      <td>...</td>\n",
       "      <td>1.466783</td>\n",
       "      <td>0.678728</td>\n",
       "      <td>-1.190917</td>\n",
       "      <td>-1.442381</td>\n",
       "      <td>-0.929136</td>\n",
       "      <td>-0.221600</td>\n",
       "      <td>-0.346772</td>\n",
       "      <td>0.034246</td>\n",
       "      <td>-1.040199</td>\n",
       "      <td>1</td>\n",
       "    </tr>\n",
       "    <tr>\n",
       "      <th>4</th>\n",
       "      <td>1.146441</td>\n",
       "      <td>0.515579</td>\n",
       "      <td>-1.222895</td>\n",
       "      <td>-0.396230</td>\n",
       "      <td>-1.293508</td>\n",
       "      <td>-0.352428</td>\n",
       "      <td>0.071254</td>\n",
       "      <td>1.239584</td>\n",
       "      <td>1.007133</td>\n",
       "      <td>-1.479444</td>\n",
       "      <td>...</td>\n",
       "      <td>-0.918127</td>\n",
       "      <td>0.604121</td>\n",
       "      <td>1.068379</td>\n",
       "      <td>-0.882271</td>\n",
       "      <td>2.303639</td>\n",
       "      <td>-0.973379</td>\n",
       "      <td>1.259233</td>\n",
       "      <td>0.360015</td>\n",
       "      <td>1.920368</td>\n",
       "      <td>0</td>\n",
       "    </tr>\n",
       "  </tbody>\n",
       "</table>\n",
       "<p>5 rows × 21 columns</p>\n",
       "</div>"
      ],
      "text/plain": [
       "   feature_0  feature_1  feature_2  feature_3  feature_4  feature_5  \\\n",
       "0  -0.669356  -1.495778  -0.870766   1.141831   0.021606   1.730630   \n",
       "1   0.093372   0.785848   0.105754   1.272354  -0.846316  -0.979093   \n",
       "2  -0.905797  -0.608341   0.295141   0.943716   0.092936   1.370397   \n",
       "3  -0.585793   0.389279   0.698816   0.436236  -0.315082   0.459505   \n",
       "4   1.146441   0.515579  -1.222895  -0.396230  -1.293508  -0.352428   \n",
       "\n",
       "   feature_6  feature_7  feature_8  feature_9  ...  feature_11  feature_12  \\\n",
       "0  -1.251698   0.289305   0.357163  -0.196811  ...    0.154850   -0.219970   \n",
       "1   1.263707   0.264020   2.411677  -0.960046  ...    0.199810    0.288724   \n",
       "2  -0.064772   0.287273  -0.533004  -0.032504  ...   -0.510064   -0.868768   \n",
       "3   1.448820   0.505558  -1.440982  -1.134020  ...    1.466783    0.678728   \n",
       "4   0.071254   1.239584   1.007133  -1.479444  ...   -0.918127    0.604121   \n",
       "\n",
       "   feature_13  feature_14  feature_15  feature_16  feature_17  feature_18  \\\n",
       "0   -0.739137    1.802012    1.634606   -0.938180   -1.267337   -1.276334   \n",
       "1    0.732492   -0.872002   -1.654887   -1.130204   -0.122709    0.693431   \n",
       "2   -0.598279    0.019832    0.613460   -1.779439    0.830498   -0.737332   \n",
       "3   -1.190917   -1.442381   -0.929136   -0.221600   -0.346772    0.034246   \n",
       "4    1.068379   -0.882271    2.303639   -0.973379    1.259233    0.360015   \n",
       "\n",
       "   feature_19  target  \n",
       "0    1.016643       1  \n",
       "1    0.911363       0  \n",
       "2   -0.578212       1  \n",
       "3   -1.040199       1  \n",
       "4    1.920368       0  \n",
       "\n",
       "[5 rows x 21 columns]"
      ]
     },
     "execution_count": 18,
     "metadata": {},
     "output_type": "execute_result"
    }
   ],
   "source": [
    "# Cell 2: Generate Synthetic Dataset with Pandas DataFrame\n",
    "import pandas as pd\n",
    "\n",
    "# Generate a synthetic dataset for binary classification\n",
    "data = make_classification(n_samples=1000, n_features=20, n_classes=2, random_state=42)\n",
    "columns = [f\"feature_{i}\" for i in range(data[0].shape[1])]\n",
    "\n",
    "# Create a Pandas DataFrame\n",
    "df = pd.DataFrame(data[0], columns=columns)\n",
    "df['target'] = data[1]\n",
    "\n",
    "# Display the first few rows of the DataFrame\n",
    "df.head()\n"
   ]
  },
  {
   "cell_type": "code",
   "execution_count": 19,
   "metadata": {},
   "outputs": [],
   "source": [
    "# Cell 3: Split Dataset\n",
    "# Split the Pandas DataFrame into training and testing sets\n",
    "from sklearn.model_selection import train_test_split\n",
    "\n",
    "# Separate features (X) and target variable (y)\n",
    "X = df.drop('target', axis=1)\n",
    "y = df['target']\n",
    "\n",
    "# Split the dataset into training and testing sets\n",
    "X_train, X_test, y_train, y_test = train_test_split(X, y, test_size=0.2, random_state=42)\n"
   ]
  },
  {
   "cell_type": "code",
   "execution_count": 20,
   "metadata": {},
   "outputs": [],
   "source": [
    "# Cell 4: Standardize Features\n",
    "# Standardize the features\n",
    "scaler = StandardScaler()\n",
    "X_train = scaler.fit_transform(X_train)\n",
    "X_test = scaler.transform(X_test)\n"
   ]
  },
  {
   "cell_type": "code",
   "execution_count": 13,
   "metadata": {},
   "outputs": [
    {
     "name": "stdout",
     "output_type": "stream",
     "text": [
      "WARNING:tensorflow:From c:\\Users\\aadit\\AppData\\Local\\Programs\\Python\\Python311\\Lib\\site-packages\\keras\\src\\backend.py:873: The name tf.get_default_graph is deprecated. Please use tf.compat.v1.get_default_graph instead.\n",
      "\n"
     ]
    }
   ],
   "source": [
    "# Cell 5: Build the Neural Network Model\n",
    "# Build the Neural Network model\n",
    "model = Sequential()\n",
    "model.add(Dense(units=32, activation='relu', input_dim=X_train.shape[1]))\n",
    "model.add(Dense(units=1, activation='sigmoid'))\n"
   ]
  },
  {
   "cell_type": "code",
   "execution_count": 21,
   "metadata": {},
   "outputs": [],
   "source": [
    "model = Sequential()\n",
    "model.add(Dense(units=64, activation='relu', input_dim=X_train.shape[1]))\n",
    "model.add(Dense(units=32, activation='relu'))\n",
    "model.add(Dense(units=16, activation='relu'))\n",
    "model.add(Dense(units=1, activation='sigmoid'))\n"
   ]
  },
  {
   "cell_type": "code",
   "execution_count": 25,
   "metadata": {},
   "outputs": [],
   "source": [
    "from tensorflow.keras.layers import LeakyReLU\n",
    "\n",
    "# Build the Neural Network model with Leaky ReLU\n",
    "model = Sequential()\n",
    "model.add(Dense(units=32, activation=LeakyReLU(alpha=0.01), input_dim=X_train.shape[1]))\n",
    "model.add(Dense(units=1, activation='sigmoid'))\n"
   ]
  },
  {
   "cell_type": "code",
   "execution_count": 26,
   "metadata": {},
   "outputs": [],
   "source": [
    "# Cell 6: Compile the Model\n",
    "# Compile the model\n",
    "model.compile(optimizer=Adam(learning_rate=0.001), loss='binary_crossentropy', metrics=['accuracy'])\n"
   ]
  },
  {
   "cell_type": "code",
   "execution_count": 27,
   "metadata": {},
   "outputs": [
    {
     "name": "stdout",
     "output_type": "stream",
     "text": [
      "Epoch 1/10\n",
      "25/25 [==============================] - 1s 14ms/step - loss: 0.6785 - accuracy: 0.5725 - val_loss: 0.6436 - val_accuracy: 0.6000\n",
      "Epoch 2/10\n",
      "25/25 [==============================] - 0s 7ms/step - loss: 0.5768 - accuracy: 0.7200 - val_loss: 0.5744 - val_accuracy: 0.7050\n",
      "Epoch 3/10\n",
      "25/25 [==============================] - 0s 8ms/step - loss: 0.5074 - accuracy: 0.8050 - val_loss: 0.5267 - val_accuracy: 0.7800\n",
      "Epoch 4/10\n",
      "25/25 [==============================] - 0s 7ms/step - loss: 0.4598 - accuracy: 0.8325 - val_loss: 0.4925 - val_accuracy: 0.7950\n",
      "Epoch 5/10\n",
      "25/25 [==============================] - 0s 5ms/step - loss: 0.4245 - accuracy: 0.8550 - val_loss: 0.4658 - val_accuracy: 0.8000\n",
      "Epoch 6/10\n",
      "25/25 [==============================] - 0s 6ms/step - loss: 0.3970 - accuracy: 0.8700 - val_loss: 0.4438 - val_accuracy: 0.8150\n",
      "Epoch 7/10\n",
      "25/25 [==============================] - 0s 5ms/step - loss: 0.3753 - accuracy: 0.8725 - val_loss: 0.4268 - val_accuracy: 0.8200\n",
      "Epoch 8/10\n",
      "25/25 [==============================] - 0s 4ms/step - loss: 0.3584 - accuracy: 0.8788 - val_loss: 0.4147 - val_accuracy: 0.8250\n",
      "Epoch 9/10\n",
      "25/25 [==============================] - 0s 4ms/step - loss: 0.3442 - accuracy: 0.8763 - val_loss: 0.4056 - val_accuracy: 0.8250\n",
      "Epoch 10/10\n",
      "25/25 [==============================] - 0s 6ms/step - loss: 0.3335 - accuracy: 0.8775 - val_loss: 0.3974 - val_accuracy: 0.8200\n"
     ]
    },
    {
     "data": {
      "text/plain": [
       "<keras.src.callbacks.History at 0x224f2cb6750>"
      ]
     },
     "execution_count": 27,
     "metadata": {},
     "output_type": "execute_result"
    }
   ],
   "source": [
    "# Cell 7: Train the Model\n",
    "# Train the model\n",
    "model.fit(X_train, y_train, epochs=10, batch_size=32, validation_data=(X_test, y_test))\n"
   ]
  },
  {
   "cell_type": "code",
   "execution_count": 28,
   "metadata": {},
   "outputs": [
    {
     "name": "stdout",
     "output_type": "stream",
     "text": [
      "7/7 [==============================] - 0s 602us/step - loss: 0.3974 - accuracy: 0.8200\n",
      "Test Accuracy: 82.00%\n"
     ]
    }
   ],
   "source": [
    "# Cell 8: Evaluate the Model\n",
    "# Evaluate the model on the test set\n",
    "test_loss, test_accuracy = model.evaluate(X_test, y_test)\n",
    "print(f'Test Accuracy: {test_accuracy * 100:.2f}%')\n"
   ]
  },
  {
   "cell_type": "code",
   "execution_count": 30,
   "metadata": {},
   "outputs": [
    {
     "ename": "ModuleNotFoundError",
     "evalue": "No module named 'tensorflow.keras.wrappers'",
     "output_type": "error",
     "traceback": [
      "\u001b[1;31m---------------------------------------------------------------------------\u001b[0m",
      "\u001b[1;31mModuleNotFoundError\u001b[0m                       Traceback (most recent call last)",
      "Cell \u001b[1;32mIn[30], line 5\u001b[0m\n\u001b[0;32m      3\u001b[0m \u001b[38;5;28;01mfrom\u001b[39;00m \u001b[38;5;21;01mtensorflow\u001b[39;00m\u001b[38;5;21;01m.\u001b[39;00m\u001b[38;5;21;01mkeras\u001b[39;00m\u001b[38;5;21;01m.\u001b[39;00m\u001b[38;5;21;01mlayers\u001b[39;00m \u001b[38;5;28;01mimport\u001b[39;00m Dense\n\u001b[0;32m      4\u001b[0m \u001b[38;5;28;01mfrom\u001b[39;00m \u001b[38;5;21;01mtensorflow\u001b[39;00m\u001b[38;5;21;01m.\u001b[39;00m\u001b[38;5;21;01mkeras\u001b[39;00m\u001b[38;5;21;01m.\u001b[39;00m\u001b[38;5;21;01moptimizers\u001b[39;00m \u001b[38;5;28;01mimport\u001b[39;00m Adam\n\u001b[1;32m----> 5\u001b[0m \u001b[38;5;28;01mfrom\u001b[39;00m \u001b[38;5;21;01mtensorflow\u001b[39;00m\u001b[38;5;21;01m.\u001b[39;00m\u001b[38;5;21;01mkeras\u001b[39;00m\u001b[38;5;21;01m.\u001b[39;00m\u001b[38;5;21;01mwrappers\u001b[39;00m\u001b[38;5;21;01m.\u001b[39;00m\u001b[38;5;21;01mscikit_learn\u001b[39;00m \u001b[38;5;28;01mimport\u001b[39;00m KerasClassifier\n\u001b[0;32m      7\u001b[0m \u001b[38;5;66;03m# Function to create a Keras model\u001b[39;00m\n\u001b[0;32m      8\u001b[0m \u001b[38;5;28;01mdef\u001b[39;00m \u001b[38;5;21mcreate_model\u001b[39m(learning_rate\u001b[38;5;241m=\u001b[39m\u001b[38;5;241m0.001\u001b[39m, num_hidden_layers\u001b[38;5;241m=\u001b[39m\u001b[38;5;241m1\u001b[39m, num_neurons\u001b[38;5;241m=\u001b[39m\u001b[38;5;241m32\u001b[39m):\n",
      "\u001b[1;31mModuleNotFoundError\u001b[0m: No module named 'tensorflow.keras.wrappers'"
     ]
    }
   ],
   "source": [
    "from sklearn.model_selection import GridSearchCV\n",
    "from tensorflow.keras.models import Sequential\n",
    "from tensorflow.keras.layers import Dense\n",
    "from tensorflow.keras.optimizers import Adam\n",
    "from tensorflow.keras.wrappers.scikit_learn import KerasClassifier\n",
    "\n",
    "# Function to create a Keras model\n",
    "def create_model(learning_rate=0.001, num_hidden_layers=1, num_neurons=32):\n",
    "    model = Sequential()\n",
    "    model.add(Dense(units=num_neurons, activation='relu', input_dim=X_train.shape[1]))\n",
    "    for _ in range(num_hidden_layers - 1):\n",
    "        model.add(Dense(units=num_neurons, activation='relu'))\n",
    "    model.add(Dense(units=1, activation='sigmoid'))\n",
    "    model.compile(optimizer=Adam(learning_rate=learning_rate), loss='binary_crossentropy', metrics=['accuracy'])\n",
    "    return model\n",
    "\n",
    "# Create a KerasClassifier with the create_model function\n",
    "model = KerasClassifier(build_fn=create_model, epochs=10, batch_size=32, verbose=0)\n",
    "\n",
    "# Define hyperparameters to tune\n",
    "param_grid = {\n",
    "    'learning_rate': [0.001, 0.01, 0.1],\n",
    "    'num_hidden_layers': [1, 2, 3],\n",
    "    'num_neurons': [32, 64, 128]\n",
    "}\n",
    "\n",
    "# Perform grid search\n",
    "grid = GridSearchCV(estimator=model, param_grid=param_grid, cv=3)\n",
    "grid_result = grid.fit(X_train, y_train)\n",
    "\n",
    "# Print the best hyperparameters\n",
    "print(\"Best: %f using %s\" % (grid_result.best_score_, grid_result.best_params_))\n"
   ]
  },
  {
   "cell_type": "code",
   "execution_count": 31,
   "metadata": {},
   "outputs": [
    {
     "ename": "ModuleNotFoundError",
     "evalue": "No module named 'tensorflow.keras.wrappers'",
     "output_type": "error",
     "traceback": [
      "\u001b[1;31m---------------------------------------------------------------------------\u001b[0m",
      "\u001b[1;31mModuleNotFoundError\u001b[0m                       Traceback (most recent call last)",
      "Cell \u001b[1;32mIn[31], line 1\u001b[0m\n\u001b[1;32m----> 1\u001b[0m \u001b[38;5;28;01mfrom\u001b[39;00m \u001b[38;5;21;01mtensorflow\u001b[39;00m\u001b[38;5;21;01m.\u001b[39;00m\u001b[38;5;21;01mkeras\u001b[39;00m\u001b[38;5;21;01m.\u001b[39;00m\u001b[38;5;21;01mwrappers\u001b[39;00m\u001b[38;5;21;01m.\u001b[39;00m\u001b[38;5;21;01mscikit_learn\u001b[39;00m \u001b[38;5;28;01mimport\u001b[39;00m KerasClassifier\n",
      "\u001b[1;31mModuleNotFoundError\u001b[0m: No module named 'tensorflow.keras.wrappers'"
     ]
    }
   ],
   "source": [
    "from tensorflow.keras.wrappers.scikit_learn import KerasClassifier\n"
   ]
  },
  {
   "cell_type": "code",
   "execution_count": null,
   "metadata": {},
   "outputs": [],
   "source": []
  }
 ],
 "metadata": {
  "kernelspec": {
   "display_name": "base",
   "language": "python",
   "name": "python3"
  },
  "language_info": {
   "codemirror_mode": {
    "name": "ipython",
    "version": 3
   },
   "file_extension": ".py",
   "mimetype": "text/x-python",
   "name": "python",
   "nbconvert_exporter": "python",
   "pygments_lexer": "ipython3",
   "version": "3.11.4"
  }
 },
 "nbformat": 4,
 "nbformat_minor": 2
}
